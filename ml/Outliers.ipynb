{
 "cells": [
  {
   "cell_type": "markdown",
   "id": "6f09cbcb",
   "metadata": {},
   "source": [
    "# Задание\n",
    "**Цель:** Изучить применение методов по поиску выбросов в данных, попрактиковаться в обработке экстремальных значений.\n",
    "\n",
    "**Описание задания:**\n",
    "\n",
    "В домашнем задании нужно решить задачу классификации типа стекол. Данные для обучения моделей можно скачать с [сайта](https://www.kaggle.com/uciml/glass). Целевая переменная – тип стекла «Type». Остальные признаки описывают химические элементы в составе материала. Датасет нужно исследовать на наличие выбросов, провести EDA."
   ]
  },
  {
   "cell_type": "code",
   "execution_count": 1,
   "id": "5d565e88",
   "metadata": {},
   "outputs": [],
   "source": [
    "#!pip install imblearn"
   ]
  },
  {
   "cell_type": "code",
   "execution_count": 2,
   "id": "c5368819",
   "metadata": {},
   "outputs": [],
   "source": [
    "import pandas as pd\n",
    "import numpy as np\n",
    "import scipy.stats as stats\n",
    "import matplotlib.pyplot as plt\n",
    "import seaborn as sns\n",
    "from sklearn.model_selection import train_test_split, GridSearchCV, cross_val_score\n",
    "from sklearn.ensemble import RandomForestClassifier, IsolationForest\n",
    "from sklearn.svm import OneClassSVM\n",
    "from sklearn.cluster import DBSCAN\n",
    "from sklearn.neighbors import LocalOutlierFactor\n",
    "from sklearn.metrics import classification_report\n",
    "from sklearn.preprocessing import MinMaxScaler, QuantileTransformer, StandardScaler, normalize\n",
    "from imblearn.over_sampling import SMOTE\n",
    "\n",
    "import warnings\n",
    "warnings.filterwarnings('ignore')"
   ]
  },
  {
   "cell_type": "markdown",
   "id": "ed923adf",
   "metadata": {},
   "source": [
    "# 1. Получите данные и загрузите их в рабочую среду (Jupyter Notebook или другую)."
   ]
  },
  {
   "cell_type": "code",
   "execution_count": 3,
   "id": "cff9a566",
   "metadata": {},
   "outputs": [
    {
     "data": {
      "text/html": [
       "<div>\n",
       "<style scoped>\n",
       "    .dataframe tbody tr th:only-of-type {\n",
       "        vertical-align: middle;\n",
       "    }\n",
       "\n",
       "    .dataframe tbody tr th {\n",
       "        vertical-align: top;\n",
       "    }\n",
       "\n",
       "    .dataframe thead th {\n",
       "        text-align: right;\n",
       "    }\n",
       "</style>\n",
       "<table border=\"1\" class=\"dataframe\">\n",
       "  <thead>\n",
       "    <tr style=\"text-align: right;\">\n",
       "      <th></th>\n",
       "      <th>RI</th>\n",
       "      <th>Na</th>\n",
       "      <th>Mg</th>\n",
       "      <th>Al</th>\n",
       "      <th>Si</th>\n",
       "      <th>K</th>\n",
       "      <th>Ca</th>\n",
       "      <th>Ba</th>\n",
       "      <th>Fe</th>\n",
       "      <th>Type</th>\n",
       "    </tr>\n",
       "  </thead>\n",
       "  <tbody>\n",
       "    <tr>\n",
       "      <th>0</th>\n",
       "      <td>1.52101</td>\n",
       "      <td>13.64</td>\n",
       "      <td>4.49</td>\n",
       "      <td>1.10</td>\n",
       "      <td>71.78</td>\n",
       "      <td>0.06</td>\n",
       "      <td>8.75</td>\n",
       "      <td>0.0</td>\n",
       "      <td>0.0</td>\n",
       "      <td>1</td>\n",
       "    </tr>\n",
       "    <tr>\n",
       "      <th>1</th>\n",
       "      <td>1.51761</td>\n",
       "      <td>13.89</td>\n",
       "      <td>3.60</td>\n",
       "      <td>1.36</td>\n",
       "      <td>72.73</td>\n",
       "      <td>0.48</td>\n",
       "      <td>7.83</td>\n",
       "      <td>0.0</td>\n",
       "      <td>0.0</td>\n",
       "      <td>1</td>\n",
       "    </tr>\n",
       "    <tr>\n",
       "      <th>2</th>\n",
       "      <td>1.51618</td>\n",
       "      <td>13.53</td>\n",
       "      <td>3.55</td>\n",
       "      <td>1.54</td>\n",
       "      <td>72.99</td>\n",
       "      <td>0.39</td>\n",
       "      <td>7.78</td>\n",
       "      <td>0.0</td>\n",
       "      <td>0.0</td>\n",
       "      <td>1</td>\n",
       "    </tr>\n",
       "    <tr>\n",
       "      <th>3</th>\n",
       "      <td>1.51766</td>\n",
       "      <td>13.21</td>\n",
       "      <td>3.69</td>\n",
       "      <td>1.29</td>\n",
       "      <td>72.61</td>\n",
       "      <td>0.57</td>\n",
       "      <td>8.22</td>\n",
       "      <td>0.0</td>\n",
       "      <td>0.0</td>\n",
       "      <td>1</td>\n",
       "    </tr>\n",
       "    <tr>\n",
       "      <th>4</th>\n",
       "      <td>1.51742</td>\n",
       "      <td>13.27</td>\n",
       "      <td>3.62</td>\n",
       "      <td>1.24</td>\n",
       "      <td>73.08</td>\n",
       "      <td>0.55</td>\n",
       "      <td>8.07</td>\n",
       "      <td>0.0</td>\n",
       "      <td>0.0</td>\n",
       "      <td>1</td>\n",
       "    </tr>\n",
       "  </tbody>\n",
       "</table>\n",
       "</div>"
      ],
      "text/plain": [
       "        RI     Na    Mg    Al     Si     K    Ca   Ba   Fe  Type\n",
       "0  1.52101  13.64  4.49  1.10  71.78  0.06  8.75  0.0  0.0     1\n",
       "1  1.51761  13.89  3.60  1.36  72.73  0.48  7.83  0.0  0.0     1\n",
       "2  1.51618  13.53  3.55  1.54  72.99  0.39  7.78  0.0  0.0     1\n",
       "3  1.51766  13.21  3.69  1.29  72.61  0.57  8.22  0.0  0.0     1\n",
       "4  1.51742  13.27  3.62  1.24  73.08  0.55  8.07  0.0  0.0     1"
      ]
     },
     "execution_count": 3,
     "metadata": {},
     "output_type": "execute_result"
    }
   ],
   "source": [
    "df = pd.read_csv('Data/glass.csv')\n",
    "df.head()"
   ]
  },
  {
   "cell_type": "markdown",
   "id": "86d397ca",
   "metadata": {},
   "source": [
    "Attribute Information:\n",
    "\n",
    "Id number: 1 to 214 (removed from CSV file)\n",
    "\n",
    "RI: refractive index\n",
    "\n",
    "Na: Sodium (unit measurement: weight percent in corresponding oxide, as are attributes 4-10)\n",
    "\n",
    "Mg: Magnesium\n",
    "\n",
    "Al: Aluminum\n",
    "\n",
    "Si: Silicon\n",
    "\n",
    "K: Potassium\n",
    "\n",
    "Ca: Calcium\n",
    "\n",
    "Ba: Barium\n",
    "\n",
    "Fe: Iron\n",
    "\n",
    "Type of glass: (class attribute)\n",
    "\n",
    "- 1 building_windows_float_processed\n",
    "- 2 building_windows_non_float_processed\n",
    "- 3 vehicle_windows_float_processed\n",
    "- 4 vehicle_windows_non_float_processed (none in this database)\n",
    "- 5 containers\n",
    "- 6 tableware\n",
    "- 7 headlamps"
   ]
  },
  {
   "cell_type": "markdown",
   "id": "3591d30e",
   "metadata": {},
   "source": [
    "# 2. Проведите первичный анализ."
   ]
  },
  {
   "cell_type": "code",
   "execution_count": 4,
   "id": "1db154fd",
   "metadata": {
    "scrolled": true
   },
   "outputs": [
    {
     "name": "stdout",
     "output_type": "stream",
     "text": [
      "<class 'pandas.core.frame.DataFrame'>\n",
      "RangeIndex: 214 entries, 0 to 213\n",
      "Data columns (total 10 columns):\n",
      " #   Column  Non-Null Count  Dtype  \n",
      "---  ------  --------------  -----  \n",
      " 0   RI      214 non-null    float64\n",
      " 1   Na      214 non-null    float64\n",
      " 2   Mg      214 non-null    float64\n",
      " 3   Al      214 non-null    float64\n",
      " 4   Si      214 non-null    float64\n",
      " 5   K       214 non-null    float64\n",
      " 6   Ca      214 non-null    float64\n",
      " 7   Ba      214 non-null    float64\n",
      " 8   Fe      214 non-null    float64\n",
      " 9   Type    214 non-null    int64  \n",
      "dtypes: float64(9), int64(1)\n",
      "memory usage: 16.8 KB\n"
     ]
    }
   ],
   "source": [
    "df.info()"
   ]
  },
  {
   "cell_type": "markdown",
   "id": "45090fd5",
   "metadata": {},
   "source": [
    "В данных отсутствуют пропуски."
   ]
  },
  {
   "cell_type": "code",
   "execution_count": 5,
   "id": "c4f19f00",
   "metadata": {
    "scrolled": true
   },
   "outputs": [
    {
     "data": {
      "text/html": [
       "<div>\n",
       "<style scoped>\n",
       "    .dataframe tbody tr th:only-of-type {\n",
       "        vertical-align: middle;\n",
       "    }\n",
       "\n",
       "    .dataframe tbody tr th {\n",
       "        vertical-align: top;\n",
       "    }\n",
       "\n",
       "    .dataframe thead th {\n",
       "        text-align: right;\n",
       "    }\n",
       "</style>\n",
       "<table border=\"1\" class=\"dataframe\">\n",
       "  <thead>\n",
       "    <tr style=\"text-align: right;\">\n",
       "      <th></th>\n",
       "      <th>RI</th>\n",
       "      <th>Na</th>\n",
       "      <th>Mg</th>\n",
       "      <th>Al</th>\n",
       "      <th>Si</th>\n",
       "      <th>K</th>\n",
       "      <th>Ca</th>\n",
       "      <th>Ba</th>\n",
       "      <th>Fe</th>\n",
       "      <th>Type</th>\n",
       "    </tr>\n",
       "  </thead>\n",
       "  <tbody>\n",
       "    <tr>\n",
       "      <th>count</th>\n",
       "      <td>214.000000</td>\n",
       "      <td>214.000000</td>\n",
       "      <td>214.000000</td>\n",
       "      <td>214.000000</td>\n",
       "      <td>214.000000</td>\n",
       "      <td>214.000000</td>\n",
       "      <td>214.000000</td>\n",
       "      <td>214.000000</td>\n",
       "      <td>214.000000</td>\n",
       "      <td>214.000000</td>\n",
       "    </tr>\n",
       "    <tr>\n",
       "      <th>mean</th>\n",
       "      <td>1.518365</td>\n",
       "      <td>13.407850</td>\n",
       "      <td>2.684533</td>\n",
       "      <td>1.444907</td>\n",
       "      <td>72.650935</td>\n",
       "      <td>0.497056</td>\n",
       "      <td>8.956963</td>\n",
       "      <td>0.175047</td>\n",
       "      <td>0.057009</td>\n",
       "      <td>2.780374</td>\n",
       "    </tr>\n",
       "    <tr>\n",
       "      <th>std</th>\n",
       "      <td>0.003037</td>\n",
       "      <td>0.816604</td>\n",
       "      <td>1.442408</td>\n",
       "      <td>0.499270</td>\n",
       "      <td>0.774546</td>\n",
       "      <td>0.652192</td>\n",
       "      <td>1.423153</td>\n",
       "      <td>0.497219</td>\n",
       "      <td>0.097439</td>\n",
       "      <td>2.103739</td>\n",
       "    </tr>\n",
       "    <tr>\n",
       "      <th>min</th>\n",
       "      <td>1.511150</td>\n",
       "      <td>10.730000</td>\n",
       "      <td>0.000000</td>\n",
       "      <td>0.290000</td>\n",
       "      <td>69.810000</td>\n",
       "      <td>0.000000</td>\n",
       "      <td>5.430000</td>\n",
       "      <td>0.000000</td>\n",
       "      <td>0.000000</td>\n",
       "      <td>1.000000</td>\n",
       "    </tr>\n",
       "    <tr>\n",
       "      <th>25%</th>\n",
       "      <td>1.516522</td>\n",
       "      <td>12.907500</td>\n",
       "      <td>2.115000</td>\n",
       "      <td>1.190000</td>\n",
       "      <td>72.280000</td>\n",
       "      <td>0.122500</td>\n",
       "      <td>8.240000</td>\n",
       "      <td>0.000000</td>\n",
       "      <td>0.000000</td>\n",
       "      <td>1.000000</td>\n",
       "    </tr>\n",
       "    <tr>\n",
       "      <th>50%</th>\n",
       "      <td>1.517680</td>\n",
       "      <td>13.300000</td>\n",
       "      <td>3.480000</td>\n",
       "      <td>1.360000</td>\n",
       "      <td>72.790000</td>\n",
       "      <td>0.555000</td>\n",
       "      <td>8.600000</td>\n",
       "      <td>0.000000</td>\n",
       "      <td>0.000000</td>\n",
       "      <td>2.000000</td>\n",
       "    </tr>\n",
       "    <tr>\n",
       "      <th>75%</th>\n",
       "      <td>1.519157</td>\n",
       "      <td>13.825000</td>\n",
       "      <td>3.600000</td>\n",
       "      <td>1.630000</td>\n",
       "      <td>73.087500</td>\n",
       "      <td>0.610000</td>\n",
       "      <td>9.172500</td>\n",
       "      <td>0.000000</td>\n",
       "      <td>0.100000</td>\n",
       "      <td>3.000000</td>\n",
       "    </tr>\n",
       "    <tr>\n",
       "      <th>max</th>\n",
       "      <td>1.533930</td>\n",
       "      <td>17.380000</td>\n",
       "      <td>4.490000</td>\n",
       "      <td>3.500000</td>\n",
       "      <td>75.410000</td>\n",
       "      <td>6.210000</td>\n",
       "      <td>16.190000</td>\n",
       "      <td>3.150000</td>\n",
       "      <td>0.510000</td>\n",
       "      <td>7.000000</td>\n",
       "    </tr>\n",
       "  </tbody>\n",
       "</table>\n",
       "</div>"
      ],
      "text/plain": [
       "               RI          Na          Mg          Al          Si           K  \\\n",
       "count  214.000000  214.000000  214.000000  214.000000  214.000000  214.000000   \n",
       "mean     1.518365   13.407850    2.684533    1.444907   72.650935    0.497056   \n",
       "std      0.003037    0.816604    1.442408    0.499270    0.774546    0.652192   \n",
       "min      1.511150   10.730000    0.000000    0.290000   69.810000    0.000000   \n",
       "25%      1.516522   12.907500    2.115000    1.190000   72.280000    0.122500   \n",
       "50%      1.517680   13.300000    3.480000    1.360000   72.790000    0.555000   \n",
       "75%      1.519157   13.825000    3.600000    1.630000   73.087500    0.610000   \n",
       "max      1.533930   17.380000    4.490000    3.500000   75.410000    6.210000   \n",
       "\n",
       "               Ca          Ba          Fe        Type  \n",
       "count  214.000000  214.000000  214.000000  214.000000  \n",
       "mean     8.956963    0.175047    0.057009    2.780374  \n",
       "std      1.423153    0.497219    0.097439    2.103739  \n",
       "min      5.430000    0.000000    0.000000    1.000000  \n",
       "25%      8.240000    0.000000    0.000000    1.000000  \n",
       "50%      8.600000    0.000000    0.000000    2.000000  \n",
       "75%      9.172500    0.000000    0.100000    3.000000  \n",
       "max     16.190000    3.150000    0.510000    7.000000  "
      ]
     },
     "execution_count": 5,
     "metadata": {},
     "output_type": "execute_result"
    }
   ],
   "source": [
    "df.describe()"
   ]
  },
  {
   "cell_type": "markdown",
   "id": "c5e1a3fa",
   "metadata": {},
   "source": [
    "а) Проверьте количество записей для каждого класса. Сделайте вывод."
   ]
  },
  {
   "cell_type": "code",
   "execution_count": 6,
   "id": "17d29a91",
   "metadata": {},
   "outputs": [
    {
     "data": {
      "text/plain": [
       "2    76\n",
       "1    70\n",
       "7    29\n",
       "3    17\n",
       "5    13\n",
       "6     9\n",
       "Name: Type, dtype: int64"
      ]
     },
     "execution_count": 6,
     "metadata": {},
     "output_type": "execute_result"
    }
   ],
   "source": [
    "df.Type.value_counts()"
   ]
  },
  {
   "cell_type": "code",
   "execution_count": 7,
   "id": "f1f928d3",
   "metadata": {
    "scrolled": false
   },
   "outputs": [
    {
     "data": {
      "text/plain": [
       "<AxesSubplot:xlabel='Type', ylabel='Count'>"
      ]
     },
     "execution_count": 7,
     "metadata": {},
     "output_type": "execute_result"
    },
    {
     "data": {
      "image/png": "[encoded data removed]",
      "text/plain": [
       "<Figure size 1008x576 with 1 Axes>"
      ]
     },
     "metadata": {
      "needs_background": "light"
     },
     "output_type": "display_data"
    }
   ],
   "source": [
    "plt.figure(figsize=[14,8])\n",
    "sns.histplot(df.Type, bins=6, binwidth=0.3)"
   ]
  },
  {
   "cell_type": "markdown",
   "id": "14c0beb2",
   "metadata": {},
   "source": [
    "Имеется дисбаланс классов в данных. Необходимо провести oversampling."
   ]
  },
  {
   "cell_type": "markdown",
   "id": "44e06450",
   "metadata": {},
   "source": [
    "Заменим значения признаков Ba и Fe на категориальную переменную, где 0 - отсутствие, 1 - наличие."
   ]
  },
  {
   "cell_type": "code",
   "execution_count": 8,
   "id": "8e3292bf",
   "metadata": {},
   "outputs": [],
   "source": [
    "df['Ba']=df['Ba'].apply(lambda x: 0 if x==0 else 1)\n",
    "df['Fe']=df['Fe'].apply(lambda x: 0 if x==0 else 1)"
   ]
  },
  {
   "cell_type": "markdown",
   "id": "9a167c03",
   "metadata": {},
   "source": [
    "# 3. Разделите выборку на обучающее и тестовое подмножество. 80% данных оставить на обучающее множество, 20% на тестовое."
   ]
  },
  {
   "cell_type": "code",
   "execution_count": 9,
   "id": "2e888968",
   "metadata": {},
   "outputs": [
    {
     "data": {
      "text/html": [
       "<div>\n",
       "<style scoped>\n",
       "    .dataframe tbody tr th:only-of-type {\n",
       "        vertical-align: middle;\n",
       "    }\n",
       "\n",
       "    .dataframe tbody tr th {\n",
       "        vertical-align: top;\n",
       "    }\n",
       "\n",
       "    .dataframe thead th {\n",
       "        text-align: right;\n",
       "    }\n",
       "</style>\n",
       "<table border=\"1\" class=\"dataframe\">\n",
       "  <thead>\n",
       "    <tr style=\"text-align: right;\">\n",
       "      <th></th>\n",
       "      <th>RI</th>\n",
       "      <th>Na</th>\n",
       "      <th>Mg</th>\n",
       "      <th>Al</th>\n",
       "      <th>Si</th>\n",
       "      <th>K</th>\n",
       "      <th>Ca</th>\n",
       "      <th>Ba</th>\n",
       "      <th>Fe</th>\n",
       "    </tr>\n",
       "  </thead>\n",
       "  <tbody>\n",
       "    <tr>\n",
       "      <th>0</th>\n",
       "      <td>1.52101</td>\n",
       "      <td>13.64</td>\n",
       "      <td>4.49</td>\n",
       "      <td>1.10</td>\n",
       "      <td>71.78</td>\n",
       "      <td>0.06</td>\n",
       "      <td>8.75</td>\n",
       "      <td>0</td>\n",
       "      <td>0</td>\n",
       "    </tr>\n",
       "    <tr>\n",
       "      <th>1</th>\n",
       "      <td>1.51761</td>\n",
       "      <td>13.89</td>\n",
       "      <td>3.60</td>\n",
       "      <td>1.36</td>\n",
       "      <td>72.73</td>\n",
       "      <td>0.48</td>\n",
       "      <td>7.83</td>\n",
       "      <td>0</td>\n",
       "      <td>0</td>\n",
       "    </tr>\n",
       "    <tr>\n",
       "      <th>2</th>\n",
       "      <td>1.51618</td>\n",
       "      <td>13.53</td>\n",
       "      <td>3.55</td>\n",
       "      <td>1.54</td>\n",
       "      <td>72.99</td>\n",
       "      <td>0.39</td>\n",
       "      <td>7.78</td>\n",
       "      <td>0</td>\n",
       "      <td>0</td>\n",
       "    </tr>\n",
       "    <tr>\n",
       "      <th>3</th>\n",
       "      <td>1.51766</td>\n",
       "      <td>13.21</td>\n",
       "      <td>3.69</td>\n",
       "      <td>1.29</td>\n",
       "      <td>72.61</td>\n",
       "      <td>0.57</td>\n",
       "      <td>8.22</td>\n",
       "      <td>0</td>\n",
       "      <td>0</td>\n",
       "    </tr>\n",
       "    <tr>\n",
       "      <th>4</th>\n",
       "      <td>1.51742</td>\n",
       "      <td>13.27</td>\n",
       "      <td>3.62</td>\n",
       "      <td>1.24</td>\n",
       "      <td>73.08</td>\n",
       "      <td>0.55</td>\n",
       "      <td>8.07</td>\n",
       "      <td>0</td>\n",
       "      <td>0</td>\n",
       "    </tr>\n",
       "  </tbody>\n",
       "</table>\n",
       "</div>"
      ],
      "text/plain": [
       "        RI     Na    Mg    Al     Si     K    Ca  Ba  Fe\n",
       "0  1.52101  13.64  4.49  1.10  71.78  0.06  8.75   0   0\n",
       "1  1.51761  13.89  3.60  1.36  72.73  0.48  7.83   0   0\n",
       "2  1.51618  13.53  3.55  1.54  72.99  0.39  7.78   0   0\n",
       "3  1.51766  13.21  3.69  1.29  72.61  0.57  8.22   0   0\n",
       "4  1.51742  13.27  3.62  1.24  73.08  0.55  8.07   0   0"
      ]
     },
     "execution_count": 9,
     "metadata": {},
     "output_type": "execute_result"
    }
   ],
   "source": [
    "X = df.iloc[:, :-1]\n",
    "y = df.iloc[:, -1]\n",
    "X.head()"
   ]
  },
  {
   "cell_type": "code",
   "execution_count": 10,
   "id": "d95da0b4",
   "metadata": {},
   "outputs": [],
   "source": [
    "def train_test(X, y, train_size=0.8, random_state=42):\n",
    "    return train_test_split(X, y, train_size=train_size, random_state=random_state)"
   ]
  },
  {
   "cell_type": "code",
   "execution_count": 11,
   "id": "21c32930",
   "metadata": {},
   "outputs": [
    {
     "data": {
      "text/plain": [
       "((171, 9), (43, 9))"
      ]
     },
     "execution_count": 11,
     "metadata": {},
     "output_type": "execute_result"
    }
   ],
   "source": [
    "X_train, X_test, y_train, y_test = train_test(X, y, train_size=0.8)\n",
    "X_train.shape, X_test.shape"
   ]
  },
  {
   "cell_type": "markdown",
   "id": "c121d10b",
   "metadata": {},
   "source": [
    "# 4. Обучите модель дерева решений [RandomForestClassifier](https://scikit-learn.org/stable/modules/generated/sklearn.ensemble.RandomForestClassifier.html) на обучающем множестве."
   ]
  },
  {
   "cell_type": "code",
   "execution_count": 12,
   "id": "7c7527e1",
   "metadata": {},
   "outputs": [
    {
     "name": "stdout",
     "output_type": "stream",
     "text": [
      "CPU times: total: 5.84 s\n",
      "Wall time: 2min 1s\n"
     ]
    },
    {
     "data": {
      "text/plain": [
       "{'class_weight': 'balanced', 'max_features': None, 'n_estimators': 140}"
      ]
     },
     "execution_count": 12,
     "metadata": {},
     "output_type": "execute_result"
    }
   ],
   "source": [
    "random_forest = RandomForestClassifier(random_state=42, n_jobs=-1)\n",
    "params = {'n_estimators': range(10,200,10),\n",
    "          'max_features': [\"sqrt\", \"log2\", None] + list(range(0,8)),\n",
    "         'class_weight': [\"balanced\", \"balanced_subsample\", None]}\n",
    "grid = GridSearchCV(random_forest, params, n_jobs=-1, cv=5)\n",
    "%time grid.fit(X_test, y_test)\n",
    "grid.best_params_"
   ]
  },
  {
   "cell_type": "code",
   "execution_count": 13,
   "id": "85936497",
   "metadata": {},
   "outputs": [
    {
     "data": {
      "text/plain": [
       "RandomForestClassifier(class_weight='balanced', max_features=None,\n",
       "                       n_estimators=140, n_jobs=-1, random_state=42)"
      ]
     },
     "execution_count": 13,
     "metadata": {},
     "output_type": "execute_result"
    }
   ],
   "source": [
    "random_forest = RandomForestClassifier(n_estimators=grid.best_params_['n_estimators'],\n",
    "                                       max_features=grid.best_params_['max_features'],\n",
    "                                       class_weight=grid.best_params_['class_weight'], random_state=42, n_jobs=-1)\n",
    "random_forest.fit(X_train, y_train)"
   ]
  },
  {
   "cell_type": "markdown",
   "id": "dffe696d",
   "metadata": {},
   "source": [
    "# 5. Для тестового множества предскажите тип стекла и сравните с истинным значением, посчитав точность предсказания модели (accuracy)."
   ]
  },
  {
   "cell_type": "code",
   "execution_count": 14,
   "id": "c5ae9b34",
   "metadata": {
    "scrolled": true
   },
   "outputs": [
    {
     "name": "stdout",
     "output_type": "stream",
     "text": [
      "              precision    recall  f1-score   support\n",
      "\n",
      "           1       0.71      0.91      0.80        11\n",
      "           2       0.75      0.64      0.69        14\n",
      "           3       1.00      0.67      0.80         3\n",
      "           5       0.67      0.50      0.57         4\n",
      "           6       1.00      1.00      1.00         3\n",
      "           7       0.89      1.00      0.94         8\n",
      "\n",
      "    accuracy                           0.79        43\n",
      "   macro avg       0.84      0.79      0.80        43\n",
      "weighted avg       0.79      0.79      0.78        43\n",
      "\n"
     ]
    }
   ],
   "source": [
    "print(classification_report(y_test, random_forest.predict(X_test)))\n",
    "baseline_score = classification_report(y_test, random_forest.predict(X_test), output_dict=True)"
   ]
  },
  {
   "cell_type": "markdown",
   "id": "5e507175",
   "metadata": {},
   "source": [
    "# 6. Обработайте выбросы в данных."
   ]
  },
  {
   "cell_type": "markdown",
   "id": "322acc75",
   "metadata": {},
   "source": [
    "### а) Визуализируйте распределение значений для каждой переменной. Можно использовать функции sns.boxplot, sns.distplot. Есть ли признаки с нормальным распределением?"
   ]
  },
  {
   "cell_type": "code",
   "execution_count": 15,
   "id": "49f8e27f",
   "metadata": {
    "scrolled": false
   },
   "outputs": [
    {
     "data": {
      "image/png": "[encoded data removed]",
      "text/plain": [
       "<Figure size 1080x1296 with 9 Axes>"
      ]
     },
     "metadata": {
      "needs_background": "light"
     },
     "output_type": "display_data"
    }
   ],
   "source": [
    "plt.figure(figsize=[15,18])\n",
    "\n",
    "for i, j in zip(X.columns, range(len(X.columns))):\n",
    "    plt.subplot(5, 2, j+1)\n",
    "    sns.distplot(X[i])"
   ]
  },
  {
   "cell_type": "markdown",
   "id": "3ee20da1",
   "metadata": {},
   "source": [
    "В данных отсутствуют признаки с нормальным распределением. Распределение признака Al близко к нормальному."
   ]
  },
  {
   "cell_type": "markdown",
   "id": "8615989a",
   "metadata": {},
   "source": [
    "### b) Исследуйте признаки на выбросы несколькими способами."
   ]
  },
  {
   "cell_type": "markdown",
   "id": "0e929440",
   "metadata": {},
   "source": [
    "Т.к., в основном, данные распределены ненормально, не желательно искать выбросы по стандартному отклонению.\n",
    "Воспользуемся другими методами."
   ]
  },
  {
   "cell_type": "markdown",
   "id": "2eb96419",
   "metadata": {},
   "source": [
    "**Метод межквартильного расстояния (Interquartile Range - IQR)**"
   ]
  },
  {
   "cell_type": "code",
   "execution_count": 16,
   "id": "350c53c1",
   "metadata": {},
   "outputs": [
    {
     "data": {
      "image/png": "[encoded data removed]",
      "text/plain": [
       "<Figure size 1080x1296 with 9 Axes>"
      ]
     },
     "metadata": {
      "needs_background": "light"
     },
     "output_type": "display_data"
    }
   ],
   "source": [
    "plt.figure(figsize=[15,18])\n",
    "\n",
    "for i, j in zip(X.columns, range(len(X.columns))):\n",
    "    plt.subplot(5, 2, j+1)\n",
    "    sns.boxplot(X[i])"
   ]
  },
  {
   "cell_type": "code",
   "execution_count": 17,
   "id": "8b024183",
   "metadata": {},
   "outputs": [
    {
     "data": {
      "text/plain": [
       "(143, 9)"
      ]
     },
     "execution_count": 17,
     "metadata": {},
     "output_type": "execute_result"
    }
   ],
   "source": [
    "X_iqr = pd.DataFrame()\n",
    "\n",
    "Q1 = X.quantile(q=.25)\n",
    "Q3 = X.quantile(q=.75)\n",
    "IQR = X.apply(stats.iqr)\n",
    "\n",
    "lower_bound = Q1 - 1.5 * IQR\n",
    "upper_bound = Q3 + 1.5 * IQR\n",
    "\n",
    "X_iqr = X[(X >= lower_bound) & (X <= upper_bound)].dropna()\n",
    "X_iqr.shape"
   ]
  },
  {
   "cell_type": "markdown",
   "id": "80c46ee5",
   "metadata": {},
   "source": [
    "**Расстояние Махаланобиса.**"
   ]
  },
  {
   "cell_type": "code",
   "execution_count": 18,
   "id": "5ceb07eb",
   "metadata": {},
   "outputs": [],
   "source": [
    "def mahalanobis(x=None, data=None, cov=None):\n",
    "\n",
    "    x_mu = x - np.mean(data)\n",
    "    if not cov:\n",
    "        cov = np.cov(data.values.T)\n",
    "    inv_covmat = np.linalg.inv(cov)\n",
    "    left = np.dot(x_mu, inv_covmat)\n",
    "    mahal = np.dot(left, x_mu.T)\n",
    "    return mahal.diagonal()"
   ]
  },
  {
   "cell_type": "code",
   "execution_count": 19,
   "id": "291cf45f",
   "metadata": {},
   "outputs": [
    {
     "data": {
      "text/html": [
       "<div>\n",
       "<style scoped>\n",
       "    .dataframe tbody tr th:only-of-type {\n",
       "        vertical-align: middle;\n",
       "    }\n",
       "\n",
       "    .dataframe tbody tr th {\n",
       "        vertical-align: top;\n",
       "    }\n",
       "\n",
       "    .dataframe thead th {\n",
       "        text-align: right;\n",
       "    }\n",
       "</style>\n",
       "<table border=\"1\" class=\"dataframe\">\n",
       "  <thead>\n",
       "    <tr style=\"text-align: right;\">\n",
       "      <th></th>\n",
       "      <th>RI</th>\n",
       "      <th>Na</th>\n",
       "      <th>Mg</th>\n",
       "      <th>Al</th>\n",
       "      <th>Si</th>\n",
       "      <th>K</th>\n",
       "      <th>Ca</th>\n",
       "      <th>Ba</th>\n",
       "      <th>Fe</th>\n",
       "      <th>mahalanobis</th>\n",
       "      <th>p</th>\n",
       "    </tr>\n",
       "  </thead>\n",
       "  <tbody>\n",
       "    <tr>\n",
       "      <th>0</th>\n",
       "      <td>1.52101</td>\n",
       "      <td>13.64</td>\n",
       "      <td>4.49</td>\n",
       "      <td>1.10</td>\n",
       "      <td>71.78</td>\n",
       "      <td>0.06</td>\n",
       "      <td>8.75</td>\n",
       "      <td>0</td>\n",
       "      <td>0</td>\n",
       "      <td>4.841691</td>\n",
       "      <td>0.847884</td>\n",
       "    </tr>\n",
       "    <tr>\n",
       "      <th>1</th>\n",
       "      <td>1.51761</td>\n",
       "      <td>13.89</td>\n",
       "      <td>3.60</td>\n",
       "      <td>1.36</td>\n",
       "      <td>72.73</td>\n",
       "      <td>0.48</td>\n",
       "      <td>7.83</td>\n",
       "      <td>0</td>\n",
       "      <td>0</td>\n",
       "      <td>2.942888</td>\n",
       "      <td>0.966516</td>\n",
       "    </tr>\n",
       "    <tr>\n",
       "      <th>2</th>\n",
       "      <td>1.51618</td>\n",
       "      <td>13.53</td>\n",
       "      <td>3.55</td>\n",
       "      <td>1.54</td>\n",
       "      <td>72.99</td>\n",
       "      <td>0.39</td>\n",
       "      <td>7.78</td>\n",
       "      <td>0</td>\n",
       "      <td>0</td>\n",
       "      <td>2.089756</td>\n",
       "      <td>0.989967</td>\n",
       "    </tr>\n",
       "    <tr>\n",
       "      <th>3</th>\n",
       "      <td>1.51766</td>\n",
       "      <td>13.21</td>\n",
       "      <td>3.69</td>\n",
       "      <td>1.29</td>\n",
       "      <td>72.61</td>\n",
       "      <td>0.57</td>\n",
       "      <td>8.22</td>\n",
       "      <td>0</td>\n",
       "      <td>0</td>\n",
       "      <td>1.580980</td>\n",
       "      <td>0.996500</td>\n",
       "    </tr>\n",
       "    <tr>\n",
       "      <th>4</th>\n",
       "      <td>1.51742</td>\n",
       "      <td>13.27</td>\n",
       "      <td>3.62</td>\n",
       "      <td>1.24</td>\n",
       "      <td>73.08</td>\n",
       "      <td>0.55</td>\n",
       "      <td>8.07</td>\n",
       "      <td>0</td>\n",
       "      <td>0</td>\n",
       "      <td>1.995065</td>\n",
       "      <td>0.991545</td>\n",
       "    </tr>\n",
       "  </tbody>\n",
       "</table>\n",
       "</div>"
      ],
      "text/plain": [
       "        RI     Na    Mg    Al     Si     K    Ca  Ba  Fe  mahalanobis  \\\n",
       "0  1.52101  13.64  4.49  1.10  71.78  0.06  8.75   0   0     4.841691   \n",
       "1  1.51761  13.89  3.60  1.36  72.73  0.48  7.83   0   0     2.942888   \n",
       "2  1.51618  13.53  3.55  1.54  72.99  0.39  7.78   0   0     2.089756   \n",
       "3  1.51766  13.21  3.69  1.29  72.61  0.57  8.22   0   0     1.580980   \n",
       "4  1.51742  13.27  3.62  1.24  73.08  0.55  8.07   0   0     1.995065   \n",
       "\n",
       "          p  \n",
       "0  0.847884  \n",
       "1  0.966516  \n",
       "2  0.989967  \n",
       "3  0.996500  \n",
       "4  0.991545  "
      ]
     },
     "execution_count": 19,
     "metadata": {},
     "output_type": "execute_result"
    }
   ],
   "source": [
    "X['mahalanobis'] = mahalanobis(x=X, data=X[X.columns])\n",
    "X['p'] = 1 - stats.chi2.cdf(X['mahalanobis'], X.shape[1] - 1)\n",
    "X.head()"
   ]
  },
  {
   "cell_type": "markdown",
   "id": "ac173f0c",
   "metadata": {},
   "source": [
    "Обычно выбросом считается p-значение меньше 0,001."
   ]
  },
  {
   "cell_type": "code",
   "execution_count": 20,
   "id": "92eb2d14",
   "metadata": {},
   "outputs": [
    {
     "data": {
      "text/plain": [
       "(205, 11)"
      ]
     },
     "execution_count": 20,
     "metadata": {},
     "output_type": "execute_result"
    }
   ],
   "source": [
    "X_mah = X[X['p'] >= 0.001]\n",
    "X = X.drop(['mahalanobis', 'p'], axis=1)\n",
    "X_mah.shape"
   ]
  },
  {
   "cell_type": "markdown",
   "id": "9cb43986",
   "metadata": {},
   "source": [
    "**Модели.**"
   ]
  },
  {
   "cell_type": "markdown",
   "id": "4f62a12f",
   "metadata": {},
   "source": [
    "Поиск выбросов будем проводить с помощью моделей OneClassSVM, IsolationForest, LocalOutlierFactor и DBSCAN. Решение, считать ли данные выбросом, будем принимать исходя из результатов всех моделей."
   ]
  },
  {
   "cell_type": "code",
   "execution_count": 21,
   "id": "002666b0",
   "metadata": {},
   "outputs": [],
   "source": [
    "def search_outliers(x, limit=0, logs=False):\n",
    "    classifiers = {\n",
    "    \"OCSVM\": OneClassSVM(nu=0.1), # nu - % выбросов\n",
    "    \"IsoForest\": IsolationForest(random_state=42, n_jobs=-1),\n",
    "    \"LOF\": LocalOutlierFactor(novelty=True, n_jobs=-1),\n",
    "    \"DBSCAN\": DBSCAN(eps=2, min_samples=30, n_jobs=-1)\n",
    "    }\n",
    "    X_tmp = x.copy()\n",
    "    X_tmp['out'] = 0\n",
    "    \n",
    "    for (clf_name, clf) in classifiers.items():\n",
    "        clf.fit(x)\n",
    "        if logs:\n",
    "            print(clf_name)\n",
    "        if clf_name == 'DBSCAN':\n",
    "            X_tmp['out'] += clf.labels_\n",
    "            if logs:\n",
    "                print(clf.labels_, np.unique(clf.labels_))\n",
    "        else:\n",
    "            X_tmp['out'] += clf.predict(x)\n",
    "            if logs:\n",
    "                print(clf.predict(x))\n",
    "        \n",
    "    X_clast = X_tmp.loc[X_tmp['out'] > limit].copy() # Установив значениe limit можно увеличить или уменьшить число найденных выбросов\n",
    "    return X_clast"
   ]
  },
  {
   "cell_type": "code",
   "execution_count": 22,
   "id": "f106fd81",
   "metadata": {},
   "outputs": [],
   "source": [
    "def search_limit(x):\n",
    "    \n",
    "    best_limit = None\n",
    "    best_score = 0\n",
    "\n",
    "    for lim in range(-5, 3):\n",
    "        X_clast = search_outliers(x, limit=lim, logs=False)\n",
    "        data = X_clast.merge(df['Type'], how='left', left_index=True, right_index=True).drop('out', axis=1)\n",
    "\n",
    "        X_new = data.iloc[:, :-1]\n",
    "        y_new = data.iloc[:, -1]\n",
    "        X_train, X_test, y_train, y_test = train_test(X_new, y_new, train_size=0.8)\n",
    "\n",
    "        random_forest_ = RandomForestClassifier(n_estimators=grid.best_params_['n_estimators'],\n",
    "                                           max_features=grid.best_params_['max_features'],\n",
    "                                           class_weight=grid.best_params_['class_weight'], random_state=42, n_jobs=-1)\n",
    "        random_forest_.fit(X_train, y_train)\n",
    "        score = random_forest_.score(X_test, y_test)\n",
    "\n",
    "        if best_score < score:\n",
    "            best_score = score\n",
    "            best_limit = lim\n",
    "        print(f'lim={lim}, Score: {score}')\n",
    "\n",
    "    print(f'limit={best_limit}, Score: {best_score}')\n",
    "    return best_limit"
   ]
  },
  {
   "cell_type": "code",
   "execution_count": 23,
   "id": "b26fc3be",
   "metadata": {},
   "outputs": [
    {
     "name": "stdout",
     "output_type": "stream",
     "text": [
      "lim=-5, Score: 0.7906976744186046\n",
      "lim=-4, Score: 0.7560975609756098\n",
      "lim=-3, Score: 0.7073170731707317\n",
      "lim=-2, Score: 0.8461538461538461\n",
      "lim=-1, Score: 0.8157894736842105\n",
      "lim=0, Score: 0.8378378378378378\n",
      "lim=1, Score: 0.7647058823529411\n",
      "lim=2, Score: 0.6896551724137931\n",
      "limit=-2, Score: 0.8461538461538461\n"
     ]
    },
    {
     "data": {
      "text/plain": [
       "(191, 10)"
      ]
     },
     "execution_count": 23,
     "metadata": {},
     "output_type": "execute_result"
    }
   ],
   "source": [
    "X_clast = search_outliers(X, limit=search_limit(X))\n",
    "X_clast.shape"
   ]
  },
  {
   "cell_type": "markdown",
   "id": "f32dd3b6",
   "metadata": {},
   "source": [
    "Возьмем за основу результаты поиска выбросов при помощи моделей."
   ]
  },
  {
   "cell_type": "markdown",
   "id": "40779881",
   "metadata": {},
   "source": [
    "### c) Удалите выбросы. Посчитайте процент удаленных записей от общего числа записей для каждого класса."
   ]
  },
  {
   "cell_type": "code",
   "execution_count": 24,
   "id": "2aefd26c",
   "metadata": {},
   "outputs": [],
   "source": [
    "full_c = df.Type.value_counts()"
   ]
  },
  {
   "cell_type": "code",
   "execution_count": 25,
   "id": "94e9733c",
   "metadata": {},
   "outputs": [
    {
     "data": {
      "text/html": [
       "<div>\n",
       "<style scoped>\n",
       "    .dataframe tbody tr th:only-of-type {\n",
       "        vertical-align: middle;\n",
       "    }\n",
       "\n",
       "    .dataframe tbody tr th {\n",
       "        vertical-align: top;\n",
       "    }\n",
       "\n",
       "    .dataframe thead th {\n",
       "        text-align: right;\n",
       "    }\n",
       "</style>\n",
       "<table border=\"1\" class=\"dataframe\">\n",
       "  <thead>\n",
       "    <tr style=\"text-align: right;\">\n",
       "      <th></th>\n",
       "      <th>RI</th>\n",
       "      <th>Na</th>\n",
       "      <th>Mg</th>\n",
       "      <th>Al</th>\n",
       "      <th>Si</th>\n",
       "      <th>K</th>\n",
       "      <th>Ca</th>\n",
       "      <th>Ba</th>\n",
       "      <th>Fe</th>\n",
       "      <th>Type</th>\n",
       "    </tr>\n",
       "  </thead>\n",
       "  <tbody>\n",
       "    <tr>\n",
       "      <th>0</th>\n",
       "      <td>1.52101</td>\n",
       "      <td>13.64</td>\n",
       "      <td>4.49</td>\n",
       "      <td>1.10</td>\n",
       "      <td>71.78</td>\n",
       "      <td>0.06</td>\n",
       "      <td>8.75</td>\n",
       "      <td>0</td>\n",
       "      <td>0</td>\n",
       "      <td>1</td>\n",
       "    </tr>\n",
       "    <tr>\n",
       "      <th>1</th>\n",
       "      <td>1.51761</td>\n",
       "      <td>13.89</td>\n",
       "      <td>3.60</td>\n",
       "      <td>1.36</td>\n",
       "      <td>72.73</td>\n",
       "      <td>0.48</td>\n",
       "      <td>7.83</td>\n",
       "      <td>0</td>\n",
       "      <td>0</td>\n",
       "      <td>1</td>\n",
       "    </tr>\n",
       "    <tr>\n",
       "      <th>2</th>\n",
       "      <td>1.51618</td>\n",
       "      <td>13.53</td>\n",
       "      <td>3.55</td>\n",
       "      <td>1.54</td>\n",
       "      <td>72.99</td>\n",
       "      <td>0.39</td>\n",
       "      <td>7.78</td>\n",
       "      <td>0</td>\n",
       "      <td>0</td>\n",
       "      <td>1</td>\n",
       "    </tr>\n",
       "    <tr>\n",
       "      <th>3</th>\n",
       "      <td>1.51766</td>\n",
       "      <td>13.21</td>\n",
       "      <td>3.69</td>\n",
       "      <td>1.29</td>\n",
       "      <td>72.61</td>\n",
       "      <td>0.57</td>\n",
       "      <td>8.22</td>\n",
       "      <td>0</td>\n",
       "      <td>0</td>\n",
       "      <td>1</td>\n",
       "    </tr>\n",
       "    <tr>\n",
       "      <th>4</th>\n",
       "      <td>1.51742</td>\n",
       "      <td>13.27</td>\n",
       "      <td>3.62</td>\n",
       "      <td>1.24</td>\n",
       "      <td>73.08</td>\n",
       "      <td>0.55</td>\n",
       "      <td>8.07</td>\n",
       "      <td>0</td>\n",
       "      <td>0</td>\n",
       "      <td>1</td>\n",
       "    </tr>\n",
       "  </tbody>\n",
       "</table>\n",
       "</div>"
      ],
      "text/plain": [
       "        RI     Na    Mg    Al     Si     K    Ca  Ba  Fe  Type\n",
       "0  1.52101  13.64  4.49  1.10  71.78  0.06  8.75   0   0     1\n",
       "1  1.51761  13.89  3.60  1.36  72.73  0.48  7.83   0   0     1\n",
       "2  1.51618  13.53  3.55  1.54  72.99  0.39  7.78   0   0     1\n",
       "3  1.51766  13.21  3.69  1.29  72.61  0.57  8.22   0   0     1\n",
       "4  1.51742  13.27  3.62  1.24  73.08  0.55  8.07   0   0     1"
      ]
     },
     "execution_count": 25,
     "metadata": {},
     "output_type": "execute_result"
    }
   ],
   "source": [
    "data = X_clast.merge(df['Type'], how='left', left_index=True, right_index=True).drop('out', axis=1)\n",
    "data.head()"
   ]
  },
  {
   "cell_type": "code",
   "execution_count": 26,
   "id": "457cea12",
   "metadata": {},
   "outputs": [
    {
     "data": {
      "text/plain": [
       "1    70\n",
       "2    65\n",
       "7    23\n",
       "3    17\n",
       "5     9\n",
       "6     7\n",
       "Name: Type, dtype: int64"
      ]
     },
     "execution_count": 26,
     "metadata": {},
     "output_type": "execute_result"
    }
   ],
   "source": [
    "cut_c = data.Type.value_counts()\n",
    "cut_c"
   ]
  },
  {
   "cell_type": "code",
   "execution_count": 27,
   "id": "899f59be",
   "metadata": {},
   "outputs": [
    {
     "data": {
      "text/plain": [
       "<AxesSubplot:xlabel='Type', ylabel='Count'>"
      ]
     },
     "execution_count": 27,
     "metadata": {},
     "output_type": "execute_result"
    },
    {
     "data": {
      "image/png": "[encoded data removed]",
      "text/plain": [
       "<Figure size 1008x576 with 1 Axes>"
      ]
     },
     "metadata": {
      "needs_background": "light"
     },
     "output_type": "display_data"
    }
   ],
   "source": [
    "plt.figure(figsize=[14,8])\n",
    "sns.histplot(data.Type, bins=6, binwidth=0.3)"
   ]
  },
  {
   "cell_type": "code",
   "execution_count": 28,
   "id": "7b223298",
   "metadata": {
    "scrolled": false
   },
   "outputs": [
    {
     "name": "stdout",
     "output_type": "stream",
     "text": [
      "Процент удаленных записей\n",
      "1     0.000000\n",
      "2    14.473684\n",
      "3     0.000000\n",
      "5    30.769231\n",
      "6    22.222222\n",
      "7    20.689655\n",
      "Name: Type, dtype: float64\n"
     ]
    }
   ],
   "source": [
    "print('Процент удаленных записей\\n', (full_c - cut_c)*100 / full_c, sep='')"
   ]
  },
  {
   "cell_type": "code",
   "execution_count": 29,
   "id": "0bab1e90",
   "metadata": {},
   "outputs": [],
   "source": [
    "X_new = data.iloc[:, :-1]\n",
    "y_new = data.iloc[:, -1]"
   ]
  },
  {
   "cell_type": "code",
   "execution_count": 30,
   "id": "5c0bb848",
   "metadata": {},
   "outputs": [
    {
     "name": "stdout",
     "output_type": "stream",
     "text": [
      "              precision    recall  f1-score   support\n",
      "\n",
      "           1       0.92      0.75      0.83        16\n",
      "           2       0.83      0.91      0.87        11\n",
      "           3       0.00      0.00      0.00         1\n",
      "           5       1.00      1.00      1.00         4\n",
      "           6       1.00      1.00      1.00         3\n",
      "           7       1.00      1.00      1.00         4\n",
      "\n",
      "    accuracy                           0.85        39\n",
      "   macro avg       0.79      0.78      0.78        39\n",
      "weighted avg       0.90      0.85      0.87        39\n",
      "\n"
     ]
    }
   ],
   "source": [
    "X_train, X_test, y_train, y_test = train_test(X_new, y_new, train_size=0.8)\n",
    "rf = RandomForestClassifier(n_estimators=grid.best_params_['n_estimators'],\n",
    "                                           max_features=grid.best_params_['max_features'],\n",
    "                                           class_weight=grid.best_params_['class_weight'], random_state=42, n_jobs=-1)\n",
    "rf.fit(X_train, y_train)\n",
    "outliers_score = classification_report(y_test, rf.predict(X_test), output_dict=True)\n",
    "print(classification_report(y_test, rf.predict(X_test)))"
   ]
  },
  {
   "cell_type": "markdown",
   "id": "a6142904",
   "metadata": {},
   "source": [
    "Проведем oversampling."
   ]
  },
  {
   "cell_type": "code",
   "execution_count": 31,
   "id": "0e78b543",
   "metadata": {},
   "outputs": [],
   "source": [
    "oversampling = SMOTE(sampling_strategy='all', random_state=42, n_jobs=-1)\n",
    "X_new, y_new = oversampling.fit_resample(X_new, y_new)"
   ]
  },
  {
   "cell_type": "code",
   "execution_count": 32,
   "id": "c9be33e4",
   "metadata": {},
   "outputs": [
    {
     "data": {
      "text/plain": [
       "<AxesSubplot:xlabel='Type', ylabel='Count'>"
      ]
     },
     "execution_count": 32,
     "metadata": {},
     "output_type": "execute_result"
    },
    {
     "data": {
      "image/png": "[encoded data removed]",
      "text/plain": [
       "<Figure size 1008x576 with 1 Axes>"
      ]
     },
     "metadata": {
      "needs_background": "light"
     },
     "output_type": "display_data"
    }
   ],
   "source": [
    "plt.figure(figsize=[14,8])\n",
    "sns.histplot(y_new, bins=6, binwidth=0.3)"
   ]
  },
  {
   "cell_type": "code",
   "execution_count": 33,
   "id": "e752121e",
   "metadata": {},
   "outputs": [
    {
     "name": "stdout",
     "output_type": "stream",
     "text": [
      "              precision    recall  f1-score   support\n",
      "\n",
      "           1       0.86      0.75      0.80        16\n",
      "           2       0.94      0.79      0.86        19\n",
      "           3       0.62      1.00      0.77        10\n",
      "           5       1.00      1.00      1.00        11\n",
      "           6       1.00      1.00      1.00        14\n",
      "           7       1.00      0.93      0.96        14\n",
      "\n",
      "    accuracy                           0.89        84\n",
      "   macro avg       0.90      0.91      0.90        84\n",
      "weighted avg       0.91      0.89      0.90        84\n",
      "\n"
     ]
    }
   ],
   "source": [
    "X_train, X_test, y_train, y_test = train_test(X_new, y_new, train_size=0.8)\n",
    "rf = RandomForestClassifier(n_estimators=grid.best_params_['n_estimators'],\n",
    "                                           max_features=grid.best_params_['max_features'],\n",
    "                                           class_weight=grid.best_params_['class_weight'], random_state=42, n_jobs=-1)\n",
    "rf.fit(X_train, y_train)\n",
    "oversampling_score = classification_report(y_test, rf.predict(X_test), output_dict=True)\n",
    "print(classification_report(y_test, rf.predict(X_test)))"
   ]
  },
  {
   "cell_type": "markdown",
   "id": "a8746dd4",
   "metadata": {},
   "source": [
    "Проверим эффективность преобразования признаков."
   ]
  },
  {
   "cell_type": "code",
   "execution_count": 34,
   "id": "b55033a9",
   "metadata": {},
   "outputs": [],
   "source": [
    "def square(x):\n",
    "    '''Возведение в квадрат'''\n",
    "    return x ** 2"
   ]
  },
  {
   "cell_type": "code",
   "execution_count": 35,
   "id": "59b88bcf",
   "metadata": {},
   "outputs": [],
   "source": [
    "def log(x):\n",
    "    '''Логарифмирование'''\n",
    "    return np.log(x+1e-20) # Добавляем значение, близкое к нулю, для исключение ошибкок при вычислении"
   ]
  },
  {
   "cell_type": "code",
   "execution_count": 36,
   "id": "262e14a8",
   "metadata": {},
   "outputs": [],
   "source": [
    "def root(x):\n",
    "    '''Квадратный корень'''\n",
    "    return x ** 0.5"
   ]
  },
  {
   "cell_type": "code",
   "execution_count": 37,
   "id": "4b3b0823",
   "metadata": {},
   "outputs": [],
   "source": [
    "def transform_col(x, col, foo, arg):\n",
    "    '''Применение трансформации к столбцу'''\n",
    "    if arg == 'normalize':\n",
    "        x[col] = normalize(x[[col]])\n",
    "    else:\n",
    "        x[col] = x[col].apply(foo[arg])\n",
    "    return x[col]"
   ]
  },
  {
   "cell_type": "code",
   "execution_count": 38,
   "id": "bfbdb139",
   "metadata": {},
   "outputs": [],
   "source": [
    "def search_transform(X, cols=X.columns, flag=False):\n",
    "    '''Проверка влияния трансформаций на метрику accuracy с учетом кросс-валидации'''\n",
    "    # Номализация\n",
    "    mm_scaler = MinMaxScaler()\n",
    "    qt = QuantileTransformer()\n",
    "    s_scaler = StandardScaler()\n",
    "    \n",
    "    # Словарь с преобразованиями\n",
    "    math_transforms = {'nothing': lambda x: x, 'square': square, 'log': log, 'root': root,\n",
    "                       'min_max_scaler': mm_scaler, 'quantile_transformer': qt,\n",
    "                       'standart_scaler': s_scaler, 'normalize': normalize}\n",
    "\n",
    "    for col in cols: # Перебор признаков\n",
    "        \n",
    "        best_score = 0\n",
    "        best_transform = None\n",
    "        \n",
    "        for transform in math_transforms.keys(): # Перебор преобразований\n",
    "                        \n",
    "            tmp_X = X.copy()\n",
    "            \n",
    "            # Разделение нормализации и математических преобразований ввиду различного синтаксиса\n",
    "            if transform in ['min_max_scaler', 'quantile_transformer', 'standart_scaler']: \n",
    "                tmp_X[col] = math_transforms[transform].fit_transform(tmp_X[[col]])\n",
    "            else:\n",
    "                tmp_X[col] = transform_col(tmp_X, col, math_transforms, transform)\n",
    "            \n",
    "            X_train, X_test, y_train, y_test = train_test(tmp_X, y_new, train_size=0.8)\n",
    "            \n",
    "            # Модель, с учетом подобранных оптимальных параметров\n",
    "            random_forest = RandomForestClassifier(n_estimators=grid.best_params_['n_estimators'],\n",
    "                                       max_features=grid.best_params_['max_features'],\n",
    "                                       class_weight=grid.best_params_['class_weight'], random_state=42, n_jobs=-1)\n",
    "            random_forest.fit(X_train, y_train)\n",
    "            score = random_forest.score(X_test, y_test)\n",
    "            \n",
    "            if best_score < score:\n",
    "                best_score = score\n",
    "                best_transform = transform\n",
    "        \n",
    "        # Преобразование признаков\n",
    "        if best_transform in ['min_max_scaler', 'quantile_transformer', 'standart_scaler']:\n",
    "            X[col] = math_transforms[best_transform].fit_transform(X[[col]])\n",
    "        else:\n",
    "            transform_col(X, col, math_transforms, best_transform)\n",
    "        print(f'{col} - {best_transform}: best_score - {best_score}')\n",
    "        \n",
    "    if flag:\n",
    "        return X"
   ]
  },
  {
   "cell_type": "code",
   "execution_count": 39,
   "id": "8d13cfbf",
   "metadata": {},
   "outputs": [
    {
     "name": "stdout",
     "output_type": "stream",
     "text": [
      "RI - nothing: best_score - 0.8928571428571429\n",
      "Na - nothing: best_score - 0.8928571428571429\n",
      "Mg - nothing: best_score - 0.8928571428571429\n",
      "Al - nothing: best_score - 0.8928571428571429\n",
      "Si - nothing: best_score - 0.8928571428571429\n",
      "K - nothing: best_score - 0.8928571428571429\n",
      "Ca - nothing: best_score - 0.8928571428571429\n",
      "Ba - nothing: best_score - 0.8928571428571429\n",
      "Fe - nothing: best_score - 0.8928571428571429\n"
     ]
    }
   ],
   "source": [
    "X_new = search_transform(X_new, flag=True)"
   ]
  },
  {
   "cell_type": "markdown",
   "id": "af152b81",
   "metadata": {},
   "source": [
    "Преобразования нецелесообразны."
   ]
  },
  {
   "cell_type": "markdown",
   "id": "48d0709a",
   "metadata": {},
   "source": [
    "# 7. Повторите п. 4, п. 5."
   ]
  },
  {
   "cell_type": "code",
   "execution_count": 40,
   "id": "82513e70",
   "metadata": {},
   "outputs": [],
   "source": [
    "X_train, X_test, y_train, y_test = train_test(X_new, y_new, train_size=0.8)"
   ]
  },
  {
   "cell_type": "code",
   "execution_count": 41,
   "id": "764cf40e",
   "metadata": {},
   "outputs": [
    {
     "name": "stdout",
     "output_type": "stream",
     "text": [
      "CPU times: total: 5.27 s\n",
      "Wall time: 1min 53s\n"
     ]
    },
    {
     "data": {
      "text/plain": [
       "{'class_weight': 'balanced_subsample',\n",
       " 'max_features': 'sqrt',\n",
       " 'n_estimators': 140}"
      ]
     },
     "execution_count": 41,
     "metadata": {},
     "output_type": "execute_result"
    }
   ],
   "source": [
    "random_forest_ = RandomForestClassifier(random_state=42, n_jobs=-1)\n",
    "params = {'n_estimators': range(10,200,10),\n",
    "          'max_features': [\"sqrt\", \"log2\", None] + list(range(0,8)),\n",
    "          'class_weight': [\"balanced\", \"balanced_subsample\", None]}\n",
    "grid = GridSearchCV(random_forest_, params, n_jobs=-1, cv=5)\n",
    "%time grid.fit(X_test, y_test) # Подбор оптимальных параметров модели\n",
    "grid.best_params_"
   ]
  },
  {
   "cell_type": "code",
   "execution_count": 42,
   "id": "d3cc47f0",
   "metadata": {},
   "outputs": [
    {
     "data": {
      "text/plain": [
       "RandomForestClassifier(class_weight='balanced_subsample', max_features='sqrt',\n",
       "                       n_estimators=140, n_jobs=-1, random_state=42)"
      ]
     },
     "execution_count": 42,
     "metadata": {},
     "output_type": "execute_result"
    }
   ],
   "source": [
    "random_forest_ = RandomForestClassifier(n_estimators=grid.best_params_['n_estimators'],\n",
    "                                       max_features=grid.best_params_['max_features'],\n",
    "                                       class_weight=grid.best_params_['class_weight'], random_state=42, n_jobs=-1)\n",
    "random_forest_.fit(X_train, y_train)"
   ]
  },
  {
   "cell_type": "code",
   "execution_count": 43,
   "id": "3b770196",
   "metadata": {},
   "outputs": [
    {
     "data": {
      "text/plain": [
       "array([0.94117647, 0.82352941, 0.94117647, 0.82352941, 0.875     ])"
      ]
     },
     "execution_count": 43,
     "metadata": {},
     "output_type": "execute_result"
    }
   ],
   "source": [
    "cross_val_score(random_forest_, X_test, y_test, cv=5, n_jobs=-1)"
   ]
  },
  {
   "cell_type": "code",
   "execution_count": 44,
   "id": "61d1889d",
   "metadata": {},
   "outputs": [
    {
     "data": {
      "text/plain": [
       "0.8808823529411764"
      ]
     },
     "execution_count": 44,
     "metadata": {},
     "output_type": "execute_result"
    }
   ],
   "source": [
    "np.mean(cross_val_score(random_forest_, X_test, y_test, cv=5, n_jobs=-1))"
   ]
  },
  {
   "cell_type": "code",
   "execution_count": 45,
   "id": "ff53e069",
   "metadata": {
    "scrolled": true
   },
   "outputs": [
    {
     "name": "stdout",
     "output_type": "stream",
     "text": [
      "              precision    recall  f1-score   support\n",
      "\n",
      "           1       0.87      0.81      0.84        16\n",
      "           2       1.00      0.84      0.91        19\n",
      "           3       0.67      1.00      0.80        10\n",
      "           5       1.00      1.00      1.00        11\n",
      "           6       1.00      1.00      1.00        14\n",
      "           7       1.00      0.93      0.96        14\n",
      "\n",
      "    accuracy                           0.92        84\n",
      "   macro avg       0.92      0.93      0.92        84\n",
      "weighted avg       0.93      0.92      0.92        84\n",
      "\n"
     ]
    }
   ],
   "source": [
    "print(classification_report(y_test, random_forest_.predict(X_test)))"
   ]
  },
  {
   "cell_type": "markdown",
   "id": "8d2e9f35",
   "metadata": {},
   "source": [
    "Видно много ложноположительных результатов для класса 3. Скорректируем порог вероятности для этого класса."
   ]
  },
  {
   "cell_type": "code",
   "execution_count": 46,
   "id": "dbf37d4c",
   "metadata": {},
   "outputs": [],
   "source": [
    "def classification(predict_proba, col, coef):\n",
    "    res = []\n",
    "    for probs in predict_proba:\n",
    "        probs[col] -= coef\n",
    "        max_prob = max(probs)\n",
    "        \n",
    "        # Т.к. в данных указаны классы 1,2,3,5,6,7, то скорректируем значиния индексов для корректного отображения классов\n",
    "        if list(probs).index(max_prob) < 3:\n",
    "            res.append(list(probs).index(max_prob) + 1)\n",
    "        else:\n",
    "            res.append(list(probs).index(max_prob) + 2)\n",
    "\n",
    "    return res"
   ]
  },
  {
   "cell_type": "code",
   "execution_count": 47,
   "id": "6e567aa7",
   "metadata": {
    "scrolled": false
   },
   "outputs": [
    {
     "name": "stdout",
     "output_type": "stream",
     "text": [
      "              precision    recall  f1-score   support\n",
      "\n",
      "           1       0.84      1.00      0.91        16\n",
      "           2       1.00      0.84      0.91        19\n",
      "           3       0.91      1.00      0.95        10\n",
      "           5       1.00      1.00      1.00        11\n",
      "           6       1.00      1.00      1.00        14\n",
      "           7       1.00      0.93      0.96        14\n",
      "\n",
      "    accuracy                           0.95        84\n",
      "   macro avg       0.96      0.96      0.96        84\n",
      "weighted avg       0.96      0.95      0.95        84\n",
      "\n"
     ]
    }
   ],
   "source": [
    "final_score = classification_report(y_test, classification(random_forest_.predict_proba(X_test), 2, 0.4), output_dict=True)\n",
    "print(classification_report(y_test, classification(random_forest_.predict_proba(X_test), 2, 0.4)))"
   ]
  },
  {
   "cell_type": "code",
   "execution_count": 48,
   "id": "33adf28c",
   "metadata": {},
   "outputs": [
    {
     "data": {
      "text/plain": [
       "{'1': {'precision': 0.8421052631578947,\n",
       "  'recall': 1.0,\n",
       "  'f1-score': 0.9142857142857143,\n",
       "  'support': 16},\n",
       " '2': {'precision': 1.0,\n",
       "  'recall': 0.8421052631578947,\n",
       "  'f1-score': 0.9142857142857143,\n",
       "  'support': 19},\n",
       " '3': {'precision': 0.9090909090909091,\n",
       "  'recall': 1.0,\n",
       "  'f1-score': 0.9523809523809523,\n",
       "  'support': 10},\n",
       " '5': {'precision': 1.0, 'recall': 1.0, 'f1-score': 1.0, 'support': 11},\n",
       " '6': {'precision': 1.0, 'recall': 1.0, 'f1-score': 1.0, 'support': 14},\n",
       " '7': {'precision': 1.0,\n",
       "  'recall': 0.9285714285714286,\n",
       "  'f1-score': 0.962962962962963,\n",
       "  'support': 14},\n",
       " 'accuracy': 0.9523809523809523,\n",
       " 'macro avg': {'precision': 0.9585326953748007,\n",
       "  'recall': 0.961779448621554,\n",
       "  'f1-score': 0.9573192239858906,\n",
       "  'support': 84},\n",
       " 'weighted avg': {'precision': 0.9591023012075643,\n",
       "  'recall': 0.9523809523809523,\n",
       "  'f1-score': 0.9524439405391786,\n",
       "  'support': 84}}"
      ]
     },
     "execution_count": 48,
     "metadata": {},
     "output_type": "execute_result"
    }
   ],
   "source": [
    "classification_report(y_test, classification(random_forest_.predict_proba(X_test), 2, 0.4), output_dict=True)"
   ]
  },
  {
   "cell_type": "markdown",
   "id": "8bc86f3e",
   "metadata": {},
   "source": [
    "# 8. Сформулируйте выводы по проделанной работе.\n",
    "### а) Кратко опишите, какие преобразования были сделаны с данными."
   ]
  },
  {
   "cell_type": "markdown",
   "id": "f30717c4",
   "metadata": {},
   "source": [
    "В данных, на основании совокупности результатов алгоритмов были удалены выбросы. Так же проведен оверсэмплинг с целью устранения дисбаланса классов."
   ]
  },
  {
   "cell_type": "markdown",
   "id": "41c70829",
   "metadata": {},
   "source": [
    "### b) Сравните точность двух моделей."
   ]
  },
  {
   "cell_type": "code",
   "execution_count": 49,
   "id": "4ed535d1",
   "metadata": {},
   "outputs": [
    {
     "data": {
      "text/html": [
       "<div>\n",
       "<style scoped>\n",
       "    .dataframe tbody tr th:only-of-type {\n",
       "        vertical-align: middle;\n",
       "    }\n",
       "\n",
       "    .dataframe tbody tr th {\n",
       "        vertical-align: top;\n",
       "    }\n",
       "\n",
       "    .dataframe thead tr th {\n",
       "        text-align: left;\n",
       "    }\n",
       "</style>\n",
       "<table border=\"1\" class=\"dataframe\">\n",
       "  <thead>\n",
       "    <tr>\n",
       "      <th>Model</th>\n",
       "      <th colspan=\"2\" halign=\"left\">baseline</th>\n",
       "      <th colspan=\"2\" halign=\"left\">drop_outliers</th>\n",
       "      <th colspan=\"2\" halign=\"left\">oversampling</th>\n",
       "      <th colspan=\"2\" halign=\"left\">final</th>\n",
       "    </tr>\n",
       "    <tr>\n",
       "      <th>Metric</th>\n",
       "      <th>precision</th>\n",
       "      <th>recall</th>\n",
       "      <th>precision</th>\n",
       "      <th>recall</th>\n",
       "      <th>precision</th>\n",
       "      <th>recall</th>\n",
       "      <th>precision</th>\n",
       "      <th>recall</th>\n",
       "    </tr>\n",
       "  </thead>\n",
       "  <tbody>\n",
       "    <tr>\n",
       "      <th>weighted avg</th>\n",
       "      <td>0.793835</td>\n",
       "      <td>0.790698</td>\n",
       "      <td>0.895792</td>\n",
       "      <td>0.846154</td>\n",
       "      <td>0.914009</td>\n",
       "      <td>0.892857</td>\n",
       "      <td>0.959102</td>\n",
       "      <td>0.952381</td>\n",
       "    </tr>\n",
       "    <tr>\n",
       "      <th>1</th>\n",
       "      <td>0.714286</td>\n",
       "      <td>0.909091</td>\n",
       "      <td>0.923077</td>\n",
       "      <td>0.750000</td>\n",
       "      <td>0.857143</td>\n",
       "      <td>0.750000</td>\n",
       "      <td>0.842105</td>\n",
       "      <td>1.000000</td>\n",
       "    </tr>\n",
       "    <tr>\n",
       "      <th>2</th>\n",
       "      <td>0.750000</td>\n",
       "      <td>0.642857</td>\n",
       "      <td>0.833333</td>\n",
       "      <td>0.909091</td>\n",
       "      <td>0.937500</td>\n",
       "      <td>0.789474</td>\n",
       "      <td>1.000000</td>\n",
       "      <td>0.842105</td>\n",
       "    </tr>\n",
       "    <tr>\n",
       "      <th>3</th>\n",
       "      <td>1.000000</td>\n",
       "      <td>0.666667</td>\n",
       "      <td>0.000000</td>\n",
       "      <td>0.000000</td>\n",
       "      <td>0.625000</td>\n",
       "      <td>1.000000</td>\n",
       "      <td>0.909091</td>\n",
       "      <td>1.000000</td>\n",
       "    </tr>\n",
       "    <tr>\n",
       "      <th>5</th>\n",
       "      <td>0.666667</td>\n",
       "      <td>0.500000</td>\n",
       "      <td>1.000000</td>\n",
       "      <td>1.000000</td>\n",
       "      <td>1.000000</td>\n",
       "      <td>1.000000</td>\n",
       "      <td>1.000000</td>\n",
       "      <td>1.000000</td>\n",
       "    </tr>\n",
       "    <tr>\n",
       "      <th>6</th>\n",
       "      <td>1.000000</td>\n",
       "      <td>1.000000</td>\n",
       "      <td>1.000000</td>\n",
       "      <td>1.000000</td>\n",
       "      <td>1.000000</td>\n",
       "      <td>1.000000</td>\n",
       "      <td>1.000000</td>\n",
       "      <td>1.000000</td>\n",
       "    </tr>\n",
       "    <tr>\n",
       "      <th>7</th>\n",
       "      <td>0.888889</td>\n",
       "      <td>1.000000</td>\n",
       "      <td>1.000000</td>\n",
       "      <td>1.000000</td>\n",
       "      <td>1.000000</td>\n",
       "      <td>0.928571</td>\n",
       "      <td>1.000000</td>\n",
       "      <td>0.928571</td>\n",
       "    </tr>\n",
       "  </tbody>\n",
       "</table>\n",
       "</div>"
      ],
      "text/plain": [
       "Model         baseline           drop_outliers           oversampling  \\\n",
       "Metric       precision    recall     precision    recall    precision   \n",
       "weighted avg  0.793835  0.790698      0.895792  0.846154     0.914009   \n",
       "1             0.714286  0.909091      0.923077  0.750000     0.857143   \n",
       "2             0.750000  0.642857      0.833333  0.909091     0.937500   \n",
       "3             1.000000  0.666667      0.000000  0.000000     0.625000   \n",
       "5             0.666667  0.500000      1.000000  1.000000     1.000000   \n",
       "6             1.000000  1.000000      1.000000  1.000000     1.000000   \n",
       "7             0.888889  1.000000      1.000000  1.000000     1.000000   \n",
       "\n",
       "Model                      final            \n",
       "Metric          recall precision    recall  \n",
       "weighted avg  0.892857  0.959102  0.952381  \n",
       "1             0.750000  0.842105  1.000000  \n",
       "2             0.789474  1.000000  0.842105  \n",
       "3             1.000000  0.909091  1.000000  \n",
       "5             1.000000  1.000000  1.000000  \n",
       "6             1.000000  1.000000  1.000000  \n",
       "7             0.928571  1.000000  0.928571  "
      ]
     },
     "execution_count": 49,
     "metadata": {},
     "output_type": "execute_result"
    }
   ],
   "source": [
    "arrays = [('baseline', 'precision'), ('baseline', 'recall'),\n",
    "          ('drop_outliers', 'precision'), ('drop_outliers', 'recall'),\n",
    "          ('oversampling', 'precision'), ('oversampling', 'recall'),\n",
    "          ('final', 'precision'), ('final', 'recall')]\n",
    "\n",
    "index = pd.MultiIndex.from_tuples(arrays, names=[\"Model\", \"Metric\"])\n",
    "columns = ['weighted avg', '1', '2', '3', '5', '6', '7']\n",
    "\n",
    "res = np.array([[baseline_score['weighted avg']['precision'], baseline_score['1']['precision'],\n",
    "                 baseline_score['2']['precision'], baseline_score['3']['precision'],\n",
    "                 baseline_score['5']['precision'], baseline_score['6']['precision'], baseline_score['7']['precision']],\n",
    "                \n",
    "                [baseline_score['weighted avg']['recall'], baseline_score['1']['recall'],\n",
    "                 baseline_score['2']['recall'], baseline_score['3']['recall'], baseline_score['5']['recall'],\n",
    "                 baseline_score['6']['recall'], baseline_score['7']['recall']],\n",
    "                \n",
    "                [outliers_score['weighted avg']['precision'], outliers_score['1']['precision'],\n",
    "                 outliers_score['2']['precision'], outliers_score['3']['precision'], outliers_score['5']['precision'],\n",
    "                 outliers_score['6']['precision'], outliers_score['7']['precision']],\n",
    "                \n",
    "                [outliers_score['weighted avg']['recall'], outliers_score['1']['recall'],\n",
    "                 outliers_score['2']['recall'], outliers_score['3']['recall'], outliers_score['5']['recall'],\n",
    "                 outliers_score['6']['recall'], outliers_score['7']['recall']],\n",
    "                \n",
    "                [oversampling_score['weighted avg']['precision'], oversampling_score['1']['precision'],\n",
    "                 oversampling_score['2']['precision'], oversampling_score['3']['precision'], \n",
    "                 oversampling_score['5']['precision'], oversampling_score['6']['precision'],\n",
    "                 oversampling_score['7']['precision']],\n",
    "                \n",
    "                [oversampling_score['weighted avg']['recall'], oversampling_score['1']['recall'],\n",
    "                 oversampling_score['2']['recall'], oversampling_score['3']['recall'], oversampling_score['5']['recall'],\n",
    "                 oversampling_score['6']['recall'], oversampling_score['7']['recall']],\n",
    "                \n",
    "                [final_score['weighted avg']['precision'], final_score['1']['precision'],\n",
    "                 final_score['2']['precision'], final_score['3']['precision'], final_score['5']['precision'],\n",
    "                 final_score['6']['precision'], final_score['7']['precision']],\n",
    "                \n",
    "                [final_score['weighted avg']['recall'], final_score['1']['recall'],\n",
    "                 final_score['2']['recall'], final_score['3']['recall'], final_score['5']['recall'],\n",
    "                 final_score['6']['recall'], final_score['7']['recall']]\n",
    "])\n",
    "pd.DataFrame(res.T, index=columns, columns=index)"
   ]
  },
  {
   "cell_type": "markdown",
   "id": "c6537692",
   "metadata": {},
   "source": [
    "### c) Напишите свое мнение, нужно ли исследовать данные на выбросы, для чего это делается, плюсы и минусы подхода."
   ]
  },
  {
   "cell_type": "markdown",
   "id": "be7eb6b1",
   "metadata": {},
   "source": [
    "Исследование данных на выбросы - это важный этап предобработки данных, который позволяет выявить и обработать значения, сильно отличающиеся от остальных в наборе данных.\n",
    "\n",
    "Основная цель исследования на выбросы - это выявление потенциальных ошибок в данных, таких как опечатки, ошибки при вводе данных, ошибки при измерении, аномальные значения, которые не соответствуют ожидаемому диапазону. Если выбросы не обработать, они могут значительно повлиять на результаты анализа данных и привести к ошибочным выводам.\n",
    "\n",
    "Одним из плюсов исследования данных на выбросы является возможность улучшить качество модели машинного обучения. Выбросы могут оказывать значительное влияние на обучение модели, поскольку многие алгоритмы машинного обучения чувствительны к выбросам. Обработка выбросов может привести к улучшению точности модели."
   ]
  }
 ],
 "metadata": {
  "kernelspec": {
   "display_name": "Python 3 (ipykernel)",
   "language": "python",
   "name": "python3"
  },
  "language_info": {
   "codemirror_mode": {
    "name": "ipython",
    "version": 3
   },
   "file_extension": ".py",
   "mimetype": "text/x-python",
   "name": "python",
   "nbconvert_exporter": "python",
   "pygments_lexer": "ipython3",
   "version": "3.9.12"
  }
 },
 "nbformat": 4,
 "nbformat_minor": 5
}

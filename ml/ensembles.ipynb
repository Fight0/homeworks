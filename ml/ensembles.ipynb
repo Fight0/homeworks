{
 "cells": [
  {
   "cell_type": "markdown",
   "id": "1345f0bd",
   "metadata": {},
   "source": [
    "# Задание\n",
    "\n",
    "**Цель:** применить на практике базовые ансамблевые методы\n",
    "\n",
    "**Описание задания:**\n",
    "\n",
    "В домашнем задании нужно решить задачу классификации наличия болезни сердца у пациентов. Данные для обучения моделей необходимо загрузить самостоятельно с [сайта](https://www.kaggle.com/fedesoriano/heart-failure-prediction). Целевая переменная – наличие болезни сердца (HeartDisease), принимает значения 0 или 1 в зависимости от отсутствия или наличия болезни соответственно. (Подробнее о признаках можно прочесть в описании датасета на сайте. Для выполнения работы не обязательно вникать в медицинские показатели.)"
   ]
  },
  {
   "cell_type": "code",
   "execution_count": 1,
   "id": "7ecfd0d6",
   "metadata": {},
   "outputs": [],
   "source": [
    "import pandas as pd\n",
    "import numpy as np\n",
    "import matplotlib.pyplot as plt\n",
    "import seaborn as sns\n",
    "\n",
    "from sklearn.model_selection import train_test_split\n",
    "\n",
    "import warnings\n",
    "warnings.filterwarnings(\"ignore\")"
   ]
  },
  {
   "cell_type": "markdown",
   "id": "5994a186",
   "metadata": {},
   "source": [
    "# 1. Получите данные и загрузите их в рабочую среду. (Jupyter Notebook или другую)"
   ]
  },
  {
   "cell_type": "code",
   "execution_count": 2,
   "id": "1f692ea7",
   "metadata": {},
   "outputs": [
    {
     "data": {
      "text/html": [
       "<div>\n",
       "<style scoped>\n",
       "    .dataframe tbody tr th:only-of-type {\n",
       "        vertical-align: middle;\n",
       "    }\n",
       "\n",
       "    .dataframe tbody tr th {\n",
       "        vertical-align: top;\n",
       "    }\n",
       "\n",
       "    .dataframe thead th {\n",
       "        text-align: right;\n",
       "    }\n",
       "</style>\n",
       "<table border=\"1\" class=\"dataframe\">\n",
       "  <thead>\n",
       "    <tr style=\"text-align: right;\">\n",
       "      <th></th>\n",
       "      <th>Age</th>\n",
       "      <th>Sex</th>\n",
       "      <th>ChestPainType</th>\n",
       "      <th>RestingBP</th>\n",
       "      <th>Cholesterol</th>\n",
       "      <th>FastingBS</th>\n",
       "      <th>RestingECG</th>\n",
       "      <th>MaxHR</th>\n",
       "      <th>ExerciseAngina</th>\n",
       "      <th>Oldpeak</th>\n",
       "      <th>ST_Slope</th>\n",
       "      <th>HeartDisease</th>\n",
       "    </tr>\n",
       "  </thead>\n",
       "  <tbody>\n",
       "    <tr>\n",
       "      <th>0</th>\n",
       "      <td>40</td>\n",
       "      <td>M</td>\n",
       "      <td>ATA</td>\n",
       "      <td>140</td>\n",
       "      <td>289</td>\n",
       "      <td>0</td>\n",
       "      <td>Normal</td>\n",
       "      <td>172</td>\n",
       "      <td>N</td>\n",
       "      <td>0.0</td>\n",
       "      <td>Up</td>\n",
       "      <td>0</td>\n",
       "    </tr>\n",
       "    <tr>\n",
       "      <th>1</th>\n",
       "      <td>49</td>\n",
       "      <td>F</td>\n",
       "      <td>NAP</td>\n",
       "      <td>160</td>\n",
       "      <td>180</td>\n",
       "      <td>0</td>\n",
       "      <td>Normal</td>\n",
       "      <td>156</td>\n",
       "      <td>N</td>\n",
       "      <td>1.0</td>\n",
       "      <td>Flat</td>\n",
       "      <td>1</td>\n",
       "    </tr>\n",
       "    <tr>\n",
       "      <th>2</th>\n",
       "      <td>37</td>\n",
       "      <td>M</td>\n",
       "      <td>ATA</td>\n",
       "      <td>130</td>\n",
       "      <td>283</td>\n",
       "      <td>0</td>\n",
       "      <td>ST</td>\n",
       "      <td>98</td>\n",
       "      <td>N</td>\n",
       "      <td>0.0</td>\n",
       "      <td>Up</td>\n",
       "      <td>0</td>\n",
       "    </tr>\n",
       "    <tr>\n",
       "      <th>3</th>\n",
       "      <td>48</td>\n",
       "      <td>F</td>\n",
       "      <td>ASY</td>\n",
       "      <td>138</td>\n",
       "      <td>214</td>\n",
       "      <td>0</td>\n",
       "      <td>Normal</td>\n",
       "      <td>108</td>\n",
       "      <td>Y</td>\n",
       "      <td>1.5</td>\n",
       "      <td>Flat</td>\n",
       "      <td>1</td>\n",
       "    </tr>\n",
       "    <tr>\n",
       "      <th>4</th>\n",
       "      <td>54</td>\n",
       "      <td>M</td>\n",
       "      <td>NAP</td>\n",
       "      <td>150</td>\n",
       "      <td>195</td>\n",
       "      <td>0</td>\n",
       "      <td>Normal</td>\n",
       "      <td>122</td>\n",
       "      <td>N</td>\n",
       "      <td>0.0</td>\n",
       "      <td>Up</td>\n",
       "      <td>0</td>\n",
       "    </tr>\n",
       "  </tbody>\n",
       "</table>\n",
       "</div>"
      ],
      "text/plain": [
       "   Age Sex ChestPainType  RestingBP  Cholesterol  FastingBS RestingECG  MaxHR  \\\n",
       "0   40   M           ATA        140          289          0     Normal    172   \n",
       "1   49   F           NAP        160          180          0     Normal    156   \n",
       "2   37   M           ATA        130          283          0         ST     98   \n",
       "3   48   F           ASY        138          214          0     Normal    108   \n",
       "4   54   M           NAP        150          195          0     Normal    122   \n",
       "\n",
       "  ExerciseAngina  Oldpeak ST_Slope  HeartDisease  \n",
       "0              N      0.0       Up             0  \n",
       "1              N      1.0     Flat             1  \n",
       "2              N      0.0       Up             0  \n",
       "3              Y      1.5     Flat             1  \n",
       "4              N      0.0       Up             0  "
      ]
     },
     "execution_count": 2,
     "metadata": {},
     "output_type": "execute_result"
    }
   ],
   "source": [
    "df = pd.read_csv('Data/heart.csv')\n",
    "df.head()"
   ]
  },
  {
   "cell_type": "markdown",
   "id": "49807810",
   "metadata": {},
   "source": [
    "**Attribute Information**\n",
    "\n",
    "1. Age: age of the patient [years]\n",
    "1. Sex: sex of the patient [M: Male, F: Female]\n",
    "1. ChestPainType: chest pain type [TA: Typical Angina, ATA: Atypical Angina, NAP: Non-Anginal Pain, ASY: Asymptomatic]\n",
    "1. RestingBP: resting blood pressure [mm Hg]\n",
    "1. Cholesterol: serum cholesterol [mm/dl]\n",
    "1. FastingBS: fasting blood sugar [1: if FastingBS > 120 mg/dl, 0: otherwise]\n",
    "1. RestingECG: resting electrocardiogram results [Normal: Normal, ST: having ST-T wave abnormality (T wave inversions and/or ST elevation or depression of > 0.05 mV), LVH: showing probable or definite left ventricular hypertrophy by Estes' criteria]\n",
    "1. MaxHR: maximum heart rate achieved [Numeric value between 60 and 202]\n",
    "1. ExerciseAngina: exercise-induced angina [Y: Yes, N: No]\n",
    "1. Oldpeak: oldpeak = ST [Numeric value measured in depression]\n",
    "1. ST_Slope: the slope of the peak exercise ST segment [Up: upsloping, Flat: flat, Down: downsloping]\n",
    "1. HeartDisease: output class [1: heart disease, 0: Normal]"
   ]
  },
  {
   "cell_type": "markdown",
   "id": "f2922e7f",
   "metadata": {},
   "source": [
    "# 2. Подготовьте датасет к обучению моделей."
   ]
  },
  {
   "cell_type": "code",
   "execution_count": 3,
   "id": "b1c8bf04",
   "metadata": {},
   "outputs": [
    {
     "name": "stdout",
     "output_type": "stream",
     "text": [
      "<class 'pandas.core.frame.DataFrame'>\n",
      "RangeIndex: 918 entries, 0 to 917\n",
      "Data columns (total 12 columns):\n",
      " #   Column          Non-Null Count  Dtype  \n",
      "---  ------          --------------  -----  \n",
      " 0   Age             918 non-null    int64  \n",
      " 1   Sex             918 non-null    object \n",
      " 2   ChestPainType   918 non-null    object \n",
      " 3   RestingBP       918 non-null    int64  \n",
      " 4   Cholesterol     918 non-null    int64  \n",
      " 5   FastingBS       918 non-null    int64  \n",
      " 6   RestingECG      918 non-null    object \n",
      " 7   MaxHR           918 non-null    int64  \n",
      " 8   ExerciseAngina  918 non-null    object \n",
      " 9   Oldpeak         918 non-null    float64\n",
      " 10  ST_Slope        918 non-null    object \n",
      " 11  HeartDisease    918 non-null    int64  \n",
      "dtypes: float64(1), int64(6), object(5)\n",
      "memory usage: 86.2+ KB\n"
     ]
    }
   ],
   "source": [
    "df.info()"
   ]
  },
  {
   "cell_type": "code",
   "execution_count": 4,
   "id": "eb47f8f4",
   "metadata": {},
   "outputs": [
    {
     "name": "stdout",
     "output_type": "stream",
     "text": [
      "Sex ['M' 'F']\n",
      "ChestPainType ['ATA' 'NAP' 'ASY' 'TA']\n",
      "RestingECG ['Normal' 'ST' 'LVH']\n",
      "ExerciseAngina ['N' 'Y']\n",
      "ST_Slope ['Up' 'Flat' 'Down']\n"
     ]
    }
   ],
   "source": [
    "for col in df.select_dtypes('object').columns:\n",
    "    print(col, df[col].unique())"
   ]
  },
  {
   "cell_type": "markdown",
   "id": "5eff4bd4",
   "metadata": {},
   "source": [
    "В данных отсутствуют пропуски."
   ]
  },
  {
   "cell_type": "code",
   "execution_count": 5,
   "id": "919eeaf5",
   "metadata": {
    "scrolled": true
   },
   "outputs": [
    {
     "data": {
      "text/html": [
       "<div>\n",
       "<style scoped>\n",
       "    .dataframe tbody tr th:only-of-type {\n",
       "        vertical-align: middle;\n",
       "    }\n",
       "\n",
       "    .dataframe tbody tr th {\n",
       "        vertical-align: top;\n",
       "    }\n",
       "\n",
       "    .dataframe thead th {\n",
       "        text-align: right;\n",
       "    }\n",
       "</style>\n",
       "<table border=\"1\" class=\"dataframe\">\n",
       "  <thead>\n",
       "    <tr style=\"text-align: right;\">\n",
       "      <th></th>\n",
       "      <th>Age</th>\n",
       "      <th>RestingBP</th>\n",
       "      <th>Cholesterol</th>\n",
       "      <th>FastingBS</th>\n",
       "      <th>MaxHR</th>\n",
       "      <th>Oldpeak</th>\n",
       "      <th>HeartDisease</th>\n",
       "    </tr>\n",
       "  </thead>\n",
       "  <tbody>\n",
       "    <tr>\n",
       "      <th>count</th>\n",
       "      <td>918.000000</td>\n",
       "      <td>918.000000</td>\n",
       "      <td>918.000000</td>\n",
       "      <td>918.000000</td>\n",
       "      <td>918.000000</td>\n",
       "      <td>918.000000</td>\n",
       "      <td>918.000000</td>\n",
       "    </tr>\n",
       "    <tr>\n",
       "      <th>mean</th>\n",
       "      <td>53.510893</td>\n",
       "      <td>132.396514</td>\n",
       "      <td>198.799564</td>\n",
       "      <td>0.233115</td>\n",
       "      <td>136.809368</td>\n",
       "      <td>0.887364</td>\n",
       "      <td>0.553377</td>\n",
       "    </tr>\n",
       "    <tr>\n",
       "      <th>std</th>\n",
       "      <td>9.432617</td>\n",
       "      <td>18.514154</td>\n",
       "      <td>109.384145</td>\n",
       "      <td>0.423046</td>\n",
       "      <td>25.460334</td>\n",
       "      <td>1.066570</td>\n",
       "      <td>0.497414</td>\n",
       "    </tr>\n",
       "    <tr>\n",
       "      <th>min</th>\n",
       "      <td>28.000000</td>\n",
       "      <td>0.000000</td>\n",
       "      <td>0.000000</td>\n",
       "      <td>0.000000</td>\n",
       "      <td>60.000000</td>\n",
       "      <td>-2.600000</td>\n",
       "      <td>0.000000</td>\n",
       "    </tr>\n",
       "    <tr>\n",
       "      <th>25%</th>\n",
       "      <td>47.000000</td>\n",
       "      <td>120.000000</td>\n",
       "      <td>173.250000</td>\n",
       "      <td>0.000000</td>\n",
       "      <td>120.000000</td>\n",
       "      <td>0.000000</td>\n",
       "      <td>0.000000</td>\n",
       "    </tr>\n",
       "    <tr>\n",
       "      <th>50%</th>\n",
       "      <td>54.000000</td>\n",
       "      <td>130.000000</td>\n",
       "      <td>223.000000</td>\n",
       "      <td>0.000000</td>\n",
       "      <td>138.000000</td>\n",
       "      <td>0.600000</td>\n",
       "      <td>1.000000</td>\n",
       "    </tr>\n",
       "    <tr>\n",
       "      <th>75%</th>\n",
       "      <td>60.000000</td>\n",
       "      <td>140.000000</td>\n",
       "      <td>267.000000</td>\n",
       "      <td>0.000000</td>\n",
       "      <td>156.000000</td>\n",
       "      <td>1.500000</td>\n",
       "      <td>1.000000</td>\n",
       "    </tr>\n",
       "    <tr>\n",
       "      <th>max</th>\n",
       "      <td>77.000000</td>\n",
       "      <td>200.000000</td>\n",
       "      <td>603.000000</td>\n",
       "      <td>1.000000</td>\n",
       "      <td>202.000000</td>\n",
       "      <td>6.200000</td>\n",
       "      <td>1.000000</td>\n",
       "    </tr>\n",
       "  </tbody>\n",
       "</table>\n",
       "</div>"
      ],
      "text/plain": [
       "              Age   RestingBP  Cholesterol   FastingBS       MaxHR  \\\n",
       "count  918.000000  918.000000   918.000000  918.000000  918.000000   \n",
       "mean    53.510893  132.396514   198.799564    0.233115  136.809368   \n",
       "std      9.432617   18.514154   109.384145    0.423046   25.460334   \n",
       "min     28.000000    0.000000     0.000000    0.000000   60.000000   \n",
       "25%     47.000000  120.000000   173.250000    0.000000  120.000000   \n",
       "50%     54.000000  130.000000   223.000000    0.000000  138.000000   \n",
       "75%     60.000000  140.000000   267.000000    0.000000  156.000000   \n",
       "max     77.000000  200.000000   603.000000    1.000000  202.000000   \n",
       "\n",
       "          Oldpeak  HeartDisease  \n",
       "count  918.000000    918.000000  \n",
       "mean     0.887364      0.553377  \n",
       "std      1.066570      0.497414  \n",
       "min     -2.600000      0.000000  \n",
       "25%      0.000000      0.000000  \n",
       "50%      0.600000      1.000000  \n",
       "75%      1.500000      1.000000  \n",
       "max      6.200000      1.000000  "
      ]
     },
     "execution_count": 5,
     "metadata": {},
     "output_type": "execute_result"
    }
   ],
   "source": [
    "df.describe()"
   ]
  },
  {
   "cell_type": "markdown",
   "id": "ae319547",
   "metadata": {},
   "source": [
    "### a) Категориальные переменные переведите в цифровые значения. Можно использовать pd.get_dummies, preprocessing.LabelEncoder. Старайтесь не использовать для этой задачи циклы."
   ]
  },
  {
   "cell_type": "code",
   "execution_count": 6,
   "id": "3887f7e5",
   "metadata": {},
   "outputs": [
    {
     "data": {
      "text/plain": [
       "((918, 15), (918,))"
      ]
     },
     "execution_count": 6,
     "metadata": {},
     "output_type": "execute_result"
    }
   ],
   "source": [
    "X = pd.get_dummies(df.drop('HeartDisease', axis=1), drop_first=True)\n",
    "y = df.HeartDisease\n",
    "X.shape, y.shape"
   ]
  },
  {
   "cell_type": "markdown",
   "id": "e37b652d",
   "metadata": {},
   "source": [
    "### b) Постройте 1-2 графика на выбор. Визуализация должна быть основана на исследуемых данных и быть полезной (из графика можно сделать вывод об особенностях датасета/класса/признака)."
   ]
  },
  {
   "cell_type": "code",
   "execution_count": 7,
   "id": "447dbc29",
   "metadata": {
    "scrolled": false
   },
   "outputs": [
    {
     "data": {
      "image/png": "[encoded data removed]",
      "text/plain": [
       "<Figure size 1080x576 with 1 Axes>"
      ]
     },
     "metadata": {
      "needs_background": "light"
     },
     "output_type": "display_data"
    }
   ],
   "source": [
    "plt.figure(figsize=(15,8))\n",
    "\n",
    "sns.histplot(data=df, x='Age', hue='HeartDisease', palette='icefire',\n",
    "            bins=len(df.Age.unique())).set(title=\"Наличие сердечных заболеваний по возрасту\")\n",
    "plt.xticks(range(25,85,5))\n",
    "plt.show()"
   ]
  },
  {
   "cell_type": "markdown",
   "id": "27e293b8",
   "metadata": {},
   "source": [
    "Мы видим, что в данных имеется зависимость наличия сердечных заболеваний от возраста. Начиная с 55 лет преобладает доля людей с сердечными заболеваниями."
   ]
  },
  {
   "cell_type": "code",
   "execution_count": 8,
   "id": "d87a8a04",
   "metadata": {
    "scrolled": false
   },
   "outputs": [
    {
     "data": {
      "image/png": "[encoded data removed]",
      "text/plain": [
       "<Figure size 720x576 with 1 Axes>"
      ]
     },
     "metadata": {
      "needs_background": "light"
     },
     "output_type": "display_data"
    }
   ],
   "source": [
    "plt.figure(figsize=(10,8))\n",
    "\n",
    "sns.histplot(data=df, x='Sex', hue='HeartDisease',\n",
    "             palette='icefire').set(title=\"Распределение наличия сердечных заболеваний по полу\")\n",
    "plt.show()"
   ]
  },
  {
   "cell_type": "markdown",
   "id": "5262654a",
   "metadata": {},
   "source": [
    "Доля мужчин с сердечными заболеваниями преобладает над здоровыми. У женщин наблюдается обратная тенденция. Так же можно заметить, что в датасете преобладают пациенты именно мужского пола."
   ]
  },
  {
   "cell_type": "markdown",
   "id": "31aef349",
   "metadata": {},
   "source": [
    "# 3. Разделите выборку на обучающее и тестовое подмножество. 80% данных оставить на обучающее множество, 20% на тестовое."
   ]
  },
  {
   "cell_type": "code",
   "execution_count": 9,
   "id": "2968a6b1",
   "metadata": {},
   "outputs": [
    {
     "data": {
      "text/plain": [
       "((734, 15), (184, 15))"
      ]
     },
     "execution_count": 9,
     "metadata": {},
     "output_type": "execute_result"
    }
   ],
   "source": [
    "X_train, X_test, y_train, y_test = train_test_split(X, y, train_size=0.8, random_state=42)\n",
    "X_train.shape, X_test.shape"
   ]
  },
  {
   "cell_type": "markdown",
   "id": "d1f2216f",
   "metadata": {},
   "source": [
    "# 4. Обучите дерево решений на обучающем множестве. Используйте следующие модели:"
   ]
  },
  {
   "cell_type": "markdown",
   "id": "82e5d22d",
   "metadata": {},
   "source": [
    "### a) [tree.DecisionTreeClassifier](https://scikit-learn.org/stable/modules/generated/sklearn.tree.DecisionTreeClassifier.html)"
   ]
  },
  {
   "cell_type": "code",
   "execution_count": 10,
   "id": "25f92cfe",
   "metadata": {},
   "outputs": [
    {
     "data": {
      "text/plain": [
       "DecisionTreeClassifier(random_state=42)"
      ]
     },
     "execution_count": 10,
     "metadata": {},
     "output_type": "execute_result"
    }
   ],
   "source": [
    "from sklearn.tree import DecisionTreeClassifier\n",
    "\n",
    "dtc = DecisionTreeClassifier(random_state=42)\n",
    "dtc.fit(X_train, y_train)"
   ]
  },
  {
   "cell_type": "markdown",
   "id": "5b33e4bc",
   "metadata": {},
   "source": [
    "### b) [ensemble.RandomForestClassifier](https://scikit-learn.org/stable/modules/generated/sklearn.ensemble.RandomForestClassifier.html)"
   ]
  },
  {
   "cell_type": "code",
   "execution_count": 11,
   "id": "de6642b9",
   "metadata": {},
   "outputs": [
    {
     "data": {
      "text/plain": [
       "RandomForestClassifier(random_state=42)"
      ]
     },
     "execution_count": 11,
     "metadata": {},
     "output_type": "execute_result"
    }
   ],
   "source": [
    "from sklearn.ensemble import RandomForestClassifier\n",
    "\n",
    "rfc = RandomForestClassifier(random_state=42)\n",
    "rfc.fit(X_train, y_train)"
   ]
  },
  {
   "cell_type": "markdown",
   "id": "e62311e8",
   "metadata": {},
   "source": [
    "# 5. Для тестового множества сделайте предсказание целевой переменной. Выведите метрики для каждой построенной модели с помощью metrics.classification_report."
   ]
  },
  {
   "cell_type": "code",
   "execution_count": 12,
   "id": "48b96bed",
   "metadata": {},
   "outputs": [
    {
     "name": "stdout",
     "output_type": "stream",
     "text": [
      "DecisionTreeClassifier\n",
      "              precision    recall  f1-score   support\n",
      "\n",
      "           0       0.78      0.81      0.79        77\n",
      "           1       0.86      0.84      0.85       107\n",
      "\n",
      "    accuracy                           0.83       184\n",
      "   macro avg       0.82      0.82      0.82       184\n",
      "weighted avg       0.83      0.83      0.83       184\n",
      "\n",
      "RandomForestClassifier\n",
      "              precision    recall  f1-score   support\n",
      "\n",
      "           0       0.85      0.86      0.85        77\n",
      "           1       0.90      0.89      0.89       107\n",
      "\n",
      "    accuracy                           0.88       184\n",
      "   macro avg       0.87      0.87      0.87       184\n",
      "weighted avg       0.88      0.88      0.88       184\n",
      "\n"
     ]
    }
   ],
   "source": [
    "from sklearn.metrics import classification_report\n",
    "\n",
    "dtc_scores = classification_report(y_test, dtc.predict(X_test), output_dict=True)\n",
    "rfc_scores = classification_report(y_test, rfc.predict(X_test), output_dict=True)\n",
    "\n",
    "print('DecisionTreeClassifier')\n",
    "print(classification_report(y_test, dtc.predict(X_test)))\n",
    "print('RandomForestClassifier')\n",
    "print(classification_report(y_test, rfc.predict(X_test)))"
   ]
  },
  {
   "cell_type": "markdown",
   "id": "ae07205e",
   "metadata": {},
   "source": [
    "Метрики для алгоритма случайного леса выше, чем для дерева решений."
   ]
  },
  {
   "cell_type": "markdown",
   "id": "27bfe768",
   "metadata": {},
   "source": [
    "# 6. Выведите важность признаков, полученную после обучения модели из п. 4b в виде столбчатой диаграммы. Отсортируйте важность по убыванию."
   ]
  },
  {
   "cell_type": "code",
   "execution_count": 13,
   "id": "2a3b3694",
   "metadata": {},
   "outputs": [
    {
     "data": {
      "text/plain": [
       "Age                  0.088802\n",
       "RestingBP            0.071584\n",
       "Cholesterol          0.103851\n",
       "FastingBS            0.022405\n",
       "MaxHR                0.117511\n",
       "Oldpeak              0.112069\n",
       "Sex_M                0.036660\n",
       "ChestPainType_ATA    0.033246\n",
       "ChestPainType_NAP    0.023194\n",
       "ChestPainType_TA     0.006949\n",
       "RestingECG_Normal    0.015478\n",
       "RestingECG_ST        0.009124\n",
       "ExerciseAngina_Y     0.101613\n",
       "ST_Slope_Flat        0.108416\n",
       "ST_Slope_Up          0.149099\n",
       "dtype: float64"
      ]
     },
     "execution_count": 13,
     "metadata": {},
     "output_type": "execute_result"
    }
   ],
   "source": [
    "imp = pd.Series(rfc.feature_importances_)\n",
    "imp.index = pd.Series(X_train.columns)\n",
    "imp"
   ]
  },
  {
   "cell_type": "code",
   "execution_count": 14,
   "id": "92986304",
   "metadata": {},
   "outputs": [
    {
     "data": {
      "image/png": "[encoded data removed]",
      "text/plain": [
       "<Figure size 1080x360 with 1 Axes>"
      ]
     },
     "metadata": {
      "needs_background": "light"
     },
     "output_type": "display_data"
    }
   ],
   "source": [
    "plt.figure(figsize=(15,5))\n",
    "plt.title('Top 10 feature importances', fontsize=25)\n",
    "plt.xlabel('Features', fontsize=20)\n",
    "plt.ylabel('Gini', fontsize=20)\n",
    "plt.bar(imp.sort_values(ascending=False).head(10).index, imp.sort_values(ascending=False).head(10))\n",
    "plt.show()"
   ]
  },
  {
   "cell_type": "markdown",
   "id": "5274d832",
   "metadata": {},
   "source": [
    "# 7. Обучите бэггинг над моделью из п. 4a. Используйте [ensemble.BaggingClassifier](https://scikit-learn.org/stable/modules/generated/sklearn.ensemble.BaggingClassifier.html)."
   ]
  },
  {
   "cell_type": "code",
   "execution_count": 15,
   "id": "61131f22",
   "metadata": {},
   "outputs": [
    {
     "data": {
      "text/plain": [
       "BaggingClassifier(base_estimator=DecisionTreeClassifier(), random_state=42)"
      ]
     },
     "execution_count": 15,
     "metadata": {},
     "output_type": "execute_result"
    }
   ],
   "source": [
    "from sklearn.ensemble import BaggingClassifier\n",
    "\n",
    "bagging = BaggingClassifier(DecisionTreeClassifier(),\n",
    "                           random_state=42)\n",
    "bagging.fit(X_train, y_train)"
   ]
  },
  {
   "cell_type": "markdown",
   "id": "665d448a",
   "metadata": {},
   "source": [
    "### a) Повторите п. 5"
   ]
  },
  {
   "cell_type": "code",
   "execution_count": 16,
   "id": "5716cb08",
   "metadata": {},
   "outputs": [
    {
     "name": "stdout",
     "output_type": "stream",
     "text": [
      "BaggingClassifier\n",
      "              precision    recall  f1-score   support\n",
      "\n",
      "           0       0.72      0.84      0.78        77\n",
      "           1       0.87      0.77      0.82       107\n",
      "\n",
      "    accuracy                           0.80       184\n",
      "   macro avg       0.80      0.81      0.80       184\n",
      "weighted avg       0.81      0.80      0.80       184\n",
      "\n"
     ]
    }
   ],
   "source": [
    "bagging_scores = classification_report(y_test, bagging.predict(X_test), output_dict=True)\n",
    "\n",
    "print('BaggingClassifier')\n",
    "print(classification_report(y_test, bagging.predict(X_test)))"
   ]
  },
  {
   "cell_type": "markdown",
   "id": "12befc6f",
   "metadata": {},
   "source": [
    "# 8. Обучите стекинг трех моделей: из п. 4a, п. 4b и [svm.LinearSVC](https://scikit-learn.org/stable/modules/generated/sklearn.svm.LinearSVC.html). Используйте [ensemble.StackingClassifier](https://scikit-learn.org/stable/modules/generated/sklearn.ensemble.StackingClassifier.html)."
   ]
  },
  {
   "cell_type": "code",
   "execution_count": 17,
   "id": "0128df10",
   "metadata": {},
   "outputs": [
    {
     "data": {
      "text/plain": [
       "StackingClassifier(estimators=[('DecisionTreeClassifier',\n",
       "                                DecisionTreeClassifier(random_state=42)),\n",
       "                               ('RandomForestClassifier',\n",
       "                                RandomForestClassifier(random_state=42)),\n",
       "                               ('LinearSVC', LinearSVC(random_state=42))])"
      ]
     },
     "execution_count": 17,
     "metadata": {},
     "output_type": "execute_result"
    }
   ],
   "source": [
    "from sklearn.ensemble import StackingClassifier\n",
    "from sklearn.svm import LinearSVC\n",
    "from sklearn.linear_model import LogisticRegression\n",
    "\n",
    "st_c = StackingClassifier([('DecisionTreeClassifier', DecisionTreeClassifier(random_state=42)),\n",
    "                            ('RandomForestClassifier', RandomForestClassifier(random_state=42)),\n",
    "                            ('LinearSVC', LinearSVC(random_state=42))])\n",
    "st_c.fit(X_train, y_train)"
   ]
  },
  {
   "cell_type": "markdown",
   "id": "40bafa93",
   "metadata": {},
   "source": [
    "### a) Повторите п. 5"
   ]
  },
  {
   "cell_type": "code",
   "execution_count": 18,
   "id": "defafd20",
   "metadata": {
    "scrolled": true
   },
   "outputs": [
    {
     "name": "stdout",
     "output_type": "stream",
     "text": [
      "StackingClassifier\n",
      "              precision    recall  f1-score   support\n",
      "\n",
      "           0       0.81      0.86      0.84        77\n",
      "           1       0.89      0.86      0.88       107\n",
      "\n",
      "    accuracy                           0.86       184\n",
      "   macro avg       0.85      0.86      0.86       184\n",
      "weighted avg       0.86      0.86      0.86       184\n",
      "\n"
     ]
    }
   ],
   "source": [
    "stacking_scores = classification_report(y_test, st_c.predict(X_test), output_dict=True)\n",
    "\n",
    "print('StackingClassifier')\n",
    "print(classification_report(y_test, st_c.predict(X_test)))"
   ]
  },
  {
   "cell_type": "markdown",
   "id": "d66f9c02",
   "metadata": {},
   "source": [
    "# 9. Сформулируйте выводы по проделанной работе."
   ]
  },
  {
   "cell_type": "markdown",
   "id": "ecc7f77a",
   "metadata": {},
   "source": [
    "### a) Сравните метрики построенных моделей."
   ]
  },
  {
   "cell_type": "code",
   "execution_count": 19,
   "id": "5b60e9ab",
   "metadata": {},
   "outputs": [
    {
     "data": {
      "text/html": [
       "<div>\n",
       "<style scoped>\n",
       "    .dataframe tbody tr th:only-of-type {\n",
       "        vertical-align: middle;\n",
       "    }\n",
       "\n",
       "    .dataframe tbody tr th {\n",
       "        vertical-align: top;\n",
       "    }\n",
       "\n",
       "    .dataframe thead th {\n",
       "        text-align: right;\n",
       "    }\n",
       "</style>\n",
       "<table border=\"1\" class=\"dataframe\">\n",
       "  <thead>\n",
       "    <tr style=\"text-align: right;\">\n",
       "      <th></th>\n",
       "      <th>Precision weighted avg</th>\n",
       "      <th>Recall weighted avg</th>\n",
       "      <th>F1-score weighted avg</th>\n",
       "    </tr>\n",
       "  </thead>\n",
       "  <tbody>\n",
       "    <tr>\n",
       "      <th>BaggingClassifier</th>\n",
       "      <td>0.809519</td>\n",
       "      <td>0.798913</td>\n",
       "      <td>0.800237</td>\n",
       "    </tr>\n",
       "    <tr>\n",
       "      <th>DecisionTreeClassifier</th>\n",
       "      <td>0.826873</td>\n",
       "      <td>0.826087</td>\n",
       "      <td>0.826381</td>\n",
       "    </tr>\n",
       "    <tr>\n",
       "      <th>StackingClassifier</th>\n",
       "      <td>0.860400</td>\n",
       "      <td>0.858696</td>\n",
       "      <td>0.859139</td>\n",
       "    </tr>\n",
       "    <tr>\n",
       "      <th>RandomForestClassifier</th>\n",
       "      <td>0.875272</td>\n",
       "      <td>0.875000</td>\n",
       "      <td>0.875110</td>\n",
       "    </tr>\n",
       "  </tbody>\n",
       "</table>\n",
       "</div>"
      ],
      "text/plain": [
       "                        Precision weighted avg  Recall weighted avg  \\\n",
       "BaggingClassifier                     0.809519             0.798913   \n",
       "DecisionTreeClassifier                0.826873             0.826087   \n",
       "StackingClassifier                    0.860400             0.858696   \n",
       "RandomForestClassifier                0.875272             0.875000   \n",
       "\n",
       "                        F1-score weighted avg  \n",
       "BaggingClassifier                    0.800237  \n",
       "DecisionTreeClassifier               0.826381  \n",
       "StackingClassifier                   0.859139  \n",
       "RandomForestClassifier               0.875110  "
      ]
     },
     "execution_count": 19,
     "metadata": {},
     "output_type": "execute_result"
    }
   ],
   "source": [
    "pd.DataFrame({'Precision weighted avg': [dtc_scores['weighted avg']['precision'], rfc_scores['weighted avg']['precision'],\n",
    "                          bagging_scores['weighted avg']['precision'], stacking_scores['weighted avg']['precision']],\n",
    "             'Recall weighted avg': [dtc_scores['weighted avg']['recall'], rfc_scores['weighted avg']['recall'],\n",
    "                          bagging_scores['weighted avg']['recall'], stacking_scores['weighted avg']['recall']],\n",
    "             'F1-score weighted avg': [dtc_scores['weighted avg']['f1-score'], rfc_scores['weighted avg']['f1-score'],\n",
    "                          bagging_scores['weighted avg']['f1-score'], stacking_scores['weighted avg']['f1-score']]},\n",
    "            index=['DecisionTreeClassifier', 'RandomForestClassifier',\n",
    "                        'BaggingClassifier', 'StackingClassifier']).sort_values('Precision weighted avg')"
   ]
  },
  {
   "cell_type": "markdown",
   "id": "9152bd5f",
   "metadata": {},
   "source": [
    "### b) Напишите свое мнение, какая модель наилучшая и почему."
   ]
  },
  {
   "cell_type": "markdown",
   "id": "8bb02188",
   "metadata": {},
   "source": [
    "Каждая из этих моделей имеет свои преимущества и недостатки, и выбор наилучшей модели зависит от конкретной задачи, данных и других факторов.\n",
    "\n",
    "*DecisionTreeClassifier* может быть хорошим выбором, если данные имеют явную структуру и легко интерпретируемы. Однако, если дерево решений слишком глубокое, это может привести к переобучению модели.\n",
    "\n",
    "*RandomForestClassifier* обычно работает хорошо для многоклассовой классификации и в задачах, где данные содержат много шума и выбросов. Он также имеет функцию важности функций, которая позволяет определить, какие признаки наиболее важны для классификации.\n",
    "\n",
    "*BaggingClassifier* также может быть полезным, если данные содержат шум или выбросы, и он может улучшить производительность модели путем уменьшения дисперсии.\n",
    "\n",
    "*StackingClassifier* может быть хорошим выбором, если есть несколько моделей, которые хорошо работают на данных, и нужно объединить их для улучшения качества прогнозирования.\n",
    "\n",
    "На текущем датасете, с учетом параметров моделей по умолчанию, лучшие метрики показала модель случайного леса."
   ]
  }
 ],
 "metadata": {
  "kernelspec": {
   "display_name": "Python 3 (ipykernel)",
   "language": "python",
   "name": "python3"
  },
  "language_info": {
   "codemirror_mode": {
    "name": "ipython",
    "version": 3
   },
   "file_extension": ".py",
   "mimetype": "text/x-python",
   "name": "python",
   "nbconvert_exporter": "python",
   "pygments_lexer": "ipython3",
   "version": "3.9.12"
  }
 },
 "nbformat": 4,
 "nbformat_minor": 5
}

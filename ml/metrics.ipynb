{
 "cells": [
  {
   "cell_type": "markdown",
   "id": "52f9a0cc",
   "metadata": {},
   "source": [
    "**Задание**\n",
    "\n",
    "**Цель:** закрепить знания о математическом смысле метрик TPR, FPR. Изучить построение ROC-кривой, графика Precision-Recall.\n",
    "\n",
    "**Описание задания:**\n",
    "Решить задачу классификации при помощи обучения модели логистической регрессии. Качество модели оценивается путем подсчета метрик TPR, FPR и построения графиков ROC-кривой, Precision-Recall. Данные для обучения модели хранятся в файле athletes.csv, который можно найти в материалах к занятию.\n",
    "\n",
    "**Этапы работы:**\n",
    "\n",
    "1) Преобразуйте данные:\n",
    "\n",
    "    a. проверьте наличие пропущенных значений. Преобразуйте/удалите пропуски по необходимости;\n",
    "\n",
    "    b. закодируйте категориальные переменные числовыми значениями по необходимости.\n",
    "\n",
    "2) Разделите выборку на обучающее (80% данных) и тестовое (20% данных) подмножества.\n",
    "\n",
    "3) Постройте ROC-кривую с помощью функции sklearn.metrics. roc_curve.\n",
    "\n",
    "4) Вычислите значение ROC-AUC метрики с помощью функции sklearn.metrics.roc_auc_score.\n",
    "\n",
    "5) Реализуйте подсчет метрик TPR, FPR «вручную», без использования готовых функций из библиотеки sklearn.\n",
    "\n",
    "6) Постройте ROC-кривую с помощью вычисленных в п. 5 метрик: объедините графики из п. 3 и п. 6 в один. Сравните, сделайте вывод.\n",
    "\n",
    "7) Постройте график Precision-Recall, используя метрики, посчитанные в п. 5.\n",
    "\n",
    "8) Вычислите значение ROC-AUC метрики, используя метрики, посчитанные в п. 5.\n",
    "\n",
    "9) Сформулируйте выводы по проделанной работе:\n",
    "\n",
    "    a. как по полученным графикам сделать вывод о качестве модели? Как вы оцениваете обученную модель исходя из подсчитанных метрик?\n",
    "\n",
    "    b. может ли ROC-кривая проходить ниже диагонали?\n",
    "\n",
    "**Результат:**\n",
    "\n",
    "* проведена оценка качества модели классификации;\n",
    "\n",
    "* реализован подсчет «вручную» основных метрик, проведено сравнение полученных результатов с готовыми функциями из библиотеки sklearn.\n",
    "\n",
    "**Форма выполнения:**\n",
    "\n",
    "* ссылка на Jupyter Notebook, загруженный на GitHub;\n",
    "* ссылка на Google Colab;\n",
    "* файл с расширением .ipynb.\n",
    "\n",
    "**Инструменты:**\n",
    "\n",
    "* Jupyter Notebook/Google Colab\n",
    "* GitHub\n",
    "* файл athletes.csv\n",
    "\n",
    "**Срок выполнения:** дедлайн приема решений на проверку\n",
    "\n",
    "**Рекомендации к выполнению:**\n",
    "* Убедитесь, что на графике ROC-кривой присутствует диагональная линия, начинающаяся в точке (0;0) и заканчивающаяся в точке (1;1).\n",
    "* Текст оформляйте в отдельной ячейке Jupyter Notebook/Google Colab в формате markdown.\n",
    "* У графиков должен быть заголовок, подписи осей, легенда (опционально). Делайте графики бОльшего размера, чем стандартный вывод, чтобы увеличить читаемость.\n",
    "* Убедитесь, что по ссылкам есть доступ на чтение/просмотр.\n",
    "* Убедитесь, что все ячейки в работе выполнены и можно увидеть их вывод без повторного запуска."
   ]
  },
  {
   "cell_type": "code",
   "execution_count": 1,
   "id": "76c4131c",
   "metadata": {},
   "outputs": [],
   "source": [
    "import pandas as pd\n",
    "import numpy as np\n",
    "import matplotlib.pyplot as plt"
   ]
  },
  {
   "cell_type": "markdown",
   "id": "3f251542",
   "metadata": {},
   "source": [
    "# 1. Загрузка и предобработка данных."
   ]
  },
  {
   "cell_type": "markdown",
   "id": "34fa89c6",
   "metadata": {},
   "source": [
    "### 1) Загрузка данных и проверка на наличие пропусков."
   ]
  },
  {
   "cell_type": "code",
   "execution_count": 2,
   "id": "e1f08d42",
   "metadata": {
    "scrolled": true
   },
   "outputs": [
    {
     "data": {
      "text/html": [
       "<div>\n",
       "<style scoped>\n",
       "    .dataframe tbody tr th:only-of-type {\n",
       "        vertical-align: middle;\n",
       "    }\n",
       "\n",
       "    .dataframe tbody tr th {\n",
       "        vertical-align: top;\n",
       "    }\n",
       "\n",
       "    .dataframe thead th {\n",
       "        text-align: right;\n",
       "    }\n",
       "</style>\n",
       "<table border=\"1\" class=\"dataframe\">\n",
       "  <thead>\n",
       "    <tr style=\"text-align: right;\">\n",
       "      <th></th>\n",
       "      <th>id</th>\n",
       "      <th>name</th>\n",
       "      <th>nationality</th>\n",
       "      <th>sex</th>\n",
       "      <th>dob</th>\n",
       "      <th>height</th>\n",
       "      <th>weight</th>\n",
       "      <th>sport</th>\n",
       "      <th>gold</th>\n",
       "      <th>silver</th>\n",
       "      <th>bronze</th>\n",
       "    </tr>\n",
       "  </thead>\n",
       "  <tbody>\n",
       "    <tr>\n",
       "      <th>0</th>\n",
       "      <td>736041664</td>\n",
       "      <td>A Jesus Garcia</td>\n",
       "      <td>ESP</td>\n",
       "      <td>male</td>\n",
       "      <td>10/17/69</td>\n",
       "      <td>1.72</td>\n",
       "      <td>64.0</td>\n",
       "      <td>athletics</td>\n",
       "      <td>0</td>\n",
       "      <td>0</td>\n",
       "      <td>0</td>\n",
       "    </tr>\n",
       "    <tr>\n",
       "      <th>1</th>\n",
       "      <td>532037425</td>\n",
       "      <td>A Lam Shin</td>\n",
       "      <td>KOR</td>\n",
       "      <td>female</td>\n",
       "      <td>9/23/86</td>\n",
       "      <td>1.68</td>\n",
       "      <td>56.0</td>\n",
       "      <td>fencing</td>\n",
       "      <td>0</td>\n",
       "      <td>0</td>\n",
       "      <td>0</td>\n",
       "    </tr>\n",
       "    <tr>\n",
       "      <th>2</th>\n",
       "      <td>435962603</td>\n",
       "      <td>Aaron Brown</td>\n",
       "      <td>CAN</td>\n",
       "      <td>male</td>\n",
       "      <td>5/27/92</td>\n",
       "      <td>1.98</td>\n",
       "      <td>79.0</td>\n",
       "      <td>athletics</td>\n",
       "      <td>0</td>\n",
       "      <td>0</td>\n",
       "      <td>1</td>\n",
       "    </tr>\n",
       "    <tr>\n",
       "      <th>3</th>\n",
       "      <td>521041435</td>\n",
       "      <td>Aaron Cook</td>\n",
       "      <td>MDA</td>\n",
       "      <td>male</td>\n",
       "      <td>1/2/91</td>\n",
       "      <td>1.83</td>\n",
       "      <td>80.0</td>\n",
       "      <td>taekwondo</td>\n",
       "      <td>0</td>\n",
       "      <td>0</td>\n",
       "      <td>0</td>\n",
       "    </tr>\n",
       "    <tr>\n",
       "      <th>4</th>\n",
       "      <td>33922579</td>\n",
       "      <td>Aaron Gate</td>\n",
       "      <td>NZL</td>\n",
       "      <td>male</td>\n",
       "      <td>11/26/90</td>\n",
       "      <td>1.81</td>\n",
       "      <td>71.0</td>\n",
       "      <td>cycling</td>\n",
       "      <td>0</td>\n",
       "      <td>0</td>\n",
       "      <td>0</td>\n",
       "    </tr>\n",
       "  </tbody>\n",
       "</table>\n",
       "</div>"
      ],
      "text/plain": [
       "          id            name nationality     sex       dob  height  weight  \\\n",
       "0  736041664  A Jesus Garcia         ESP    male  10/17/69    1.72    64.0   \n",
       "1  532037425      A Lam Shin         KOR  female   9/23/86    1.68    56.0   \n",
       "2  435962603     Aaron Brown         CAN    male   5/27/92    1.98    79.0   \n",
       "3  521041435      Aaron Cook         MDA    male    1/2/91    1.83    80.0   \n",
       "4   33922579      Aaron Gate         NZL    male  11/26/90    1.81    71.0   \n",
       "\n",
       "       sport  gold  silver  bronze  \n",
       "0  athletics     0       0       0  \n",
       "1    fencing     0       0       0  \n",
       "2  athletics     0       0       1  \n",
       "3  taekwondo     0       0       0  \n",
       "4    cycling     0       0       0  "
      ]
     },
     "execution_count": 2,
     "metadata": {},
     "output_type": "execute_result"
    }
   ],
   "source": [
    "df = pd.read_csv('Data/athletes.csv')\n",
    "df.head()"
   ]
  },
  {
   "cell_type": "code",
   "execution_count": 3,
   "id": "2210789b",
   "metadata": {
    "scrolled": true
   },
   "outputs": [
    {
     "data": {
      "text/html": [
       "<div>\n",
       "<style scoped>\n",
       "    .dataframe tbody tr th:only-of-type {\n",
       "        vertical-align: middle;\n",
       "    }\n",
       "\n",
       "    .dataframe tbody tr th {\n",
       "        vertical-align: top;\n",
       "    }\n",
       "\n",
       "    .dataframe thead th {\n",
       "        text-align: right;\n",
       "    }\n",
       "</style>\n",
       "<table border=\"1\" class=\"dataframe\">\n",
       "  <thead>\n",
       "    <tr style=\"text-align: right;\">\n",
       "      <th></th>\n",
       "      <th>id</th>\n",
       "      <th>name</th>\n",
       "      <th>nationality</th>\n",
       "      <th>sex</th>\n",
       "      <th>dob</th>\n",
       "      <th>height</th>\n",
       "      <th>weight</th>\n",
       "      <th>sport</th>\n",
       "      <th>gold</th>\n",
       "      <th>silver</th>\n",
       "      <th>bronze</th>\n",
       "    </tr>\n",
       "  </thead>\n",
       "  <tbody>\n",
       "    <tr>\n",
       "      <th>count</th>\n",
       "      <td>1.153800e+04</td>\n",
       "      <td>11538</td>\n",
       "      <td>11538</td>\n",
       "      <td>11538</td>\n",
       "      <td>11537</td>\n",
       "      <td>11208.000000</td>\n",
       "      <td>10879.000000</td>\n",
       "      <td>11538</td>\n",
       "      <td>11538.000000</td>\n",
       "      <td>11538.000000</td>\n",
       "      <td>11538.000000</td>\n",
       "    </tr>\n",
       "    <tr>\n",
       "      <th>unique</th>\n",
       "      <td>NaN</td>\n",
       "      <td>11517</td>\n",
       "      <td>207</td>\n",
       "      <td>2</td>\n",
       "      <td>5595</td>\n",
       "      <td>NaN</td>\n",
       "      <td>NaN</td>\n",
       "      <td>28</td>\n",
       "      <td>NaN</td>\n",
       "      <td>NaN</td>\n",
       "      <td>NaN</td>\n",
       "    </tr>\n",
       "    <tr>\n",
       "      <th>top</th>\n",
       "      <td>NaN</td>\n",
       "      <td>Ahmed Mohamed</td>\n",
       "      <td>USA</td>\n",
       "      <td>male</td>\n",
       "      <td>2/18/93</td>\n",
       "      <td>NaN</td>\n",
       "      <td>NaN</td>\n",
       "      <td>athletics</td>\n",
       "      <td>NaN</td>\n",
       "      <td>NaN</td>\n",
       "      <td>NaN</td>\n",
       "    </tr>\n",
       "    <tr>\n",
       "      <th>freq</th>\n",
       "      <td>NaN</td>\n",
       "      <td>2</td>\n",
       "      <td>567</td>\n",
       "      <td>6333</td>\n",
       "      <td>9</td>\n",
       "      <td>NaN</td>\n",
       "      <td>NaN</td>\n",
       "      <td>2363</td>\n",
       "      <td>NaN</td>\n",
       "      <td>NaN</td>\n",
       "      <td>NaN</td>\n",
       "    </tr>\n",
       "    <tr>\n",
       "      <th>mean</th>\n",
       "      <td>4.999885e+08</td>\n",
       "      <td>NaN</td>\n",
       "      <td>NaN</td>\n",
       "      <td>NaN</td>\n",
       "      <td>NaN</td>\n",
       "      <td>1.766282</td>\n",
       "      <td>72.068205</td>\n",
       "      <td>NaN</td>\n",
       "      <td>0.057722</td>\n",
       "      <td>0.056769</td>\n",
       "      <td>0.061016</td>\n",
       "    </tr>\n",
       "    <tr>\n",
       "      <th>std</th>\n",
       "      <td>2.908648e+08</td>\n",
       "      <td>NaN</td>\n",
       "      <td>NaN</td>\n",
       "      <td>NaN</td>\n",
       "      <td>NaN</td>\n",
       "      <td>0.112719</td>\n",
       "      <td>16.177334</td>\n",
       "      <td>NaN</td>\n",
       "      <td>0.255910</td>\n",
       "      <td>0.239147</td>\n",
       "      <td>0.243320</td>\n",
       "    </tr>\n",
       "    <tr>\n",
       "      <th>min</th>\n",
       "      <td>1.834700e+04</td>\n",
       "      <td>NaN</td>\n",
       "      <td>NaN</td>\n",
       "      <td>NaN</td>\n",
       "      <td>NaN</td>\n",
       "      <td>1.210000</td>\n",
       "      <td>31.000000</td>\n",
       "      <td>NaN</td>\n",
       "      <td>0.000000</td>\n",
       "      <td>0.000000</td>\n",
       "      <td>0.000000</td>\n",
       "    </tr>\n",
       "    <tr>\n",
       "      <th>25%</th>\n",
       "      <td>2.450997e+08</td>\n",
       "      <td>NaN</td>\n",
       "      <td>NaN</td>\n",
       "      <td>NaN</td>\n",
       "      <td>NaN</td>\n",
       "      <td>1.690000</td>\n",
       "      <td>60.000000</td>\n",
       "      <td>NaN</td>\n",
       "      <td>0.000000</td>\n",
       "      <td>0.000000</td>\n",
       "      <td>0.000000</td>\n",
       "    </tr>\n",
       "    <tr>\n",
       "      <th>50%</th>\n",
       "      <td>5.002011e+08</td>\n",
       "      <td>NaN</td>\n",
       "      <td>NaN</td>\n",
       "      <td>NaN</td>\n",
       "      <td>NaN</td>\n",
       "      <td>1.760000</td>\n",
       "      <td>70.000000</td>\n",
       "      <td>NaN</td>\n",
       "      <td>0.000000</td>\n",
       "      <td>0.000000</td>\n",
       "      <td>0.000000</td>\n",
       "    </tr>\n",
       "    <tr>\n",
       "      <th>75%</th>\n",
       "      <td>7.539874e+08</td>\n",
       "      <td>NaN</td>\n",
       "      <td>NaN</td>\n",
       "      <td>NaN</td>\n",
       "      <td>NaN</td>\n",
       "      <td>1.840000</td>\n",
       "      <td>81.000000</td>\n",
       "      <td>NaN</td>\n",
       "      <td>0.000000</td>\n",
       "      <td>0.000000</td>\n",
       "      <td>0.000000</td>\n",
       "    </tr>\n",
       "    <tr>\n",
       "      <th>max</th>\n",
       "      <td>9.999878e+08</td>\n",
       "      <td>NaN</td>\n",
       "      <td>NaN</td>\n",
       "      <td>NaN</td>\n",
       "      <td>NaN</td>\n",
       "      <td>2.210000</td>\n",
       "      <td>170.000000</td>\n",
       "      <td>NaN</td>\n",
       "      <td>5.000000</td>\n",
       "      <td>2.000000</td>\n",
       "      <td>2.000000</td>\n",
       "    </tr>\n",
       "  </tbody>\n",
       "</table>\n",
       "</div>"
      ],
      "text/plain": [
       "                  id           name nationality    sex      dob        height  \\\n",
       "count   1.153800e+04          11538       11538  11538    11537  11208.000000   \n",
       "unique           NaN          11517         207      2     5595           NaN   \n",
       "top              NaN  Ahmed Mohamed         USA   male  2/18/93           NaN   \n",
       "freq             NaN              2         567   6333        9           NaN   \n",
       "mean    4.999885e+08            NaN         NaN    NaN      NaN      1.766282   \n",
       "std     2.908648e+08            NaN         NaN    NaN      NaN      0.112719   \n",
       "min     1.834700e+04            NaN         NaN    NaN      NaN      1.210000   \n",
       "25%     2.450997e+08            NaN         NaN    NaN      NaN      1.690000   \n",
       "50%     5.002011e+08            NaN         NaN    NaN      NaN      1.760000   \n",
       "75%     7.539874e+08            NaN         NaN    NaN      NaN      1.840000   \n",
       "max     9.999878e+08            NaN         NaN    NaN      NaN      2.210000   \n",
       "\n",
       "              weight      sport          gold        silver        bronze  \n",
       "count   10879.000000      11538  11538.000000  11538.000000  11538.000000  \n",
       "unique           NaN         28           NaN           NaN           NaN  \n",
       "top              NaN  athletics           NaN           NaN           NaN  \n",
       "freq             NaN       2363           NaN           NaN           NaN  \n",
       "mean       72.068205        NaN      0.057722      0.056769      0.061016  \n",
       "std        16.177334        NaN      0.255910      0.239147      0.243320  \n",
       "min        31.000000        NaN      0.000000      0.000000      0.000000  \n",
       "25%        60.000000        NaN      0.000000      0.000000      0.000000  \n",
       "50%        70.000000        NaN      0.000000      0.000000      0.000000  \n",
       "75%        81.000000        NaN      0.000000      0.000000      0.000000  \n",
       "max       170.000000        NaN      5.000000      2.000000      2.000000  "
      ]
     },
     "execution_count": 3,
     "metadata": {},
     "output_type": "execute_result"
    }
   ],
   "source": [
    "df.describe(include='all')"
   ]
  },
  {
   "cell_type": "code",
   "execution_count": 4,
   "id": "45b7a1b8",
   "metadata": {},
   "outputs": [
    {
     "name": "stdout",
     "output_type": "stream",
     "text": [
      "<class 'pandas.core.frame.DataFrame'>\n",
      "RangeIndex: 11538 entries, 0 to 11537\n",
      "Data columns (total 11 columns):\n",
      " #   Column       Non-Null Count  Dtype  \n",
      "---  ------       --------------  -----  \n",
      " 0   id           11538 non-null  int64  \n",
      " 1   name         11538 non-null  object \n",
      " 2   nationality  11538 non-null  object \n",
      " 3   sex          11538 non-null  object \n",
      " 4   dob          11537 non-null  object \n",
      " 5   height       11208 non-null  float64\n",
      " 6   weight       10879 non-null  float64\n",
      " 7   sport        11538 non-null  object \n",
      " 8   gold         11538 non-null  int64  \n",
      " 9   silver       11538 non-null  int64  \n",
      " 10  bronze       11538 non-null  int64  \n",
      "dtypes: float64(2), int64(4), object(5)\n",
      "memory usage: 991.7+ KB\n"
     ]
    }
   ],
   "source": [
    "df.info()"
   ]
  },
  {
   "cell_type": "code",
   "execution_count": 5,
   "id": "196afebd",
   "metadata": {},
   "outputs": [
    {
     "data": {
      "text/html": [
       "<div>\n",
       "<style scoped>\n",
       "    .dataframe tbody tr th:only-of-type {\n",
       "        vertical-align: middle;\n",
       "    }\n",
       "\n",
       "    .dataframe tbody tr th {\n",
       "        vertical-align: top;\n",
       "    }\n",
       "\n",
       "    .dataframe thead th {\n",
       "        text-align: right;\n",
       "    }\n",
       "</style>\n",
       "<table border=\"1\" class=\"dataframe\">\n",
       "  <thead>\n",
       "    <tr style=\"text-align: right;\">\n",
       "      <th></th>\n",
       "      <th>id</th>\n",
       "      <th>name</th>\n",
       "      <th>nationality</th>\n",
       "      <th>sex</th>\n",
       "      <th>dob</th>\n",
       "      <th>height</th>\n",
       "      <th>weight</th>\n",
       "      <th>sport</th>\n",
       "      <th>gold</th>\n",
       "      <th>silver</th>\n",
       "      <th>bronze</th>\n",
       "    </tr>\n",
       "  </thead>\n",
       "  <tbody>\n",
       "    <tr>\n",
       "      <th>8546</th>\n",
       "      <td>663676373</td>\n",
       "      <td>Pavel Sozykin</td>\n",
       "      <td>RUS</td>\n",
       "      <td>male</td>\n",
       "      <td>NaN</td>\n",
       "      <td>NaN</td>\n",
       "      <td>NaN</td>\n",
       "      <td>sailing</td>\n",
       "      <td>0</td>\n",
       "      <td>0</td>\n",
       "      <td>0</td>\n",
       "    </tr>\n",
       "  </tbody>\n",
       "</table>\n",
       "</div>"
      ],
      "text/plain": [
       "             id           name nationality   sex  dob  height  weight  \\\n",
       "8546  663676373  Pavel Sozykin         RUS  male  NaN     NaN     NaN   \n",
       "\n",
       "        sport  gold  silver  bronze  \n",
       "8546  sailing     0       0       0  "
      ]
     },
     "execution_count": 5,
     "metadata": {},
     "output_type": "execute_result"
    }
   ],
   "source": [
    "df.loc[df.dob.isnull()]"
   ]
  },
  {
   "cell_type": "markdown",
   "id": "85e152fb",
   "metadata": {},
   "source": [
    "### 2) Удаление/замена пропусков."
   ]
  },
  {
   "cell_type": "markdown",
   "id": "398f056c",
   "metadata": {},
   "source": [
    "Столбцы **\"dob\"**, **\"height\"** и **\"weight\"** содержат пропуски. Удалим строку с пропущенным значением в столбце **\"dob\"**, остальные пропуски заменим средними значениями, с учетом пола спортсмена."
   ]
  },
  {
   "cell_type": "code",
   "execution_count": 6,
   "id": "2b3234b9",
   "metadata": {
    "scrolled": true
   },
   "outputs": [
    {
     "name": "stdout",
     "output_type": "stream",
     "text": [
      "<class 'pandas.core.frame.DataFrame'>\n",
      "Int64Index: 11537 entries, 0 to 11537\n",
      "Data columns (total 11 columns):\n",
      " #   Column       Non-Null Count  Dtype  \n",
      "---  ------       --------------  -----  \n",
      " 0   id           11537 non-null  int64  \n",
      " 1   name         11537 non-null  object \n",
      " 2   nationality  11537 non-null  object \n",
      " 3   sex          11537 non-null  object \n",
      " 4   dob          11537 non-null  object \n",
      " 5   height       11537 non-null  float64\n",
      " 6   weight       11537 non-null  float64\n",
      " 7   sport        11537 non-null  object \n",
      " 8   gold         11537 non-null  int64  \n",
      " 9   silver       11537 non-null  int64  \n",
      " 10  bronze       11537 non-null  int64  \n",
      "dtypes: float64(2), int64(4), object(5)\n",
      "memory usage: 1.1+ MB\n"
     ]
    }
   ],
   "source": [
    "df = df.loc[~df.dob.isnull()]\n",
    "\n",
    "mean_weight_male = df.loc[df.sex == 'male'].weight.mean()\n",
    "mean_weight_female = df.loc[df.sex == 'female'].weight.mean()\n",
    "mean_height_male = df.loc[df.sex == 'male'].height.mean()\n",
    "mean_height_female = df.loc[df.sex == 'female'].height.mean()\n",
    "\n",
    "df.loc[(df.weight.isnull()) & (df.sex == 'male'), 'weight'] = mean_weight_male\n",
    "df.loc[(df.weight.isnull()) & (df.sex == 'female'), 'weight'] = mean_weight_female\n",
    "df.loc[(df.height.isnull()) & (df.sex == 'male'), 'height'] = mean_height_male\n",
    "df.loc[(df.height.isnull()) & (df.sex == 'female'), 'height'] = mean_height_male\n",
    "\n",
    "df.info()"
   ]
  },
  {
   "cell_type": "markdown",
   "id": "d6162493",
   "metadata": {},
   "source": [
    "### 3) Замена категориальных переменных."
   ]
  },
  {
   "cell_type": "markdown",
   "id": "f25fffa4",
   "metadata": {},
   "source": [
    "В качестве целевой переменной будем рассматривать факт награждения спортсмена любой медалью. Для этого создадим новый столбец **is_awarded** и удалим столбцы **gold**, **silver** и **bronze**. Так же удалим столбец с именем спортсмена, оставив только ID."
   ]
  },
  {
   "cell_type": "code",
   "execution_count": 7,
   "id": "27d20e97",
   "metadata": {},
   "outputs": [
    {
     "data": {
      "text/html": [
       "<div>\n",
       "<style scoped>\n",
       "    .dataframe tbody tr th:only-of-type {\n",
       "        vertical-align: middle;\n",
       "    }\n",
       "\n",
       "    .dataframe tbody tr th {\n",
       "        vertical-align: top;\n",
       "    }\n",
       "\n",
       "    .dataframe thead th {\n",
       "        text-align: right;\n",
       "    }\n",
       "</style>\n",
       "<table border=\"1\" class=\"dataframe\">\n",
       "  <thead>\n",
       "    <tr style=\"text-align: right;\">\n",
       "      <th></th>\n",
       "      <th>id</th>\n",
       "      <th>nationality</th>\n",
       "      <th>sex</th>\n",
       "      <th>dob</th>\n",
       "      <th>height</th>\n",
       "      <th>weight</th>\n",
       "      <th>sport</th>\n",
       "      <th>is_awarded</th>\n",
       "    </tr>\n",
       "  </thead>\n",
       "  <tbody>\n",
       "    <tr>\n",
       "      <th>0</th>\n",
       "      <td>736041664</td>\n",
       "      <td>ESP</td>\n",
       "      <td>male</td>\n",
       "      <td>10/17/69</td>\n",
       "      <td>1.72</td>\n",
       "      <td>64.0</td>\n",
       "      <td>athletics</td>\n",
       "      <td>0</td>\n",
       "    </tr>\n",
       "    <tr>\n",
       "      <th>1</th>\n",
       "      <td>532037425</td>\n",
       "      <td>KOR</td>\n",
       "      <td>female</td>\n",
       "      <td>9/23/86</td>\n",
       "      <td>1.68</td>\n",
       "      <td>56.0</td>\n",
       "      <td>fencing</td>\n",
       "      <td>0</td>\n",
       "    </tr>\n",
       "    <tr>\n",
       "      <th>2</th>\n",
       "      <td>435962603</td>\n",
       "      <td>CAN</td>\n",
       "      <td>male</td>\n",
       "      <td>5/27/92</td>\n",
       "      <td>1.98</td>\n",
       "      <td>79.0</td>\n",
       "      <td>athletics</td>\n",
       "      <td>1</td>\n",
       "    </tr>\n",
       "    <tr>\n",
       "      <th>3</th>\n",
       "      <td>521041435</td>\n",
       "      <td>MDA</td>\n",
       "      <td>male</td>\n",
       "      <td>1/2/91</td>\n",
       "      <td>1.83</td>\n",
       "      <td>80.0</td>\n",
       "      <td>taekwondo</td>\n",
       "      <td>0</td>\n",
       "    </tr>\n",
       "    <tr>\n",
       "      <th>4</th>\n",
       "      <td>33922579</td>\n",
       "      <td>NZL</td>\n",
       "      <td>male</td>\n",
       "      <td>11/26/90</td>\n",
       "      <td>1.81</td>\n",
       "      <td>71.0</td>\n",
       "      <td>cycling</td>\n",
       "      <td>0</td>\n",
       "    </tr>\n",
       "  </tbody>\n",
       "</table>\n",
       "</div>"
      ],
      "text/plain": [
       "          id nationality     sex       dob  height  weight      sport  \\\n",
       "0  736041664         ESP    male  10/17/69    1.72    64.0  athletics   \n",
       "1  532037425         KOR  female   9/23/86    1.68    56.0    fencing   \n",
       "2  435962603         CAN    male   5/27/92    1.98    79.0  athletics   \n",
       "3  521041435         MDA    male    1/2/91    1.83    80.0  taekwondo   \n",
       "4   33922579         NZL    male  11/26/90    1.81    71.0    cycling   \n",
       "\n",
       "   is_awarded  \n",
       "0           0  \n",
       "1           0  \n",
       "2           1  \n",
       "3           0  \n",
       "4           0  "
      ]
     },
     "execution_count": 7,
     "metadata": {},
     "output_type": "execute_result"
    }
   ],
   "source": [
    "df['is_awarded'] = df[['gold', 'silver', 'bronze']].apply(lambda x: 1 if sum(x) != 0 else 0, axis=1)\n",
    "df =  df.drop(['gold', 'silver', 'bronze', 'name'], axis=1)\n",
    "df.head()"
   ]
  },
  {
   "cell_type": "markdown",
   "id": "6be51288",
   "metadata": {},
   "source": [
    "Дату рождения разобьем на три столбца **month**, **day** и **year**."
   ]
  },
  {
   "cell_type": "code",
   "execution_count": 8,
   "id": "a847f3bd",
   "metadata": {},
   "outputs": [
    {
     "data": {
      "text/html": [
       "<div>\n",
       "<style scoped>\n",
       "    .dataframe tbody tr th:only-of-type {\n",
       "        vertical-align: middle;\n",
       "    }\n",
       "\n",
       "    .dataframe tbody tr th {\n",
       "        vertical-align: top;\n",
       "    }\n",
       "\n",
       "    .dataframe thead th {\n",
       "        text-align: right;\n",
       "    }\n",
       "</style>\n",
       "<table border=\"1\" class=\"dataframe\">\n",
       "  <thead>\n",
       "    <tr style=\"text-align: right;\">\n",
       "      <th></th>\n",
       "      <th>id</th>\n",
       "      <th>nationality</th>\n",
       "      <th>sex</th>\n",
       "      <th>height</th>\n",
       "      <th>weight</th>\n",
       "      <th>sport</th>\n",
       "      <th>is_awarded</th>\n",
       "      <th>month</th>\n",
       "      <th>day</th>\n",
       "      <th>year</th>\n",
       "    </tr>\n",
       "  </thead>\n",
       "  <tbody>\n",
       "    <tr>\n",
       "      <th>0</th>\n",
       "      <td>736041664</td>\n",
       "      <td>ESP</td>\n",
       "      <td>male</td>\n",
       "      <td>1.72</td>\n",
       "      <td>64.0</td>\n",
       "      <td>athletics</td>\n",
       "      <td>0</td>\n",
       "      <td>10</td>\n",
       "      <td>17</td>\n",
       "      <td>69</td>\n",
       "    </tr>\n",
       "    <tr>\n",
       "      <th>1</th>\n",
       "      <td>532037425</td>\n",
       "      <td>KOR</td>\n",
       "      <td>female</td>\n",
       "      <td>1.68</td>\n",
       "      <td>56.0</td>\n",
       "      <td>fencing</td>\n",
       "      <td>0</td>\n",
       "      <td>9</td>\n",
       "      <td>23</td>\n",
       "      <td>86</td>\n",
       "    </tr>\n",
       "    <tr>\n",
       "      <th>2</th>\n",
       "      <td>435962603</td>\n",
       "      <td>CAN</td>\n",
       "      <td>male</td>\n",
       "      <td>1.98</td>\n",
       "      <td>79.0</td>\n",
       "      <td>athletics</td>\n",
       "      <td>1</td>\n",
       "      <td>5</td>\n",
       "      <td>27</td>\n",
       "      <td>92</td>\n",
       "    </tr>\n",
       "    <tr>\n",
       "      <th>3</th>\n",
       "      <td>521041435</td>\n",
       "      <td>MDA</td>\n",
       "      <td>male</td>\n",
       "      <td>1.83</td>\n",
       "      <td>80.0</td>\n",
       "      <td>taekwondo</td>\n",
       "      <td>0</td>\n",
       "      <td>1</td>\n",
       "      <td>2</td>\n",
       "      <td>91</td>\n",
       "    </tr>\n",
       "    <tr>\n",
       "      <th>4</th>\n",
       "      <td>33922579</td>\n",
       "      <td>NZL</td>\n",
       "      <td>male</td>\n",
       "      <td>1.81</td>\n",
       "      <td>71.0</td>\n",
       "      <td>cycling</td>\n",
       "      <td>0</td>\n",
       "      <td>11</td>\n",
       "      <td>26</td>\n",
       "      <td>90</td>\n",
       "    </tr>\n",
       "  </tbody>\n",
       "</table>\n",
       "</div>"
      ],
      "text/plain": [
       "          id nationality     sex  height  weight      sport  is_awarded month  \\\n",
       "0  736041664         ESP    male    1.72    64.0  athletics           0    10   \n",
       "1  532037425         KOR  female    1.68    56.0    fencing           0     9   \n",
       "2  435962603         CAN    male    1.98    79.0  athletics           1     5   \n",
       "3  521041435         MDA    male    1.83    80.0  taekwondo           0     1   \n",
       "4   33922579         NZL    male    1.81    71.0    cycling           0    11   \n",
       "\n",
       "  day year  \n",
       "0  17   69  \n",
       "1  23   86  \n",
       "2  27   92  \n",
       "3   2   91  \n",
       "4  26   90  "
      ]
     },
     "execution_count": 8,
     "metadata": {},
     "output_type": "execute_result"
    }
   ],
   "source": [
    "df['month'] = df['dob'].apply(lambda x: x.split('/')[0])\n",
    "df['day'] = df['dob'].apply(lambda x: x.split('/')[1])\n",
    "df['year'] = df['dob'].apply(lambda x: x.split('/')[2])\n",
    "df = df.drop('dob', axis=1)\n",
    "df.head()"
   ]
  },
  {
   "cell_type": "markdown",
   "id": "d4337b46",
   "metadata": {},
   "source": [
    "Преобразуем категориальные признаки и выделим целевое значение в отдельную переменную."
   ]
  },
  {
   "cell_type": "code",
   "execution_count": 9,
   "id": "a18b04fd",
   "metadata": {},
   "outputs": [
    {
     "data": {
      "text/html": [
       "<div>\n",
       "<style scoped>\n",
       "    .dataframe tbody tr th:only-of-type {\n",
       "        vertical-align: middle;\n",
       "    }\n",
       "\n",
       "    .dataframe tbody tr th {\n",
       "        vertical-align: top;\n",
       "    }\n",
       "\n",
       "    .dataframe thead th {\n",
       "        text-align: right;\n",
       "    }\n",
       "</style>\n",
       "<table border=\"1\" class=\"dataframe\">\n",
       "  <thead>\n",
       "    <tr style=\"text-align: right;\">\n",
       "      <th></th>\n",
       "      <th>height</th>\n",
       "      <th>weight</th>\n",
       "      <th>month</th>\n",
       "      <th>day</th>\n",
       "      <th>year</th>\n",
       "      <th>nationality_ALB</th>\n",
       "      <th>nationality_ALG</th>\n",
       "      <th>nationality_AND</th>\n",
       "      <th>nationality_ANG</th>\n",
       "      <th>nationality_ANT</th>\n",
       "      <th>...</th>\n",
       "      <th>sport_rugby sevens</th>\n",
       "      <th>sport_sailing</th>\n",
       "      <th>sport_shooting</th>\n",
       "      <th>sport_table tennis</th>\n",
       "      <th>sport_taekwondo</th>\n",
       "      <th>sport_tennis</th>\n",
       "      <th>sport_triathlon</th>\n",
       "      <th>sport_volleyball</th>\n",
       "      <th>sport_weightlifting</th>\n",
       "      <th>sport_wrestling</th>\n",
       "    </tr>\n",
       "  </thead>\n",
       "  <tbody>\n",
       "    <tr>\n",
       "      <th>0</th>\n",
       "      <td>1.72</td>\n",
       "      <td>64.0</td>\n",
       "      <td>10</td>\n",
       "      <td>17</td>\n",
       "      <td>69</td>\n",
       "      <td>0</td>\n",
       "      <td>0</td>\n",
       "      <td>0</td>\n",
       "      <td>0</td>\n",
       "      <td>0</td>\n",
       "      <td>...</td>\n",
       "      <td>0</td>\n",
       "      <td>0</td>\n",
       "      <td>0</td>\n",
       "      <td>0</td>\n",
       "      <td>0</td>\n",
       "      <td>0</td>\n",
       "      <td>0</td>\n",
       "      <td>0</td>\n",
       "      <td>0</td>\n",
       "      <td>0</td>\n",
       "    </tr>\n",
       "    <tr>\n",
       "      <th>1</th>\n",
       "      <td>1.68</td>\n",
       "      <td>56.0</td>\n",
       "      <td>9</td>\n",
       "      <td>23</td>\n",
       "      <td>86</td>\n",
       "      <td>0</td>\n",
       "      <td>0</td>\n",
       "      <td>0</td>\n",
       "      <td>0</td>\n",
       "      <td>0</td>\n",
       "      <td>...</td>\n",
       "      <td>0</td>\n",
       "      <td>0</td>\n",
       "      <td>0</td>\n",
       "      <td>0</td>\n",
       "      <td>0</td>\n",
       "      <td>0</td>\n",
       "      <td>0</td>\n",
       "      <td>0</td>\n",
       "      <td>0</td>\n",
       "      <td>0</td>\n",
       "    </tr>\n",
       "    <tr>\n",
       "      <th>2</th>\n",
       "      <td>1.98</td>\n",
       "      <td>79.0</td>\n",
       "      <td>5</td>\n",
       "      <td>27</td>\n",
       "      <td>92</td>\n",
       "      <td>0</td>\n",
       "      <td>0</td>\n",
       "      <td>0</td>\n",
       "      <td>0</td>\n",
       "      <td>0</td>\n",
       "      <td>...</td>\n",
       "      <td>0</td>\n",
       "      <td>0</td>\n",
       "      <td>0</td>\n",
       "      <td>0</td>\n",
       "      <td>0</td>\n",
       "      <td>0</td>\n",
       "      <td>0</td>\n",
       "      <td>0</td>\n",
       "      <td>0</td>\n",
       "      <td>0</td>\n",
       "    </tr>\n",
       "    <tr>\n",
       "      <th>3</th>\n",
       "      <td>1.83</td>\n",
       "      <td>80.0</td>\n",
       "      <td>1</td>\n",
       "      <td>2</td>\n",
       "      <td>91</td>\n",
       "      <td>0</td>\n",
       "      <td>0</td>\n",
       "      <td>0</td>\n",
       "      <td>0</td>\n",
       "      <td>0</td>\n",
       "      <td>...</td>\n",
       "      <td>0</td>\n",
       "      <td>0</td>\n",
       "      <td>0</td>\n",
       "      <td>0</td>\n",
       "      <td>1</td>\n",
       "      <td>0</td>\n",
       "      <td>0</td>\n",
       "      <td>0</td>\n",
       "      <td>0</td>\n",
       "      <td>0</td>\n",
       "    </tr>\n",
       "    <tr>\n",
       "      <th>4</th>\n",
       "      <td>1.81</td>\n",
       "      <td>71.0</td>\n",
       "      <td>11</td>\n",
       "      <td>26</td>\n",
       "      <td>90</td>\n",
       "      <td>0</td>\n",
       "      <td>0</td>\n",
       "      <td>0</td>\n",
       "      <td>0</td>\n",
       "      <td>0</td>\n",
       "      <td>...</td>\n",
       "      <td>0</td>\n",
       "      <td>0</td>\n",
       "      <td>0</td>\n",
       "      <td>0</td>\n",
       "      <td>0</td>\n",
       "      <td>0</td>\n",
       "      <td>0</td>\n",
       "      <td>0</td>\n",
       "      <td>0</td>\n",
       "      <td>0</td>\n",
       "    </tr>\n",
       "  </tbody>\n",
       "</table>\n",
       "<p>5 rows × 239 columns</p>\n",
       "</div>"
      ],
      "text/plain": [
       "   height  weight month day year  nationality_ALB  nationality_ALG  \\\n",
       "0    1.72    64.0    10  17   69                0                0   \n",
       "1    1.68    56.0     9  23   86                0                0   \n",
       "2    1.98    79.0     5  27   92                0                0   \n",
       "3    1.83    80.0     1   2   91                0                0   \n",
       "4    1.81    71.0    11  26   90                0                0   \n",
       "\n",
       "   nationality_AND  nationality_ANG  nationality_ANT  ...  sport_rugby sevens  \\\n",
       "0                0                0                0  ...                   0   \n",
       "1                0                0                0  ...                   0   \n",
       "2                0                0                0  ...                   0   \n",
       "3                0                0                0  ...                   0   \n",
       "4                0                0                0  ...                   0   \n",
       "\n",
       "   sport_sailing  sport_shooting  sport_table tennis  sport_taekwondo  \\\n",
       "0              0               0                   0                0   \n",
       "1              0               0                   0                0   \n",
       "2              0               0                   0                0   \n",
       "3              0               0                   0                1   \n",
       "4              0               0                   0                0   \n",
       "\n",
       "   sport_tennis  sport_triathlon  sport_volleyball  sport_weightlifting  \\\n",
       "0             0                0                 0                    0   \n",
       "1             0                0                 0                    0   \n",
       "2             0                0                 0                    0   \n",
       "3             0                0                 0                    0   \n",
       "4             0                0                 0                    0   \n",
       "\n",
       "   sport_wrestling  \n",
       "0                0  \n",
       "1                0  \n",
       "2                0  \n",
       "3                0  \n",
       "4                0  \n",
       "\n",
       "[5 rows x 239 columns]"
      ]
     },
     "execution_count": 9,
     "metadata": {},
     "output_type": "execute_result"
    }
   ],
   "source": [
    "X = pd.get_dummies(df, columns=['nationality', 'sex', 'sport'], drop_first=True).drop(['is_awarded', 'id'], axis=1)\n",
    "y = df['is_awarded']\n",
    "X.head()"
   ]
  },
  {
   "cell_type": "markdown",
   "id": "d0a48e09",
   "metadata": {},
   "source": [
    "# 2.  Разделение выборки на обучающее (80% данных) и тестовое (20% данных) подмножества."
   ]
  },
  {
   "cell_type": "code",
   "execution_count": 10,
   "id": "fec22de2",
   "metadata": {},
   "outputs": [],
   "source": [
    "from sklearn.model_selection import train_test_split\n",
    "\n",
    "X_train, X_test, y_train, y_test = train_test_split(X, y, train_size=0.8, random_state=42)"
   ]
  },
  {
   "cell_type": "markdown",
   "id": "5080a549",
   "metadata": {},
   "source": [
    "# 3. Построение ROC-кривой."
   ]
  },
  {
   "cell_type": "code",
   "execution_count": 11,
   "id": "8400b386",
   "metadata": {},
   "outputs": [],
   "source": [
    "from sklearn.linear_model import LogisticRegression\n",
    "\n",
    "model = LogisticRegression(penalty='l2', solver='lbfgs', max_iter=10000,\n",
    "                           class_weight={0: y_train.value_counts(normalize=True)[0],\n",
    "                                         1: y_train.value_counts(normalize=True)[1]}).fit(X_train, y_train)"
   ]
  },
  {
   "cell_type": "code",
   "execution_count": 12,
   "id": "4f3e6cc9",
   "metadata": {},
   "outputs": [],
   "source": [
    "def classification(predict_proba, threshold=0.5):\n",
    "\n",
    "    res = []\n",
    "    for predicted_prob in predict_proba[:, 1]:    \n",
    "        if predicted_prob >= threshold:\n",
    "            res.append(1)\n",
    "        else:\n",
    "            res.append(0)\n",
    "    return res"
   ]
  },
  {
   "cell_type": "code",
   "execution_count": 13,
   "id": "99555c47",
   "metadata": {},
   "outputs": [
    {
     "name": "stdout",
     "output_type": "stream",
     "text": [
      "              precision    recall  f1-score   support\n",
      "\n",
      "           0       0.92      0.75      0.82      1934\n",
      "           1       0.33      0.65      0.44       374\n",
      "\n",
      "    accuracy                           0.73      2308\n",
      "   macro avg       0.62      0.70      0.63      2308\n",
      "weighted avg       0.82      0.73      0.76      2308\n",
      "\n"
     ]
    }
   ],
   "source": [
    "from sklearn.metrics import classification_report\n",
    "print(classification_report( y_test, classification(model.predict_proba(X_test), threshold=0.043) ))"
   ]
  },
  {
   "cell_type": "code",
   "execution_count": 14,
   "id": "7fa4ccb3",
   "metadata": {},
   "outputs": [
    {
     "data": {
      "text/plain": [
       "array([0.0202795 , 0.06325331, 0.0718207 , ..., 0.02181018, 0.00806713,\n",
       "       0.15445369])"
      ]
     },
     "execution_count": 14,
     "metadata": {},
     "output_type": "execute_result"
    }
   ],
   "source": [
    "y_proba = model.predict_proba(X_test)[:, 1]\n",
    "y_proba"
   ]
  },
  {
   "cell_type": "code",
   "execution_count": 15,
   "id": "2ceabf55",
   "metadata": {},
   "outputs": [],
   "source": [
    "from sklearn.metrics import roc_curve\n",
    "\n",
    "# получаем значения false и true positive rate для различных значений порога\n",
    "fpr, tpr, thres = roc_curve(y_test, y_proba)"
   ]
  },
  {
   "cell_type": "code",
   "execution_count": 16,
   "id": "47844aaa",
   "metadata": {
    "scrolled": false
   },
   "outputs": [
    {
     "data": {
      "text/plain": [
       "Text(0, 0.5, 'TPR')"
      ]
     },
     "execution_count": 16,
     "metadata": {},
     "output_type": "execute_result"
    },
    {
     "data": {
      "image/png": "[encoded data removed]",
      "text/plain": [
       "<Figure size 432x288 with 1 Axes>"
      ]
     },
     "metadata": {
      "needs_background": "light"
     },
     "output_type": "display_data"
    }
   ],
   "source": [
    "fig, ax = plt.subplots()\n",
    "ax.plot(fpr, tpr)\n",
    "ax.grid()\n",
    "\n",
    "ax.set_xlabel('FPR')\n",
    "ax.set_ylabel('TPR')"
   ]
  },
  {
   "cell_type": "markdown",
   "id": "03526722",
   "metadata": {},
   "source": [
    "# 4. Вычисление значения ROC-AUC метрики"
   ]
  },
  {
   "cell_type": "code",
   "execution_count": 17,
   "id": "24fd30e6",
   "metadata": {},
   "outputs": [
    {
     "data": {
      "text/plain": [
       "0.7519631806845141"
      ]
     },
     "execution_count": 17,
     "metadata": {},
     "output_type": "execute_result"
    }
   ],
   "source": [
    "from sklearn.metrics import roc_auc_score\n",
    "roc_auc_score(y_test, y_proba)"
   ]
  },
  {
   "cell_type": "markdown",
   "id": "c6fbc590",
   "metadata": {},
   "source": [
    "# 5. Реализация подсчета метрик TPR, FPR «вручную», без использования готовых функций из библиотеки sklearn."
   ]
  },
  {
   "cell_type": "code",
   "execution_count": 19,
   "id": "f58b9814",
   "metadata": {},
   "outputs": [],
   "source": [
    "tpr_1 = []\n",
    "fpr_1 = []\n",
    "precision = []\n",
    "for i in range(1, 100):\n",
    "    thr = i/100\n",
    "    tp = 0 # True positive\n",
    "    fp = 0 # False positive\n",
    "    fn = 0 # False negative\n",
    "    tn = 0 # True negative\n",
    "\n",
    "    predicted_classes = classification(model.predict_proba(X_test), threshold=thr)\n",
    "\n",
    "    for predicted, actual in zip( predicted_classes, y_test ):    \n",
    "        if predicted == 1:\n",
    "            if actual == 1:\n",
    "                tp += 1\n",
    "            else:\n",
    "                fp += 1\n",
    "\n",
    "        else:\n",
    "            if actual == 1:\n",
    "                fn += 1\n",
    "            else:\n",
    "                tn += 1\n",
    "                \n",
    "    tpr_1.append(tp / (tp + fn + 1e-20))\n",
    "    fpr_1.append(fp / (fp + tn + 1e-20))\n",
    "    precision.append(tp / (tp + fp + 1e-20))"
   ]
  },
  {
   "cell_type": "markdown",
   "id": "01bc2947",
   "metadata": {},
   "source": [
    "# 6. Построение ROC-кривых."
   ]
  },
  {
   "cell_type": "code",
   "execution_count": 20,
   "id": "d8271ab1",
   "metadata": {},
   "outputs": [
    {
     "data": {
      "text/plain": [
       "Text(0, 0.5, 'TPR')"
      ]
     },
     "execution_count": 20,
     "metadata": {},
     "output_type": "execute_result"
    },
    {
     "data": {
      "image/png": "[encoded data removed]",
      "text/plain": [
       "<Figure size 432x288 with 1 Axes>"
      ]
     },
     "metadata": {
      "needs_background": "light"
     },
     "output_type": "display_data"
    }
   ],
   "source": [
    "fig, ax = plt.subplots()\n",
    "ax.plot(fpr, tpr)\n",
    "ax.plot(fpr_1, tpr_1)\n",
    "ax.legend(['sklearn', 'manual'])\n",
    "ax.grid()\n",
    "\n",
    "ax.set_xlabel('FPR')\n",
    "ax.set_ylabel('TPR')"
   ]
  },
  {
   "cell_type": "markdown",
   "id": "0fb83cab",
   "metadata": {},
   "source": [
    "Графики совпадают, т.к. совпадают метрики."
   ]
  },
  {
   "cell_type": "markdown",
   "id": "1dd2933b",
   "metadata": {},
   "source": [
    "# 7. Построение графика Precision-Recall."
   ]
  },
  {
   "cell_type": "code",
   "execution_count": 21,
   "id": "0d7a1db7",
   "metadata": {},
   "outputs": [
    {
     "data": {
      "text/plain": [
       "Text(0.5, 0, 'recall')"
      ]
     },
     "execution_count": 21,
     "metadata": {},
     "output_type": "execute_result"
    },
    {
     "data": {
      "image/png": "[encoded data removed]",
      "text/plain": [
       "<Figure size 432x288 with 1 Axes>"
      ]
     },
     "metadata": {
      "needs_background": "light"
     },
     "output_type": "display_data"
    }
   ],
   "source": [
    "fig, ax = plt.subplots()\n",
    "ax.plot(tpr_1, precision)\n",
    "ax.grid()\n",
    "\n",
    "ax.set_ylabel('precision')\n",
    "ax.set_xlabel('recall')"
   ]
  },
  {
   "cell_type": "markdown",
   "id": "d8c55c3f",
   "metadata": {},
   "source": [
    "# 8. Вычисление значения ROC-AUC метрики."
   ]
  },
  {
   "cell_type": "code",
   "execution_count": 22,
   "id": "60c0b39c",
   "metadata": {},
   "outputs": [
    {
     "data": {
      "text/plain": [
       "0.7519631806845141"
      ]
     },
     "execution_count": 22,
     "metadata": {},
     "output_type": "execute_result"
    }
   ],
   "source": [
    "from sklearn.metrics import auc\n",
    "\n",
    "auc(fpr, tpr)"
   ]
  },
  {
   "cell_type": "markdown",
   "id": "88ff83c3",
   "metadata": {},
   "source": [
    "# 9. Выводы по проделанной работе."
   ]
  },
  {
   "cell_type": "markdown",
   "id": "6b6f0dff",
   "metadata": {},
   "source": [
    "a. как по полученным графикам сделать вывод о качестве модели? Как вы оцениваете обученную модель исходя из подсчитанных метрик?"
   ]
  },
  {
   "cell_type": "markdown",
   "id": "51c7d710",
   "metadata": {},
   "source": [
    "Качество модели можно оценить по площади под ROC-кривой и Recall-Precision-кривой. В данном случае показательнее будет кривая Recall-Precision, т.к. имеет место несбалансированность классов. Исходя из посчитанных метрик, оцениваю качество модели, как удовлетворительное."
   ]
  },
  {
   "cell_type": "markdown",
   "id": "d9b8d242",
   "metadata": {},
   "source": [
    "b. может ли ROC-кривая проходить ниже диагонали?"
   ]
  },
  {
   "cell_type": "markdown",
   "id": "2f4987e8",
   "metadata": {},
   "source": [
    "Диагональ представляет собой линию случайного угадывания и соответствует модели, которая не имеет способности классифицировать объекты лучше, чем случайное угадывание. ROC-кривая может проходить ниже диагонали только при условии, что модель хуже случайного угадывания."
   ]
  }
 ],
 "metadata": {
  "kernelspec": {
   "display_name": "Python 3 (ipykernel)",
   "language": "python",
   "name": "python3"
  },
  "language_info": {
   "codemirror_mode": {
    "name": "ipython",
    "version": 3
   },
   "file_extension": ".py",
   "mimetype": "text/x-python",
   "name": "python",
   "nbconvert_exporter": "python",
   "pygments_lexer": "ipython3",
   "version": "3.9.12"
  }
 },
 "nbformat": 4,
 "nbformat_minor": 5
}

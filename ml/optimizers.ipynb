{
 "cells": [
  {
   "cell_type": "markdown",
   "id": "b60f70f2",
   "metadata": {
    "toc": true
   },
   "source": [
    "<h1>Table of Contents<span class=\"tocSkip\"></span></h1>\n",
    "<div class=\"toc\"><ul class=\"toc-item\"><li><span><a href=\"#Получите-данные-и-загрузите-их-в-рабочую-среду.-(Jupyter-Notebook-или-другую)\" data-toc-modified-id=\"Получите-данные-и-загрузите-их-в-рабочую-среду.-(Jupyter-Notebook-или-другую)-1\"><span class=\"toc-item-num\">1&nbsp;&nbsp;</span>Получите данные и загрузите их в рабочую среду. (Jupyter Notebook или другую)</a></span></li><li><span><a href=\"#Подготовьте-датасет-к-обучению-моделей:\" data-toc-modified-id=\"Подготовьте-датасет-к-обучению-моделей:-2\"><span class=\"toc-item-num\">2&nbsp;&nbsp;</span>Подготовьте датасет к обучению моделей:</a></span></li><li><span><a href=\"#Разделите-выборку-на-обучающее-и-тестовое-подмножество.-80%-данных-оставить-на-обучающее-множество,-20%-на-тестовое.\" data-toc-modified-id=\"Разделите-выборку-на-обучающее-и-тестовое-подмножество.-80%-данных-оставить-на-обучающее-множество,-20%-на-тестовое.-3\"><span class=\"toc-item-num\">3&nbsp;&nbsp;</span>Разделите выборку на обучающее и тестовое подмножество. 80% данных оставить на обучающее множество, 20% на тестовое.</a></span></li><li><span><a href=\"#Обучите-модель-логистической-регрессии-с-параметрами-по-умолчанию.\" data-toc-modified-id=\"Обучите-модель-логистической-регрессии-с-параметрами-по-умолчанию.-4\"><span class=\"toc-item-num\">4&nbsp;&nbsp;</span>Обучите модель логистической регрессии с параметрами по умолчанию.</a></span></li><li><span><a href=\"#Подсчитайте-основные-метрики-модели.\" data-toc-modified-id=\"Подсчитайте-основные-метрики-модели.-5\"><span class=\"toc-item-num\">5&nbsp;&nbsp;</span>Подсчитайте основные метрики модели.</a></span></li><li><span><a href=\"#Оптимизируйте-3-4-параметра-модели:\" data-toc-modified-id=\"Оптимизируйте-3-4-параметра-модели:-6\"><span class=\"toc-item-num\">6&nbsp;&nbsp;</span>Оптимизируйте 3-4 параметра модели:</a></span></li><li><span><a href=\"#Сформулируйте-выводы-по-проделанной-работе:\" data-toc-modified-id=\"Сформулируйте-выводы-по-проделанной-работе:-7\"><span class=\"toc-item-num\">7&nbsp;&nbsp;</span>Сформулируйте выводы по проделанной работе:</a></span></li></ul></div>"
   ]
  },
  {
   "cell_type": "markdown",
   "id": "537c359d",
   "metadata": {},
   "source": [
    "**Задание**\n",
    "\n",
    "**Цель:**\n",
    "Применить на практике алгоритмы по автоматической оптимизации параметров моделей машинного обучения.\n",
    "\n",
    "**Описание задания:**\n",
    "\n",
    "В домашнем задании нужно решить задачу классификации наличия болезни сердца у пациентов наиболее эффективно. Данные для обучения моделей необходимо загрузить самостоятельно с [сайта](https://www.kaggle.com/fedesoriano/heart-failure-prediction). Целевая переменная – наличие болезни сердца (HeartDisease). Она принимает значения 0 или 1 в зависимости от отсутствия или наличия болезни соответственно. Подробное описание признаков можно прочесть в описании датасета на сайте. Для выполнения работы не обязательно вникать в медицинские показатели."
   ]
  },
  {
   "cell_type": "code",
   "execution_count": 1,
   "id": "c437b6f7",
   "metadata": {},
   "outputs": [],
   "source": [
    "import pandas as pd\n",
    "import numpy as np\n",
    "import matplotlib.pyplot as plt\n",
    "import seaborn as sns\n",
    "from sklearn.model_selection import train_test_split, cross_validate, GridSearchCV, RandomizedSearchCV\n",
    "from sklearn.metrics import make_scorer, accuracy_score, precision_score, recall_score, f1_score\n",
    "from sklearn.linear_model import LogisticRegression\n",
    "from sklearn.ensemble import RandomForestClassifier, GradientBoostingClassifier\n",
    "from sklearn.neighbors import KNeighborsClassifier\n",
    "from scipy.stats import uniform\n",
    "\n",
    "import warnings\n",
    "warnings.filterwarnings(\"ignore\")"
   ]
  },
  {
   "cell_type": "markdown",
   "id": "a7ceeac7",
   "metadata": {},
   "source": [
    "# Получите данные и загрузите их в рабочую среду. (Jupyter Notebook или другую)"
   ]
  },
  {
   "cell_type": "code",
   "execution_count": 2,
   "id": "79a71316",
   "metadata": {},
   "outputs": [
    {
     "data": {
      "text/html": [
       "<div>\n",
       "<style scoped>\n",
       "    .dataframe tbody tr th:only-of-type {\n",
       "        vertical-align: middle;\n",
       "    }\n",
       "\n",
       "    .dataframe tbody tr th {\n",
       "        vertical-align: top;\n",
       "    }\n",
       "\n",
       "    .dataframe thead th {\n",
       "        text-align: right;\n",
       "    }\n",
       "</style>\n",
       "<table border=\"1\" class=\"dataframe\">\n",
       "  <thead>\n",
       "    <tr style=\"text-align: right;\">\n",
       "      <th></th>\n",
       "      <th>Age</th>\n",
       "      <th>Sex</th>\n",
       "      <th>ChestPainType</th>\n",
       "      <th>RestingBP</th>\n",
       "      <th>Cholesterol</th>\n",
       "      <th>FastingBS</th>\n",
       "      <th>RestingECG</th>\n",
       "      <th>MaxHR</th>\n",
       "      <th>ExerciseAngina</th>\n",
       "      <th>Oldpeak</th>\n",
       "      <th>ST_Slope</th>\n",
       "      <th>HeartDisease</th>\n",
       "    </tr>\n",
       "  </thead>\n",
       "  <tbody>\n",
       "    <tr>\n",
       "      <th>0</th>\n",
       "      <td>40</td>\n",
       "      <td>M</td>\n",
       "      <td>ATA</td>\n",
       "      <td>140</td>\n",
       "      <td>289</td>\n",
       "      <td>0</td>\n",
       "      <td>Normal</td>\n",
       "      <td>172</td>\n",
       "      <td>N</td>\n",
       "      <td>0.0</td>\n",
       "      <td>Up</td>\n",
       "      <td>0</td>\n",
       "    </tr>\n",
       "    <tr>\n",
       "      <th>1</th>\n",
       "      <td>49</td>\n",
       "      <td>F</td>\n",
       "      <td>NAP</td>\n",
       "      <td>160</td>\n",
       "      <td>180</td>\n",
       "      <td>0</td>\n",
       "      <td>Normal</td>\n",
       "      <td>156</td>\n",
       "      <td>N</td>\n",
       "      <td>1.0</td>\n",
       "      <td>Flat</td>\n",
       "      <td>1</td>\n",
       "    </tr>\n",
       "    <tr>\n",
       "      <th>2</th>\n",
       "      <td>37</td>\n",
       "      <td>M</td>\n",
       "      <td>ATA</td>\n",
       "      <td>130</td>\n",
       "      <td>283</td>\n",
       "      <td>0</td>\n",
       "      <td>ST</td>\n",
       "      <td>98</td>\n",
       "      <td>N</td>\n",
       "      <td>0.0</td>\n",
       "      <td>Up</td>\n",
       "      <td>0</td>\n",
       "    </tr>\n",
       "    <tr>\n",
       "      <th>3</th>\n",
       "      <td>48</td>\n",
       "      <td>F</td>\n",
       "      <td>ASY</td>\n",
       "      <td>138</td>\n",
       "      <td>214</td>\n",
       "      <td>0</td>\n",
       "      <td>Normal</td>\n",
       "      <td>108</td>\n",
       "      <td>Y</td>\n",
       "      <td>1.5</td>\n",
       "      <td>Flat</td>\n",
       "      <td>1</td>\n",
       "    </tr>\n",
       "    <tr>\n",
       "      <th>4</th>\n",
       "      <td>54</td>\n",
       "      <td>M</td>\n",
       "      <td>NAP</td>\n",
       "      <td>150</td>\n",
       "      <td>195</td>\n",
       "      <td>0</td>\n",
       "      <td>Normal</td>\n",
       "      <td>122</td>\n",
       "      <td>N</td>\n",
       "      <td>0.0</td>\n",
       "      <td>Up</td>\n",
       "      <td>0</td>\n",
       "    </tr>\n",
       "  </tbody>\n",
       "</table>\n",
       "</div>"
      ],
      "text/plain": [
       "   Age Sex ChestPainType  RestingBP  Cholesterol  FastingBS RestingECG  MaxHR  \\\n",
       "0   40   M           ATA        140          289          0     Normal    172   \n",
       "1   49   F           NAP        160          180          0     Normal    156   \n",
       "2   37   M           ATA        130          283          0         ST     98   \n",
       "3   48   F           ASY        138          214          0     Normal    108   \n",
       "4   54   M           NAP        150          195          0     Normal    122   \n",
       "\n",
       "  ExerciseAngina  Oldpeak ST_Slope  HeartDisease  \n",
       "0              N      0.0       Up             0  \n",
       "1              N      1.0     Flat             1  \n",
       "2              N      0.0       Up             0  \n",
       "3              Y      1.5     Flat             1  \n",
       "4              N      0.0       Up             0  "
      ]
     },
     "execution_count": 2,
     "metadata": {},
     "output_type": "execute_result"
    }
   ],
   "source": [
    "df = pd.read_csv('data/heart.csv')\n",
    "df.head()"
   ]
  },
  {
   "cell_type": "code",
   "execution_count": 3,
   "id": "6d04a8f4",
   "metadata": {},
   "outputs": [
    {
     "name": "stdout",
     "output_type": "stream",
     "text": [
      "<class 'pandas.core.frame.DataFrame'>\n",
      "RangeIndex: 918 entries, 0 to 917\n",
      "Data columns (total 12 columns):\n",
      " #   Column          Non-Null Count  Dtype  \n",
      "---  ------          --------------  -----  \n",
      " 0   Age             918 non-null    int64  \n",
      " 1   Sex             918 non-null    object \n",
      " 2   ChestPainType   918 non-null    object \n",
      " 3   RestingBP       918 non-null    int64  \n",
      " 4   Cholesterol     918 non-null    int64  \n",
      " 5   FastingBS       918 non-null    int64  \n",
      " 6   RestingECG      918 non-null    object \n",
      " 7   MaxHR           918 non-null    int64  \n",
      " 8   ExerciseAngina  918 non-null    object \n",
      " 9   Oldpeak         918 non-null    float64\n",
      " 10  ST_Slope        918 non-null    object \n",
      " 11  HeartDisease    918 non-null    int64  \n",
      "dtypes: float64(1), int64(6), object(5)\n",
      "memory usage: 86.2+ KB\n"
     ]
    }
   ],
   "source": [
    "df.info()"
   ]
  },
  {
   "cell_type": "code",
   "execution_count": 4,
   "id": "81b5b0c5",
   "metadata": {},
   "outputs": [
    {
     "data": {
      "text/html": [
       "<div>\n",
       "<style scoped>\n",
       "    .dataframe tbody tr th:only-of-type {\n",
       "        vertical-align: middle;\n",
       "    }\n",
       "\n",
       "    .dataframe tbody tr th {\n",
       "        vertical-align: top;\n",
       "    }\n",
       "\n",
       "    .dataframe thead th {\n",
       "        text-align: right;\n",
       "    }\n",
       "</style>\n",
       "<table border=\"1\" class=\"dataframe\">\n",
       "  <thead>\n",
       "    <tr style=\"text-align: right;\">\n",
       "      <th></th>\n",
       "      <th>Age</th>\n",
       "      <th>RestingBP</th>\n",
       "      <th>Cholesterol</th>\n",
       "      <th>FastingBS</th>\n",
       "      <th>MaxHR</th>\n",
       "      <th>Oldpeak</th>\n",
       "      <th>HeartDisease</th>\n",
       "    </tr>\n",
       "  </thead>\n",
       "  <tbody>\n",
       "    <tr>\n",
       "      <th>count</th>\n",
       "      <td>918.000000</td>\n",
       "      <td>918.000000</td>\n",
       "      <td>918.000000</td>\n",
       "      <td>918.000000</td>\n",
       "      <td>918.000000</td>\n",
       "      <td>918.000000</td>\n",
       "      <td>918.000000</td>\n",
       "    </tr>\n",
       "    <tr>\n",
       "      <th>mean</th>\n",
       "      <td>53.510893</td>\n",
       "      <td>132.396514</td>\n",
       "      <td>198.799564</td>\n",
       "      <td>0.233115</td>\n",
       "      <td>136.809368</td>\n",
       "      <td>0.887364</td>\n",
       "      <td>0.553377</td>\n",
       "    </tr>\n",
       "    <tr>\n",
       "      <th>std</th>\n",
       "      <td>9.432617</td>\n",
       "      <td>18.514154</td>\n",
       "      <td>109.384145</td>\n",
       "      <td>0.423046</td>\n",
       "      <td>25.460334</td>\n",
       "      <td>1.066570</td>\n",
       "      <td>0.497414</td>\n",
       "    </tr>\n",
       "    <tr>\n",
       "      <th>min</th>\n",
       "      <td>28.000000</td>\n",
       "      <td>0.000000</td>\n",
       "      <td>0.000000</td>\n",
       "      <td>0.000000</td>\n",
       "      <td>60.000000</td>\n",
       "      <td>-2.600000</td>\n",
       "      <td>0.000000</td>\n",
       "    </tr>\n",
       "    <tr>\n",
       "      <th>25%</th>\n",
       "      <td>47.000000</td>\n",
       "      <td>120.000000</td>\n",
       "      <td>173.250000</td>\n",
       "      <td>0.000000</td>\n",
       "      <td>120.000000</td>\n",
       "      <td>0.000000</td>\n",
       "      <td>0.000000</td>\n",
       "    </tr>\n",
       "    <tr>\n",
       "      <th>50%</th>\n",
       "      <td>54.000000</td>\n",
       "      <td>130.000000</td>\n",
       "      <td>223.000000</td>\n",
       "      <td>0.000000</td>\n",
       "      <td>138.000000</td>\n",
       "      <td>0.600000</td>\n",
       "      <td>1.000000</td>\n",
       "    </tr>\n",
       "    <tr>\n",
       "      <th>75%</th>\n",
       "      <td>60.000000</td>\n",
       "      <td>140.000000</td>\n",
       "      <td>267.000000</td>\n",
       "      <td>0.000000</td>\n",
       "      <td>156.000000</td>\n",
       "      <td>1.500000</td>\n",
       "      <td>1.000000</td>\n",
       "    </tr>\n",
       "    <tr>\n",
       "      <th>max</th>\n",
       "      <td>77.000000</td>\n",
       "      <td>200.000000</td>\n",
       "      <td>603.000000</td>\n",
       "      <td>1.000000</td>\n",
       "      <td>202.000000</td>\n",
       "      <td>6.200000</td>\n",
       "      <td>1.000000</td>\n",
       "    </tr>\n",
       "  </tbody>\n",
       "</table>\n",
       "</div>"
      ],
      "text/plain": [
       "              Age   RestingBP  Cholesterol   FastingBS       MaxHR  \\\n",
       "count  918.000000  918.000000   918.000000  918.000000  918.000000   \n",
       "mean    53.510893  132.396514   198.799564    0.233115  136.809368   \n",
       "std      9.432617   18.514154   109.384145    0.423046   25.460334   \n",
       "min     28.000000    0.000000     0.000000    0.000000   60.000000   \n",
       "25%     47.000000  120.000000   173.250000    0.000000  120.000000   \n",
       "50%     54.000000  130.000000   223.000000    0.000000  138.000000   \n",
       "75%     60.000000  140.000000   267.000000    0.000000  156.000000   \n",
       "max     77.000000  200.000000   603.000000    1.000000  202.000000   \n",
       "\n",
       "          Oldpeak  HeartDisease  \n",
       "count  918.000000    918.000000  \n",
       "mean     0.887364      0.553377  \n",
       "std      1.066570      0.497414  \n",
       "min     -2.600000      0.000000  \n",
       "25%      0.000000      0.000000  \n",
       "50%      0.600000      1.000000  \n",
       "75%      1.500000      1.000000  \n",
       "max      6.200000      1.000000  "
      ]
     },
     "execution_count": 4,
     "metadata": {},
     "output_type": "execute_result"
    }
   ],
   "source": [
    "df.describe()"
   ]
  },
  {
   "cell_type": "markdown",
   "id": "bb5d297d",
   "metadata": {},
   "source": [
    "# Подготовьте датасет к обучению моделей:\n",
    "a) Категориальные переменные переведите в цифровые значения. Можно использовать [pd.get_dummies](https://pandas.pydata.org/docs/reference/api/pandas.get_dummies.html), [preprocessing.LabelEncoder](https://scikit-learn.org/stable/modules/generated/sklearn.preprocessing.LabelEncoder.html). Старайтесь не использовать для этой задачи циклы."
   ]
  },
  {
   "cell_type": "code",
   "execution_count": 5,
   "id": "27e45c16",
   "metadata": {},
   "outputs": [
    {
     "data": {
      "text/plain": [
       "((918, 15), (918,))"
      ]
     },
     "execution_count": 5,
     "metadata": {},
     "output_type": "execute_result"
    }
   ],
   "source": [
    "X = pd.get_dummies(df, drop_first=True).drop('HeartDisease', axis=1)\n",
    "y = df['HeartDisease']\n",
    "X.shape, y.shape"
   ]
  },
  {
   "cell_type": "markdown",
   "id": "d511ef01",
   "metadata": {},
   "source": [
    "# Разделите выборку на обучающее и тестовое подмножество. 80% данных оставить на обучающее множество, 20% на тестовое."
   ]
  },
  {
   "cell_type": "code",
   "execution_count": 6,
   "id": "19cca16b",
   "metadata": {},
   "outputs": [
    {
     "data": {
      "text/plain": [
       "((734, 15), (184, 15))"
      ]
     },
     "execution_count": 6,
     "metadata": {},
     "output_type": "execute_result"
    }
   ],
   "source": [
    "X_train, X_test, y_train, y_test = train_test_split(X, y, train_size=0.8, random_state=42)\n",
    "X_train.shape, X_test.shape"
   ]
  },
  {
   "cell_type": "markdown",
   "id": "b39bd8f8",
   "metadata": {},
   "source": [
    "# Обучите модель логистической регрессии с параметрами по умолчанию."
   ]
  },
  {
   "cell_type": "code",
   "execution_count": 7,
   "id": "23672c30",
   "metadata": {},
   "outputs": [
    {
     "data": {
      "text/plain": [
       "LogisticRegression(n_jobs=-1, random_state=42)"
      ]
     },
     "execution_count": 7,
     "metadata": {},
     "output_type": "execute_result"
    }
   ],
   "source": [
    "clf = LogisticRegression(random_state=42, n_jobs=-1)\n",
    "clf.fit(X_train, y_train)"
   ]
  },
  {
   "cell_type": "markdown",
   "id": "dbe52e41",
   "metadata": {},
   "source": [
    "# Подсчитайте основные метрики модели. \n",
    "Используйте следующие метрики и функцию: cross_validate(…, cv=10, scoring=[‘accuracy’,‘recall’,‘precision’,‘f1’])"
   ]
  },
  {
   "cell_type": "code",
   "execution_count": 8,
   "id": "a718a319",
   "metadata": {},
   "outputs": [],
   "source": [
    "def mean_scores(clf, X, y, index):\n",
    "    '''Функция считает средние значения метрик, полученных при помощи кросс-валидации и возвращает pd.DataFrame'''\n",
    "    dict_ = cross_validate(clf, X, y, cv=10, scoring=['accuracy','recall','precision','f1'], n_jobs=-1)\n",
    "    res = dict()\n",
    "    res['fit_time'] =np.mean(dict_['fit_time'])\n",
    "    res['score_time'] =np.mean(dict_['score_time'])\n",
    "    res['test_accuracy'] =np.mean(dict_['test_accuracy'])\n",
    "    res['test_recall'] =np.mean(dict_['test_recall'])\n",
    "    res['test_precision'] =np.mean(dict_['test_precision'])\n",
    "    res['test_f1'] =np.mean(dict_['test_f1'])\n",
    "    return pd.DataFrame(res, index=[index])"
   ]
  },
  {
   "cell_type": "code",
   "execution_count": 9,
   "id": "7ac5c626",
   "metadata": {},
   "outputs": [
    {
     "data": {
      "text/html": [
       "<div>\n",
       "<style scoped>\n",
       "    .dataframe tbody tr th:only-of-type {\n",
       "        vertical-align: middle;\n",
       "    }\n",
       "\n",
       "    .dataframe tbody tr th {\n",
       "        vertical-align: top;\n",
       "    }\n",
       "\n",
       "    .dataframe thead th {\n",
       "        text-align: right;\n",
       "    }\n",
       "</style>\n",
       "<table border=\"1\" class=\"dataframe\">\n",
       "  <thead>\n",
       "    <tr style=\"text-align: right;\">\n",
       "      <th></th>\n",
       "      <th>fit_time</th>\n",
       "      <th>score_time</th>\n",
       "      <th>test_accuracy</th>\n",
       "      <th>test_recall</th>\n",
       "      <th>test_precision</th>\n",
       "      <th>test_f1</th>\n",
       "    </tr>\n",
       "  </thead>\n",
       "  <tbody>\n",
       "    <tr>\n",
       "      <th>baseline</th>\n",
       "      <td>0.06706</td>\n",
       "      <td>0.008092</td>\n",
       "      <td>0.848387</td>\n",
       "      <td>0.865608</td>\n",
       "      <td>0.86598</td>\n",
       "      <td>0.861264</td>\n",
       "    </tr>\n",
       "  </tbody>\n",
       "</table>\n",
       "</div>"
      ],
      "text/plain": [
       "          fit_time  score_time  test_accuracy  test_recall  test_precision  \\\n",
       "baseline   0.06706    0.008092       0.848387     0.865608         0.86598   \n",
       "\n",
       "           test_f1  \n",
       "baseline  0.861264  "
      ]
     },
     "execution_count": 9,
     "metadata": {},
     "output_type": "execute_result"
    }
   ],
   "source": [
    "scores = mean_scores(clf, X, y, 'baseline')\n",
    "scores"
   ]
  },
  {
   "cell_type": "markdown",
   "id": "84d683e2",
   "metadata": {},
   "source": [
    "# Оптимизируйте 3-4 параметра модели:"
   ]
  },
  {
   "cell_type": "markdown",
   "id": "7104a664",
   "metadata": {},
   "source": [
    "**a) Используйте GridSearchCV.**"
   ]
  },
  {
   "cell_type": "code",
   "execution_count": 10,
   "id": "2433284a",
   "metadata": {},
   "outputs": [],
   "source": [
    "params_grid = {\n",
    "    'penalty': ['l1', 'l2', 'elasticnet', None],\n",
    "    'l1_ratio': [x/100 for x in range(1, 30)],\n",
    "    'C': [x/10 for x in range(1, 30)]\n",
    "}"
   ]
  },
  {
   "cell_type": "code",
   "execution_count": 11,
   "id": "fdd643d6",
   "metadata": {},
   "outputs": [
    {
     "name": "stdout",
     "output_type": "stream",
     "text": [
      "CPU times: total: 31.2 ms\n",
      "Wall time: 15min 25s\n"
     ]
    },
    {
     "data": {
      "text/html": [
       "<div>\n",
       "<style scoped>\n",
       "    .dataframe tbody tr th:only-of-type {\n",
       "        vertical-align: middle;\n",
       "    }\n",
       "\n",
       "    .dataframe tbody tr th {\n",
       "        vertical-align: top;\n",
       "    }\n",
       "\n",
       "    .dataframe thead th {\n",
       "        text-align: right;\n",
       "    }\n",
       "</style>\n",
       "<table border=\"1\" class=\"dataframe\">\n",
       "  <thead>\n",
       "    <tr style=\"text-align: right;\">\n",
       "      <th></th>\n",
       "      <th>fit_time</th>\n",
       "      <th>score_time</th>\n",
       "      <th>test_accuracy</th>\n",
       "      <th>test_recall</th>\n",
       "      <th>test_precision</th>\n",
       "      <th>test_f1</th>\n",
       "    </tr>\n",
       "  </thead>\n",
       "  <tbody>\n",
       "    <tr>\n",
       "      <th>baseline</th>\n",
       "      <td>0.067060</td>\n",
       "      <td>0.008092</td>\n",
       "      <td>0.848387</td>\n",
       "      <td>0.865608</td>\n",
       "      <td>0.86598</td>\n",
       "      <td>0.861264</td>\n",
       "    </tr>\n",
       "    <tr>\n",
       "      <th>GridSearchCV</th>\n",
       "      <td>514.209143</td>\n",
       "      <td>0.007800</td>\n",
       "      <td>0.844040</td>\n",
       "      <td>0.865608</td>\n",
       "      <td>0.85904</td>\n",
       "      <td>0.857716</td>\n",
       "    </tr>\n",
       "  </tbody>\n",
       "</table>\n",
       "</div>"
      ],
      "text/plain": [
       "                fit_time  score_time  test_accuracy  test_recall  \\\n",
       "baseline        0.067060    0.008092       0.848387     0.865608   \n",
       "GridSearchCV  514.209143    0.007800       0.844040     0.865608   \n",
       "\n",
       "              test_precision   test_f1  \n",
       "baseline             0.86598  0.861264  \n",
       "GridSearchCV         0.85904  0.857716  "
      ]
     },
     "execution_count": 11,
     "metadata": {},
     "output_type": "execute_result"
    }
   ],
   "source": [
    "%%time\n",
    "clf_grid = LogisticRegression(random_state=42, n_jobs=-1)\n",
    "grid = GridSearchCV(clf_grid, params_grid, scoring='f1', cv=10, n_jobs=-1)\n",
    "scores = pd.concat([scores, mean_scores(grid, X, y, 'GridSearchCV')])\n",
    "scores"
   ]
  },
  {
   "cell_type": "markdown",
   "id": "f06b8ae4",
   "metadata": {},
   "source": [
    "**b) Используйте RandomizedSearchCV.**"
   ]
  },
  {
   "cell_type": "code",
   "execution_count": 12,
   "id": "16bab4b1",
   "metadata": {},
   "outputs": [],
   "source": [
    "params_rand = {\n",
    "    'tol': uniform(loc=0, scale=1e-3),\n",
    "    'C': uniform(loc=0, scale=4),\n",
    "    'solver': ['lbfgs', 'liblinear', 'newton-cg', 'newton-cholesky', 'sag', 'saga']\n",
    "}"
   ]
  },
  {
   "cell_type": "code",
   "execution_count": 13,
   "id": "5d886b2f",
   "metadata": {},
   "outputs": [
    {
     "name": "stdout",
     "output_type": "stream",
     "text": [
      "CPU times: total: 93.8 ms\n",
      "Wall time: 31 s\n"
     ]
    },
    {
     "data": {
      "text/html": [
       "<div>\n",
       "<style scoped>\n",
       "    .dataframe tbody tr th:only-of-type {\n",
       "        vertical-align: middle;\n",
       "    }\n",
       "\n",
       "    .dataframe tbody tr th {\n",
       "        vertical-align: top;\n",
       "    }\n",
       "\n",
       "    .dataframe thead th {\n",
       "        text-align: right;\n",
       "    }\n",
       "</style>\n",
       "<table border=\"1\" class=\"dataframe\">\n",
       "  <thead>\n",
       "    <tr style=\"text-align: right;\">\n",
       "      <th></th>\n",
       "      <th>fit_time</th>\n",
       "      <th>score_time</th>\n",
       "      <th>test_accuracy</th>\n",
       "      <th>test_recall</th>\n",
       "      <th>test_precision</th>\n",
       "      <th>test_f1</th>\n",
       "    </tr>\n",
       "  </thead>\n",
       "  <tbody>\n",
       "    <tr>\n",
       "      <th>baseline</th>\n",
       "      <td>0.067060</td>\n",
       "      <td>0.008092</td>\n",
       "      <td>0.848387</td>\n",
       "      <td>0.865608</td>\n",
       "      <td>0.865980</td>\n",
       "      <td>0.861264</td>\n",
       "    </tr>\n",
       "    <tr>\n",
       "      <th>GridSearchCV</th>\n",
       "      <td>514.209143</td>\n",
       "      <td>0.007800</td>\n",
       "      <td>0.844040</td>\n",
       "      <td>0.865608</td>\n",
       "      <td>0.859040</td>\n",
       "      <td>0.857716</td>\n",
       "    </tr>\n",
       "    <tr>\n",
       "      <th>RandomizedSearchCV</th>\n",
       "      <td>17.824366</td>\n",
       "      <td>0.013040</td>\n",
       "      <td>0.851660</td>\n",
       "      <td>0.865608</td>\n",
       "      <td>0.870611</td>\n",
       "      <td>0.863669</td>\n",
       "    </tr>\n",
       "  </tbody>\n",
       "</table>\n",
       "</div>"
      ],
      "text/plain": [
       "                      fit_time  score_time  test_accuracy  test_recall  \\\n",
       "baseline              0.067060    0.008092       0.848387     0.865608   \n",
       "GridSearchCV        514.209143    0.007800       0.844040     0.865608   \n",
       "RandomizedSearchCV   17.824366    0.013040       0.851660     0.865608   \n",
       "\n",
       "                    test_precision   test_f1  \n",
       "baseline                  0.865980  0.861264  \n",
       "GridSearchCV              0.859040  0.857716  \n",
       "RandomizedSearchCV        0.870611  0.863669  "
      ]
     },
     "execution_count": 13,
     "metadata": {},
     "output_type": "execute_result"
    }
   ],
   "source": [
    "%%time\n",
    "clf_rand = LogisticRegression(random_state=42, n_jobs=-1)\n",
    "rand = RandomizedSearchCV(clf_rand, params_rand, scoring='f1', cv=10, n_iter=50, random_state=42, n_jobs=-1)\n",
    "scores = pd.concat([scores, mean_scores(rand, X, y, 'RandomizedSearchCV')])\n",
    "scores"
   ]
  },
  {
   "cell_type": "markdown",
   "id": "d10dd924",
   "metadata": {},
   "source": [
    "**c) *Добавьте в п. 6b 2-5 моделей классификации и вариации их параметров.**\n",
    "\n",
    "**d) Повторите п. 5 после каждого итогового изменения параметров.**"
   ]
  },
  {
   "cell_type": "code",
   "execution_count": 14,
   "id": "9db2968a",
   "metadata": {},
   "outputs": [],
   "source": [
    "params_rf = {\n",
    "    'n_estimators': range(10, 100, 10),\n",
    "    'criterion': ['gini', 'entropy', 'log_loss'],\n",
    "    'max_samples': uniform()\n",
    "}\n",
    "params_boost = {\n",
    "    'learning_rate': uniform(loc=0.01, scale=0.3),\n",
    "    'n_estimators': range(50, 300, 50),\n",
    "    'max_depth': range(2, 11)\n",
    "}\n",
    "params_knn = {\n",
    "    'n_neighbors': range(2, 10),\n",
    "    'leaf_size': range(2, 50, 10),\n",
    "    'p': range(1, 6)\n",
    "}"
   ]
  },
  {
   "cell_type": "code",
   "execution_count": 15,
   "id": "ffe49826",
   "metadata": {},
   "outputs": [
    {
     "name": "stdout",
     "output_type": "stream",
     "text": [
      "CPU times: total: 141 ms\n",
      "Wall time: 21min 30s\n"
     ]
    }
   ],
   "source": [
    "%%time\n",
    "rf = RandomizedSearchCV(\n",
    "    RandomForestClassifier(random_state=42, n_jobs=-1),\n",
    "    params_rf,\n",
    "    scoring='f1', cv=10, n_iter=50, random_state=42, n_jobs=-1\n",
    ")\n",
    "scores = pd.concat([scores, mean_scores(rf, X, y, 'RandomForestClassifier')])\n",
    "\n",
    "boost = RandomizedSearchCV(\n",
    "    GradientBoostingClassifier(random_state=42),\n",
    "    params_boost,\n",
    "    scoring='f1', cv=10, n_iter=50, random_state=42, n_jobs=-1\n",
    ")\n",
    "scores = pd.concat([scores, mean_scores(boost, X, y, 'GradientBoostingClassifier')])\n",
    "\n",
    "knn = RandomizedSearchCV(\n",
    "    KNeighborsClassifier(n_jobs=-1),\n",
    "    params_knn,\n",
    "    scoring='f1', cv=10, n_iter=50, random_state=42, n_jobs=-1\n",
    ")\n",
    "scores = pd.concat([scores, mean_scores(knn, X, y, 'KNeighborsClassifier')])"
   ]
  },
  {
   "cell_type": "markdown",
   "id": "5141e78c",
   "metadata": {},
   "source": [
    "# Сформулируйте выводы по проделанной работе:\n",
    "a) Сравните метрики построенных моделей."
   ]
  },
  {
   "cell_type": "code",
   "execution_count": 16,
   "id": "650bb439",
   "metadata": {},
   "outputs": [
    {
     "data": {
      "text/html": [
       "<div>\n",
       "<style scoped>\n",
       "    .dataframe tbody tr th:only-of-type {\n",
       "        vertical-align: middle;\n",
       "    }\n",
       "\n",
       "    .dataframe tbody tr th {\n",
       "        vertical-align: top;\n",
       "    }\n",
       "\n",
       "    .dataframe thead th {\n",
       "        text-align: right;\n",
       "    }\n",
       "</style>\n",
       "<table border=\"1\" class=\"dataframe\">\n",
       "  <thead>\n",
       "    <tr style=\"text-align: right;\">\n",
       "      <th></th>\n",
       "      <th>fit_time</th>\n",
       "      <th>score_time</th>\n",
       "      <th>test_accuracy</th>\n",
       "      <th>test_recall</th>\n",
       "      <th>test_precision</th>\n",
       "      <th>test_f1</th>\n",
       "    </tr>\n",
       "  </thead>\n",
       "  <tbody>\n",
       "    <tr>\n",
       "      <th>baseline</th>\n",
       "      <td>0.067060</td>\n",
       "      <td>0.008092</td>\n",
       "      <td>0.848387</td>\n",
       "      <td>0.865608</td>\n",
       "      <td>0.865980</td>\n",
       "      <td>0.861264</td>\n",
       "    </tr>\n",
       "    <tr>\n",
       "      <th>GridSearchCV</th>\n",
       "      <td>514.209143</td>\n",
       "      <td>0.007800</td>\n",
       "      <td>0.844040</td>\n",
       "      <td>0.865608</td>\n",
       "      <td>0.859040</td>\n",
       "      <td>0.857716</td>\n",
       "    </tr>\n",
       "    <tr>\n",
       "      <th>RandomizedSearchCV</th>\n",
       "      <td>17.824366</td>\n",
       "      <td>0.013040</td>\n",
       "      <td>0.851660</td>\n",
       "      <td>0.865608</td>\n",
       "      <td>0.870611</td>\n",
       "      <td>0.863669</td>\n",
       "    </tr>\n",
       "    <tr>\n",
       "      <th>RandomForestClassifier</th>\n",
       "      <td>53.259237</td>\n",
       "      <td>0.023377</td>\n",
       "      <td>0.844052</td>\n",
       "      <td>0.853804</td>\n",
       "      <td>0.864741</td>\n",
       "      <td>0.855521</td>\n",
       "    </tr>\n",
       "    <tr>\n",
       "      <th>GradientBoostingClassifier</th>\n",
       "      <td>644.174080</td>\n",
       "      <td>0.141751</td>\n",
       "      <td>0.857131</td>\n",
       "      <td>0.871490</td>\n",
       "      <td>0.875186</td>\n",
       "      <td>0.869245</td>\n",
       "    </tr>\n",
       "    <tr>\n",
       "      <th>KNeighborsClassifier</th>\n",
       "      <td>10.107106</td>\n",
       "      <td>0.030203</td>\n",
       "      <td>0.734018</td>\n",
       "      <td>0.776627</td>\n",
       "      <td>0.758201</td>\n",
       "      <td>0.755042</td>\n",
       "    </tr>\n",
       "  </tbody>\n",
       "</table>\n",
       "</div>"
      ],
      "text/plain": [
       "                              fit_time  score_time  test_accuracy  \\\n",
       "baseline                      0.067060    0.008092       0.848387   \n",
       "GridSearchCV                514.209143    0.007800       0.844040   \n",
       "RandomizedSearchCV           17.824366    0.013040       0.851660   \n",
       "RandomForestClassifier       53.259237    0.023377       0.844052   \n",
       "GradientBoostingClassifier  644.174080    0.141751       0.857131   \n",
       "KNeighborsClassifier         10.107106    0.030203       0.734018   \n",
       "\n",
       "                            test_recall  test_precision   test_f1  \n",
       "baseline                       0.865608        0.865980  0.861264  \n",
       "GridSearchCV                   0.865608        0.859040  0.857716  \n",
       "RandomizedSearchCV             0.865608        0.870611  0.863669  \n",
       "RandomForestClassifier         0.853804        0.864741  0.855521  \n",
       "GradientBoostingClassifier     0.871490        0.875186  0.869245  \n",
       "KNeighborsClassifier           0.776627        0.758201  0.755042  "
      ]
     },
     "execution_count": 16,
     "metadata": {},
     "output_type": "execute_result"
    }
   ],
   "source": [
    "scores"
   ]
  },
  {
   "cell_type": "markdown",
   "id": "6714bb6e",
   "metadata": {},
   "source": [
    "Более высокие метрики RandomizedSearchCV, по сравнению с GridSearchCV, связаны с использованием других гиперпараметров и, возможно, неоптимальной сеткой."
   ]
  },
  {
   "cell_type": "markdown",
   "id": "3d28abad",
   "metadata": {},
   "source": [
    "b) *Сравните с полученными результатами в домашнем задании по теме «Ансамблирование»."
   ]
  },
  {
   "cell_type": "markdown",
   "id": "0fa5d5c7",
   "metadata": {},
   "source": [
    "![Метрики из домашнего задания по теме «Ансамблирование»](data/Screenshot_4.png)"
   ]
  },
  {
   "cell_type": "markdown",
   "id": "0f235ae1",
   "metadata": {},
   "source": [
    "В данной работе метрики у RandomForestClassifier получились несколько ниже, т.к. в домашнем задании по теме «Ансамблирование» проводилась оптимизация с помощью GridSearchCV. "
   ]
  }
 ],
 "metadata": {
  "kernelspec": {
   "display_name": "Python 3 (ipykernel)",
   "language": "python",
   "name": "python3"
  },
  "language_info": {
   "codemirror_mode": {
    "name": "ipython",
    "version": 3
   },
   "file_extension": ".py",
   "mimetype": "text/x-python",
   "name": "python",
   "nbconvert_exporter": "python",
   "pygments_lexer": "ipython3",
   "version": "3.9.12"
  },
  "toc": {
   "base_numbering": 1,
   "nav_menu": {},
   "number_sections": true,
   "sideBar": true,
   "skip_h1_title": false,
   "title_cell": "Table of Contents",
   "title_sidebar": "Contents",
   "toc_cell": true,
   "toc_position": {},
   "toc_section_display": true,
   "toc_window_display": false
  }
 },
 "nbformat": 4,
 "nbformat_minor": 5
}

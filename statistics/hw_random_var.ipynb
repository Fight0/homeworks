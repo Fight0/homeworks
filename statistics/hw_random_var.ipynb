{
 "cells": [
  {
   "cell_type": "markdown",
   "id": "fafd8f94",
   "metadata": {},
   "source": [
    "Смоделировать игру против лотерейного автомата типа “777”. Игрок платит 1 руб., после чего выпадает случайное целое число, равномерно распределенное от 0 до 999. При некоторых значениях числа игрок получает выигрыш.\n",
    "\n",
    "777: 200 руб.\n",
    "999: 100 руб.\n",
    "555: 50 руб.\n",
    "333: 15 руб.\n",
    "111: 10 руб.\n",
    "*77: 5 руб.\n",
    "**7: 3 руб.\n",
    "*00: 2 руб.\n",
    "**0: 1 руб.\n",
    "\n",
    "Вопросы:\n",
    "\n",
    "* Выгодна ли игра игроку?\n",
    "* Сколько в среднем приобретает или теряет игрок за одну игру?\n",
    "\n",
    "**Дополнительное задание повышенной сложности.**\n",
    "\n",
    "Теоретически рассчитать средний выигрыш (проигрыш) и сравнить с результатами моделирования\n",
    "\n",
    "– любая цифра"
   ]
  },
  {
   "cell_type": "code",
   "execution_count": 1,
   "id": "10724004",
   "metadata": {},
   "outputs": [],
   "source": [
    "import numpy as np"
   ]
  },
  {
   "cell_type": "code",
   "execution_count": 6,
   "id": "5b0bbe02",
   "metadata": {},
   "outputs": [
    {
     "name": "stdout",
     "output_type": "stream",
     "text": [
      "796294\n",
      "True\n"
     ]
    }
   ],
   "source": [
    "attempts = 1000000 # количество попыток\n",
    "win = 0 # выйгрыш\n",
    "\n",
    "win_comb = {777: 200, 999: 100, 555: 50, 333: 15, 111: 10}\n",
    "\n",
    "for _ in range(attempts):\n",
    "    attempt = np.random.randint(0, 1000)\n",
    "    \n",
    "    if attempt in win_comb.keys():\n",
    "        win += win_comb[attempt]\n",
    "    elif attempt % 100 == 77:\n",
    "        win += 5\n",
    "    elif attempt % 10 == 7:\n",
    "        win += 3\n",
    "    elif attempt % 100 == 0:\n",
    "        win += 2\n",
    "    elif attempt % 10 == 0:\n",
    "        win += 1\n",
    "        \n",
    "print(win)\n",
    "print(win < attempts)"
   ]
  },
  {
   "cell_type": "markdown",
   "id": "50f3104d",
   "metadata": {},
   "source": [
    "По полученным данным можно сделать вывод, что, с большой долей вероятности, игра **не выгодна** игроку, т.к. выигрыш меньше вложенных средств(win < attempts)."
   ]
  },
  {
   "cell_type": "markdown",
   "id": "e61443ed",
   "metadata": {},
   "source": [
    "Рассчитаем средний выигрыш за одну игру:"
   ]
  },
  {
   "cell_type": "code",
   "execution_count": 7,
   "id": "f3ac4667",
   "metadata": {},
   "outputs": [
    {
     "name": "stdout",
     "output_type": "stream",
     "text": [
      "Средний выигрыш за игру составляет -0.20370600000000005\n"
     ]
    }
   ],
   "source": [
    "avg_win = (win / attempts) - 1 # 1 - стоимость одной попытки\n",
    "\n",
    "print(f'Средний выигрыш за игру составляет {avg_win}')"
   ]
  },
  {
   "cell_type": "markdown",
   "id": "4f567cd1",
   "metadata": {},
   "source": [
    "Рассчитаем теоретический средний выигрыш:"
   ]
  },
  {
   "cell_type": "code",
   "execution_count": 8,
   "id": "6b604d05",
   "metadata": {},
   "outputs": [
    {
     "name": "stdout",
     "output_type": "stream",
     "text": [
      "Теоретический средний выигрыш за игру составляет -0.20299999999999996\n"
     ]
    }
   ],
   "source": [
    "# словарь с ключами, соответствующими значениям выигрыша и значениями, соответствующими вероятности этого выигрыша\n",
    "prob = {200: 0.001, 100: 0.001, 50: 0.001, 15: 0.001, 10: 0.001, 5: 0.01-0.001,\n",
    "        3: 0.1-0.01-0.001, 2: 0.01, 1: 0.1-0.01}\n",
    "t_avg_win = 0\n",
    "\n",
    "for w in prob:\n",
    "    t_avg_win += w * prob[w]\n",
    "\n",
    "print(f'Теоретический средний выигрыш за игру составляет {t_avg_win - 1}')"
   ]
  }
 ],
 "metadata": {
  "kernelspec": {
   "display_name": "Python 3 (ipykernel)",
   "language": "python",
   "name": "python3"
  },
  "language_info": {
   "codemirror_mode": {
    "name": "ipython",
    "version": 3
   },
   "file_extension": ".py",
   "mimetype": "text/x-python",
   "name": "python",
   "nbconvert_exporter": "python",
   "pygments_lexer": "ipython3",
   "version": "3.9.12"
  }
 },
 "nbformat": 4,
 "nbformat_minor": 5
}

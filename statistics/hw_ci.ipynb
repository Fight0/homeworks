{
 "cells": [
  {
   "cell_type": "code",
   "execution_count": 2,
   "metadata": {},
   "outputs": [],
   "source": [
    "# !pip install scipy"
   ]
  },
  {
   "cell_type": "code",
   "execution_count": 3,
   "metadata": {
    "scrolled": true
   },
   "outputs": [],
   "source": [
    "import numpy as np  \n",
    "import pandas as pd  # для работы с таблицами\n",
    "from scipy import stats # При работе со статистикой\n",
    "import matplotlib.pyplot as plt  # Библиотека для визуализации результатов \n",
    "\n",
    "import seaborn as sns # Более продвинутая библиотека для визуализации"
   ]
  },
  {
   "cell_type": "markdown",
   "metadata": {},
   "source": [
    "<p style=\"align: center;\"><img align=center src=\"https://netology.ru/backend/tilda/images/tild3439-3364-4535-b334-656263633534__main.svg\"  width=900></p>\n",
    "<h3 style=\"text-align: center;\"><b>«Домашнее задание»</b></h3>\n"
   ]
  },
  {
   "cell_type": "markdown",
   "metadata": {},
   "source": [
    "<div class=\"alert alert-info\">\n",
    "<b>Задание № 0</b>\n",
    "\n",
    "Найдите минимально необходимый объем выборки для построения интервальной оценки среднего.\n",
    "\n",
    "- желаемая точность $\\Delta$ = 3;\n",
    "- дисперсия $\\sigma^2$  = 225;\n",
    "- уровень доверия $\\beta$ = 0.95.\n",
    "    \n",
    "Ответ округлите до целого\n",
    "</div>"
   ]
  },
  {
   "cell_type": "markdown",
   "metadata": {},
   "source": [
    "$$ n = (\\frac{Z*\\sigma}{\\Delta})^2$$\n",
    "- $\\Delta$ - допустимая ошибка/погрешность, \n",
    "\n",
    "- $\\sigma$ - стандартное отклонение, \n",
    "\n",
    "- Z - квантиль нормального распределения\n"
   ]
  },
  {
   "cell_type": "code",
   "execution_count": 4,
   "metadata": {},
   "outputs": [],
   "source": [
    "sigma = 225**0.5  # Стандартное отклонение\n",
    "Z = 1.96          # Квантиль нормального распределения при 𝛽 = 0.95. \n",
    "Delta = 3         # Погрешность\n",
    "\n",
    "N = int(((sigma*Z)/Delta)**2) #Запишите в эту переменную ваш высчитанный ответ!"
   ]
  },
  {
   "cell_type": "code",
   "execution_count": 5,
   "metadata": {},
   "outputs": [
    {
     "data": {
      "text/plain": [
       "96"
      ]
     },
     "execution_count": 5,
     "metadata": {},
     "output_type": "execute_result"
    }
   ],
   "source": [
    "N"
   ]
  },
  {
   "cell_type": "markdown",
   "metadata": {},
   "source": [
    "<div class=\"alert alert-info\">\n",
    "<b>Задание № 1</b>\n",
    "\n",
    "Постройте `98% доверительный интервал` для среднего значения, если известно, что\n",
    "\n",
    "- объем выборки n = 25;\n",
    "- среднее значение по выборке $\\overline x$ = 130;\n",
    "- Из достоверных источников известно стандартное отклонение $\\sigma = 15$.\n",
    "    \n",
    "В ответ укажите длину полученного доверительного интервала (разницу между правым и левым концом), окруленную до целого\n",
    "</div>"
   ]
  },
  {
   "cell_type": "code",
   "execution_count": 6,
   "metadata": {},
   "outputs": [],
   "source": [
    "n = 25 # Объём выборки\n",
    "m = 130 # среднее значение по выборке\n",
    "sigma = 15 # СКО\n",
    "confidence = 0.98\n",
    "\n",
    "h = sigma * stats.t.ppf((1 + confidence)/2, n-1)\n",
    "ci_lower, ci_upper = m - h, m + h\n",
    "L = round(ci_upper - ci_lower)  #Запишите в эту переменную ваш высчитанный ответ!"
   ]
  },
  {
   "cell_type": "code",
   "execution_count": 7,
   "metadata": {},
   "outputs": [
    {
     "data": {
      "text/plain": [
       "75"
      ]
     },
     "execution_count": 7,
     "metadata": {},
     "output_type": "execute_result"
    }
   ],
   "source": [
    "L"
   ]
  },
  {
   "cell_type": "markdown",
   "metadata": {},
   "source": [
    "Рассчитем длину доверительного интервала для нормального распределения(без использования распределения Стьюдента).\n",
    "\n",
    "$$ (\\overline{x} - \\frac{\\sigma}{\\sqrt{n}}Z_a; \\overline{x} + \\frac{\\sigma}{\\sqrt{n}}Z_a)$$"
   ]
  },
  {
   "cell_type": "code",
   "execution_count": 23,
   "metadata": {},
   "outputs": [
    {
     "data": {
      "text/plain": [
       "75"
      ]
     },
     "execution_count": 23,
     "metadata": {},
     "output_type": "execute_result"
    }
   ],
   "source": [
    "z = 2.326 # квантиль нормального распределения при уровне значимости 0.98\n",
    "ci_l, ci_u = m - (sigma/np.sqrt(n))*z, m + (sigma*z/np.sqrt(n))*z\n",
    "round(ci_upper - ci_lower)"
   ]
  },
  {
   "cell_type": "markdown",
   "metadata": {},
   "source": [
    "Результаты одинаковы. Вероятно, это связанно с большим объёмом выборки."
   ]
  },
  {
   "cell_type": "markdown",
   "metadata": {},
   "source": [
    "### 2. Вам даны две выборки роста мужчин и женщин. Докажите, используя t-Тест Стьдента, что различия между выборками незначительно, если уровень значимости равен 0.001"
   ]
  },
  {
   "cell_type": "markdown",
   "metadata": {},
   "source": [
    "<div class=\"alert alert-info\">\n",
    "<b>Задание № 2</b>\n",
    "\n",
    "Даны две выборки роста мужчин и женщин. \n",
    "- Докажите, используя `t-Тест Стьдента`, что различие между выборками незначительно, если уровень значимости равен $\\alpha$ `= 0.001`.\n",
    "- Покажите различия визуально\n",
    "</div>"
   ]
  },
  {
   "cell_type": "markdown",
   "metadata": {},
   "source": [
    "Гипотеза\n",
    "\n",
    "* H0: Различие между выборками случайно\n",
    "* H1: Различие между выборками неслучайно"
   ]
  },
  {
   "cell_type": "code",
   "execution_count": 8,
   "metadata": {},
   "outputs": [
    {
     "data": {
      "text/plain": [
       "295"
      ]
     },
     "execution_count": 8,
     "metadata": {},
     "output_type": "execute_result"
    }
   ],
   "source": [
    "import scipy.stats as stats\n",
    "np.random.seed(0) #фиксация случайности\n",
    "\n",
    "mens  = stats.norm.rvs(loc=171, scale=10, size=150000)  # Выборка мужчин со средним ростом 171\n",
    "womens = stats.norm.rvs(loc=170, scale=10, size=150000)  # Выборка женщин со средним ростом 170\n",
    "#В двух строчках выше генерируется две выбороки, где loc это среднее значение, а scale это дисперсия\n",
    "\n",
    "k=0\n",
    "\n",
    "for i in range(1000):\n",
    "    mens  = stats.norm.rvs(loc=171, scale=10, size=1500)  # Выборка мужчин со средним ростом 171\n",
    "    womens = stats.norm.rvs(loc=170, scale=10, size=1500)  # Выборка женщин со средним ростом 170\n",
    "    t, p = stats.ttest_ind(mens,womens)\n",
    "    if p < 0.001:\n",
    "        k+=1\n",
    "\n",
    "k"
   ]
  },
  {
   "cell_type": "code",
   "execution_count": 9,
   "metadata": {},
   "outputs": [
    {
     "name": "stdout",
     "output_type": "stream",
     "text": [
      "27.012163855813704 1.6583731683259572e-160\n"
     ]
    }
   ],
   "source": [
    "mens  = stats.norm.rvs(loc=171, scale=10, size=150000)  # Выборка мужчин со средним ростом 171\n",
    "womens = stats.norm.rvs(loc=170, scale=10, size=150000)  # Выборка женщин со средним ростом 170\n",
    "\n",
    "t, p = stats.ttest_ind(mens,womens)\n",
    "print(t, p)"
   ]
  },
  {
   "cell_type": "code",
   "execution_count": 10,
   "metadata": {},
   "outputs": [
    {
     "data": {
      "text/plain": [
       "(array([4.4000e+01, 2.5300e+02, 1.2610e+03, 4.6700e+03, 1.2048e+04,\n",
       "        2.2856e+04, 3.1940e+04, 3.2425e+04, 2.3921e+04, 1.3298e+04,\n",
       "        5.3320e+03, 1.5310e+03, 3.4600e+02, 6.9000e+01, 6.0000e+00]),\n",
       " array([130.01985562, 135.68332118, 141.34678674, 147.0102523 ,\n",
       "        152.67371786, 158.33718342, 164.00064898, 169.66411454,\n",
       "        175.3275801 , 180.99104566, 186.65451122, 192.31797678,\n",
       "        197.98144234, 203.6449079 , 209.30837346, 214.97183902]),\n",
       " <BarContainer object of 15 artists>)"
      ]
     },
     "execution_count": 10,
     "metadata": {},
     "output_type": "execute_result"
    },
    {
     "data": {
      "image/png": "[encoded data removed]",
      "text/plain": [
       "<Figure size 432x288 with 1 Axes>"
      ]
     },
     "metadata": {
      "needs_background": "light"
     },
     "output_type": "display_data"
    }
   ],
   "source": [
    "plt.hist(mens, bins=15)\n",
    "plt.hist(womens, bins=15)"
   ]
  },
  {
   "cell_type": "markdown",
   "metadata": {},
   "source": [
    "Условие задачи составлено не корректно. Тест Стьюдента показывает случайность полученных различий, о их величине можно судить только косвенно. В данном случае значение статистики составляет p = 27.01, можно сделать вывод о небольших различиях между выборками, что подверждается графиком.\n",
    "Т.к. p = 2.199757638105596e-185 отклоняем нулевую гипотезу. Различие между выборками, вероятно, не случайно при уровне значимости 𝛼  = 0.001."
   ]
  },
  {
   "cell_type": "markdown",
   "metadata": {},
   "source": [
    "### 3. Определите объем необходимой выборки для исследования среднего чека за кофе в случайном городе, если известно, что в этом городе стандартное отклонение = 150, уровень доверия = 95%. Погрешность 50 рублей. "
   ]
  },
  {
   "cell_type": "markdown",
   "metadata": {},
   "source": [
    "<div class=\"alert alert-info\">\n",
    "<b>Задание № 3</b>\n",
    "\n",
    "Определите объем необходимой выборки для исследования среднего чека за кофе в случайном городе если известно, что в этом городе:\n",
    "\n",
    "- стандартное отклонение $\\sigma = 150$;\n",
    "- уровень доверия $\\beta$  = 95%;\n",
    "- Погрешность $\\Delta = 50$ рублей.\n",
    "</div>"
   ]
  },
  {
   "cell_type": "code",
   "execution_count": 11,
   "metadata": {},
   "outputs": [
    {
     "data": {
      "text/plain": [
       "34"
      ]
     },
     "execution_count": 11,
     "metadata": {},
     "output_type": "execute_result"
    }
   ],
   "source": [
    "sigma = 150  # Стандартное отклонение\n",
    "Z = 1.96          # Квантиль нормального распределения при 𝛽 = 0.95. \n",
    "Delta = 50        # Погрешность\n",
    "\n",
    "n_coffe = int(((sigma*Z)/Delta)**2)\n",
    "n_coffe"
   ]
  },
  {
   "cell_type": "markdown",
   "metadata": {},
   "source": [
    "<div class=\"alert alert-info\">\n",
    "<b>Задание № 4</b>\n",
    "\n",
    "Представьте, что вы хотите разоблачить \"волшебника\" который считает, что умеет предсказывать погоду на завтра, отвечая просто: дождь или солнце. Вы пронаблюдали за ответами \"волшебника\" в течении какого-то периода времени и получили некие результаты (см.ниже).\n",
    "\n",
    "Можно ли сказать, что маг действительно умеет предсказывать погоду? Уровень значимости принять за `0.05` ($\\alpha=0.05$).\n",
    "</div>"
   ]
  },
  {
   "cell_type": "code",
   "execution_count": 12,
   "metadata": {
    "scrolled": true
   },
   "outputs": [
    {
     "data": {
      "text/html": [
       "<div>\n",
       "<style scoped>\n",
       "    .dataframe tbody tr th:only-of-type {\n",
       "        vertical-align: middle;\n",
       "    }\n",
       "\n",
       "    .dataframe tbody tr th {\n",
       "        vertical-align: top;\n",
       "    }\n",
       "\n",
       "    .dataframe thead th {\n",
       "        text-align: right;\n",
       "    }\n",
       "</style>\n",
       "<table border=\"1\" class=\"dataframe\">\n",
       "  <thead>\n",
       "    <tr style=\"text-align: right;\">\n",
       "      <th></th>\n",
       "      <th>Верные ответы волшебника</th>\n",
       "      <th>Неверные ответы</th>\n",
       "    </tr>\n",
       "  </thead>\n",
       "  <tbody>\n",
       "    <tr>\n",
       "      <th>Дождь</th>\n",
       "      <td>10</td>\n",
       "      <td>15</td>\n",
       "    </tr>\n",
       "    <tr>\n",
       "      <th>Солнце</th>\n",
       "      <td>39</td>\n",
       "      <td>34</td>\n",
       "    </tr>\n",
       "  </tbody>\n",
       "</table>\n",
       "</div>"
      ],
      "text/plain": [
       "        Верные ответы волшебника  Неверные ответы\n",
       "Дождь                         10               15\n",
       "Солнце                        39               34"
      ]
     },
     "execution_count": 12,
     "metadata": {},
     "output_type": "execute_result"
    }
   ],
   "source": [
    "observations = pd.DataFrame([[10, 15],[39, 34]],\n",
    "                            index=['Дождь','Солнце'],\n",
    "                            columns=['Верные ответы волшебника','Неверные ответы'])\n",
    "observations"
   ]
  },
  {
   "cell_type": "markdown",
   "metadata": {},
   "source": [
    "* H0: Предсказания волшебника случайны\n",
    "* H1: Волшебник действительно предсказывает погоду"
   ]
  },
  {
   "cell_type": "code",
   "execution_count": 13,
   "metadata": {},
   "outputs": [
    {
     "name": "stdout",
     "output_type": "stream",
     "text": [
      "Статистика=0.581, p=0.354\n",
      "Не отклоняем нулевую гипотезу, предсказания, вероятно, случайны\n"
     ]
    }
   ],
   "source": [
    "import scipy.stats as stats\n",
    "# Учтите, что у стат. тестов, в том числе и точного теста Фишера под нулевой гипотезой подразумевается случайность/отсутсвие эффекта\n",
    "\n",
    "oddsratio, pvalue = stats.fisher_exact(observations)\n",
    "\n",
    "print('Статистика=%.3f, p=%.3f' % (oddsratio, pvalue))\n",
    "if pvalue > 0.05:\n",
    "    print('Не отклоняем нулевую гипотезу, предсказания, вероятно, случайны')\n",
    "else:\n",
    "    print('Отклоняем нулевую гипотезу, вероятно, волшебник действительно предсказывает погоду')"
   ]
  },
  {
   "cell_type": "markdown",
   "metadata": {},
   "source": [
    "<div class=\"alert alert-info\">\n",
    "<b>Задание № 5</b> \n",
    "\n",
    "Используя функцию mean_confidence_interval(data, confidence), постройте доверительный интервал с уровнем доверия $\\beta = 90\\%$ для выборки:\n",
    "\n",
    "</div>"
   ]
  },
  {
   "cell_type": "code",
   "execution_count": 14,
   "metadata": {},
   "outputs": [],
   "source": [
    "def mean_confidence_interval(data, confidence=0.95): \n",
    "    n = len(data)\n",
    "    m, se = np.mean(data), stats.sem(data)\n",
    "    h = se * stats.t.ppf((1 + confidence)/2, n-1)  #  функция ppf из scipy возвращает нам перцентиль\n",
    "    return m-h, m, m+h "
   ]
  },
  {
   "cell_type": "code",
   "execution_count": 15,
   "metadata": {},
   "outputs": [
    {
     "name": "stdout",
     "output_type": "stream",
     "text": [
      "(6.07363110319857, 6.628571428571429, 7.183511753944288)\n"
     ]
    }
   ],
   "source": [
    "data = [4,5,8,9,6,7,5,6,7,8,5,6,7,0,9,8,4,6,\n",
    "        7,9,8,6,5,7,8,9,6,7,5,8,6,7,9,5,10]\n",
    "\n",
    "print(mean_confidence_interval(data, 0.90))"
   ]
  },
  {
   "cell_type": "markdown",
   "metadata": {},
   "source": [
    "<div class=\"alert alert-info\">\n",
    "<b>Задание № 6</b>\n",
    "\n",
    "Принадлежат ли выборки `A` и `B` одному множеству? \n",
    "    \n",
    "- Оцените это с помощью известных вам тестов для проверок статистических гипотез;\n",
    "- Покажите различия визуально.\n",
    "</div>"
   ]
  },
  {
   "cell_type": "code",
   "execution_count": 16,
   "metadata": {},
   "outputs": [
    {
     "name": "stdout",
     "output_type": "stream",
     "text": [
      "Тест Стьюдента для двух выборок\n",
      "Статистика=11.86523, p=0.00000\n",
      "Отклоняем нулевую гипотезу, средние, вероятно, различаются\n",
      "Тест Манна-Уитни\n",
      "Статистика=9280.50000, p=0.00000\n",
      "Отклоняем нулевую гипотезу, распределения, вероятно, различаются\n"
     ]
    }
   ],
   "source": [
    "A = [4,5,8,9,6,7,5,6,7,6,8,5,6,7,8,4,\n",
    "    6,7,9,8,6,5,7,8,6,7,5,6,8,6,7,5,\n",
    "    4,5,8,9,6,7,5,6,7,6,8,5,6,7,8,4,\n",
    "    6,7,9,8,6,5,7,8,6,7,5,6,8,6,7,5,\n",
    "    4,5,8,9,6,7,5,6,7,6,8,5,6,7,8,4,\n",
    "    6,7,9,8,6,5,7,8,6,7,5,6,8,6,7,5,\n",
    "    4,5,8,9,6,7,5,6,7,6,8,5,6,7,8,4]\n",
    "\n",
    "B = [5,6,7,8,4,6,7,2,6,5,7,5,3,5,3,\n",
    "    5,3,5,5,8,7,6,4,5,3,5,4,6,4,5,3,\n",
    "    2,6,4,3,5,4,3,4,5,4,3,4,5,4,3,4,\n",
    "    2,6,4,3,5,4,3,4,5,4,3,4,5,4,3,4,\n",
    "    3,4,4,1,2,4,3,2,4,3,2,1,5,3,4,6,\n",
    "    3,2,4,5,6,4,3,3,5,3,4,4,4,2,5,3]\n",
    "\n",
    "print('Тест Стьюдента для двух выборок')\n",
    "stat, p = stats.ttest_ind(A, B)\n",
    "\n",
    "print('Статистика=%.5f, p=%.5f' % (stat, p))\n",
    "if p > 0.05:\n",
    "    print('Не отклоняем нулевую гипотезу, средние, вероятно, одинаковые')\n",
    "else:\n",
    "    print('Отклоняем нулевую гипотезу, средние, вероятно, различаются')\n",
    " \n",
    "print('Тест Манна-Уитни')\n",
    "stat, p = stats.mannwhitneyu(A, B)\n",
    "\n",
    "print('Статистика=%.5f, p=%.5f' % (stat, p))\n",
    "if p > 0.05:\n",
    "    print('Не отклоняем нулевую гипотезу, распределения, вероятно, одинаковые')\n",
    "else:\n",
    "    print('Отклоняем нулевую гипотезу, распределения, вероятно, различаются')"
   ]
  },
  {
   "cell_type": "code",
   "execution_count": 17,
   "metadata": {},
   "outputs": [
    {
     "data": {
      "text/plain": [
       "Ttest_indResult(statistic=11.865233896372924, pvalue=4.623319592204015e-25)"
      ]
     },
     "execution_count": 17,
     "metadata": {},
     "output_type": "execute_result"
    },
    {
     "data": {
      "image/png": "[encoded data removed]",
      "text/plain": [
       "<Figure size 432x288 with 1 Axes>"
      ]
     },
     "metadata": {
      "needs_background": "light"
     },
     "output_type": "display_data"
    }
   ],
   "source": [
    "plt.hist(A);\n",
    "plt.hist(B);\n",
    "stats.ttest_ind(A,B)"
   ]
  },
  {
   "cell_type": "markdown",
   "metadata": {},
   "source": [
    "<div class=\"alert alert-info\">\n",
    "<b>Задание № 7 (задание без подвоха)</b>\n",
    "\n",
    "На примере датасета про жилье в New York City, мы сталкивались с примером, когда переменная имеет не совсем нормальное распределение. \n",
    "\n",
    "- Предположим, Вы сформировали две гипотезы:\n",
    "    - нулевая гипотеза - распределение нормальное;\n",
    "    - альтернативная гипотеза - распределение ненормальное.\n",
    "- допустим, вы применили какой-то тест (сейчас неважно какой), который показал уровень значимости  `p-value = 0.03`. Каковы будут ваши выводы? Будем считать что у нас нормальное распределение или все-таки нет?)\n",
    "    \n",
    "</div>"
   ]
  },
  {
   "cell_type": "code",
   "execution_count": 18,
   "metadata": {},
   "outputs": [],
   "source": [
    "### Ваши выводы: В зависимости от того, каким уровнем значимости мы задались, мы можем как отклонить нулевую гипотезу\n",
    "### и считать, что скорее всего распределение ненормальное, так и не отклонить нулевую гипотезу, что распределение нормальное."
   ]
  },
  {
   "cell_type": "markdown",
   "metadata": {},
   "source": [
    "<div class=\"alert alert-info\">\n",
    "<b>Задание № 8</b>\n",
    "    \n",
    "Первая выборка — это пациенты, которых лечили препаратом `А`.  Вторая выборка — пациенты, которых лечили препаратом `B`.\n",
    "\n",
    "Значения в выборках — это некоторая характеристика эффективности лечения (уровень метаболита в крови, температура через три дня после начала лечения, срок выздоровления, число койко-дней, и т.д.) \n",
    "\n",
    "- Требуется выяснить, имеется ли значимое различие эффективности препаратов `А` и `B`, или различия являются чисто случайными и объясняются «естественной» дисперсией выбранной характеристики?  (`уровень значимости принять за 0.05 (5%)`)\n",
    "\n",
    "- При каком минимальном p-value различия были бы уже значимы? \n",
    "    \n",
    "- Если выборки незначительно отличаются, то продемонстрируйте это визуально\n",
    "</div>"
   ]
  },
  {
   "cell_type": "code",
   "execution_count": 19,
   "metadata": {},
   "outputs": [
    {
     "name": "stdout",
     "output_type": "stream",
     "text": [
      "Статистика=-1.95301, p=0.05128\n",
      "Не отклоняем нулевую гипотезу, различия, вероятно, являются чисто случайными и объясняются «естественной» дисперсией выбранной характеристики\n"
     ]
    }
   ],
   "source": [
    "np.random.seed(11)\n",
    "A = stats.norm.rvs(scale=15, loc=169, size=300)\n",
    "B = stats.norm.rvs(scale=14, loc=171.4, size=300)\n",
    "\n",
    "### Ваш код:\n",
    "# Подсказка, обратите внимание на Two-sample T-test\n",
    "stat, p = stats.ttest_ind(A, B)\n",
    "\n",
    "print('Статистика=%.5f, p=%.5f' % (stat, p))\n",
    "if p > 0.05:\n",
    "    print('Не отклоняем нулевую гипотезу, различия, вероятно, являются чисто случайными и объясняются «естественной» дисперсией выбранной характеристики')\n",
    "else:\n",
    "    print('Отклоняем нулевую гипотезу, вероятно, имеется значимое различие эффективности препаратов')"
   ]
  },
  {
   "cell_type": "markdown",
   "metadata": {},
   "source": [
    "Различия были бы значимы при p-value < 0.05."
   ]
  },
  {
   "cell_type": "code",
   "execution_count": 20,
   "metadata": {},
   "outputs": [
    {
     "data": {
      "text/plain": [
       "(array([ 1.,  0.,  3.,  7., 10., 23., 25., 39., 52., 41., 41., 25., 19.,\n",
       "         7.,  7.]),\n",
       " array([122.95604119, 128.44510897, 133.93417676, 139.42324455,\n",
       "        144.91231234, 150.40138013, 155.89044792, 161.3795157 ,\n",
       "        166.86858349, 172.35765128, 177.84671907, 183.33578686,\n",
       "        188.82485464, 194.31392243, 199.80299022, 205.29205801]),\n",
       " <BarContainer object of 15 artists>)"
      ]
     },
     "execution_count": 20,
     "metadata": {},
     "output_type": "execute_result"
    },
    {
     "data": {
      "image/png": "[encoded data removed]",
      "text/plain": [
       "<Figure size 432x288 with 1 Axes>"
      ]
     },
     "metadata": {
      "needs_background": "light"
     },
     "output_type": "display_data"
    }
   ],
   "source": [
    "plt.hist(A, bins=15)\n",
    "plt.hist(B, bins=15)"
   ]
  }
 ],
 "metadata": {
  "kernelspec": {
   "display_name": "Python 3 (ipykernel)",
   "language": "python",
   "name": "python3"
  },
  "language_info": {
   "codemirror_mode": {
    "name": "ipython",
    "version": 3
   },
   "file_extension": ".py",
   "mimetype": "text/x-python",
   "name": "python",
   "nbconvert_exporter": "python",
   "pygments_lexer": "ipython3",
   "version": "3.9.12"
  },
  "toc": {
   "base_numbering": 1,
   "nav_menu": {},
   "number_sections": true,
   "sideBar": true,
   "skip_h1_title": false,
   "title_cell": "Table of Contents",
   "title_sidebar": "Contents",
   "toc_cell": false,
   "toc_position": {},
   "toc_section_display": true,
   "toc_window_display": false
  }
 },
 "nbformat": 4,
 "nbformat_minor": 4
}

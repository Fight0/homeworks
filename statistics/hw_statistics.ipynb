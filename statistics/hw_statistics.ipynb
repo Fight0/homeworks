{
 "cells": [
  {
   "cell_type": "markdown",
   "id": "03d76f82",
   "metadata": {},
   "source": [
    "## Домашнее задание к лекции \"Базовые понятия статистики\"\n",
    "Будем осуществлять работу с непростым [набором данных](https://raw.githubusercontent.com/obulygin/pyda_homeworks/master/statistics_basics/horse_data.csv) о состоянии здоровья лошадей, испытывающих кишечные колики. Цель – максимально корректно заполнить пропуски.\n",
    "\n",
    "### Задание 1. Загрузка данных\n",
    "Изучить представленный набор данных на основе [описания его столбцов](https://raw.githubusercontent.com/obulygin/pyda_homeworks/master/statistics_basics/horse_data.names), загрузить его и оставить 8 столбцов для дальнейшего изучения: \n",
    "\n",
    "    surgery?, Age, rectal temperature, pulse, respiratory rate, temperature of extremities, pain, outcome."
   ]
  },
  {
   "cell_type": "code",
   "execution_count": 1,
   "id": "edccafe4",
   "metadata": {},
   "outputs": [],
   "source": [
    "import pandas as pd"
   ]
  },
  {
   "cell_type": "code",
   "execution_count": 2,
   "id": "728218bb",
   "metadata": {},
   "outputs": [
    {
     "data": {
      "text/html": [
       "<div>\n",
       "<style scoped>\n",
       "    .dataframe tbody tr th:only-of-type {\n",
       "        vertical-align: middle;\n",
       "    }\n",
       "\n",
       "    .dataframe tbody tr th {\n",
       "        vertical-align: top;\n",
       "    }\n",
       "\n",
       "    .dataframe thead th {\n",
       "        text-align: right;\n",
       "    }\n",
       "</style>\n",
       "<table border=\"1\" class=\"dataframe\">\n",
       "  <thead>\n",
       "    <tr style=\"text-align: right;\">\n",
       "      <th></th>\n",
       "      <th>surgery?</th>\n",
       "      <th>Age</th>\n",
       "      <th>rectal temperature</th>\n",
       "      <th>pulse</th>\n",
       "      <th>respiratory rate</th>\n",
       "      <th>temperature of extremities</th>\n",
       "      <th>pain</th>\n",
       "      <th>outcome</th>\n",
       "    </tr>\n",
       "  </thead>\n",
       "  <tbody>\n",
       "    <tr>\n",
       "      <th>0</th>\n",
       "      <td>2.0</td>\n",
       "      <td>1</td>\n",
       "      <td>38.5</td>\n",
       "      <td>66.0</td>\n",
       "      <td>28.0</td>\n",
       "      <td>3.0</td>\n",
       "      <td>5.0</td>\n",
       "      <td>2.0</td>\n",
       "    </tr>\n",
       "    <tr>\n",
       "      <th>1</th>\n",
       "      <td>1.0</td>\n",
       "      <td>1</td>\n",
       "      <td>39.2</td>\n",
       "      <td>88.0</td>\n",
       "      <td>20.0</td>\n",
       "      <td>NaN</td>\n",
       "      <td>3.0</td>\n",
       "      <td>3.0</td>\n",
       "    </tr>\n",
       "    <tr>\n",
       "      <th>2</th>\n",
       "      <td>2.0</td>\n",
       "      <td>1</td>\n",
       "      <td>38.3</td>\n",
       "      <td>40.0</td>\n",
       "      <td>24.0</td>\n",
       "      <td>1.0</td>\n",
       "      <td>3.0</td>\n",
       "      <td>1.0</td>\n",
       "    </tr>\n",
       "    <tr>\n",
       "      <th>3</th>\n",
       "      <td>1.0</td>\n",
       "      <td>9</td>\n",
       "      <td>39.1</td>\n",
       "      <td>164.0</td>\n",
       "      <td>84.0</td>\n",
       "      <td>4.0</td>\n",
       "      <td>2.0</td>\n",
       "      <td>2.0</td>\n",
       "    </tr>\n",
       "    <tr>\n",
       "      <th>4</th>\n",
       "      <td>2.0</td>\n",
       "      <td>1</td>\n",
       "      <td>37.3</td>\n",
       "      <td>104.0</td>\n",
       "      <td>35.0</td>\n",
       "      <td>NaN</td>\n",
       "      <td>NaN</td>\n",
       "      <td>2.0</td>\n",
       "    </tr>\n",
       "  </tbody>\n",
       "</table>\n",
       "</div>"
      ],
      "text/plain": [
       "   surgery?  Age  rectal temperature  pulse  respiratory rate  \\\n",
       "0       2.0    1                38.5   66.0              28.0   \n",
       "1       1.0    1                39.2   88.0              20.0   \n",
       "2       2.0    1                38.3   40.0              24.0   \n",
       "3       1.0    9                39.1  164.0              84.0   \n",
       "4       2.0    1                37.3  104.0              35.0   \n",
       "\n",
       "   temperature of extremities  pain  outcome  \n",
       "0                         3.0   5.0      2.0  \n",
       "1                         NaN   3.0      3.0  \n",
       "2                         1.0   3.0      1.0  \n",
       "3                         4.0   2.0      2.0  \n",
       "4                         NaN   NaN      2.0  "
      ]
     },
     "execution_count": 2,
     "metadata": {},
     "output_type": "execute_result"
    }
   ],
   "source": [
    "df = pd.read_csv('D://Datasets//horse_data.csv', header=None, na_values='?').iloc[:, [0,1,3,4,5,6,10,22]]\n",
    "col_names = ['surgery?', 'Age', 'rectal temperature', 'pulse', 'respiratory rate', 'temperature of extremities', 'pain', 'outcome']\n",
    "df.columns = col_names\n",
    "df.head()"
   ]
  },
  {
   "cell_type": "code",
   "execution_count": 3,
   "id": "018223d5",
   "metadata": {},
   "outputs": [
    {
     "name": "stdout",
     "output_type": "stream",
     "text": [
      "<class 'pandas.core.frame.DataFrame'>\n",
      "RangeIndex: 300 entries, 0 to 299\n",
      "Data columns (total 8 columns):\n",
      " #   Column                      Non-Null Count  Dtype  \n",
      "---  ------                      --------------  -----  \n",
      " 0   surgery?                    299 non-null    float64\n",
      " 1   Age                         300 non-null    int64  \n",
      " 2   rectal temperature          240 non-null    float64\n",
      " 3   pulse                       276 non-null    float64\n",
      " 4   respiratory rate            242 non-null    float64\n",
      " 5   temperature of extremities  244 non-null    float64\n",
      " 6   pain                        245 non-null    float64\n",
      " 7   outcome                     299 non-null    float64\n",
      "dtypes: float64(7), int64(1)\n",
      "memory usage: 18.9 KB\n"
     ]
    }
   ],
   "source": [
    "df.info()"
   ]
  },
  {
   "cell_type": "markdown",
   "id": "491e289f",
   "metadata": {},
   "source": [
    "### Задание 2. Первичное изучение данных\n",
    "Проанализировать значения по столбцам, рассчитать базовые статистики, найти выбросы."
   ]
  },
  {
   "cell_type": "code",
   "execution_count": 4,
   "id": "5f992f18",
   "metadata": {
    "scrolled": true
   },
   "outputs": [
    {
     "data": {
      "text/html": [
       "<div>\n",
       "<style scoped>\n",
       "    .dataframe tbody tr th:only-of-type {\n",
       "        vertical-align: middle;\n",
       "    }\n",
       "\n",
       "    .dataframe tbody tr th {\n",
       "        vertical-align: top;\n",
       "    }\n",
       "\n",
       "    .dataframe thead th {\n",
       "        text-align: right;\n",
       "    }\n",
       "</style>\n",
       "<table border=\"1\" class=\"dataframe\">\n",
       "  <thead>\n",
       "    <tr style=\"text-align: right;\">\n",
       "      <th></th>\n",
       "      <th>surgery?</th>\n",
       "      <th>Age</th>\n",
       "      <th>rectal temperature</th>\n",
       "      <th>pulse</th>\n",
       "      <th>respiratory rate</th>\n",
       "      <th>temperature of extremities</th>\n",
       "      <th>pain</th>\n",
       "      <th>outcome</th>\n",
       "    </tr>\n",
       "  </thead>\n",
       "  <tbody>\n",
       "    <tr>\n",
       "      <th>count</th>\n",
       "      <td>299.000000</td>\n",
       "      <td>300.000000</td>\n",
       "      <td>240.000000</td>\n",
       "      <td>276.000000</td>\n",
       "      <td>242.000000</td>\n",
       "      <td>244.000000</td>\n",
       "      <td>245.00000</td>\n",
       "      <td>299.000000</td>\n",
       "    </tr>\n",
       "    <tr>\n",
       "      <th>mean</th>\n",
       "      <td>1.397993</td>\n",
       "      <td>1.640000</td>\n",
       "      <td>38.167917</td>\n",
       "      <td>71.913043</td>\n",
       "      <td>30.417355</td>\n",
       "      <td>2.348361</td>\n",
       "      <td>2.95102</td>\n",
       "      <td>1.551839</td>\n",
       "    </tr>\n",
       "    <tr>\n",
       "      <th>std</th>\n",
       "      <td>0.490305</td>\n",
       "      <td>2.173972</td>\n",
       "      <td>0.732289</td>\n",
       "      <td>28.630557</td>\n",
       "      <td>17.642231</td>\n",
       "      <td>1.045054</td>\n",
       "      <td>1.30794</td>\n",
       "      <td>0.737187</td>\n",
       "    </tr>\n",
       "    <tr>\n",
       "      <th>min</th>\n",
       "      <td>1.000000</td>\n",
       "      <td>1.000000</td>\n",
       "      <td>35.400000</td>\n",
       "      <td>30.000000</td>\n",
       "      <td>8.000000</td>\n",
       "      <td>1.000000</td>\n",
       "      <td>1.00000</td>\n",
       "      <td>1.000000</td>\n",
       "    </tr>\n",
       "    <tr>\n",
       "      <th>25%</th>\n",
       "      <td>1.000000</td>\n",
       "      <td>1.000000</td>\n",
       "      <td>37.800000</td>\n",
       "      <td>48.000000</td>\n",
       "      <td>18.500000</td>\n",
       "      <td>1.000000</td>\n",
       "      <td>2.00000</td>\n",
       "      <td>1.000000</td>\n",
       "    </tr>\n",
       "    <tr>\n",
       "      <th>50%</th>\n",
       "      <td>1.000000</td>\n",
       "      <td>1.000000</td>\n",
       "      <td>38.200000</td>\n",
       "      <td>64.000000</td>\n",
       "      <td>24.500000</td>\n",
       "      <td>3.000000</td>\n",
       "      <td>3.00000</td>\n",
       "      <td>1.000000</td>\n",
       "    </tr>\n",
       "    <tr>\n",
       "      <th>75%</th>\n",
       "      <td>2.000000</td>\n",
       "      <td>1.000000</td>\n",
       "      <td>38.500000</td>\n",
       "      <td>88.000000</td>\n",
       "      <td>36.000000</td>\n",
       "      <td>3.000000</td>\n",
       "      <td>4.00000</td>\n",
       "      <td>2.000000</td>\n",
       "    </tr>\n",
       "    <tr>\n",
       "      <th>max</th>\n",
       "      <td>2.000000</td>\n",
       "      <td>9.000000</td>\n",
       "      <td>40.800000</td>\n",
       "      <td>184.000000</td>\n",
       "      <td>96.000000</td>\n",
       "      <td>4.000000</td>\n",
       "      <td>5.00000</td>\n",
       "      <td>3.000000</td>\n",
       "    </tr>\n",
       "  </tbody>\n",
       "</table>\n",
       "</div>"
      ],
      "text/plain": [
       "         surgery?         Age  rectal temperature       pulse  \\\n",
       "count  299.000000  300.000000          240.000000  276.000000   \n",
       "mean     1.397993    1.640000           38.167917   71.913043   \n",
       "std      0.490305    2.173972            0.732289   28.630557   \n",
       "min      1.000000    1.000000           35.400000   30.000000   \n",
       "25%      1.000000    1.000000           37.800000   48.000000   \n",
       "50%      1.000000    1.000000           38.200000   64.000000   \n",
       "75%      2.000000    1.000000           38.500000   88.000000   \n",
       "max      2.000000    9.000000           40.800000  184.000000   \n",
       "\n",
       "       respiratory rate  temperature of extremities       pain     outcome  \n",
       "count        242.000000                  244.000000  245.00000  299.000000  \n",
       "mean          30.417355                    2.348361    2.95102    1.551839  \n",
       "std           17.642231                    1.045054    1.30794    0.737187  \n",
       "min            8.000000                    1.000000    1.00000    1.000000  \n",
       "25%           18.500000                    1.000000    2.00000    1.000000  \n",
       "50%           24.500000                    3.000000    3.00000    1.000000  \n",
       "75%           36.000000                    3.000000    4.00000    2.000000  \n",
       "max           96.000000                    4.000000    5.00000    3.000000  "
      ]
     },
     "execution_count": 4,
     "metadata": {},
     "output_type": "execute_result"
    }
   ],
   "source": [
    "df.describe()"
   ]
  },
  {
   "cell_type": "code",
   "execution_count": 5,
   "id": "31fcb6ea",
   "metadata": {},
   "outputs": [],
   "source": [
    "def stat(column):\n",
    "    \"\"\"\n",
    "    Функция выводит базовые статистики и выбросы\n",
    "    \"\"\"\n",
    "    \n",
    "    print(f'Среднее значение столбца {column.name} - {column.mean()}')\n",
    "    print(f'Медианное значение столбца {column.name} - {column.median()}')\n",
    "    print(f'Модальное значение столбца {column.name} - {column.mode()[0]}')\n",
    "    print(f'Стандартное отклонение столбца {column.name} - {column.std()}')\n",
    "    print(f'Дисперсия столбца {column.name} - {column.var()}')\n",
    "    \n",
    "    \n",
    "    q1 = column.quantile(0.25)\n",
    "    q3 = column.quantile(0.75)\n",
    "    iqr = q3 - q1\n",
    "    lower_bound = q1 - (1.5 * iqr) \n",
    "    upper_bound = q3 + (1.5 * iqr)\n",
    "    outliers = column[~column.between(lower_bound, upper_bound, inclusive=True)]\n",
    "    \n",
    "    if list(outliers[~outliers.isna()]):\n",
    "        print('Выбросы:')\n",
    "        print(outliers[~outliers.isna()])"
   ]
  },
  {
   "cell_type": "code",
   "execution_count": 6,
   "id": "02890195",
   "metadata": {},
   "outputs": [
    {
     "name": "stdout",
     "output_type": "stream",
     "text": [
      "Среднее значение столбца surgery? - 1.3979933110367893\n",
      "Медианное значение столбца surgery? - 1.0\n",
      "Модальное значение столбца surgery? - 1.0\n",
      "Стандартное отклонение столбца surgery? - 0.49030464432881815\n",
      "Дисперсия столбца surgery? - 0.24039864425040888\n"
     ]
    },
    {
     "name": "stderr",
     "output_type": "stream",
     "text": [
      "C:\\Users\\fight\\AppData\\Local\\Temp\\ipykernel_9288\\3807253217.py:18: FutureWarning: Boolean inputs to the `inclusive` argument are deprecated in favour of `both` or `neither`.\n",
      "  outliers = column[~column.between(lower_bound, upper_bound, inclusive=True)]\n"
     ]
    }
   ],
   "source": [
    "stat(df['surgery?'])"
   ]
  },
  {
   "cell_type": "code",
   "execution_count": 7,
   "id": "772c8eb7",
   "metadata": {},
   "outputs": [
    {
     "name": "stdout",
     "output_type": "stream",
     "text": [
      "Среднее значение столбца Age - 1.64\n",
      "Медианное значение столбца Age - 1.0\n",
      "Модальное значение столбца Age - 1\n",
      "Стандартное отклонение столбца Age - 2.1739719055576163\n",
      "Дисперсия столбца Age - 4.726153846153814\n",
      "Выбросы:\n",
      "3      9\n",
      "9      9\n",
      "13     9\n",
      "16     9\n",
      "23     9\n",
      "39     9\n",
      "41     9\n",
      "55     9\n",
      "74     9\n",
      "75     9\n",
      "82     9\n",
      "103    9\n",
      "109    9\n",
      "135    9\n",
      "191    9\n",
      "212    9\n",
      "227    9\n",
      "229    9\n",
      "244    9\n",
      "252    9\n",
      "255    9\n",
      "262    9\n",
      "275    9\n",
      "287    9\n",
      "Name: Age, dtype: int64\n"
     ]
    },
    {
     "name": "stderr",
     "output_type": "stream",
     "text": [
      "C:\\Users\\fight\\AppData\\Local\\Temp\\ipykernel_9288\\3807253217.py:18: FutureWarning: Boolean inputs to the `inclusive` argument are deprecated in favour of `both` or `neither`.\n",
      "  outliers = column[~column.between(lower_bound, upper_bound, inclusive=True)]\n"
     ]
    }
   ],
   "source": [
    "stat(df['Age'])"
   ]
  },
  {
   "cell_type": "code",
   "execution_count": 8,
   "id": "298ed8cf",
   "metadata": {},
   "outputs": [
    {
     "data": {
      "text/plain": [
       "1    276\n",
       "9     24\n",
       "Name: Age, dtype: int64"
      ]
     },
     "execution_count": 8,
     "metadata": {},
     "output_type": "execute_result"
    }
   ],
   "source": [
    "df['Age'].value_counts()"
   ]
  },
  {
   "cell_type": "code",
   "execution_count": 9,
   "id": "b80d4a4e",
   "metadata": {},
   "outputs": [
    {
     "name": "stdout",
     "output_type": "stream",
     "text": [
      "Среднее значение столбца Age - 1.08\n",
      "Медианное значение столбца Age - 1.0\n",
      "Модальное значение столбца Age - 1\n",
      "Стандартное отклонение столбца Age - 0.27174648819470204\n",
      "Дисперсия столбца Age - 0.07384615384615334\n",
      "Выбросы:\n",
      "3      2\n",
      "9      2\n",
      "13     2\n",
      "16     2\n",
      "23     2\n",
      "39     2\n",
      "41     2\n",
      "55     2\n",
      "74     2\n",
      "75     2\n",
      "82     2\n",
      "103    2\n",
      "109    2\n",
      "135    2\n",
      "191    2\n",
      "212    2\n",
      "227    2\n",
      "229    2\n",
      "244    2\n",
      "252    2\n",
      "255    2\n",
      "262    2\n",
      "275    2\n",
      "287    2\n",
      "Name: Age, dtype: int64\n"
     ]
    },
    {
     "name": "stderr",
     "output_type": "stream",
     "text": [
      "C:\\Users\\fight\\AppData\\Local\\Temp\\ipykernel_9288\\3807253217.py:18: FutureWarning: Boolean inputs to the `inclusive` argument are deprecated in favour of `both` or `neither`.\n",
      "  outliers = column[~column.between(lower_bound, upper_bound, inclusive=True)]\n"
     ]
    }
   ],
   "source": [
    "\"\"\"\n",
    "т.к., согласно описанию, столбец Age может содержать только значения '1' или '2',\n",
    "можно предположить,что в данных ошибка и 24 значения '9' на самом деле являются значениями '2'\n",
    "\"\"\"\n",
    "df['Age'] = df['Age'].replace(9, 2)\n",
    "stat(df['Age'])"
   ]
  },
  {
   "cell_type": "code",
   "execution_count": 10,
   "id": "e47816a9",
   "metadata": {},
   "outputs": [
    {
     "name": "stderr",
     "output_type": "stream",
     "text": [
      "C:\\Users\\fight\\AppData\\Local\\Temp\\ipykernel_9288\\3807253217.py:18: FutureWarning: Boolean inputs to the `inclusive` argument are deprecated in favour of `both` or `neither`.\n",
      "  outliers = column[~column.between(lower_bound, upper_bound, inclusive=True)]\n"
     ]
    },
    {
     "name": "stdout",
     "output_type": "stream",
     "text": [
      "Среднее значение столбца rectal temperature - 38.16791666666669\n",
      "Медианное значение столбца rectal temperature - 38.2\n",
      "Модальное значение столбца rectal temperature - 38.0\n",
      "Стандартное отклонение столбца rectal temperature - 0.7322886641121578\n",
      "Дисперсия столбца rectal temperature - 0.5362466875871686\n",
      "Выбросы:\n",
      "20     39.9\n",
      "44     35.4\n",
      "54     40.3\n",
      "75     39.7\n",
      "80     36.4\n",
      "91     40.3\n",
      "99     39.6\n",
      "118    36.5\n",
      "141    36.0\n",
      "238    36.1\n",
      "251    36.6\n",
      "259    40.8\n",
      "281    40.0\n",
      "298    36.5\n",
      "Name: rectal temperature, dtype: float64\n"
     ]
    }
   ],
   "source": [
    "stat(df['rectal temperature'])"
   ]
  },
  {
   "cell_type": "code",
   "execution_count": 11,
   "id": "439b734d",
   "metadata": {},
   "outputs": [
    {
     "name": "stdout",
     "output_type": "stream",
     "text": [
      "Среднее значение столбца pulse - 71.91304347826087\n",
      "Медианное значение столбца pulse - 64.0\n",
      "Модальное значение столбца pulse - 48.0\n",
      "Стандартное отклонение столбца pulse - 28.630556660735003\n",
      "Дисперсия столбца pulse - 819.7087747035575\n",
      "Выбросы:\n",
      "3      164.0\n",
      "41     150.0\n",
      "55     160.0\n",
      "255    184.0\n",
      "275    150.0\n",
      "Name: pulse, dtype: float64\n"
     ]
    },
    {
     "name": "stderr",
     "output_type": "stream",
     "text": [
      "C:\\Users\\fight\\AppData\\Local\\Temp\\ipykernel_9288\\3807253217.py:18: FutureWarning: Boolean inputs to the `inclusive` argument are deprecated in favour of `both` or `neither`.\n",
      "  outliers = column[~column.between(lower_bound, upper_bound, inclusive=True)]\n"
     ]
    }
   ],
   "source": [
    "stat(df['pulse'])"
   ]
  },
  {
   "cell_type": "code",
   "execution_count": 12,
   "id": "2014c78c",
   "metadata": {},
   "outputs": [
    {
     "name": "stdout",
     "output_type": "stream",
     "text": [
      "Среднее значение столбца respiratory rate - 30.417355371900825\n",
      "Медианное значение столбца respiratory rate - 24.5\n",
      "Модальное значение столбца respiratory rate - 20.0\n",
      "Стандартное отклонение столбца respiratory rate - 17.642231385134664\n",
      "Дисперсия столбца respiratory rate - 311.24832824663054\n",
      "Выбросы:\n",
      "3      84.0\n",
      "39     96.0\n",
      "41     72.0\n",
      "82     80.0\n",
      "84     80.0\n",
      "103    68.0\n",
      "106    96.0\n",
      "120    66.0\n",
      "125    68.0\n",
      "186    90.0\n",
      "208    80.0\n",
      "229    70.0\n",
      "244    88.0\n",
      "255    84.0\n",
      "265    68.0\n",
      "269    90.0\n",
      "295    70.0\n",
      "Name: respiratory rate, dtype: float64\n"
     ]
    },
    {
     "name": "stderr",
     "output_type": "stream",
     "text": [
      "C:\\Users\\fight\\AppData\\Local\\Temp\\ipykernel_9288\\3807253217.py:18: FutureWarning: Boolean inputs to the `inclusive` argument are deprecated in favour of `both` or `neither`.\n",
      "  outliers = column[~column.between(lower_bound, upper_bound, inclusive=True)]\n"
     ]
    }
   ],
   "source": [
    "stat(df['respiratory rate'])"
   ]
  },
  {
   "cell_type": "code",
   "execution_count": 13,
   "id": "5579cb7e",
   "metadata": {},
   "outputs": [
    {
     "name": "stdout",
     "output_type": "stream",
     "text": [
      "Среднее значение столбца temperature of extremities - 2.348360655737705\n",
      "Медианное значение столбца temperature of extremities - 3.0\n",
      "Модальное значение столбца temperature of extremities - 3.0\n",
      "Стандартное отклонение столбца temperature of extremities - 1.0450536920112758\n",
      "Дисперсия столбца temperature of extremities - 1.0921372191863987\n"
     ]
    },
    {
     "name": "stderr",
     "output_type": "stream",
     "text": [
      "C:\\Users\\fight\\AppData\\Local\\Temp\\ipykernel_9288\\3807253217.py:18: FutureWarning: Boolean inputs to the `inclusive` argument are deprecated in favour of `both` or `neither`.\n",
      "  outliers = column[~column.between(lower_bound, upper_bound, inclusive=True)]\n"
     ]
    }
   ],
   "source": [
    "stat(df['temperature of extremities'])"
   ]
  },
  {
   "cell_type": "code",
   "execution_count": 14,
   "id": "f54942fc",
   "metadata": {},
   "outputs": [
    {
     "name": "stdout",
     "output_type": "stream",
     "text": [
      "Среднее значение столбца pain - 2.951020408163265\n",
      "Медианное значение столбца pain - 3.0\n",
      "Модальное значение столбца pain - 3.0\n",
      "Стандартное отклонение столбца pain - 1.3079395711243502\n",
      "Дисперсия столбца pain - 1.710705921712949\n"
     ]
    },
    {
     "name": "stderr",
     "output_type": "stream",
     "text": [
      "C:\\Users\\fight\\AppData\\Local\\Temp\\ipykernel_9288\\3807253217.py:18: FutureWarning: Boolean inputs to the `inclusive` argument are deprecated in favour of `both` or `neither`.\n",
      "  outliers = column[~column.between(lower_bound, upper_bound, inclusive=True)]\n"
     ]
    }
   ],
   "source": [
    "stat(df['pain'])"
   ]
  },
  {
   "cell_type": "code",
   "execution_count": 15,
   "id": "d6cc6a79",
   "metadata": {},
   "outputs": [
    {
     "name": "stdout",
     "output_type": "stream",
     "text": [
      "Среднее значение столбца outcome - 1.5518394648829432\n",
      "Медианное значение столбца outcome - 1.0\n",
      "Модальное значение столбца outcome - 1.0\n",
      "Стандартное отклонение столбца outcome - 0.7371869448054933\n",
      "Дисперсия столбца outcome - 0.5434445915916574\n"
     ]
    },
    {
     "name": "stderr",
     "output_type": "stream",
     "text": [
      "C:\\Users\\fight\\AppData\\Local\\Temp\\ipykernel_9288\\3807253217.py:18: FutureWarning: Boolean inputs to the `inclusive` argument are deprecated in favour of `both` or `neither`.\n",
      "  outliers = column[~column.between(lower_bound, upper_bound, inclusive=True)]\n"
     ]
    }
   ],
   "source": [
    "stat(df['outcome'])"
   ]
  },
  {
   "cell_type": "markdown",
   "id": "0e2b9805",
   "metadata": {},
   "source": [
    "### Задание 3. Работа с пропусками\n",
    "Рассчитать количество пропусков для всех выбранных столбцов. Принять и обосновать решение о методе заполнения пропусков по каждому столбцу на основе рассчитанных статистик и возможной взаимосвязи значений в них. Сформировать датафрейм, в котором пропуски будут отсутствовать."
   ]
  },
  {
   "cell_type": "code",
   "execution_count": 16,
   "id": "8ca23c97",
   "metadata": {},
   "outputs": [
    {
     "data": {
      "text/html": [
       "<div>\n",
       "<style scoped>\n",
       "    .dataframe tbody tr th:only-of-type {\n",
       "        vertical-align: middle;\n",
       "    }\n",
       "\n",
       "    .dataframe tbody tr th {\n",
       "        vertical-align: top;\n",
       "    }\n",
       "\n",
       "    .dataframe thead th {\n",
       "        text-align: right;\n",
       "    }\n",
       "</style>\n",
       "<table border=\"1\" class=\"dataframe\">\n",
       "  <thead>\n",
       "    <tr style=\"text-align: right;\">\n",
       "      <th></th>\n",
       "      <th>surgery?</th>\n",
       "      <th>Age</th>\n",
       "      <th>rectal temperature</th>\n",
       "      <th>pulse</th>\n",
       "      <th>respiratory rate</th>\n",
       "      <th>temperature of extremities</th>\n",
       "      <th>pain</th>\n",
       "      <th>outcome</th>\n",
       "    </tr>\n",
       "  </thead>\n",
       "  <tbody>\n",
       "    <tr>\n",
       "      <th>False</th>\n",
       "      <td>299</td>\n",
       "      <td>300.0</td>\n",
       "      <td>240</td>\n",
       "      <td>276</td>\n",
       "      <td>242</td>\n",
       "      <td>244</td>\n",
       "      <td>245</td>\n",
       "      <td>299</td>\n",
       "    </tr>\n",
       "    <tr>\n",
       "      <th>True</th>\n",
       "      <td>1</td>\n",
       "      <td>NaN</td>\n",
       "      <td>60</td>\n",
       "      <td>24</td>\n",
       "      <td>58</td>\n",
       "      <td>56</td>\n",
       "      <td>55</td>\n",
       "      <td>1</td>\n",
       "    </tr>\n",
       "  </tbody>\n",
       "</table>\n",
       "</div>"
      ],
      "text/plain": [
       "       surgery?    Age  rectal temperature  pulse  respiratory rate  \\\n",
       "False       299  300.0                 240    276               242   \n",
       "True          1    NaN                  60     24                58   \n",
       "\n",
       "       temperature of extremities  pain  outcome  \n",
       "False                         244   245      299  \n",
       "True                           56    55        1  "
      ]
     },
     "execution_count": 16,
     "metadata": {},
     "output_type": "execute_result"
    }
   ],
   "source": [
    "df.isna().apply(lambda x: x.value_counts())"
   ]
  },
  {
   "cell_type": "code",
   "execution_count": 17,
   "id": "36bc897c",
   "metadata": {},
   "outputs": [
    {
     "data": {
      "text/html": [
       "<div>\n",
       "<style scoped>\n",
       "    .dataframe tbody tr th:only-of-type {\n",
       "        vertical-align: middle;\n",
       "    }\n",
       "\n",
       "    .dataframe tbody tr th {\n",
       "        vertical-align: top;\n",
       "    }\n",
       "\n",
       "    .dataframe thead th {\n",
       "        text-align: right;\n",
       "    }\n",
       "</style>\n",
       "<table border=\"1\" class=\"dataframe\">\n",
       "  <thead>\n",
       "    <tr style=\"text-align: right;\">\n",
       "      <th></th>\n",
       "      <th>surgery?</th>\n",
       "      <th>Age</th>\n",
       "      <th>rectal temperature</th>\n",
       "      <th>pulse</th>\n",
       "      <th>respiratory rate</th>\n",
       "      <th>temperature of extremities</th>\n",
       "      <th>pain</th>\n",
       "      <th>outcome</th>\n",
       "    </tr>\n",
       "  </thead>\n",
       "  <tbody>\n",
       "    <tr>\n",
       "      <th>132</th>\n",
       "      <td>NaN</td>\n",
       "      <td>1</td>\n",
       "      <td>38.0</td>\n",
       "      <td>48.0</td>\n",
       "      <td>20.0</td>\n",
       "      <td>3.0</td>\n",
       "      <td>4.0</td>\n",
       "      <td>NaN</td>\n",
       "    </tr>\n",
       "  </tbody>\n",
       "</table>\n",
       "</div>"
      ],
      "text/plain": [
       "     surgery?  Age  rectal temperature  pulse  respiratory rate  \\\n",
       "132       NaN    1                38.0   48.0              20.0   \n",
       "\n",
       "     temperature of extremities  pain  outcome  \n",
       "132                         3.0   4.0      NaN  "
      ]
     },
     "execution_count": 17,
     "metadata": {},
     "output_type": "execute_result"
    }
   ],
   "source": [
    "df[df['outcome'].isna()]"
   ]
  },
  {
   "cell_type": "code",
   "execution_count": 18,
   "id": "10a40ac1",
   "metadata": {},
   "outputs": [],
   "source": [
    "# т.к. нет данных, оперировалась ли лошадь и это категориальная величина, заполним пропуск модальным значением\n",
    "df['surgery?'] = df['surgery?'].fillna(df['surgery?'].mode()[0])"
   ]
  },
  {
   "cell_type": "code",
   "execution_count": 19,
   "id": "815f9873",
   "metadata": {},
   "outputs": [],
   "source": [
    "# т.к. среднее и медианное значение столбца rectal temperature близки, заполним пропуски медианным значением\n",
    "df['rectal temperature'] = df['rectal temperature'].fillna(df['rectal temperature'].median())"
   ]
  },
  {
   "cell_type": "code",
   "execution_count": 20,
   "id": "10fd5d7c",
   "metadata": {},
   "outputs": [
    {
     "data": {
      "text/plain": [
       "Age\n",
       "1     60.0\n",
       "2    124.0\n",
       "Name: pulse, dtype: float64"
      ]
     },
     "execution_count": 20,
     "metadata": {},
     "output_type": "execute_result"
    }
   ],
   "source": [
    "df.groupby('Age')['pulse'].median()"
   ]
  },
  {
   "cell_type": "code",
   "execution_count": 21,
   "id": "37c17e67",
   "metadata": {},
   "outputs": [],
   "source": [
    "# т.к. значение пульса зависит от возраста, заполним пропуски медианным значением с группировкой по возрастной категории\n",
    "df['pulse'] = df['pulse'].fillna(df.groupby('Age')['pulse'].transform('median'))"
   ]
  },
  {
   "cell_type": "code",
   "execution_count": 22,
   "id": "c39769c6",
   "metadata": {},
   "outputs": [
    {
     "data": {
      "text/plain": [
       "Age\n",
       "1    24.0\n",
       "2    49.0\n",
       "Name: respiratory rate, dtype: float64"
      ]
     },
     "execution_count": 22,
     "metadata": {},
     "output_type": "execute_result"
    }
   ],
   "source": [
    "df.groupby('Age')['respiratory rate'].median()"
   ]
  },
  {
   "cell_type": "code",
   "execution_count": 23,
   "id": "aa6ee5c1",
   "metadata": {},
   "outputs": [],
   "source": [
    "# т.к. значение respiratory rate зависит от возраста, заполним пропуски медианным значением с группировкой по возрастной категории\n",
    "df['respiratory rate'] = df['respiratory rate'].fillna(df.groupby('Age')['respiratory rate'].transform('median'))"
   ]
  },
  {
   "cell_type": "code",
   "execution_count": 24,
   "id": "6b76ca7f",
   "metadata": {},
   "outputs": [],
   "source": [
    "# т.к. temperature of extremities - категориальная величина, заполним пропуск модальным значением\n",
    "df['temperature of extremities'] = df['temperature of extremities'].fillna(df['temperature of extremities'].mode()[0])"
   ]
  },
  {
   "cell_type": "code",
   "execution_count": 25,
   "id": "4849a0b7",
   "metadata": {},
   "outputs": [],
   "source": [
    "# т.к. pain - категориальная величина, заполним пропуск модальным значением\n",
    "df['pain'] = df['pain'].fillna(df['pain'].mode()[0])"
   ]
  },
  {
   "cell_type": "code",
   "execution_count": 26,
   "id": "007d034d",
   "metadata": {},
   "outputs": [],
   "source": [
    "# т.к. outcome - категориальная величина, заполним пропуск модальным значением\n",
    "df['outcome'] = df['outcome'].fillna(df['outcome'].mode()[0])"
   ]
  },
  {
   "cell_type": "code",
   "execution_count": 27,
   "id": "bf03a926",
   "metadata": {},
   "outputs": [
    {
     "name": "stdout",
     "output_type": "stream",
     "text": [
      "<class 'pandas.core.frame.DataFrame'>\n",
      "RangeIndex: 300 entries, 0 to 299\n",
      "Data columns (total 8 columns):\n",
      " #   Column                      Non-Null Count  Dtype  \n",
      "---  ------                      --------------  -----  \n",
      " 0   surgery?                    300 non-null    float64\n",
      " 1   Age                         300 non-null    int64  \n",
      " 2   rectal temperature          300 non-null    float64\n",
      " 3   pulse                       300 non-null    float64\n",
      " 4   respiratory rate            300 non-null    float64\n",
      " 5   temperature of extremities  300 non-null    float64\n",
      " 6   pain                        300 non-null    float64\n",
      " 7   outcome                     300 non-null    float64\n",
      "dtypes: float64(7), int64(1)\n",
      "memory usage: 18.9 KB\n"
     ]
    }
   ],
   "source": [
    "df.info()"
   ]
  }
 ],
 "metadata": {
  "kernelspec": {
   "display_name": "Python 3 (ipykernel)",
   "language": "python",
   "name": "python3"
  },
  "language_info": {
   "codemirror_mode": {
    "name": "ipython",
    "version": 3
   },
   "file_extension": ".py",
   "mimetype": "text/x-python",
   "name": "python",
   "nbconvert_exporter": "python",
   "pygments_lexer": "ipython3",
   "version": "3.9.12"
  }
 },
 "nbformat": 4,
 "nbformat_minor": 5
}

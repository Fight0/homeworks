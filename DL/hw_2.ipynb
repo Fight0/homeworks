{
 "cells": [
  {
   "cell_type": "markdown",
   "id": "46c1e5ff-4662-4123-a014-09f29e1e600a",
   "metadata": {},
   "source": [
    "## Задание\n",
    "\r\n",
    "Постройте модель на основе полносвязных слоёв для классификации Fashion MNIST из библиотеки torchvision [(dataset](https://pytorch.org/vision/stable/datasets.html)s).\r\n",
    "Получите качество на тестовой выборке не ниже 88%"
   ]
  },
  {
   "cell_type": "markdown",
   "id": "1f733973-9daa-4323-8435-9015d971a0ff",
   "metadata": {},
   "source": [
    "Инструкция по выполнению задания\n",
    "\n",
    "1. Скачайте тренировочную и тестовою часть датасета Fashion MNIST\n",
    "2. Постройте модель, выбрав стартовую архитектуру\n",
    "3. Обучите модель и сверьте качество на тестовой части с заданным порогом\n",
    "4. Изменяйте архитектуру модели пока качество на тестовой части не будет выше порога. Вариации архитектуры можно реализовать через изменение количества слоёв, количества нейронов в слоях и использование регуляризации. Можно использовать различные оптимизаторы.\n"
   ]
  },
  {
   "cell_type": "code",
   "execution_count": 1,
   "id": "a1106093-d042-4812-bcd5-a6e7453e3875",
   "metadata": {},
   "outputs": [],
   "source": [
    "import matplotlib.pyplot as plt\n",
    "%matplotlib inline\n",
    "import warnings\n",
    "warnings.filterwarnings('ignore')\n",
    "import torch\n",
    "import torchvision as tv\n",
    "import numpy as np\n",
    "import random\n",
    "import time"
   ]
  },
  {
   "cell_type": "code",
   "execution_count": 2,
   "id": "3db7cc23-c788-4159-bd96-765b041c73a8",
   "metadata": {},
   "outputs": [],
   "source": [
    "BATCH_SIZE=256"
   ]
  },
  {
   "cell_type": "code",
   "execution_count": 3,
   "id": "42617e10-4b7f-4df4-add3-63fcf8f9b784",
   "metadata": {},
   "outputs": [],
   "source": [
    "train_dataset = tv.datasets.FashionMNIST('.', train=True, transform=tv.transforms.ToTensor(), download=True)\n",
    "test_dataset = tv.datasets.FashionMNIST('.', train=False, transform=tv.transforms.ToTensor(), download=True)\n",
    "train = torch.utils.data.DataLoader(train_dataset, batch_size=BATCH_SIZE)\n",
    "test = torch.utils.data.DataLoader(test_dataset, batch_size=BATCH_SIZE)"
   ]
  },
  {
   "cell_type": "code",
   "execution_count": 4,
   "id": "525a277f-5ae7-4ccd-a9f8-8b652bb380d7",
   "metadata": {},
   "outputs": [
    {
     "data": {
      "text/plain": [
       "torch.Size([1, 28, 28])"
      ]
     },
     "execution_count": 4,
     "metadata": {},
     "output_type": "execute_result"
    }
   ],
   "source": [
    "train_dataset[0][0].shape"
   ]
  },
  {
   "cell_type": "code",
   "execution_count": 5,
   "id": "e3f87572-494e-4c52-8c58-fb4a3be70c6c",
   "metadata": {},
   "outputs": [],
   "source": [
    "model = torch.nn.Sequential(\n",
    "    torch.nn.Flatten(),\n",
    "    torch.nn.Linear(784, 1024),\n",
    "    torch.nn.ReLU(),\n",
    "    torch.nn.BatchNorm1d(1024),\n",
    "    torch.nn.Linear(1024, 512),\n",
    "    torch.nn.ReLU(),\n",
    "    torch.nn.BatchNorm1d(512),\n",
    "    torch.nn.Linear(512, 256),\n",
    "    torch.nn.ReLU(),\n",
    "    torch.nn.BatchNorm1d(256),\n",
    "    torch.nn.Linear(256, 10)\n",
    ")"
   ]
  },
  {
   "cell_type": "code",
   "execution_count": 6,
   "id": "5463afa5-425d-4d1e-9dcb-e8be8f3becfc",
   "metadata": {},
   "outputs": [
    {
     "data": {
      "text/plain": [
       "Sequential(\n",
       "  (0): Flatten(start_dim=1, end_dim=-1)\n",
       "  (1): Linear(in_features=784, out_features=1024, bias=True)\n",
       "  (2): ReLU()\n",
       "  (3): BatchNorm1d(1024, eps=1e-05, momentum=0.1, affine=True, track_running_stats=True)\n",
       "  (4): Linear(in_features=1024, out_features=512, bias=True)\n",
       "  (5): ReLU()\n",
       "  (6): BatchNorm1d(512, eps=1e-05, momentum=0.1, affine=True, track_running_stats=True)\n",
       "  (7): Linear(in_features=512, out_features=256, bias=True)\n",
       "  (8): ReLU()\n",
       "  (9): BatchNorm1d(256, eps=1e-05, momentum=0.1, affine=True, track_running_stats=True)\n",
       "  (10): Linear(in_features=256, out_features=10, bias=True)\n",
       ")"
      ]
     },
     "execution_count": 6,
     "metadata": {},
     "output_type": "execute_result"
    }
   ],
   "source": [
    "model"
   ]
  },
  {
   "cell_type": "code",
   "execution_count": 7,
   "id": "b54723f3-8be7-44c8-9c65-8be8570907f9",
   "metadata": {},
   "outputs": [],
   "source": [
    "loss = torch.nn.CrossEntropyLoss()\n",
    "trainer = torch.optim.Adam(model.parameters(), lr=1e-5)"
   ]
  },
  {
   "cell_type": "code",
   "execution_count": 8,
   "id": "0d912092-21c5-47f1-91e2-1f66f1ed23b3",
   "metadata": {},
   "outputs": [],
   "source": [
    "def train_model(model, loss, trainer, train, test,  num_epochs = 10):\n",
    "    \n",
    "    if torch.cuda.is_available():\n",
    "        model = model.cuda()\n",
    "        loss = loss.cuda()\n",
    "        print(\"Model will be training on GPU\")\n",
    "    else:\n",
    "        print(\"Model will be training on CPU\")\n",
    "        \n",
    "    for ep in range(num_epochs):\n",
    "        train_iters, train_passed  = 0, 0\n",
    "        train_loss, train_acc = 0., 0.\n",
    "        start=time.time()\n",
    "        \n",
    "        model.train()\n",
    "        for X, y in train:\n",
    "            if torch.cuda.is_available():\n",
    "                X = X.cuda()\n",
    "                y = y.cuda()\n",
    "            trainer.zero_grad()\n",
    "            y_pred = model(X)\n",
    "            l = loss(y_pred, y)\n",
    "            l.backward()\n",
    "            trainer.step()\n",
    "            train_loss += l.item()\n",
    "            train_acc += (y_pred.argmax(dim=1) == y).sum().item()\n",
    "            train_iters += 1\n",
    "            train_passed += len(X)\n",
    "        \n",
    "        test_iters, test_passed  = 0, 0\n",
    "        test_loss, test_acc = 0., 0.\n",
    "        model.eval()\n",
    "        for X, y in test:\n",
    "            if torch.cuda.is_available():\n",
    "                X = X.cuda()\n",
    "                y = y.cuda()\n",
    "            y_pred = model(X)\n",
    "            l = loss(y_pred, y)\n",
    "            test_loss += l.item()\n",
    "            test_acc += (y_pred.argmax(dim=1) == y).sum().item()\n",
    "            test_iters += 1\n",
    "            test_passed += len(X)\n",
    "            \n",
    "        print(\"ep: {}, taked: {:.3f}, train_loss: {}, train_acc: {}, test_loss: {}, test_acc: {}\".format(\n",
    "            ep, time.time() - start, train_loss / train_iters, train_acc / train_passed,\n",
    "            test_loss / test_iters, test_acc / test_passed)\n",
    "        )"
   ]
  },
  {
   "cell_type": "code",
   "execution_count": 9,
   "id": "9eaa9edf-04a3-4cb8-9bae-abb12027f485",
   "metadata": {},
   "outputs": [],
   "source": [
    "examples = enumerate(test)\n",
    "batch_idx, (example_data, example_targets) = next(examples)"
   ]
  },
  {
   "cell_type": "code",
   "execution_count": 10,
   "id": "1e0810a0-fb5a-421e-be24-83017270aae9",
   "metadata": {},
   "outputs": [
    {
     "data": {
      "image/png": "[encoded data removed]",
      "text/plain": [
       "<Figure size 640x480 with 6 Axes>"
      ]
     },
     "metadata": {},
     "output_type": "display_data"
    }
   ],
   "source": [
    "fig = plt.figure()\n",
    "for i in range(6):\n",
    "  plt.subplot(2,3,i+1)\n",
    "  plt.tight_layout()\n",
    "  plt.imshow(example_data[i][0], cmap='gray', interpolation='none')\n",
    "  plt.title(\"Ground Truth: {}\".format(example_targets[i]))\n",
    "  plt.xticks([])\n",
    "  plt.yticks([])"
   ]
  },
  {
   "cell_type": "code",
   "execution_count": 11,
   "id": "e0a1fd42-f334-4d93-a325-0bacc0b24e99",
   "metadata": {},
   "outputs": [
    {
     "name": "stdout",
     "output_type": "stream",
     "text": [
      "Model will be training on GPU\n",
      "ep: 0, taked: 13.276, train_loss: 1.0001490283519663, train_acc: 0.7088833333333333, test_loss: 0.6428379759192466, test_acc: 0.8053\n",
      "ep: 1, taked: 16.138, train_loss: 0.5500190000584785, train_acc: 0.83035, test_loss: 0.5128350526094436, test_acc: 0.8331\n",
      "ep: 2, taked: 16.431, train_loss: 0.4560234674747954, train_acc: 0.8537333333333333, test_loss: 0.4585466757416725, test_acc: 0.8459\n",
      "ep: 3, taked: 16.339, train_loss: 0.4061582458780167, train_acc: 0.8675, test_loss: 0.4261684872210026, test_acc: 0.8556\n",
      "ep: 4, taked: 16.926, train_loss: 0.37241786502777263, train_acc: 0.8769166666666667, test_loss: 0.4040909893810749, test_acc: 0.862\n",
      "ep: 5, taked: 13.808, train_loss: 0.3469809244287775, train_acc: 0.8842166666666667, test_loss: 0.3880417637526989, test_acc: 0.8665\n",
      "ep: 6, taked: 13.752, train_loss: 0.32627419436231575, train_acc: 0.8908166666666667, test_loss: 0.3759670853614807, test_acc: 0.8689\n",
      "ep: 7, taked: 15.957, train_loss: 0.3085679799318314, train_acc: 0.8967166666666667, test_loss: 0.36616293862462046, test_acc: 0.8715\n",
      "ep: 8, taked: 16.030, train_loss: 0.29292074695546577, train_acc: 0.9021166666666667, test_loss: 0.3580478895455599, test_acc: 0.875\n",
      "ep: 9, taked: 16.020, train_loss: 0.27864257902541056, train_acc: 0.9069333333333334, test_loss: 0.35136669389903546, test_acc: 0.8768\n",
      "ep: 10, taked: 15.970, train_loss: 0.2655696391425234, train_acc: 0.9124666666666666, test_loss: 0.34542345255613327, test_acc: 0.878\n",
      "ep: 11, taked: 16.006, train_loss: 0.2532649238058861, train_acc: 0.9168833333333334, test_loss: 0.3403398010879755, test_acc: 0.8801\n",
      "ep: 12, taked: 15.944, train_loss: 0.2416912502430855, train_acc: 0.9208166666666666, test_loss: 0.33634821474552157, test_acc: 0.8817\n",
      "ep: 13, taked: 16.030, train_loss: 0.23070213585457902, train_acc: 0.9252666666666667, test_loss: 0.3329549327492714, test_acc: 0.8828\n",
      "ep: 14, taked: 15.978, train_loss: 0.22029900943979303, train_acc: 0.9293333333333333, test_loss: 0.32993215285241606, test_acc: 0.8849\n",
      "ep: 15, taked: 16.019, train_loss: 0.21034919527616908, train_acc: 0.9329333333333333, test_loss: 0.3275420319288969, test_acc: 0.8844\n",
      "ep: 16, taked: 15.985, train_loss: 0.200782166611641, train_acc: 0.9362333333333334, test_loss: 0.3252981070429087, test_acc: 0.8851\n",
      "ep: 17, taked: 16.025, train_loss: 0.19161964328365122, train_acc: 0.93935, test_loss: 0.32372176423668864, test_acc: 0.886\n",
      "ep: 18, taked: 15.967, train_loss: 0.1827296549652485, train_acc: 0.9425333333333333, test_loss: 0.32256586737930776, test_acc: 0.8868\n",
      "ep: 19, taked: 16.017, train_loss: 0.17418331275594995, train_acc: 0.9460166666666666, test_loss: 0.3217799510806799, test_acc: 0.8863\n"
     ]
    }
   ],
   "source": [
    "train_model(model, loss, trainer, train, test, num_epochs=20)"
   ]
  },
  {
   "cell_type": "code",
   "execution_count": 12,
   "id": "05569a7e-6ded-4b10-bb89-e383f8d197a9",
   "metadata": {},
   "outputs": [],
   "source": [
    "with torch.no_grad():\n",
    "  output = model(example_data.cuda())"
   ]
  },
  {
   "cell_type": "code",
   "execution_count": 13,
   "id": "77129106-e109-42be-9df5-a61f3584f95e",
   "metadata": {},
   "outputs": [
    {
     "data": {
      "image/png": "[encoded data removed]",
      "text/plain": [
       "<Figure size 640x480 with 8 Axes>"
      ]
     },
     "metadata": {},
     "output_type": "display_data"
    }
   ],
   "source": [
    "fig = plt.figure()\n",
    "for i in range(8):\n",
    "  plt.subplot(2,4,i+1)\n",
    "  plt.tight_layout()\n",
    "  plt.imshow(example_data[i][0], cmap='gray', interpolation='none')\n",
    "  plt.title(\"Prediction: {}\".format(\n",
    "    output.data.max(1, keepdim=True)[1][i].item()))\n",
    "  plt.xticks([])\n",
    "  plt.yticks([])"
   ]
  }
 ],
 "metadata": {
  "kernelspec": {
   "display_name": "Python 3 (ipykernel)",
   "language": "python",
   "name": "python3"
  },
  "language_info": {
   "codemirror_mode": {
    "name": "ipython",
    "version": 3
   },
   "file_extension": ".py",
   "mimetype": "text/x-python",
   "name": "python",
   "nbconvert_exporter": "python",
   "pygments_lexer": "ipython3",
   "version": "3.9.18"
  }
 },
 "nbformat": 4,
 "nbformat_minor": 5
}

{
 "cells": [
  {
   "cell_type": "markdown",
   "id": "535964fa-5924-4385-b430-a878f3ed9acb",
   "metadata": {},
   "source": [
    "## Задание\n",
    "\r\n",
    "Реализуйте обучение нейронной сети из одного нейрона для задачи предсказания стоимости квартир[ boston house price](https://www.kaggle.com/vikrishnan/boston-house-prices)_s или[ california housing price](https://www.kaggle.com/datasets/camnugent/california-housing-prices)s с использованием pytorchых данных"
   ]
  },
  {
   "cell_type": "markdown",
   "id": "f99b88c2-7b1e-4e25-ba2a-af9d4fc9b1cc",
   "metadata": {},
   "source": [
    "Инструкция к выполнению задания:\n",
    "\n",
    "1. Загрузите и подготовьте данные\n",
    "\n",
    "2. Разделите данные на test и train\n",
    "\n",
    "3. Создать модель (объект) класса. Для создания объекта можно использовать класс Sequential\n",
    "\n",
    "4. Обучите модель на train данных\n",
    "\n",
    "5. Проверьте качество модели на тестовых данных"
   ]
  },
  {
   "cell_type": "code",
   "execution_count": 1,
   "id": "271d6a9f-7b1d-4c77-aea8-24a58536e0f6",
   "metadata": {},
   "outputs": [],
   "source": [
    "import warnings\n",
    "warnings.filterwarnings(\"ignore\")\n",
    "\n",
    "import pandas as pd\n",
    "import numpy as np\n",
    "\n",
    "import torch\n",
    "from torch.utils.data import TensorDataset, DataLoader"
   ]
  },
  {
   "cell_type": "code",
   "execution_count": 2,
   "id": "c98c18d3-33b4-46b4-a95d-af55f02976f0",
   "metadata": {},
   "outputs": [
    {
     "data": {
      "text/html": [
       "<div>\n",
       "<style scoped>\n",
       "    .dataframe tbody tr th:only-of-type {\n",
       "        vertical-align: middle;\n",
       "    }\n",
       "\n",
       "    .dataframe tbody tr th {\n",
       "        vertical-align: top;\n",
       "    }\n",
       "\n",
       "    .dataframe thead th {\n",
       "        text-align: right;\n",
       "    }\n",
       "</style>\n",
       "<table border=\"1\" class=\"dataframe\">\n",
       "  <thead>\n",
       "    <tr style=\"text-align: right;\">\n",
       "      <th></th>\n",
       "      <th>CRIM</th>\n",
       "      <th>ZN</th>\n",
       "      <th>INDUS</th>\n",
       "      <th>CHAS</th>\n",
       "      <th>NOX</th>\n",
       "      <th>RM</th>\n",
       "      <th>AGE</th>\n",
       "      <th>DIS</th>\n",
       "      <th>RAD</th>\n",
       "      <th>TAX</th>\n",
       "      <th>PTRATIO</th>\n",
       "      <th>B</th>\n",
       "      <th>LSTAT</th>\n",
       "      <th>MEDV</th>\n",
       "    </tr>\n",
       "  </thead>\n",
       "  <tbody>\n",
       "    <tr>\n",
       "      <th>0</th>\n",
       "      <td>0.00632</td>\n",
       "      <td>18.0</td>\n",
       "      <td>2.31</td>\n",
       "      <td>0</td>\n",
       "      <td>0.538</td>\n",
       "      <td>6.575</td>\n",
       "      <td>65.2</td>\n",
       "      <td>4.0900</td>\n",
       "      <td>1</td>\n",
       "      <td>296.0</td>\n",
       "      <td>15.3</td>\n",
       "      <td>396.90</td>\n",
       "      <td>4.98</td>\n",
       "      <td>24.0</td>\n",
       "    </tr>\n",
       "    <tr>\n",
       "      <th>1</th>\n",
       "      <td>0.02731</td>\n",
       "      <td>0.0</td>\n",
       "      <td>7.07</td>\n",
       "      <td>0</td>\n",
       "      <td>0.469</td>\n",
       "      <td>6.421</td>\n",
       "      <td>78.9</td>\n",
       "      <td>4.9671</td>\n",
       "      <td>2</td>\n",
       "      <td>242.0</td>\n",
       "      <td>17.8</td>\n",
       "      <td>396.90</td>\n",
       "      <td>9.14</td>\n",
       "      <td>21.6</td>\n",
       "    </tr>\n",
       "    <tr>\n",
       "      <th>2</th>\n",
       "      <td>0.02729</td>\n",
       "      <td>0.0</td>\n",
       "      <td>7.07</td>\n",
       "      <td>0</td>\n",
       "      <td>0.469</td>\n",
       "      <td>7.185</td>\n",
       "      <td>61.1</td>\n",
       "      <td>4.9671</td>\n",
       "      <td>2</td>\n",
       "      <td>242.0</td>\n",
       "      <td>17.8</td>\n",
       "      <td>392.83</td>\n",
       "      <td>4.03</td>\n",
       "      <td>34.7</td>\n",
       "    </tr>\n",
       "    <tr>\n",
       "      <th>3</th>\n",
       "      <td>0.03237</td>\n",
       "      <td>0.0</td>\n",
       "      <td>2.18</td>\n",
       "      <td>0</td>\n",
       "      <td>0.458</td>\n",
       "      <td>6.998</td>\n",
       "      <td>45.8</td>\n",
       "      <td>6.0622</td>\n",
       "      <td>3</td>\n",
       "      <td>222.0</td>\n",
       "      <td>18.7</td>\n",
       "      <td>394.63</td>\n",
       "      <td>2.94</td>\n",
       "      <td>33.4</td>\n",
       "    </tr>\n",
       "    <tr>\n",
       "      <th>4</th>\n",
       "      <td>0.06905</td>\n",
       "      <td>0.0</td>\n",
       "      <td>2.18</td>\n",
       "      <td>0</td>\n",
       "      <td>0.458</td>\n",
       "      <td>7.147</td>\n",
       "      <td>54.2</td>\n",
       "      <td>6.0622</td>\n",
       "      <td>3</td>\n",
       "      <td>222.0</td>\n",
       "      <td>18.7</td>\n",
       "      <td>396.90</td>\n",
       "      <td>5.33</td>\n",
       "      <td>36.2</td>\n",
       "    </tr>\n",
       "  </tbody>\n",
       "</table>\n",
       "</div>"
      ],
      "text/plain": [
       "      CRIM    ZN  INDUS  CHAS    NOX     RM   AGE     DIS  RAD    TAX  \\\n",
       "0  0.00632  18.0   2.31     0  0.538  6.575  65.2  4.0900    1  296.0   \n",
       "1  0.02731   0.0   7.07     0  0.469  6.421  78.9  4.9671    2  242.0   \n",
       "2  0.02729   0.0   7.07     0  0.469  7.185  61.1  4.9671    2  242.0   \n",
       "3  0.03237   0.0   2.18     0  0.458  6.998  45.8  6.0622    3  222.0   \n",
       "4  0.06905   0.0   2.18     0  0.458  7.147  54.2  6.0622    3  222.0   \n",
       "\n",
       "   PTRATIO       B  LSTAT  MEDV  \n",
       "0     15.3  396.90   4.98  24.0  \n",
       "1     17.8  396.90   9.14  21.6  \n",
       "2     17.8  392.83   4.03  34.7  \n",
       "3     18.7  394.63   2.94  33.4  \n",
       "4     18.7  396.90   5.33  36.2  "
      ]
     },
     "execution_count": 2,
     "metadata": {},
     "output_type": "execute_result"
    }
   ],
   "source": [
    "column_names = ['CRIM', 'ZN', 'INDUS', 'CHAS', 'NOX', 'RM', 'AGE', 'DIS', 'RAD', 'TAX', 'PTRATIO', 'B', 'LSTAT', 'MEDV']\n",
    "data = pd.read_csv('Data/housing.csv', header=None, delimiter=r\"\\s+\", names=column_names)\n",
    "data.head()"
   ]
  },
  {
   "cell_type": "code",
   "execution_count": 3,
   "id": "893e41bb-d6df-49a9-87b0-a924308b6d59",
   "metadata": {},
   "outputs": [
    {
     "name": "stdout",
     "output_type": "stream",
     "text": [
      "<class 'pandas.core.frame.DataFrame'>\n",
      "RangeIndex: 506 entries, 0 to 505\n",
      "Data columns (total 14 columns):\n",
      " #   Column   Non-Null Count  Dtype  \n",
      "---  ------   --------------  -----  \n",
      " 0   CRIM     506 non-null    float64\n",
      " 1   ZN       506 non-null    float64\n",
      " 2   INDUS    506 non-null    float64\n",
      " 3   CHAS     506 non-null    int64  \n",
      " 4   NOX      506 non-null    float64\n",
      " 5   RM       506 non-null    float64\n",
      " 6   AGE      506 non-null    float64\n",
      " 7   DIS      506 non-null    float64\n",
      " 8   RAD      506 non-null    int64  \n",
      " 9   TAX      506 non-null    float64\n",
      " 10  PTRATIO  506 non-null    float64\n",
      " 11  B        506 non-null    float64\n",
      " 12  LSTAT    506 non-null    float64\n",
      " 13  MEDV     506 non-null    float64\n",
      "dtypes: float64(12), int64(2)\n",
      "memory usage: 55.5 KB\n"
     ]
    }
   ],
   "source": [
    "data.info()"
   ]
  },
  {
   "cell_type": "code",
   "execution_count": 4,
   "id": "e2317639-98ea-44ff-95c3-ce4eb1153902",
   "metadata": {},
   "outputs": [
    {
     "data": {
      "text/html": [
       "<div>\n",
       "<style scoped>\n",
       "    .dataframe tbody tr th:only-of-type {\n",
       "        vertical-align: middle;\n",
       "    }\n",
       "\n",
       "    .dataframe tbody tr th {\n",
       "        vertical-align: top;\n",
       "    }\n",
       "\n",
       "    .dataframe thead th {\n",
       "        text-align: right;\n",
       "    }\n",
       "</style>\n",
       "<table border=\"1\" class=\"dataframe\">\n",
       "  <thead>\n",
       "    <tr style=\"text-align: right;\">\n",
       "      <th></th>\n",
       "      <th>CRIM</th>\n",
       "      <th>ZN</th>\n",
       "      <th>INDUS</th>\n",
       "      <th>CHAS</th>\n",
       "      <th>NOX</th>\n",
       "      <th>RM</th>\n",
       "      <th>AGE</th>\n",
       "      <th>DIS</th>\n",
       "      <th>RAD</th>\n",
       "      <th>TAX</th>\n",
       "      <th>PTRATIO</th>\n",
       "      <th>B</th>\n",
       "      <th>LSTAT</th>\n",
       "      <th>MEDV</th>\n",
       "    </tr>\n",
       "  </thead>\n",
       "  <tbody>\n",
       "    <tr>\n",
       "      <th>count</th>\n",
       "      <td>506.000000</td>\n",
       "      <td>506.000000</td>\n",
       "      <td>506.000000</td>\n",
       "      <td>506.000000</td>\n",
       "      <td>506.000000</td>\n",
       "      <td>506.000000</td>\n",
       "      <td>506.000000</td>\n",
       "      <td>506.000000</td>\n",
       "      <td>506.000000</td>\n",
       "      <td>506.000000</td>\n",
       "      <td>506.000000</td>\n",
       "      <td>506.000000</td>\n",
       "      <td>506.000000</td>\n",
       "      <td>506.000000</td>\n",
       "    </tr>\n",
       "    <tr>\n",
       "      <th>mean</th>\n",
       "      <td>3.613524</td>\n",
       "      <td>11.363636</td>\n",
       "      <td>11.136779</td>\n",
       "      <td>0.069170</td>\n",
       "      <td>0.554695</td>\n",
       "      <td>6.284634</td>\n",
       "      <td>68.574901</td>\n",
       "      <td>3.795043</td>\n",
       "      <td>9.549407</td>\n",
       "      <td>408.237154</td>\n",
       "      <td>18.455534</td>\n",
       "      <td>356.674032</td>\n",
       "      <td>12.653063</td>\n",
       "      <td>22.532806</td>\n",
       "    </tr>\n",
       "    <tr>\n",
       "      <th>std</th>\n",
       "      <td>8.601545</td>\n",
       "      <td>23.322453</td>\n",
       "      <td>6.860353</td>\n",
       "      <td>0.253994</td>\n",
       "      <td>0.115878</td>\n",
       "      <td>0.702617</td>\n",
       "      <td>28.148861</td>\n",
       "      <td>2.105710</td>\n",
       "      <td>8.707259</td>\n",
       "      <td>168.537116</td>\n",
       "      <td>2.164946</td>\n",
       "      <td>91.294864</td>\n",
       "      <td>7.141062</td>\n",
       "      <td>9.197104</td>\n",
       "    </tr>\n",
       "    <tr>\n",
       "      <th>min</th>\n",
       "      <td>0.006320</td>\n",
       "      <td>0.000000</td>\n",
       "      <td>0.460000</td>\n",
       "      <td>0.000000</td>\n",
       "      <td>0.385000</td>\n",
       "      <td>3.561000</td>\n",
       "      <td>2.900000</td>\n",
       "      <td>1.129600</td>\n",
       "      <td>1.000000</td>\n",
       "      <td>187.000000</td>\n",
       "      <td>12.600000</td>\n",
       "      <td>0.320000</td>\n",
       "      <td>1.730000</td>\n",
       "      <td>5.000000</td>\n",
       "    </tr>\n",
       "    <tr>\n",
       "      <th>25%</th>\n",
       "      <td>0.082045</td>\n",
       "      <td>0.000000</td>\n",
       "      <td>5.190000</td>\n",
       "      <td>0.000000</td>\n",
       "      <td>0.449000</td>\n",
       "      <td>5.885500</td>\n",
       "      <td>45.025000</td>\n",
       "      <td>2.100175</td>\n",
       "      <td>4.000000</td>\n",
       "      <td>279.000000</td>\n",
       "      <td>17.400000</td>\n",
       "      <td>375.377500</td>\n",
       "      <td>6.950000</td>\n",
       "      <td>17.025000</td>\n",
       "    </tr>\n",
       "    <tr>\n",
       "      <th>50%</th>\n",
       "      <td>0.256510</td>\n",
       "      <td>0.000000</td>\n",
       "      <td>9.690000</td>\n",
       "      <td>0.000000</td>\n",
       "      <td>0.538000</td>\n",
       "      <td>6.208500</td>\n",
       "      <td>77.500000</td>\n",
       "      <td>3.207450</td>\n",
       "      <td>5.000000</td>\n",
       "      <td>330.000000</td>\n",
       "      <td>19.050000</td>\n",
       "      <td>391.440000</td>\n",
       "      <td>11.360000</td>\n",
       "      <td>21.200000</td>\n",
       "    </tr>\n",
       "    <tr>\n",
       "      <th>75%</th>\n",
       "      <td>3.677083</td>\n",
       "      <td>12.500000</td>\n",
       "      <td>18.100000</td>\n",
       "      <td>0.000000</td>\n",
       "      <td>0.624000</td>\n",
       "      <td>6.623500</td>\n",
       "      <td>94.075000</td>\n",
       "      <td>5.188425</td>\n",
       "      <td>24.000000</td>\n",
       "      <td>666.000000</td>\n",
       "      <td>20.200000</td>\n",
       "      <td>396.225000</td>\n",
       "      <td>16.955000</td>\n",
       "      <td>25.000000</td>\n",
       "    </tr>\n",
       "    <tr>\n",
       "      <th>max</th>\n",
       "      <td>88.976200</td>\n",
       "      <td>100.000000</td>\n",
       "      <td>27.740000</td>\n",
       "      <td>1.000000</td>\n",
       "      <td>0.871000</td>\n",
       "      <td>8.780000</td>\n",
       "      <td>100.000000</td>\n",
       "      <td>12.126500</td>\n",
       "      <td>24.000000</td>\n",
       "      <td>711.000000</td>\n",
       "      <td>22.000000</td>\n",
       "      <td>396.900000</td>\n",
       "      <td>37.970000</td>\n",
       "      <td>50.000000</td>\n",
       "    </tr>\n",
       "  </tbody>\n",
       "</table>\n",
       "</div>"
      ],
      "text/plain": [
       "             CRIM          ZN       INDUS        CHAS         NOX          RM  \\\n",
       "count  506.000000  506.000000  506.000000  506.000000  506.000000  506.000000   \n",
       "mean     3.613524   11.363636   11.136779    0.069170    0.554695    6.284634   \n",
       "std      8.601545   23.322453    6.860353    0.253994    0.115878    0.702617   \n",
       "min      0.006320    0.000000    0.460000    0.000000    0.385000    3.561000   \n",
       "25%      0.082045    0.000000    5.190000    0.000000    0.449000    5.885500   \n",
       "50%      0.256510    0.000000    9.690000    0.000000    0.538000    6.208500   \n",
       "75%      3.677083   12.500000   18.100000    0.000000    0.624000    6.623500   \n",
       "max     88.976200  100.000000   27.740000    1.000000    0.871000    8.780000   \n",
       "\n",
       "              AGE         DIS         RAD         TAX     PTRATIO           B  \\\n",
       "count  506.000000  506.000000  506.000000  506.000000  506.000000  506.000000   \n",
       "mean    68.574901    3.795043    9.549407  408.237154   18.455534  356.674032   \n",
       "std     28.148861    2.105710    8.707259  168.537116    2.164946   91.294864   \n",
       "min      2.900000    1.129600    1.000000  187.000000   12.600000    0.320000   \n",
       "25%     45.025000    2.100175    4.000000  279.000000   17.400000  375.377500   \n",
       "50%     77.500000    3.207450    5.000000  330.000000   19.050000  391.440000   \n",
       "75%     94.075000    5.188425   24.000000  666.000000   20.200000  396.225000   \n",
       "max    100.000000   12.126500   24.000000  711.000000   22.000000  396.900000   \n",
       "\n",
       "            LSTAT        MEDV  \n",
       "count  506.000000  506.000000  \n",
       "mean    12.653063   22.532806  \n",
       "std      7.141062    9.197104  \n",
       "min      1.730000    5.000000  \n",
       "25%      6.950000   17.025000  \n",
       "50%     11.360000   21.200000  \n",
       "75%     16.955000   25.000000  \n",
       "max     37.970000   50.000000  "
      ]
     },
     "execution_count": 4,
     "metadata": {},
     "output_type": "execute_result"
    }
   ],
   "source": [
    "data.describe()"
   ]
  },
  {
   "cell_type": "code",
   "execution_count": 5,
   "id": "e49e7433-5354-4dea-ab75-f6696358282f",
   "metadata": {},
   "outputs": [
    {
     "data": {
      "text/plain": [
       "CRIM       0\n",
       "ZN         0\n",
       "INDUS      0\n",
       "CHAS       0\n",
       "NOX        0\n",
       "RM         0\n",
       "AGE        0\n",
       "DIS        0\n",
       "RAD        0\n",
       "TAX        0\n",
       "PTRATIO    0\n",
       "B          0\n",
       "LSTAT      0\n",
       "MEDV       0\n",
       "dtype: int64"
      ]
     },
     "execution_count": 5,
     "metadata": {},
     "output_type": "execute_result"
    }
   ],
   "source": [
    "data.isna().sum()"
   ]
  },
  {
   "cell_type": "code",
   "execution_count": 6,
   "id": "9b2291bb-f9fb-4d11-a0fd-0f5b890e6596",
   "metadata": {},
   "outputs": [
    {
     "data": {
      "text/plain": [
       "(506, 14)"
      ]
     },
     "execution_count": 6,
     "metadata": {},
     "output_type": "execute_result"
    }
   ],
   "source": [
    "data.shape"
   ]
  },
  {
   "cell_type": "code",
   "execution_count": 7,
   "id": "6fed0d13-a81c-41b6-a23c-0a63f43e9e02",
   "metadata": {},
   "outputs": [
    {
     "data": {
      "text/plain": [
       "(torch.Size([506, 13]), torch.Size([506]))"
      ]
     },
     "execution_count": 7,
     "metadata": {},
     "output_type": "execute_result"
    }
   ],
   "source": [
    "features = data.drop('MEDV', axis=1)\n",
    "labels = data['MEDV']\n",
    "features = torch.Tensor(np.array(features))\n",
    "labels = torch.Tensor(np.array(labels))\n",
    "\n",
    "features.shape, labels.shape"
   ]
  },
  {
   "cell_type": "code",
   "execution_count": 8,
   "id": "88e29973-82fd-4d2a-8c22-6da5831b4104",
   "metadata": {},
   "outputs": [],
   "source": [
    "dataset = TensorDataset(features, labels)"
   ]
  },
  {
   "cell_type": "code",
   "execution_count": 9,
   "id": "49b633fe-339b-42c4-bcb9-a568ab4509b4",
   "metadata": {},
   "outputs": [],
   "source": [
    "train_size = int(0.8 * len(dataset))\n",
    "test_size = len(dataset) - train_size\n",
    "train_dataset, test_dataset = torch.utils.data.random_split(dataset, [train_size, test_size])"
   ]
  },
  {
   "cell_type": "code",
   "execution_count": 10,
   "id": "79927ce0-40b3-4f63-a5c0-f8c6e5954631",
   "metadata": {},
   "outputs": [
    {
     "data": {
      "text/plain": [
       "102"
      ]
     },
     "execution_count": 10,
     "metadata": {},
     "output_type": "execute_result"
    }
   ],
   "source": [
    "len(test_dataset)"
   ]
  },
  {
   "cell_type": "code",
   "execution_count": 11,
   "id": "ef544689-9909-41dc-8def-2b12b5b89cb3",
   "metadata": {},
   "outputs": [
    {
     "data": {
      "text/plain": [
       "Sequential(\n",
       "  (0): Linear(in_features=13, out_features=1, bias=True)\n",
       ")"
      ]
     },
     "execution_count": 11,
     "metadata": {},
     "output_type": "execute_result"
    }
   ],
   "source": [
    "model = torch.nn.Sequential(torch.nn.Linear(features.shape[1], 1))\n",
    "torch.nn.init.xavier_uniform_(model[0].weight)\n",
    "model"
   ]
  },
  {
   "cell_type": "code",
   "execution_count": 12,
   "id": "121f2886-9f81-4d2d-9d14-5b221f3d75e6",
   "metadata": {},
   "outputs": [
    {
     "name": "stdout",
     "output_type": "stream",
     "text": [
      "tensor([[1.4051e+01, 0.0000e+00, 1.8100e+01, 0.0000e+00, 5.9700e-01, 6.6570e+00,\n",
      "         1.0000e+02, 1.5275e+00, 2.4000e+01, 6.6600e+02, 2.0200e+01, 3.5050e+01,\n",
      "         2.1220e+01],\n",
      "        [1.2802e+01, 0.0000e+00, 1.8100e+01, 0.0000e+00, 7.4000e-01, 5.8540e+00,\n",
      "         9.6600e+01, 1.8956e+00, 2.4000e+01, 6.6600e+02, 2.0200e+01, 2.4052e+02,\n",
      "         2.3790e+01],\n",
      "        [1.5936e-01, 0.0000e+00, 6.9100e+00, 0.0000e+00, 4.4800e-01, 6.2110e+00,\n",
      "         6.5000e+00, 5.7209e+00, 3.0000e+00, 2.3300e+02, 1.7900e+01, 3.9446e+02,\n",
      "         7.4400e+00],\n",
      "        [6.1470e-01, 0.0000e+00, 6.2000e+00, 0.0000e+00, 5.0700e-01, 6.6180e+00,\n",
      "         8.0800e+01, 3.2721e+00, 8.0000e+00, 3.0700e+02, 1.7400e+01, 3.9690e+02,\n",
      "         7.6000e+00],\n",
      "        [7.3671e+00, 0.0000e+00, 1.8100e+01, 0.0000e+00, 6.7900e-01, 6.1930e+00,\n",
      "         7.8100e+01, 1.9356e+00, 2.4000e+01, 6.6600e+02, 2.0200e+01, 9.6730e+01,\n",
      "         2.1520e+01],\n",
      "        [1.0328e-01, 2.5000e+01, 5.1300e+00, 0.0000e+00, 4.5300e-01, 5.9270e+00,\n",
      "         4.7200e+01, 6.9320e+00, 8.0000e+00, 2.8400e+02, 1.9700e+01, 3.9690e+02,\n",
      "         9.2200e+00],\n",
      "        [6.6351e-01, 2.0000e+01, 3.9700e+00, 0.0000e+00, 6.4700e-01, 7.3330e+00,\n",
      "         1.0000e+02, 1.8946e+00, 5.0000e+00, 2.6400e+02, 1.3000e+01, 3.8329e+02,\n",
      "         7.7900e+00],\n",
      "        [1.6439e-01, 2.2000e+01, 5.8600e+00, 0.0000e+00, 4.3100e-01, 6.4330e+00,\n",
      "         4.9100e+01, 7.8265e+00, 7.0000e+00, 3.3000e+02, 1.9100e+01, 3.7471e+02,\n",
      "         9.5200e+00]]) \n",
      " tensor([17.2000, 10.8000, 24.7000, 30.1000, 11.0000, 19.6000, 36.0000, 24.5000])\n"
     ]
    }
   ],
   "source": [
    "batch_size = 8\n",
    "data_iter = DataLoader(train_dataset, batch_size, shuffle=True)\n",
    "test_loader = DataLoader(test_dataset, batch_size=batch_size, shuffle=False)\n",
    "\n",
    "# Read a batch to see how it works\n",
    "for X, y in data_iter:\n",
    "    print(X, '\\n', y)\n",
    "    break"
   ]
  },
  {
   "cell_type": "code",
   "execution_count": 13,
   "id": "be03cde4-a7f4-41e8-9405-9c9ace915fe0",
   "metadata": {},
   "outputs": [],
   "source": [
    "loss = torch.nn.MSELoss(reduction='mean')\n",
    "trainer = torch.optim.SGD(model.parameters(), lr=1e-8, maximize=False)"
   ]
  },
  {
   "cell_type": "code",
   "execution_count": 14,
   "id": "60b6b432-1191-41bd-af4b-dcead9ff83c9",
   "metadata": {},
   "outputs": [
    {
     "data": {
      "text/plain": [
       "102"
      ]
     },
     "execution_count": 14,
     "metadata": {},
     "output_type": "execute_result"
    }
   ],
   "source": [
    "len(test_dataset)"
   ]
  },
  {
   "cell_type": "code",
   "execution_count": 15,
   "id": "a7aba117-9274-470a-9b9f-78a96621784e",
   "metadata": {},
   "outputs": [
    {
     "name": "stdout",
     "output_type": "stream",
     "text": [
      "epoch 5, loss: 60.600796 |\tw tensor([[-0.2196,  0.1346, -0.0591, -0.6012,  0.5083, -0.2807,  0.1961,  0.4521,\n",
      "         -0.3407, -0.2474, -0.0031,  0.1833,  0.0753]]) |\tb tensor([-0.1730])\n",
      "epoch 10, loss: 14.100478 |\tw tensor([[-0.2180,  0.1343, -0.0570, -0.6012,  0.5084, -0.2800,  0.2059,  0.4523,\n",
      "         -0.3379, -0.1686, -0.0009,  0.2076,  0.0773]]) |\tb tensor([-0.1729])\n",
      "epoch 15, loss: 6.541384 |\tw tensor([[-0.2171,  0.1332, -0.0562, -0.6012,  0.5084, -0.2800,  0.2079,  0.4521,\n",
      "         -0.3365, -0.1402, -0.0007,  0.1959,  0.0779]]) |\tb tensor([-0.1729])\n",
      "epoch 20, loss: 2.694134 |\tw tensor([[-0.2163,  0.1320, -0.0557, -0.6012,  0.5084, -0.2801,  0.2083,  0.4519,\n",
      "         -0.3355, -0.1229, -0.0009,  0.1794,  0.0782]]) |\tb tensor([-0.1729])\n",
      "epoch 25, loss: 13.109694 |\tw tensor([[-0.2157,  0.1310, -0.0554, -0.6012,  0.5084, -0.2802,  0.2084,  0.4517,\n",
      "         -0.3346, -0.1094, -0.0011,  0.1631,  0.0783]]) |\tb tensor([-0.1729])\n",
      "epoch 30, loss: 2.909895 |\tw tensor([[-0.2151,  0.1300, -0.0551, -0.6012,  0.5084, -0.2803,  0.2083,  0.4515,\n",
      "         -0.3338, -0.0975, -0.0013,  0.1484,  0.0784]]) |\tb tensor([-0.1729])\n",
      "epoch 35, loss: 6.897697 |\tw tensor([[-0.2146,  0.1292, -0.0548, -0.6012,  0.5084, -0.2804,  0.2082,  0.4514,\n",
      "         -0.3331, -0.0868, -0.0015,  0.1356,  0.0784]]) |\tb tensor([-0.1729])\n",
      "epoch 40, loss: 4.341456 |\tw tensor([[-0.2142,  0.1285, -0.0546, -0.6012,  0.5084, -0.2805,  0.2081,  0.4512,\n",
      "         -0.3324, -0.0775, -0.0016,  0.1240,  0.0785]]) |\tb tensor([-0.1730])\n",
      "epoch 45, loss: 5.334531 |\tw tensor([[-0.2138,  0.1280, -0.0544, -0.6012,  0.5084, -0.2806,  0.2079,  0.4511,\n",
      "         -0.3319, -0.0691, -0.0018,  0.1138,  0.0785]]) |\tb tensor([-0.1730])\n",
      "epoch 50, loss: 7.358211 |\tw tensor([[-0.2134,  0.1274, -0.0542, -0.6012,  0.5084, -0.2806,  0.2077,  0.4510,\n",
      "         -0.3314, -0.0617, -0.0019,  0.1046,  0.0785]]) |\tb tensor([-0.1730])\n",
      "epoch 55, loss: 6.940337 |\tw tensor([[-0.2131,  0.1270, -0.0541, -0.6012,  0.5084, -0.2806,  0.2074,  0.4509,\n",
      "         -0.3309, -0.0552, -0.0020,  0.0964,  0.0785]]) |\tb tensor([-0.1730])\n",
      "epoch 60, loss: 0.823049 |\tw tensor([[-0.2128,  0.1266, -0.0539, -0.6012,  0.5084, -0.2807,  0.2071,  0.4508,\n",
      "         -0.3305, -0.0493, -0.0021,  0.0892,  0.0784]]) |\tb tensor([-0.1730])\n",
      "epoch 65, loss: 0.674612 |\tw tensor([[-0.2126,  0.1263, -0.0538, -0.6012,  0.5084, -0.2807,  0.2067,  0.4507,\n",
      "         -0.3301, -0.0441, -0.0022,  0.0828,  0.0783]]) |\tb tensor([-0.1730])\n",
      "epoch 70, loss: 2.485631 |\tw tensor([[-0.2124,  0.1261, -0.0538, -0.6012,  0.5084, -0.2807,  0.2064,  0.4507,\n",
      "         -0.3298, -0.0395, -0.0023,  0.0771,  0.0783]]) |\tb tensor([-0.1730])\n",
      "epoch 75, loss: 1.721633 |\tw tensor([[-0.2122,  0.1259, -0.0537, -0.6012,  0.5084, -0.2807,  0.2060,  0.4506,\n",
      "         -0.3295, -0.0354, -0.0023,  0.0721,  0.0782]]) |\tb tensor([-0.1730])\n",
      "epoch 80, loss: 3.070930 |\tw tensor([[-0.2120,  0.1257, -0.0536, -0.6012,  0.5084, -0.2808,  0.2056,  0.4506,\n",
      "         -0.3293, -0.0317, -0.0024,  0.0676,  0.0781]]) |\tb tensor([-0.1730])\n",
      "epoch 85, loss: 1.164609 |\tw tensor([[-0.2118,  0.1256, -0.0536, -0.6012,  0.5084, -0.2808,  0.2052,  0.4505,\n",
      "         -0.3290, -0.0286, -0.0025,  0.0636,  0.0780]]) |\tb tensor([-0.1730])\n",
      "epoch 90, loss: 1.008781 |\tw tensor([[-0.2117,  0.1255, -0.0536, -0.6012,  0.5084, -0.2808,  0.2048,  0.4505,\n",
      "         -0.3288, -0.0257, -0.0025,  0.0601,  0.0779]]) |\tb tensor([-0.1730])\n",
      "epoch 95, loss: 1.458020 |\tw tensor([[-0.2116,  0.1254, -0.0536, -0.6012,  0.5084, -0.2808,  0.2044,  0.4505,\n",
      "         -0.3286, -0.0232, -0.0025,  0.0569,  0.0777]]) |\tb tensor([-0.1730])\n",
      "epoch 100, loss: 0.990587 |\tw tensor([[-0.2115,  0.1254, -0.0536, -0.6012,  0.5084, -0.2808,  0.2039,  0.4504,\n",
      "         -0.3284, -0.0209, -0.0026,  0.0542,  0.0776]]) |\tb tensor([-0.1730])\n"
     ]
    }
   ],
   "source": [
    "num_epochs = 100\n",
    "for epoch in range(1, num_epochs + 1):\n",
    "    for X, y in data_iter:\n",
    "        trainer.zero_grad()\n",
    "        l = loss(model(X).reshape(-1), y)\n",
    "        #print(model(X).reshape(-1), y)\n",
    "        l.backward()\n",
    "        trainer.step()\n",
    "    test_loss = 0.0\n",
    "    with torch.no_grad():\n",
    "        for X_test, y_test in test_dataset:\n",
    "            output = model(X_test).reshape(-1)\n",
    "            test_loss += loss(output, y_test).item()\n",
    "    l /= len(test_dataset)\n",
    "    if epoch % 5 == 0:\n",
    "        print('epoch %d, loss: %f' % (epoch, l.item()),'|\\tw', model[0].weight.data, '|\\tb', model[0].bias.data)"
   ]
  },
  {
   "cell_type": "code",
   "execution_count": 16,
   "id": "e6cfa524-4420-4092-98dd-0c9060ef1e73",
   "metadata": {},
   "outputs": [
    {
     "name": "stdout",
     "output_type": "stream",
     "text": [
      "Average Test Loss: 194.63382163414587\n"
     ]
    }
   ],
   "source": [
    "model.eval()  # Переводим модель в режим оценки\n",
    "test_loss = 0.0\n",
    "\n",
    "# Итерируемся по тестовым данным\n",
    "with torch.no_grad():  # Градиенты не нужны для оценки\n",
    "    for inputs, targets in test_loader:\n",
    "        # Прогнозируем выходные значения\n",
    "        outputs = model(inputs)\n",
    "        \n",
    "        # Вычисляем потери для текущего пакета\n",
    "        test_loss += loss(outputs, targets).item()\n",
    "\n",
    "# Вычисляем среднее значение потерь на тестовом наборе данных\n",
    "average_test_loss = test_loss / len(test_loader)\n",
    "\n",
    "print('Average Test Loss:', average_test_loss)"
   ]
  }
 ],
 "metadata": {
  "kernelspec": {
   "display_name": "Python 3 (ipykernel)",
   "language": "python",
   "name": "python3"
  },
  "language_info": {
   "codemirror_mode": {
    "name": "ipython",
    "version": 3
   },
   "file_extension": ".py",
   "mimetype": "text/x-python",
   "name": "python",
   "nbconvert_exporter": "python",
   "pygments_lexer": "ipython3",
   "version": "3.9.18"
  }
 },
 "nbformat": 4,
 "nbformat_minor": 5
}

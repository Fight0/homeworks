{
 "cells": [
  {
   "cell_type": "markdown",
   "id": "8ebec43c-8bf3-48b8-bfe9-3416c3b782d8",
   "metadata": {},
   "source": [
    "## Задание"
   ]
  },
  {
   "cell_type": "markdown",
   "id": "ca534d79-a2d1-4385-ac77-f0332e1424c9",
   "metadata": {},
   "source": [
    "Сгенерировать последовательности, которые бы состояли из цифр (от 0 до 9)\n",
    "и задавались следующим образом:\n",
    "\n",
    "* x - последовательность цифр\n",
    "* y1 = x1, y(i) = x(i) + x(1). Если y(i) >= 10, то y(i) = y(i) - 10"
   ]
  },
  {
   "cell_type": "markdown",
   "id": "9580d346-ac0c-49d4-8788-f58db0ef7508",
   "metadata": {},
   "source": [
    "Задача:\n",
    "* научить модель предсказывать y(i) по x(i)\n",
    "* пробовать RNN, LSTM, GRU"
   ]
  },
  {
   "cell_type": "code",
   "execution_count": 1,
   "id": "b5c64e00-1b3e-40b6-8a88-ce24213d1d27",
   "metadata": {},
   "outputs": [],
   "source": [
    "import torch\n",
    "import pandas as pd\n",
    "import time"
   ]
  },
  {
   "cell_type": "code",
   "execution_count": 2,
   "id": "601fd61c-e4b6-4abc-9a23-b722de814c6a",
   "metadata": {},
   "outputs": [],
   "source": [
    "def generate_x(size):\n",
    "    X = torch.Tensor()\n",
    "    \"\"\"Функция генерирует последовательность X размерности sizes в соответствии с заданными условиями.\n",
    "    size: tuple\"\"\"\n",
    "    X = torch.randint(0, 10, (size, ))\n",
    "    return X"
   ]
  },
  {
   "cell_type": "code",
   "execution_count": 3,
   "id": "971c1c22-5db1-472f-8fa9-93886041d74d",
   "metadata": {},
   "outputs": [
    {
     "data": {
      "text/plain": [
       "tensor([5, 6, 0, 6, 1, 8, 0, 8, 7, 0, 7, 8, 5, 3, 7, 5, 9, 0, 0, 2, 2, 1, 2, 3,\n",
       "        5, 2, 6, 7, 4, 5, 1, 5, 4, 2, 1, 3, 1, 3, 3, 7, 7, 0, 6, 3, 5, 3, 8, 9,\n",
       "        3, 3])"
      ]
     },
     "execution_count": 3,
     "metadata": {},
     "output_type": "execute_result"
    }
   ],
   "source": [
    "sizes = (50, 200, 500)\n",
    "device = torch.device(\"cuda\" if torch.cuda.is_available() else \"cpu\")\n",
    "X = generate_x(sizes[0])\n",
    "X"
   ]
  },
  {
   "cell_type": "code",
   "execution_count": 4,
   "id": "de1d9a6b-659f-4d09-b612-a30022fb9b62",
   "metadata": {},
   "outputs": [],
   "source": [
    "def generate_y(X, size):\n",
    "    \"\"\"Функция генерирует последовательность X размерности size в соответствии с заданными условиями.\n",
    "    X: tensor,\n",
    "    size: tuple\"\"\"\n",
    "    Y = []\n",
    "    for i in range(len(X)):\n",
    "        if i == 0:\n",
    "            Y.append(int(X[0]))\n",
    "        else:\n",
    "            num = X[i] + X[0]\n",
    "            while num >= 10:\n",
    "                num -= 10\n",
    "            Y.append(int(num))\n",
    "    Y = torch.Tensor(Y)\n",
    "    return Y"
   ]
  },
  {
   "cell_type": "code",
   "execution_count": 5,
   "id": "b65a7a3c-7b5e-4fc5-9538-0159503355c3",
   "metadata": {},
   "outputs": [
    {
     "data": {
      "text/plain": [
       "tensor([5., 1., 5., 1., 6., 3., 5., 3., 2., 5., 2., 3., 0., 8., 2., 0., 4., 5.,\n",
       "        5., 7., 7., 6., 7., 8., 0., 7., 1., 2., 9., 0., 6., 0., 9., 7., 6., 8.,\n",
       "        6., 8., 8., 2., 2., 5., 1., 8., 0., 8., 3., 4., 8., 8.])"
      ]
     },
     "execution_count": 5,
     "metadata": {},
     "output_type": "execute_result"
    }
   ],
   "source": [
    "Y = generate_y(X, sizes[0])\n",
    "Y"
   ]
  },
  {
   "cell_type": "code",
   "execution_count": 6,
   "id": "25fe2cb9-15de-4b02-b5da-997efd0473a6",
   "metadata": {},
   "outputs": [],
   "source": [
    "class Network(torch.nn.Module):\n",
    "    def __init__(self, typeRNN, size):\n",
    "        super(Network, self).__init__()\n",
    "        self.embedding = torch.nn.Embedding(10, size)\n",
    "        self.rnn = typeRNN(size, 128)\n",
    "        self.out = torch.nn.Linear(128, 10)\n",
    "\n",
    "    def forward(self, seq):\n",
    "        x = self.embedding(seq)\n",
    "        x, s = self.rnn(x) # берём выход с последнего слоя для всех токенов, а не скрытое состояние\n",
    "        return self.out(x)"
   ]
  },
  {
   "cell_type": "code",
   "execution_count": 8,
   "id": "a460af77-a836-481a-8614-a5690a92c7b6",
   "metadata": {},
   "outputs": [],
   "source": [
    "def train(epochs, num_batches, sizes, device):\n",
    "    rnns = [torch.nn.RNN, torch.nn.LSTM, torch.nn.GRU]\n",
    "    models = dict()\n",
    "    for rnn in rnns:\n",
    "        model_size = dict()\n",
    "        for size in sizes:\n",
    "            model = Network(rnn, size).to(device)\n",
    "            start = time.time()\n",
    "            criterion = torch.nn.CrossEntropyLoss().to(device)\n",
    "            optimizer = torch.optim.Adam(model.parameters(), lr=.05)\n",
    "\n",
    "            for ep in range(epochs):\n",
    "                train_loss = 0.\n",
    "            \n",
    "                for i in range(num_batches):\n",
    "                    X_batch = generate_x(size).to(device)\n",
    "                    Y_batch = generate_y(X_batch, size).to(device).long()\n",
    "            \n",
    "                    optimizer.zero_grad()\n",
    "                    answers = model.forward(X_batch).to(device)\n",
    "\n",
    "                    loss = criterion(answers, Y_batch)\n",
    "                    train_loss += loss.item()\n",
    "            \n",
    "                    loss.backward()\n",
    "                    optimizer.step()\n",
    "            \n",
    "            print(f\"RNN: {rnn}. Size {size}. Time: {time.time()-start}, Train loss: {train_loss}\")\n",
    "            model_size[size] = train_loss\n",
    "            \n",
    "        models[rnn] = model_size\n",
    "\n",
    "    return models"
   ]
  },
  {
   "cell_type": "code",
   "execution_count": 9,
   "id": "a8e5fbc3-e5c5-4e71-b494-d4f5222881d8",
   "metadata": {},
   "outputs": [
    {
     "name": "stdout",
     "output_type": "stream",
     "text": [
      "RNN: <class 'torch.nn.modules.rnn.RNN'>. Size 50. Time: 1.8914756774902344, Train loss: 31.356383562088013\n",
      "RNN: <class 'torch.nn.modules.rnn.RNN'>. Size 200. Time: 2.7056398391723633, Train loss: 27.963059902191162\n",
      "RNN: <class 'torch.nn.modules.rnn.RNN'>. Size 500. Time: 6.836570739746094, Train loss: 49.610647201538086\n",
      "RNN: <class 'torch.nn.modules.rnn.LSTM'>. Size 50. Time: 0.7887477874755859, Train loss: 24.86144995689392\n",
      "RNN: <class 'torch.nn.modules.rnn.LSTM'>. Size 200. Time: 2.7475106716156006, Train loss: 22.61834156513214\n",
      "RNN: <class 'torch.nn.modules.rnn.LSTM'>. Size 500. Time: 7.223398447036743, Train loss: 25.285171508789062\n",
      "RNN: <class 'torch.nn.modules.rnn.GRU'>. Size 50. Time: 0.7845098972320557, Train loss: 27.78986144065857\n",
      "RNN: <class 'torch.nn.modules.rnn.GRU'>. Size 200. Time: 2.9211976528167725, Train loss: 29.319033980369568\n",
      "RNN: <class 'torch.nn.modules.rnn.GRU'>. Size 500. Time: 6.988177537918091, Train loss: 32.38724100589752\n"
     ]
    }
   ],
   "source": [
    "res = train(epochs=5, num_batches=10, sizes=sizes, device=device)"
   ]
  },
  {
   "cell_type": "code",
   "execution_count": 13,
   "id": "dec0c1a3-d552-43e5-a282-afd77b01ed3e",
   "metadata": {},
   "outputs": [
    {
     "data": {
      "text/html": [
       "<div>\n",
       "<style scoped>\n",
       "    .dataframe tbody tr th:only-of-type {\n",
       "        vertical-align: middle;\n",
       "    }\n",
       "\n",
       "    .dataframe tbody tr th {\n",
       "        vertical-align: top;\n",
       "    }\n",
       "\n",
       "    .dataframe thead th {\n",
       "        text-align: right;\n",
       "    }\n",
       "</style>\n",
       "<table border=\"1\" class=\"dataframe\">\n",
       "  <thead>\n",
       "    <tr style=\"text-align: right;\">\n",
       "      <th></th>\n",
       "      <th>&lt;class 'torch.nn.modules.rnn.RNN'&gt;</th>\n",
       "      <th>&lt;class 'torch.nn.modules.rnn.LSTM'&gt;</th>\n",
       "      <th>&lt;class 'torch.nn.modules.rnn.GRU'&gt;</th>\n",
       "    </tr>\n",
       "  </thead>\n",
       "  <tbody>\n",
       "    <tr>\n",
       "      <th>50</th>\n",
       "      <td>31.356384</td>\n",
       "      <td>24.861450</td>\n",
       "      <td>27.789861</td>\n",
       "    </tr>\n",
       "    <tr>\n",
       "      <th>200</th>\n",
       "      <td>27.963060</td>\n",
       "      <td>22.618342</td>\n",
       "      <td>29.319034</td>\n",
       "    </tr>\n",
       "    <tr>\n",
       "      <th>500</th>\n",
       "      <td>49.610647</td>\n",
       "      <td>25.285172</td>\n",
       "      <td>32.387241</td>\n",
       "    </tr>\n",
       "  </tbody>\n",
       "</table>\n",
       "</div>"
      ],
      "text/plain": [
       "     <class 'torch.nn.modules.rnn.RNN'>  <class 'torch.nn.modules.rnn.LSTM'>  \\\n",
       "50                            31.356384                            24.861450   \n",
       "200                           27.963060                            22.618342   \n",
       "500                           49.610647                            25.285172   \n",
       "\n",
       "     <class 'torch.nn.modules.rnn.GRU'>  \n",
       "50                            27.789861  \n",
       "200                           29.319034  \n",
       "500                           32.387241  "
      ]
     },
     "execution_count": 13,
     "metadata": {},
     "output_type": "execute_result"
    }
   ],
   "source": [
    "pd.DataFrame(res)"
   ]
  },
  {
   "cell_type": "markdown",
   "id": "e56220ff-c012-4b50-b38a-fcff56685727",
   "metadata": {},
   "source": [
    "Полученные данные свидетельствуют о том, что на длинных последовательностях лучший результат показывает LSTM, а худший - RNN, за счет \"забывания\"."
   ]
  }
 ],
 "metadata": {
  "kernelspec": {
   "display_name": "Python 3 (ipykernel)",
   "language": "python",
   "name": "python3"
  },
  "language_info": {
   "codemirror_mode": {
    "name": "ipython",
    "version": 3
   },
   "file_extension": ".py",
   "mimetype": "text/x-python",
   "name": "python",
   "nbconvert_exporter": "python",
   "pygments_lexer": "ipython3",
   "version": "3.9.18"
  }
 },
 "nbformat": 4,
 "nbformat_minor": 5
}

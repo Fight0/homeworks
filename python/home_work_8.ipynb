{
  "nbformat": 4,
  "nbformat_minor": 0,
  "metadata": {
    "colab": {
      "name": "ДЗ-8.ipynb",
      "provenance": [],
      "collapsed_sections": []
    },
    "kernelspec": {
      "name": "python3",
      "display_name": "Python 3"
    },
    "language_info": {
      "name": "python"
    }
  },
  "cells": [
    {
      "cell_type": "markdown",
      "source": [
        "## Задание 1\n",
        "Напишите функцию, которая принимает на вход строку и проверяет является ли она валидным транспортным номером (1 буква, 3 цифры, 2 буквы, 2-3 цифры). Обратите внимание, что не все буквы кириллического алфавита используются в транспортных номерах.\n",
        "\n",
        "Если номер валиден, то функция должна возвращать отдельно номер и регион.\n",
        "\n",
        "Примеры работы программы:\n",
        "\n",
        "car_id = 'A222BC96’\n",
        "Результат: Номер A222BС валиден. Регион: 96\n",
        "\n",
        "car_id = 'АБ22ВВ193’\n",
        "Результат: Номер не валиден"
      ],
      "metadata": {
        "id": "0nvfNClaQuLb"
      }
    },
    {
      "cell_type": "code",
      "source": [
        "import re"
      ],
      "metadata": {
        "id": "wF8VonHqQybr"
      },
      "execution_count": null,
      "outputs": []
    },
    {
      "cell_type": "code",
      "source": [
        "def validation_car_id(car_id):\n",
        "    # проверяем написание номера русскими и латинскими буквами\n",
        "    id = re.search(r'([АВЕКМНОРСТУХABEKMHOPCTYX]\\d{3}[АВЕКМНОРСТУХABEKMHOPCTYX]{2})(\\d{2,3})', car_id)\n",
        "    if id: print(r'Номер {} валиден. Регион: {}'.format(id.group(1), id.group(2)))\n",
        "    else: print('Номер не валиден')"
      ],
      "metadata": {
        "id": "uPUumOhBQ0-M"
      },
      "execution_count": null,
      "outputs": []
    },
    {
      "cell_type": "code",
      "source": [
        "validation_car_id('A222BС96')"
      ],
      "metadata": {
        "colab": {
          "base_uri": "https://localhost:8080/"
        },
        "id": "rTbM3ut8VZ0V",
        "outputId": "b21280e4-8486-47d1-c1ee-c095c49bf665"
      },
      "execution_count": null,
      "outputs": [
        {
          "output_type": "stream",
          "name": "stdout",
          "text": [
            "Номер A222BС валиден. Регион: 96\n"
          ]
        }
      ]
    },
    {
      "cell_type": "markdown",
      "source": [
        "## Задание 2\n",
        "Напишите функцию, которая будет удалять все последовательные повторы слов из заданной строки при помощи регулярных выражений.\n",
        "\n",
        "Пример работы программы:\n",
        "\n",
        "some_string = ‘Напишите функцию функцию, которая будет будет будет будет удалять все все все все последовательные повторы слов из из из из заданной строки строки при помощи регулярных выражений.’\n",
        "\n",
        "Результат:\n",
        "Напишите функцию, которая будет удалять все последовательные повторы слов из заданной строки при помощи регулярных выражений."
      ],
      "metadata": {
        "id": "GnZWWpdhaA0W"
      }
    },
    {
      "cell_type": "code",
      "source": [
        "def del_repeat(string):\n",
        "    return re.sub(r'(\\w+)(\\s\\1)+', r'\\1', string)"
      ],
      "metadata": {
        "id": "mzsUHUxzaIj9"
      },
      "execution_count": null,
      "outputs": []
    },
    {
      "cell_type": "code",
      "source": [
        "some_string = '''Напишите функцию функцию, которая будет будет будет будет удалять\n",
        "все все все все последовательные повторы слов из из из из заданной строки строки\n",
        "при помощи регулярных выражений.'''\n",
        "del_repeat(some_string)"
      ],
      "metadata": {
        "colab": {
          "base_uri": "https://localhost:8080/",
          "height": 35
        },
        "id": "g58pTHn5bVNs",
        "outputId": "e7894327-66e5-4b5e-e495-08fe4e1bd5ba"
      },
      "execution_count": null,
      "outputs": [
        {
          "output_type": "execute_result",
          "data": {
            "text/plain": [
              "'Напишите функцию, которая будет удалять\\nвсе последовательные повторы слов из заданной строки\\nпри помощи регулярных выражений.'"
            ],
            "application/vnd.google.colaboratory.intrinsic+json": {
              "type": "string"
            }
          },
          "metadata": {},
          "execution_count": 63
        }
      ]
    },
    {
      "cell_type": "markdown",
      "source": [
        "## Задание 3\n",
        "Напишите функцию, которая будет возвращать акроним по переданной в нее строке со словами.\n",
        "\n",
        "Примеры работы программы:\n",
        "\n",
        "some_words = 'Информационные технологии’\n",
        "Результат: ИТ\n",
        "\n",
        "some_words = 'Near Field Communication’\n",
        "Результат: NFC"
      ],
      "metadata": {
        "id": "5pKxUrQ2cVO6"
      }
    },
    {
      "cell_type": "code",
      "source": [
        "from typing_extensions import Concatenate\n",
        "def acronym(string):\n",
        "    letters = re.findall(r'(\\w)\\w+', string)\n",
        "    [print(el.upper(), end='') for el in letters]"
      ],
      "metadata": {
        "id": "9b_18WVtcbIp"
      },
      "execution_count": null,
      "outputs": []
    },
    {
      "cell_type": "code",
      "source": [
        "some_words = 'Near Field Communication'\n",
        "acronym(some_words)"
      ],
      "metadata": {
        "colab": {
          "base_uri": "https://localhost:8080/"
        },
        "id": "GbT9zKrrdetf",
        "outputId": "f8a903d7-cda4-4812-edc5-e5a59fb4340e"
      },
      "execution_count": null,
      "outputs": [
        {
          "output_type": "stream",
          "name": "stdout",
          "text": [
            "NFC"
          ]
        }
      ]
    },
    {
      "cell_type": "markdown",
      "source": [
        "## Задание 4\n",
        "Напишите функцию, которая будет принимать на вход список email-адресов и выводить их распределение по доменным зонам.\n",
        "\n",
        "Пример работы программы:\n",
        "\n",
        "emails = [‘test@gmail.com’, ‘xyz@test.in’, ‘test@ya.ru’, ‘xyz@mail.ru’, ‘xyz@ya.ru’, ‘xyz@gmail.com’]\n",
        "\n",
        "Результат:\n",
        "\n",
        "gmail.com: 2\n",
        "test.in: 1\n",
        "ya.ru: 2\n",
        "mail.ru: 1"
      ],
      "metadata": {
        "id": "kMBlU1t9fnSl"
      }
    },
    {
      "cell_type": "code",
      "source": [
        "def domains(emails):\n",
        "    domains = {}\n",
        "    for email in emails:\n",
        "        temp_domain = re.search(r'\\w+@(\\w+\\.\\w{2,3})', email)\n",
        "        domains.setdefault(str(temp_domain.group(1)), 0)\n",
        "        domains[str(temp_domain.group(1))] += 1\n",
        "    [print(f'{key}: {value}', end=' ') for key, value in domains.items()]"
      ],
      "metadata": {
        "id": "rwdpf0s-frxT"
      },
      "execution_count": null,
      "outputs": []
    },
    {
      "cell_type": "code",
      "source": [
        "emails = ['test@gmail.com', 'xyz@test.in', 'test@ya.ru', 'xyz@mail.ru', 'xyz@ya.ru', 'xyz@gmail.com']\n",
        "\n",
        "domains(emails)"
      ],
      "metadata": {
        "colab": {
          "base_uri": "https://localhost:8080/"
        },
        "id": "Cz0ERfwwiPAx",
        "outputId": "a7f01edc-b6a0-402b-a60d-2ad87df07fb5"
      },
      "execution_count": null,
      "outputs": [
        {
          "output_type": "stream",
          "name": "stdout",
          "text": [
            "gmail.com: 2 test.in: 1 ya.ru: 2 mail.ru: 1 "
          ]
        }
      ]
    },
    {
      "cell_type": "markdown",
      "source": [
        "## Задание 5 (необязательное)\n",
        "\n",
        "Напишите функцию, которая будет подсчитывать сколько слов начинается на гласные, а сколько на согласные буквы в тексте (текст может быть написан как с использованием букв кириллицы, так и латиницы).\n",
        "\n",
        "Пример работы программы:\n",
        "\n",
        "some_text = ‘Эталонной реализацией Python является интерпретатор CPython, поддерживающий большинство активно используемых платформ. Он распространяется под свободной лицензией Python Software Foundation License, позволяющей использовать его без ограничений в любых приложениях, включая проприетарные.’\n",
        "\n",
        "Результат:\n",
        "\n",
        "Слов на гласные буквы: 9\n",
        "Слов на согласные буквы: 21"
      ],
      "metadata": {
        "id": "y3evfJzwn9ag"
      }
    },
    {
      "cell_type": "code",
      "source": [
        "def count_letters(text):\n",
        "    counter_vowels, counter_consonants = 0, 0\n",
        "    vowels_list = 'AIEOUYАЕИОУЁЭЫЮЯ'\n",
        "    letters = re.findall(r'(\\w)\\w*', text)\n",
        "    for letter in letters:\n",
        "        if letter.isalpha():\n",
        "            if letter.upper() in vowels_list: counter_vowels += 1\n",
        "            else: counter_consonants += 1\n",
        "    print(f'Слов на гласные буквы: {counter_vowels} Слов на согласные буквы: {counter_consonants}')\n"
      ],
      "metadata": {
        "id": "kfrvrphPoBZ_"
      },
      "execution_count": null,
      "outputs": []
    },
    {
      "cell_type": "code",
      "source": [
        "some_text = '''Эталонной реализацией Python является интерпретатор CPython,\n",
        "поддерживающий большинство активно используемых платформ.\n",
        "Он распространяется под свободной лицензией Python Software Foundation License,\n",
        "позволяющей использовать его без ограничений в любых приложениях, включая проприетарные.'''\n",
        "\n",
        "count_letters(some_text)"
      ],
      "metadata": {
        "colab": {
          "base_uri": "https://localhost:8080/"
        },
        "id": "CHMWrOw2rzGS",
        "outputId": "65636171-f9f7-4562-cada-d14f46f5c571"
      },
      "execution_count": null,
      "outputs": [
        {
          "output_type": "stream",
          "name": "stdout",
          "text": [
            "Слов на гласные буквы: 9 Слов на согласные буквы: 21\n"
          ]
        }
      ]
    },
    {
      "cell_type": "markdown",
      "source": [
        "## Задание 6 (необязательное)\n",
        "\n",
        "Напишите функцию, которая будет проверять номер сотового телефона на валидность (только для российского формата), если он валиден, то переводить его в формат:\n",
        "+7-xxx-xxx-xx-xx\n",
        "Постарайтесь предусмотреть как можно больше адекватных форматов изначального ввода номера. Примеры работы программы:\n",
        "\n",
        "phone = '+7 955 555-55-55’\n",
        "Результат: +7-955-555-55-55\n",
        "\n",
        "phone = '8(955)555-55-55’\n",
        "Результат: +7-955-555-55-55\n",
        "\n",
        "phone = '+7 955 555 55 55’\n",
        "Результат: +7-955-555-55-55\n",
        "\n",
        "phone = '7(955) 555-55-55’\n",
        "Результат: +7-955-555-55-55\n",
        "\n",
        "phone = '423-555-55-5555’\n",
        "Результат: Номер не валиден\n",
        "\n",
        "phone = '123-456-789’\n",
        "Результат: Номер не валиден"
      ],
      "metadata": {
        "id": "c5xz3KuOtJLZ"
      }
    },
    {
      "cell_type": "code",
      "source": [
        "def validation_phone_numbers(phone_number):\n",
        "    number = re.search(r'^(\\+7|7|8).(\\d{3}).(\\d{3}).(\\d{2}).(\\d{2})', phone_number)\n",
        "    if number: print(re.sub(r'^(\\+7|7|8).(\\d{3}).(\\d{3}).(\\d{2}).(\\d{2})', r'+7-\\2-\\3-\\4-\\5', phone_number))\n",
        "    else: print('Номер не валиден')"
      ],
      "metadata": {
        "id": "HwLfkRnUtMQ_"
      },
      "execution_count": null,
      "outputs": []
    },
    {
      "cell_type": "code",
      "source": [
        "validation_phone_numbers('(955)555-55-55')"
      ],
      "metadata": {
        "colab": {
          "base_uri": "https://localhost:8080/"
        },
        "id": "H_lIfdfwuvNO",
        "outputId": "0a39f09e-4dba-4e5f-e54e-22c8da471430"
      },
      "execution_count": null,
      "outputs": [
        {
          "output_type": "stream",
          "name": "stdout",
          "text": [
            "Номер не валиден\n"
          ]
        }
      ]
    }
  ]
}
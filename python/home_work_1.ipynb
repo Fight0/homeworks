{
  "nbformat": 4,
  "nbformat_minor": 0,
  "metadata": {
    "colab": {
      "name": "home_work_1",
      "provenance": []
    },
    "kernelspec": {
      "name": "python3",
      "display_name": "Python 3"
    },
    "language_info": {
      "name": "python"
    }
  },
  "cells": [
    {
      "cell_type": "markdown",
      "source": [
        "# ***Задание 1***\n",
        "Даны 2 переменных, в которых хранятся строки произвольной длины: phrase_1 и phrase_2.\n",
        "Напишите код, который проверяет какая из этих строк длиннее."
      ],
      "metadata": {
        "id": "oSsTpNJf2wLK"
      }
    },
    {
      "cell_type": "code",
      "execution_count": null,
      "metadata": {
        "colab": {
          "base_uri": "https://localhost:8080/"
        },
        "id": "IiO2i_Q_1OUK",
        "outputId": "b710ba05-4eef-4b8a-a6f3-24b9e3d3b332"
      },
      "outputs": [
        {
          "output_type": "stream",
          "name": "stdout",
          "text": [
            "640Кб должно хватить для любых задач. Билл Гейтс (по легенде)\n",
            "640Кб должно хватить для любых задач. Билл Гейтс (по легенде)\n",
            "Фразы 1 и 2 равны\n"
          ]
        }
      ],
      "source": [
        "#сравниваем длину строк\n",
        "phrase_1, phrase_2 = str(input('Введите фразу 1: ')), str(input('Введите фразу 2: '))\n",
        "if len(phrase_1) > len(phrase_2):\n",
        "    print('Фраза 1 длиннее фразы 2')\n",
        "elif len(phrase_2) > len(phrase_1):\n",
        "    print('Фраза 2 длиннее фразы 1')\n",
        "else:\n",
        "    print('Фразы равной длины')"
      ]
    },
    {
      "cell_type": "markdown",
      "source": [
        "# **Задание 2**\n",
        "Дана переменная, в которой хранится четырехзначное число (год). Необходимо написать программу, которая выведет, является ли данный год високосным или обычным."
      ],
      "metadata": {
        "id": "mNkymJ_l3A9B"
      }
    },
    {
      "cell_type": "code",
      "source": [
        "#проверяем, является ли год високосным\n",
        "year = int(input('Введите год:'))\n",
        "if year <= 1:\n",
        "  print('Некорректные данные')\n",
        "elif year % 400 == 0:\n",
        "    print('Високосный год')\n",
        "elif year % 100 == 0:\n",
        "    print('Обычный год')\n",
        "elif year % 4 == 0:\n",
        "    print('Високосный год')\n",
        "else:\n",
        "    print('Обычный год')"
      ],
      "metadata": {
        "colab": {
          "base_uri": "https://localhost:8080/"
        },
        "id": "EfHmwtx_3KoB",
        "outputId": "d06e94e0-49f7-43f2-d8d0-8e7b2b6f99d7"
      },
      "execution_count": null,
      "outputs": [
        {
          "output_type": "stream",
          "name": "stdout",
          "text": [
            "Введите год:9999999999999999999999\n",
            "Обычный год\n"
          ]
        }
      ]
    },
    {
      "cell_type": "markdown",
      "source": [
        "# **Задание 3**\n",
        "Необходимо написать программу, которая будет запрашивать у пользователя месяц и дату рождения и выводить соответствующий знак зодиака."
      ],
      "metadata": {
        "id": "id6vGFz14yZG"
      }
    },
    {
      "cell_type": "code",
      "source": [
        "day, month = int(input('Введите день: ')), str(input('Введите месяц: '))\n",
        "zodiac = 0\n",
        "if 21 <= day <= 31 and month == 'Март' or 1 <= day <= 20 and month == 'Апрель':\n",
        "    zodiac = 'Овен'\n",
        "elif 21 <= day <= 30 and month == 'Апрель' or 1 <= day <= 21 and month == 'Май':\n",
        "    zodiac = 'Телец'\n",
        "elif 22 <= day <= 31 and month == 'Май' or 1 <= day <= 21 and month == 'Июнь':\n",
        "    zodiac = 'Близнецы'\n",
        "elif 22 <= day <= 30 and month == 'Июнь' or 1 <= day <= 22 and month == 'Июль':\n",
        "    zodiac = 'Рак'\n",
        "elif 23 <= day <= 31 and month == 'Июль' or 1 <= day <= 23 and month == 'Август':\n",
        "    zodiac = 'Лев'\n",
        "elif 24 <= day <= 31 and month == 'Август' or 1 <= day <= 22 and month == 'Сентябрь':\n",
        "    zodiac = 'Дева'\n",
        "elif 23 <= day <= 30 and month == 'Сентябрь' or 1 <= day <= 23 and month == 'Октябрь':\n",
        "    zodiac = 'Весы'\n",
        "elif 24 <= day <= 31 and month == 'Октябрь' or 1 <= day <= 22 and month == 'Ноябрь':\n",
        "    zodiac = 'Скорпион'\n",
        "elif 23 <= day <= 30 and month == 'Ноябрь' or 1 <= day <= 21 and month == 'Декабрь':\n",
        "    zodiac = 'Стрелец'\n",
        "elif 22 <= day <= 31 and month == 'Декабрь' or 1 <= day <= 20 and month == 'Январь':\n",
        "    zodiac = 'Козерог'\n",
        "elif 21 <= day <= 31 and month == 'Январь' or 1 <= day <= 18 and month == 'Февраль':\n",
        "    zodiac = 'Водолей'\n",
        "elif 19 <= day <= 29 and month == 'Февраль' or 1 <= day <= 20 and month == 'Март':\n",
        "    zodiac = 'Рыбы'\n",
        "\n",
        "if zodiac == 0:\n",
        "    print('Некорректные данные')\n",
        "else:\n",
        "    print('Ваш знак зодиака:', zodiac)"
      ],
      "metadata": {
        "colab": {
          "base_uri": "https://localhost:8080/"
        },
        "id": "eLoTEzw5434V",
        "outputId": "905ca43f-0185-45f2-a2a5-176fef0a0ee3"
      },
      "execution_count": null,
      "outputs": [
        {
          "output_type": "stream",
          "name": "stdout",
          "text": [
            "Введите день: 19\n",
            "Введите месяц: Февраль\n",
            "Ваш знак зодиака: Рыбы\n"
          ]
        }
      ]
    },
    {
      "cell_type": "markdown",
      "source": [
        "# **Задание 4**\n",
        "Вам нужно написать программу для подбора упаковок по размерам товара. Размеры (ширина, длина, высота) хранятся в переменных (в сантиметрах):"
      ],
      "metadata": {
        "id": "ZZ3xKBxfCHOt"
      }
    },
    {
      "cell_type": "code",
      "source": [
        "width, length, height = float(input('Введите ширину: ')), float(input('Введите длину: ')), float(input('Введите высоту: '))\n",
        "\n",
        "if width <= 15 and length <= 15 and height <= 15:\n",
        "    print('Коробка №1')\n",
        "elif length > 2000:\n",
        "    print('Коробка для лыж')\n",
        "elif 15 < width < 50 or 15 < length < 50 or 15 < height < 50:\n",
        "    print('Коробка №2')\n",
        "else:\n",
        "    print('Стандартная коробка №3')"
      ],
      "metadata": {
        "colab": {
          "base_uri": "https://localhost:8080/"
        },
        "id": "NIkZkDw2CM79",
        "outputId": "8da73576-df53-4927-aab7-dae0a8b769a3"
      },
      "execution_count": null,
      "outputs": [
        {
          "output_type": "stream",
          "name": "stdout",
          "text": [
            "Введите ширину: 3000\n",
            "Введите длину: 45\n",
            "Введите высоту: 10\n",
            "Коробка №2\n"
          ]
        }
      ]
    },
    {
      "cell_type": "markdown",
      "source": [
        "# **Задание 5 (необязательное)**\n",
        "Дана переменная, в которой хранится шестизначное число (номер проездного билета). Напишите программу, которая будет определять, является ли данный билет “счастливым”.\n",
        "Билет считается счастливым, если сумма первых трех цифр совпадает с суммой последних трех цифр номера."
      ],
      "metadata": {
        "id": "W69FkpbtOa5L"
      }
    },
    {
      "cell_type": "code",
      "source": [
        "ticket, sum_left, sum_right = str(input('Введите номер билета: ')), 0, 0\n",
        "\n",
        "for i in range(len(ticket)):\n",
        "    if i < len(ticket) / 2:\n",
        "        sum_left += int(ticket[i])\n",
        "    else:\n",
        "        sum_right += int(ticket[i])\n",
        "if sum_left == sum_right:\n",
        "    print('Счастливый билет')\n",
        "else:\n",
        "    print('Несчастливый билет')\n",
        "#считаем сумму первых трех цифр, сумму последних трех цифр номера и сравниваем"
      ],
      "metadata": {
        "colab": {
          "base_uri": "https://localhost:8080/"
        },
        "id": "Ryf4IaCZOheC",
        "outputId": "dc452fb7-3826-413d-c062-a2d129973a42"
      },
      "execution_count": null,
      "outputs": [
        {
          "output_type": "stream",
          "name": "stdout",
          "text": [
            "Введите номер билета: 100010\n",
            "Счастливый билет\n"
          ]
        }
      ]
    },
    {
      "cell_type": "markdown",
      "source": [
        "# **Задание 6 (необязательное)**\n",
        "Напишите программу, которая сможет вычислять площади трех фигур (круг, треугольник и прямоугольник). Тип фигуры запрашиваем через пользовательский ввод, после чего делаем запрос характеристик фигуры:"
      ],
      "metadata": {
        "id": "MgdEny0fRoDG"
      }
    },
    {
      "cell_type": "code",
      "source": [
        "import math\n",
        "\n",
        "geometric_figure = str(input('Введите тип геометрической фигуры: '))\n",
        "\n",
        "if geometric_figure == 'Круг':\n",
        "    r = float(input('Введите радиус круга: '))\n",
        "    print('Площадь круга:', math.pi * (r ** 2))\n",
        "elif geometric_figure == 'Треугольник':\n",
        "    side_a = float(input('Введите длину стороны A: '))\n",
        "    side_b = float(input('Введите длину стороны B: '))\n",
        "    side_c = float(input('Введите длину стороны C: '))\n",
        "    #полупериметр треугольника\n",
        "    p = (side_a + side_b + side_c) / 2\n",
        "    #площадь тругольника по формуле Герона \n",
        "    s = math.sqrt(p * (p - side_a) * (p - side_b) * (p - side_c))\n",
        "    print('Площадь треугольника:', s)\n",
        "elif geometric_figure == 'Прямоугольник':\n",
        "    a = float(input('Введите длину стороны A: '))\n",
        "    b = float(input('Введите длину стороны B: '))\n",
        "    print('Площадь прямоугольника:', a * b)\n",
        "else:\n",
        "    print('Некорректный тип геометрической фигуры')"
      ],
      "metadata": {
        "colab": {
          "base_uri": "https://localhost:8080/"
        },
        "id": "1YojbwTFRs2c",
        "outputId": "2eef6bdf-8900-4f04-bebb-32ece8e1863c"
      },
      "execution_count": null,
      "outputs": [
        {
          "output_type": "stream",
          "name": "stdout",
          "text": [
            "Введите тип геометрической фигуры: ППЫАП\n",
            "Некорректный тип геометрической фигуры\n"
          ]
        }
      ]
    }
  ]
}
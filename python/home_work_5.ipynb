{
  "nbformat": 4,
  "nbformat_minor": 0,
  "metadata": {
    "colab": {
      "name": "ДЗ-5.ipynb",
      "provenance": []
    },
    "kernelspec": {
      "name": "python3",
      "display_name": "Python 3"
    },
    "language_info": {
      "name": "python"
    }
  },
  "cells": [
    {
      "cell_type": "markdown",
      "source": [
        "## 1. Переведите содержимое файла purchase_log.txt в словарь purchases вида:\n",
        "## {‘1840e0b9d4’: ‘Продукты’, …}\n"
      ],
      "metadata": {
        "id": "Y3VJYwOECY67"
      }
    },
    {
      "cell_type": "code",
      "source": [
        "import json\n",
        "\n",
        "# открываем контекстный менеджер\n",
        "with open('purchase_log.txt') as f:\n",
        "\n",
        "    # читаем содержимое файла в оперативную память и преобразуем в список\n",
        "    data, purchases = f.read().strip().split('\\n'), {}\n",
        "\n",
        "    # с помощью цикла преобразуем эл-ты списка в словари\n",
        "    for el in data:\n",
        "        el = json.loads(el)\n",
        "        # формируем из значений новый словарь\n",
        "        purchases[el['user_id']] = el['category']\n",
        "purchases"
      ],
      "metadata": {
        "id": "ua6IVImm74O1"
      },
      "execution_count": null,
      "outputs": []
    },
    {
      "cell_type": "markdown",
      "source": [
        "## 2. Для каждого user_id в файле visit_log.csv определите третий столбец с категорией покупки (если покупка была, сам файл visit_log.csv изменять не надо). Запишите в файл funnel.csv визиты из файла visit_log.csv, в которых были покупки с указанием категории.\n",
        "## Учтите условия на данные:\n",
        "## содержимое purchase_log.txt помещается в оперативную память компьютера\n",
        "## содержимое visit_log.csv - нет; используйте только построчную обработку этого файла"
      ],
      "metadata": {
        "id": "8kXCQKX3Cycy"
      }
    },
    {
      "cell_type": "code",
      "source": [
        "with open('funnel.csv', 'w') as f_new:\n",
        "    f = open('visit_log.csv')\n",
        "    for line in f:\n",
        "        line = line.strip().split(',')\n",
        "        if line[0] in purchases:\n",
        "            line.append(purchases[line[0]])\n",
        "            line = ','.join(line)\n",
        "            for x in line:\n",
        "                f_new.write(x)\n",
        "            f_new.write('\\n')"
      ],
      "metadata": {
        "id": "RVSfZhomC6wy"
      },
      "execution_count": null,
      "outputs": []
    }
  ]
}
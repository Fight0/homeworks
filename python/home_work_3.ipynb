{
  "nbformat": 4,
  "nbformat_minor": 0,
  "metadata": {
    "colab": {
      "name": "home_work_3.ipynb",
      "provenance": [],
      "collapsed_sections": []
    },
    "kernelspec": {
      "name": "python3",
      "display_name": "Python 3"
    },
    "language_info": {
      "name": "python"
    },
    "gpuClass": "standard"
  },
  "cells": [
    {
      "cell_type": "markdown",
      "source": [
        "# **Задание 1**\n",
        "Дана переменная, в которой хранится словарь, содержащий гео-метки для каждого пользователя (пример структуры данных приведен ниже). Вам необходимо написать программу, которая выведет на экран множество уникальных гео-меток всех пользователей."
      ],
      "metadata": {
        "id": "RIllU9OU_4--"
      }
    },
    {
      "cell_type": "code",
      "execution_count": null,
      "metadata": {
        "colab": {
          "base_uri": "https://localhost:8080/"
        },
        "id": "ii2RqGKTyVs6",
        "outputId": "21dd91d3-3d79-4969-f931-ca043e14af9f"
      },
      "outputs": [
        {
          "output_type": "stream",
          "name": "stdout",
          "text": [
            "{98, 35, 15, 213, 54, 119}\n"
          ]
        }
      ],
      "source": [
        "# заменяем кавычки)))\n",
        "def quotes(text):\n",
        "  new = []\n",
        "  for i in range(len(text)):\n",
        "    if text[i] == '‘' or text[i] == '’':\n",
        "      new.append(\"'\")\n",
        "    else:\n",
        "      new.append(text[i])\n",
        "  return ''.join(new)\n",
        "\n",
        "ids = eval(quotes('''{‘user1’: [213, 213, 213, 15, 213],\n",
        "‘user2’: [54, 54, 119, 119, 119],\n",
        "‘user3’: [213, 98, 98, 35]}'''))\n",
        "geo_list = []\n",
        "for id, geo in ids.items():\n",
        "  geo_list += geo\n",
        "print(set(geo_list))\n"
      ]
    },
    {
      "cell_type": "markdown",
      "source": [
        "# **Задание 2**\n",
        "Дана переменная, в которой хранится список поисковых запросов пользователя (пример структуры данных приведен ниже). Вам необходимо написать программу, которая выведет на экран распределение количества слов в запросах в требуемом виде."
      ],
      "metadata": {
        "id": "VG7lwj67__6y"
      }
    },
    {
      "cell_type": "code",
      "source": [
        "# убираеми лишнее)))\n",
        "def quotes(text):\n",
        "    text = (''.join(text)).strip('\\n[]‘’')\n",
        "    result = text.split(sep='’,\\n‘')\n",
        "    return result\n",
        "\n",
        "queries = quotes('''[\n",
        "‘смотреть сериалы онлайн’,\n",
        "‘новости спорта’,\n",
        "‘афиша кино’,\n",
        "‘курс доллара’,\n",
        "‘сериалы этим летом’,\n",
        "‘курс по питону’,\n",
        "‘сериалы про спорт’\n",
        "]''')\n",
        "count_words = []\n",
        "\n",
        "for i in range(len(queries)):\n",
        "    queries[i] = queries[i].split()\n",
        "    count_words.append(len(queries[i]))\n",
        "\n",
        "for c in set(count_words):\n",
        "    print(f'Поисковых запросов, содержащих {c} слов(а): {count_words.count(c) / len(count_words) :.2%}')\n",
        "    "
      ],
      "metadata": {
        "colab": {
          "base_uri": "https://localhost:8080/"
        },
        "id": "_mfAkZpeAGUW",
        "outputId": "74ec6fbd-b76c-4ff3-91c9-34c8021c6e85"
      },
      "execution_count": null,
      "outputs": [
        {
          "output_type": "stream",
          "name": "stdout",
          "text": [
            "Поисковых запросов, содержащих 2 слов(а): 42.86%\n",
            "Поисковых запросов, содержащих 3 слов(а): 57.14%\n"
          ]
        }
      ]
    },
    {
      "cell_type": "markdown",
      "source": [
        "# **Задание 3**\n",
        "Дана переменная, в которой хранится информация о затратах и доходе рекламных кампаний по различным источникам. Необходимо дополнить исходную структуру показателем ROI, который рассчитаем по формуле: (revenue / cost - 1) * 100"
      ],
      "metadata": {
        "id": "DDode549oTEX"
      }
    },
    {
      "cell_type": "code",
      "source": [
        "results = {\n",
        "           'vk': {'revenue': 103, 'cost': 98},\n",
        "           'yandex': {'revenue': 179, 'cost': 153},\n",
        "           'facebook': {'revenue': 103, 'cost': 110},\n",
        "           'adwords': {'revenue': 35, 'cost': 34},\n",
        "           'twitter': {'revenue': 11, 'cost': 24}\n",
        "           }\n",
        "roi = 0\n",
        "for key in results:\n",
        "    roi = (results[key].get('revenue') / results[key].get('cost') - 1) * 100\n",
        "    results[key]['ROI'] = round(roi, 2)\n",
        "    print(key, results[key], sep=': ')"
      ],
      "metadata": {
        "colab": {
          "base_uri": "https://localhost:8080/"
        },
        "id": "0N95de45u25r",
        "outputId": "ba61f36a-f3f4-4600-b461-c4110016dea4"
      },
      "execution_count": null,
      "outputs": [
        {
          "output_type": "stream",
          "name": "stdout",
          "text": [
            "vk: {'revenue': 103, 'cost': 98, 'ROI': 5.1}\n",
            "yandex: {'revenue': 179, 'cost': 153, 'ROI': 16.99}\n",
            "facebook: {'revenue': 103, 'cost': 110, 'ROI': -6.36}\n",
            "adwords: {'revenue': 35, 'cost': 34, 'ROI': 2.94}\n",
            "twitter: {'revenue': 11, 'cost': 24, 'ROI': -54.17}\n"
          ]
        }
      ]
    },
    {
      "cell_type": "markdown",
      "source": [
        "# **Задание 4**\n",
        "Дана переменная, в которой хранится статистика рекламных каналов по объемам продаж (пример структуры данных приведен ниже). Напишите программу, которая возвращает название канала с максимальным объемом продаж."
      ],
      "metadata": {
        "id": "LQnKP1Pl429n"
      }
    },
    {
      "cell_type": "code",
      "source": [
        "# заменяем кавычки)))\n",
        "def quotes(text):\n",
        "  new = []\n",
        "  for i in range(len(text)):\n",
        "    if text[i] == '‘' or text[i] == '’':\n",
        "      new.append(\"'\")\n",
        "    else:\n",
        "      new.append(text[i])\n",
        "  return ''.join(new)\n",
        "\n",
        "stats = eval(quotes('{‘facebook’: 55, ‘yandex’: 115, ‘vk’: 120, ‘google’: 99, ‘email’: 42, ‘ok’: 98}'))\n",
        "maximum, max_key = -10000, None\n",
        "\n",
        "for name, value in stats.items():\n",
        "    if value > maximum:\n",
        "        maximum = value\n",
        "        max_key = name\n",
        "print(f'Максимальный объем продаж на рекламном канале: {max_key}')\n"
      ],
      "metadata": {
        "colab": {
          "base_uri": "https://localhost:8080/"
        },
        "id": "rVBhpofZ48nW",
        "outputId": "e36f1fa2-707e-4531-bacc-ce778f2d6f94"
      },
      "execution_count": null,
      "outputs": [
        {
          "output_type": "stream",
          "name": "stdout",
          "text": [
            "Максимальный объем продаж на рекламном канале: vk\n"
          ]
        }
      ]
    },
    {
      "cell_type": "markdown",
      "source": [
        "# **Задание 5 (необязательно)**\n",
        "Дан список произвольной длины. Необходимо написать код, который на основе исходного списка составит словарь такого уровня вложенности, какова длина исхондого списка."
      ],
      "metadata": {
        "id": "HkeQzdfi9l5n"
      }
    },
    {
      "cell_type": "code",
      "source": [
        "# заменяем кавычки)))\n",
        "def quotes(text):\n",
        "  new = []\n",
        "  for i in range(len(text)):\n",
        "    if text[i] == '‘' or text[i] == '’':\n",
        "      new.append(\"'\")\n",
        "    else:\n",
        "      new.append(text[i])\n",
        "  return ''.join(new)\n",
        "\n",
        "my_list = eval(quotes('[‘a’, ‘b’, ‘c’, ‘d’, ‘e’, ‘f’]'))\n",
        "dictionary = {my_list[-2]: my_list[-1]}\n",
        "\n",
        "if len(my_list) > 2:\n",
        "    for i in range(-3, -len(my_list) - 1, -1):\n",
        "        dictionary = dict({my_list[i]: dictionary})\n",
        "print(dictionary)"
      ],
      "metadata": {
        "colab": {
          "base_uri": "https://localhost:8080/"
        },
        "id": "MzuVqkf99wuA",
        "outputId": "28eb367c-a729-4e30-f709-4cef94c1e59f"
      },
      "execution_count": null,
      "outputs": [
        {
          "output_type": "stream",
          "name": "stdout",
          "text": [
            "{'a': {'b': {'c': {'d': {'e': 'f'}}}}}\n"
          ]
        }
      ]
    },
    {
      "cell_type": "markdown",
      "source": [
        "# **Задание 6 (необязательно)**\n",
        "Дана книга рецептов с информацией о том, сколько ингредиентов нужно для приготовления блюда в расчете на одну порцию (пример данных представлен ниже).\n",
        "Напишите программу, которая будет запрашивать у пользователя количество порций для приготовления этих блюд и отображать информацию о суммарном количестве требуемых ингредиентов в указанном виде."
      ],
      "metadata": {
        "id": "oOivObr8C041"
      }
    },
    {
      "cell_type": "code",
      "source": [
        "# заменяем кавычки)))\n",
        "def quotes(text):\n",
        "  new = []\n",
        "  for i in range(len(text)):\n",
        "    if text[i] == '‘' or text[i] == '’':\n",
        "      new.append(\"'\")\n",
        "    else:\n",
        "      new.append(text[i])\n",
        "  return ''.join(new)\n",
        "\n",
        "cook_book = eval(quotes('''{\n",
        "‘салат’: [\n",
        "{‘ingridient_name’: ‘сыр’, ‘quantity’: 50, ‘measure’: ‘гр’},\n",
        "{‘ingridient_name’: ‘томаты’, ‘quantity’: 2, ‘measure’: ‘шт’},\n",
        "{‘ingridient_name’: ‘огурцы’, ‘quantity’: 20, ‘measure’: ‘гр’},\n",
        "{‘ingridient_name’: ‘маслины’, ‘quantity’: 10, ‘measure’: ‘гр’},\n",
        "{‘ingridient_name’: ‘оливковое масло’, ‘quantity’: 20, ‘measure’: ‘мл’},\n",
        "{‘ingridient_name’: ‘салат’, ‘quantity’: 10, ‘measure’: ‘гр’},\n",
        "{‘ingridient_name’: ‘перец’, ‘quantity’: 20, ‘measure’: ‘гр’}\n",
        "],\n",
        "‘пицца’: [\n",
        "{‘ingridient_name’: ‘сыр’, ‘quantity’: 20, ‘measure’: ‘гр’},\n",
        "{‘ingridient_name’: ‘колбаса’, ‘quantity’: 30, ‘measure’: ‘гр’},\n",
        "{‘ingridient_name’: ‘бекон’, ‘quantity’: 30, ‘measure’: ‘гр’},\n",
        "{‘ingridient_name’: ‘оливки’, ‘quantity’: 10, ‘measure’: ‘гр’},\n",
        "{‘ingridient_name’: ‘томаты’, ‘quantity’: 20, ‘measure’: ‘гр’},\n",
        "{‘ingridient_name’: ‘тесто’, ‘quantity’: 100, ‘measure’: ‘гр’},\n",
        "],\n",
        "‘лимонад’: [\n",
        "{‘ingridient_name’: ‘лимон’, ‘quantity’: 1, ‘measure’: ‘шт’},\n",
        "{‘ingridient_name’: ‘вода’, ‘quantity’: 200, ‘measure’: ‘мл’},\n",
        "{‘ingridient_name’: ‘сахар’, ‘quantity’: 10, ‘measure’: ‘гр’},\n",
        "{‘ingridient_name’: ‘лайм’, ‘quantity’: 20, ‘measure’: ‘гр’},\n",
        "]\n",
        "}'''))\n",
        "\n",
        "count_portions = int(input('Введите количество порций: '))\n",
        "\n",
        "for recipe, ingridients in cook_book.items():\n",
        "    for i in range(len(ingridients)):\n",
        "        for parameter, value in ingridient.items():\n",
        "            if parameter == 'quantity':\n",
        "                cook_book[recipe][i]['quantity'] *= count_portions\n",
        "                \n",
        "                print(cook_book[recipe][i]['ingridient_name'].capitalize(),\n",
        "                      ': ', cook_book[recipe][i]['quantity'],\n",
        "                      ' ', cook_book[recipe][i]['measure'], sep='')\n"
      ],
      "metadata": {
        "colab": {
          "base_uri": "https://localhost:8080/"
        },
        "id": "TNXmeGuwC53j",
        "outputId": "0b488662-6e79-4407-82b1-9c13835e2a5a"
      },
      "execution_count": null,
      "outputs": [
        {
          "output_type": "stream",
          "name": "stdout",
          "text": [
            "Введите количество порций: 3\n",
            "Сыр: 150 гр\n",
            "Томаты: 6 шт\n",
            "Огурцы: 60 гр\n",
            "Маслины: 30 гр\n",
            "Оливковое масло: 60 мл\n",
            "Салат: 30 гр\n",
            "Перец: 60 гр\n",
            "Сыр: 60 гр\n",
            "Колбаса: 90 гр\n",
            "Бекон: 90 гр\n",
            "Оливки: 30 гр\n",
            "Томаты: 60 гр\n",
            "Тесто: 300 гр\n",
            "Лимон: 3 шт\n",
            "Вода: 600 мл\n",
            "Сахар: 30 гр\n",
            "Лайм: 60 гр\n"
          ]
        }
      ]
    }
  ]
}
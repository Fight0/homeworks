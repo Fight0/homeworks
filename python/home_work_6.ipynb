{
 "cells": [
  {
   "cell_type": "markdown",
   "id": "043936e8",
   "metadata": {},
   "source": [
    "### Задание 1\n",
    "Печатные газеты использовали свой формат дат для каждого выпуска. Для каждой газеты из списка напишите формат указанной даты для перевода в объект datetime:\n",
    "The Moscow Times - Wednesday, October 2, 2002\n",
    "The Guardian - Friday, 11.10.13\n",
    "Daily News - Thursday, 18 August 1977"
   ]
  },
  {
   "cell_type": "code",
   "execution_count": 25,
   "id": "421cb99f",
   "metadata": {},
   "outputs": [
    {
     "data": {
      "text/plain": [
       "datetime.datetime(1977, 8, 18, 0, 0)"
      ]
     },
     "execution_count": 25,
     "metadata": {},
     "output_type": "execute_result"
    }
   ],
   "source": [
    "from datetime import datetime\n",
    "moscow_times = datetime.strptime('Wednesday, October 2, 2002', '%A, %B %d, %Y')\n",
    "guardian = datetime.strptime('Friday, 11.10.13', '%A, %d.%m.%y')\n",
    "daily_news = datetime.strptime('Thursday, 18 August 1977', '%A, %d %B %Y')"
   ]
  },
  {
   "cell_type": "markdown",
   "id": "460bcd62",
   "metadata": {},
   "source": [
    "### Задание 2\n",
    "Дан поток дат в формате YYYY-MM-DD, в которых встречаются некорректные значения:\n",
    "stream = [‘2018-04-02’, ‘2018-02-29’, ‘2018-19-02’]\n",
    "\n",
    "Напишите функцию, которая проверяет эти даты на корректность. Т. е. для каждой даты возвращает True (дата корректна) или False (некорректная дата)."
   ]
  },
  {
   "cell_type": "code",
   "execution_count": 38,
   "id": "3c697261",
   "metadata": {},
   "outputs": [
    {
     "data": {
      "text/plain": [
       "{'2018-04-02': True, '2018-02-29': False, '2018-19-02': False}"
      ]
     },
     "execution_count": 38,
     "metadata": {},
     "output_type": "execute_result"
    }
   ],
   "source": [
    "from datetime import datetime\n",
    "\n",
    "def quotes(text):\n",
    "    \"\"\"Функция перебирает все символы в строке циклом for, добавляя их в список \n",
    "    и заменяя \"‘\" и \"’\" на \"'\", объединяет список в строку и преобразует\n",
    "     полученную строку в выражение.\"\"\"\n",
    "\n",
    "    return eval(''.join([\"'\" if symbol == '‘' or symbol == '’' else symbol for symbol in str(text)]))\n",
    "\n",
    "def is_date_correctly(stream):\n",
    "    '''Функция принимает на вход список дат и проверяет их на корректность.\n",
    "    Резулятат работы функции - словарь с ключами ввиде дат и значениями True, если\n",
    "    дата корректна, или False, если дата некорректна.'''\n",
    "    \n",
    "    result = {}\n",
    "    for date in stream:\n",
    "        try:\n",
    "            result.setdefault(date, False)\n",
    "            temp_date = datetime.strptime(date, '%Y-%m-%d')\n",
    "            result[date] = True\n",
    "        except:\n",
    "            pass\n",
    "    return result\n",
    "        \n",
    "stream = quotes('[‘2018-04-02’, ‘2018-02-29’, ‘2018-19-02’]')\n",
    "\n",
    "is_date_correctly(stream)\n"
   ]
  },
  {
   "cell_type": "markdown",
   "id": "83aa033a",
   "metadata": {},
   "source": [
    "### Задание 3\n",
    "Напишите функцию date_range, которая возвращает список дат за период от start_date до end_date. Даты должны вводиться в формате YYYY-MM-DD. В случае неверного формата или при start_date > end_date должен возвращаться пустой список."
   ]
  },
  {
   "cell_type": "code",
   "execution_count": 58,
   "id": "6a9da72d",
   "metadata": {},
   "outputs": [
    {
     "name": "stdout",
     "output_type": "stream",
     "text": [
      "Введите начальную дату в формате YYYY-MM-DD: 2022-08-01\n",
      "Введите конечную дату в формате YYYY-MM-DD: 2022-07-22\n"
     ]
    },
    {
     "data": {
      "text/plain": [
       "[]"
      ]
     },
     "execution_count": 58,
     "metadata": {},
     "output_type": "execute_result"
    }
   ],
   "source": [
    "from datetime import datetime, timedelta\n",
    "\n",
    "def date_range(start_date=None, end_date=None):\n",
    "    \n",
    "    date_list = []\n",
    "    \n",
    "    if start_date is None or end_date is None:\n",
    "            start_date = input('Введите начальную дату в формате YYYY-MM-DD: ')\n",
    "            end_date = input('Введите конечную дату в формате YYYY-MM-DD: ')        \n",
    "    try:\n",
    "        start_date = datetime.strptime(start_date, '%Y-%m-%d')\n",
    "        end_date = datetime.strptime(end_date, '%Y-%m-%d')\n",
    "        current_date = start_date\n",
    "\n",
    "        while current_date <= end_date:\n",
    "            date_list.append(datetime.strftime(current_date, '%Y-%m-%d'))\n",
    "            current_date += timedelta(days=1)\n",
    "            \n",
    "        return date_list\n",
    "    \n",
    "    except:\n",
    "        return date_list\n",
    "\n",
    "\n",
    "date_range()    "
   ]
  },
  {
   "cell_type": "markdown",
   "id": "e4607a2e",
   "metadata": {},
   "source": [
    "### Задание 4 (необязательное)\n",
    "Ваш коллега прислал код функции:\n",
    "\n",
    "DEFAULT_USER_COUNT = 3\n",
    "\n",
    "def delete_and_return_last_user(region, default_list=[‘A100’, ‘A101’, ‘A102’]):\n",
    "\"\"“\n",
    "Удаляет из списка default_list последнего пользователя\n",
    "и возвращает ID нового последнего пользователя.\n",
    "”\"\"\n",
    "element_to_delete = default_list[-1]\n",
    "default_list.remove(element_to_delete)\n",
    "\n",
    "1\n",
    "return default_list[DEFAULT_USER_COUNT-2]\n",
    "При однократном вызове этой функции все работает корректно:\n",
    "delete_and_return_last_user(1)\n",
    "‘A101’\n",
    "\n",
    "Однако, при повторном вызове получается ошибка IndexError: list index out of range.\n",
    "\n",
    "Задание:\n",
    "\n",
    "Что значит ошибка list index out of range?\n",
    "Почему при первом запуске функция работает корректно, а при втором - нет?"
   ]
  },
  {
   "cell_type": "markdown",
   "id": "b6962227",
   "metadata": {},
   "source": [
    "1. Что значит ошибка list index out of range?\n",
    "Ошибка list index out of range означает, что элемента с данным индексом в списке нет.\n",
    "\n",
    "2. Почему при первом запуске функция работает корректно, а при втором - нет?\n",
    "Строка return default_list[DEFAULT_USER_COUNT-2] всегда возвращает значение default_list[1], т. к. DEFAULT_USER_COUNT - глобальная переменная со значением 3. При повторном запуске функции в списке остается только один элемент с индексом 0, элемента с индексом 1 в списке нет."
   ]
  }
 ],
 "metadata": {
  "kernelspec": {
   "display_name": "Python 3 (ipykernel)",
   "language": "python",
   "name": "python3"
  },
  "language_info": {
   "codemirror_mode": {
    "name": "ipython",
    "version": 3
   },
   "file_extension": ".py",
   "mimetype": "text/x-python",
   "name": "python",
   "nbconvert_exporter": "python",
   "pygments_lexer": "ipython3",
   "version": "3.9.12"
  }
 },
 "nbformat": 4,
 "nbformat_minor": 5
}

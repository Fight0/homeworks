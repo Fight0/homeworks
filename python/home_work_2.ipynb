{
  "nbformat": 4,
  "nbformat_minor": 0,
  "metadata": {
    "colab": {
      "name": "home_work_2",
      "provenance": [],
      "collapsed_sections": []
    },
    "kernelspec": {
      "name": "python3",
      "display_name": "Python 3"
    },
    "language_info": {
      "name": "python"
    }
  },
  "cells": [
    {
      "cell_type": "markdown",
      "source": [
        "# **Задание 1**\n",
        "Дана переменная, в которой хранится слово из латинских букв. Напишите код, который выводит на экран:\n",
        "\n",
        "среднюю букву, если число букв в слове нечетное;\n",
        "две средних буквы, если число букв четное."
      ],
      "metadata": {
        "id": "uNtis2c-T7nl"
      }
    },
    {
      "cell_type": "code",
      "execution_count": null,
      "metadata": {
        "colab": {
          "base_uri": "https://localhost:8080/"
        },
        "id": "UZp5jO_RT4kI",
        "outputId": "8e5a0c54-2c7c-4407-f4ce-f19c88665989"
      },
      "outputs": [
        {
          "output_type": "stream",
          "name": "stdout",
          "text": [
            "t\n"
          ]
        }
      ],
      "source": [
        "word = 'testing'\n",
        "\n",
        "if len(word) % 2 != 0:\n",
        "    print(word[len(word) // 2])\n",
        "else:\n",
        "    print(word[(len(word)//2)-1:(len(word)//2)+1])"
      ]
    },
    {
      "cell_type": "markdown",
      "source": [
        "# **Задание 2**\n",
        "Напишите программу, которая последовательно запрашивает у пользователя числа (по одному за раз) и после первого нуля выводит сумму всех ранее введенных чисел."
      ],
      "metadata": {
        "id": "K22BQrOHVt_p"
      }
    },
    {
      "cell_type": "code",
      "source": [
        "sum_num = 0\n",
        "while num != 0:\n",
        "    num = float(input('Введите число: '))\n",
        "    sum_num += num\n",
        "print(sum_num)"
      ],
      "metadata": {
        "colab": {
          "base_uri": "https://localhost:8080/"
        },
        "id": "6904ix_AVy8h",
        "outputId": "683d1bf0-84b0-4e9d-8acf-48326d4b76b4"
      },
      "execution_count": null,
      "outputs": [
        {
          "output_type": "stream",
          "name": "stdout",
          "text": [
            "Введите число: 5\n",
            "Введите число: 5\n",
            "Введите число: 5\n",
            "Введите число: 5\n",
            "Введите число: 0\n",
            "20.0\n"
          ]
        }
      ]
    },
    {
      "cell_type": "markdown",
      "source": [
        "# **Задание 3**\n",
        "Мы делаем MVP dating-сервиса, и у нас есть список парней и девушек.\n",
        "Выдвигаем гипотезу: лучшие рекомендации мы получим, если просто отсортируем имена по алфавиту и познакомим людей с одинаковыми индексами после сортировки! Но мы не будем никого знакомить, если кто-то может остаться без пары"
      ],
      "metadata": {
        "id": "HIabcwOXW3lX"
      }
    },
    {
      "cell_type": "code",
      "source": [
        "boys = ['Peter', 'Alex', 'John', 'Arthur', 'Richard']\n",
        "girls = ['Kate', 'Liza', 'Kira', 'Emma', 'Trisha']\n",
        "\n",
        "if len(boys) == len(girls):\n",
        "    boys.sort()\n",
        "    girls.sort()\n",
        "    print('Идеальные пары:')\n",
        "    for i in range(len(boys)):\n",
        "      print(f'{boys[i]} и {girls[i]}')\n",
        "else:\n",
        "    print('Внимание, кто-то может остаться без пары!')"
      ],
      "metadata": {
        "colab": {
          "base_uri": "https://localhost:8080/"
        },
        "id": "3dNMEcAnW_Ge",
        "outputId": "79725903-2a35-425c-f440-8c5cacccd57d"
      },
      "execution_count": null,
      "outputs": [
        {
          "output_type": "stream",
          "name": "stdout",
          "text": [
            "Идеальные пары:\n",
            "Alex и Emma\n",
            "Arthur и Kate\n",
            "John и Kira\n",
            "Peter и Liza\n",
            "Richard и Trisha\n"
          ]
        }
      ]
    },
    {
      "cell_type": "markdown",
      "source": [
        "# **Задание 4**\n",
        "У нас есть список, содержащий информацию о среднедневной температуре в Фаренгейтах за произвольный период по странам (структура данных в примере). Необходимо написать код, который рассчитает среднюю температуру за период в Цельсиях(!) для каждой страны."
      ],
      "metadata": {
        "id": "fBDJrFVAa75X"
      }
    },
    {
      "cell_type": "code",
      "source": [
        "import numpy as np\n",
        "\n",
        "countries_temperature = [\n",
        "['Thailand', [75.2, 77, 78.8, 73.4, 68, 75.2, 77]],\n",
        "['Germany', [57.2, 55.4, 59, 59, 53.6]],\n",
        "['Russia', [35.6, 37.4, 39.2, 41, 42.8, 39.2, 35.6]],\n",
        "['Poland', [50, 50, 53.6, 57.2, 55.4, 55.4]]\n",
        "]\n",
        "for i in range(len(countries_temperature)):\n",
        "    print(countries_temperature[i][0], ' ', (np.mean(countries_temperature[i][1]) - 32) * 5/9)"
      ],
      "metadata": {
        "colab": {
          "base_uri": "https://localhost:8080/"
        },
        "id": "HQS21vydbAMG",
        "outputId": "18de0587-e675-404c-d431-535ba4b7416a"
      },
      "execution_count": null,
      "outputs": [
        {
          "output_type": "stream",
          "name": "stdout",
          "text": [
            "Thailand   23.85714285714285\n",
            "Germany   13.799999999999999\n",
            "Russia   3.714285714285717\n",
            "Poland   11.999999999999996\n"
          ]
        }
      ]
    },
    {
      "cell_type": "markdown",
      "source": [
        "# **Задание 5 (необязательное)**\n",
        "Дан поток логов по количеству просмотренных страниц для каждого пользователя. Вам необходимо написать алгоритм, который считает среднее значение просмотров на пользователя. Т. е. надо посчитать отношение суммы всех просмотров к количеству уникальных пользователей."
      ],
      "metadata": {
        "id": "Ne28DVgKdy8y"
      }
    },
    {
      "cell_type": "code",
      "source": [
        "stream = [\n",
        "'2018-01-01,user1,3',\n",
        "'2018-01-07,user1,4',\n",
        "'2018-03-29,user1,1',\n",
        "'2018-04-04,user1,13',\n",
        "'2018-01-05,user2,7',\n",
        "'2018-06-14,user3,4',\n",
        "'2018-07-02,user3,10',\n",
        "'2018-03-21,user4,19',\n",
        "'2018-03-22,user4,4',\n",
        "'2018-04-22,user4,8',\n",
        "'2018-05-03,user4,9',\n",
        "'2018-05-11,user4,11',\n",
        "]\n",
        "users, views, users_views, count_views = [], [], [], 0\n",
        "# получаем список уникальных пользователей\n",
        "for date in stream:\n",
        "    date = date.split(',')\n",
        "    del date[0]\n",
        "    users_views.append(date)\n",
        "    if date[0] not in users:\n",
        "        users.append(date[0])\n",
        "        \n",
        "# получаем сумму просмотров для каждого пользователя\n",
        "#for user in users:\n",
        "#    for i in range(len(users_views)):\n",
        " #       if user == users_views[i][0]:\n",
        "#            count_views += int(users_views[i][1])\n",
        "#    views.append(count_views)\n",
        "#    count_views = 0\n",
        "\n",
        "print(users, views)\n",
        "\n",
        "    "
      ],
      "metadata": {
        "colab": {
          "base_uri": "https://localhost:8080/"
        },
        "id": "fTLv8nAnd2VB",
        "outputId": "93f242c3-f43f-467a-efbf-c6f9348c34ec"
      },
      "execution_count": null,
      "outputs": [
        {
          "output_type": "stream",
          "name": "stdout",
          "text": [
            "['user1', 'user2', 'user3', 'user4'] [21, 7, 14, 51]\n"
          ]
        }
      ]
    },
    {
      "cell_type": "code",
      "source": [
        "stream = [\n",
        "'2018-01-01,user1,3',\n",
        "'2018-01-07,user1,4',\n",
        "'2018-03-29,user1,1',\n",
        "'2018-04-04,user1,13',\n",
        "'2018-01-05,user2,7',\n",
        "'2018-06-14,user3,4',\n",
        "'2018-07-02,user3,10',\n",
        "'2018-03-21,user4,19',\n",
        "'2018-03-22,user4,4',\n",
        "'2018-04-22,user4,8',\n",
        "'2018-05-03,user4,9',\n",
        "'2018-05-11,user4,11',\n",
        "]\n",
        "users, views = [], 0\n",
        "# получаем список уникальных пользователей и считаем общее количество просмотров\n",
        "for date in stream:\n",
        "    date = date.split(',')\n",
        "    del date[0]\n",
        "    views += int(date[1])\n",
        "    if date[0] not in users:\n",
        "        users.append(date[0])\n",
        "print(views/len(users))"
      ],
      "metadata": {
        "colab": {
          "base_uri": "https://localhost:8080/"
        },
        "id": "PTl-K12socJm",
        "outputId": "f86b48fa-8c59-42c7-87cb-ee564ebbb264"
      },
      "execution_count": null,
      "outputs": [
        {
          "output_type": "stream",
          "name": "stdout",
          "text": [
            "23.25\n"
          ]
        }
      ]
    },
    {
      "cell_type": "markdown",
      "source": [
        "# **Задание 6 (необязательное)**\n",
        "Необходимо у пользователя запрашивать набор чисел разделенных пробелом. В результате в отсортированном порядке должны выводиться числа, которые повторяются в вводе более одного раза."
      ],
      "metadata": {
        "id": "RkEsNf_jpqa8"
      }
    },
    {
      "cell_type": "code",
      "source": [
        "numbers = input().split()\n",
        "l_num, not_uniq = [], []\n",
        "for num in numbers:\n",
        "    if num in not_uniq:\n",
        "        continue\n",
        "    elif num in l_num:\n",
        "        not_uniq.append(num)\n",
        "    else:\n",
        "        l_num.append(num)\n",
        "not_uniq.sort()\n",
        "print(*not_uniq)"
      ],
      "metadata": {
        "colab": {
          "base_uri": "https://localhost:8080/"
        },
        "id": "fRxQ2jmOpyMy",
        "outputId": "bd035bca-0137-4472-9fc7-967dccbc883b"
      },
      "execution_count": null,
      "outputs": [
        {
          "output_type": "stream",
          "name": "stdout",
          "text": [
            "1 2 1 3 1 4 1 5 1 6 2 4 9 7 6\n",
            "1 2 4 6\n"
          ]
        }
      ]
    }
  ]
}
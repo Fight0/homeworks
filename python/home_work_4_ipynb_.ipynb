{
  "nbformat": 4,
  "nbformat_minor": 0,
  "metadata": {
    "colab": {
      "name": "Копия блокнота \"home_work_4.ipynb\"",
      "provenance": [],
      "collapsed_sections": []
    },
    "kernelspec": {
      "name": "python3",
      "display_name": "Python 3"
    },
    "language_info": {
      "name": "python"
    }
  },
  "cells": [
    {
      "cell_type": "markdown",
      "source": [
        "Меняем кавычки"
      ],
      "metadata": {
        "id": "p9dy5L_Ikxca"
      }
    },
    {
      "cell_type": "code",
      "source": [
        "def quotes(text):\n",
        "    '''Заменяет кавычки и\n",
        "    преобразует строку в выражение'''\n",
        "    new = []\n",
        "    for i in range(len(text)):\n",
        "        if text[i] == '‘' or text[i] == '’':   \n",
        "            new.append(\"'\") \n",
        "        else:\n",
        "            new.append(text[i])\n",
        "    new = eval(''.join(new))\n",
        "    return new"
      ],
      "metadata": {
        "id": "pUDVuOd2k3sv"
      },
      "execution_count": null,
      "outputs": []
    },
    {
      "cell_type": "code",
      "source": [
        "def quotes(text):\n",
        "    '''Заменяет кавычки и преобразует строку в выражение.\n",
        "\n",
        "    :param text: Строка с символами ‘ и/или ’\n",
        "    :type text: str\n",
        "    '''\n",
        "    return eval(''.join([\"'\" if symbol == '‘' or symbol == '’' else symbol for symbol in str(text)]))\n",
        "    "
      ],
      "metadata": {
        "id": "ZWlY1yc9VpA3"
      },
      "execution_count": null,
      "outputs": []
    },
    {
      "cell_type": "code",
      "source": [
        "type(directories)"
      ],
      "metadata": {
        "colab": {
          "base_uri": "https://localhost:8080/"
        },
        "id": "A9SAqsiwWrE2",
        "outputId": "a7eadd98-6bba-4eab-a003-c8eaa71a9ba8"
      },
      "execution_count": null,
      "outputs": [
        {
          "output_type": "execute_result",
          "data": {
            "text/plain": [
              "dict"
            ]
          },
          "metadata": {},
          "execution_count": 29
        }
      ]
    },
    {
      "cell_type": "markdown",
      "source": [
        "Перечень всех документов"
      ],
      "metadata": {
        "id": "Q5PVJU1_gJwR"
      }
    },
    {
      "cell_type": "code",
      "execution_count": null,
      "metadata": {
        "id": "8ehIOgE-f9rp"
      },
      "outputs": [],
      "source": [
        "documents = quotes('''[\n",
        "{‘type’: ‘passport’, ‘number’: ‘2207 876234’, ‘name’: ‘Василий Гупкин’},\n",
        "{‘type’: ‘invoice’, ‘number’: ‘11-2’, ‘name’: ‘Геннадий Покемонов’},\n",
        "{‘type’: ‘insurance’, ‘number’: ‘10006’, ‘name’: ‘Аристарх Павлов’}\n",
        "]''')"
      ]
    },
    {
      "cell_type": "markdown",
      "source": [
        "Перечень полок, на которых хранятся документы (если документ есть в documents, то он обязательно должен быть и в directories)"
      ],
      "metadata": {
        "id": "GSlL8679gXZg"
      }
    },
    {
      "cell_type": "code",
      "source": [
        "directories = quotes('''{\n",
        "‘1’: [‘2207 876234’, ‘11-2’],\n",
        "‘2’: [‘10006’],\n",
        "‘3’: []\n",
        "}''')"
      ],
      "metadata": {
        "id": "qp8nDF63gcoI"
      },
      "execution_count": null,
      "outputs": []
    },
    {
      "cell_type": "markdown",
      "source": [
        "# **Задание 1**"
      ],
      "metadata": {
        "id": "psmKQ7iVghQX"
      }
    },
    {
      "cell_type": "markdown",
      "source": [
        "## **Пункт 1.**\n",
        "Пользователь по команде “p” может узнать владельца документа по его номеру"
      ],
      "metadata": {
        "id": "9j7H6eu4grbA"
      }
    },
    {
      "cell_type": "code",
      "source": [
        "def main():\n",
        "    command = 0\n",
        "    while command != 'q':\n",
        "        command = input('Введите команду: ')\n",
        "        if command == 'p':\n",
        "            document_owner()"
      ],
      "metadata": {
        "id": "gVLneFKkm4T0"
      },
      "execution_count": null,
      "outputs": []
    },
    {
      "cell_type": "code",
      "source": [
        "def document_owner():\n",
        "    name = document_search()\n",
        "    if name == None:\n",
        "        print('Документ не найден в базе')\n",
        "    else:\n",
        "        print(f'Владелец документа: {name}')\n",
        "\n",
        "def document_search(number=None):\n",
        "    if number == None:\n",
        "        number = str(input('Введите номер документа: '))\n",
        "    name = None\n",
        "    for document in documents:\n",
        "        if document['number'] == number:\n",
        "            name = document['name']\n",
        "    return name"
      ],
      "metadata": {
        "id": "MgJCPOCJgg_Q"
      },
      "execution_count": null,
      "outputs": []
    },
    {
      "cell_type": "code",
      "source": [
        "main()"
      ],
      "metadata": {
        "colab": {
          "base_uri": "https://localhost:8080/"
        },
        "id": "KX3CTaoiq-A0",
        "outputId": "5e6e6227-54d9-4fee-94ec-91b768370268"
      },
      "execution_count": null,
      "outputs": [
        {
          "name": "stdout",
          "output_type": "stream",
          "text": [
            "Введите команду: p\n",
            "Введите номер документа: 10006\n",
            "Владелец документа: Аристарх Павлов\n",
            "Введите команду: 555\n",
            "Введите команду: p\n",
            "Введите номер документа: 555\n",
            "Документ не найден в базе\n",
            "Введите команду: q\n"
          ]
        }
      ]
    },
    {
      "cell_type": "markdown",
      "source": [
        "## **Пункт 2.**\n",
        "Пользователь по команде “s” может по номеру документа узнать на какой полке он хранится"
      ],
      "metadata": {
        "id": "4obVwmSurNM8"
      }
    },
    {
      "cell_type": "code",
      "source": [
        "def main():\n",
        "    command = 0\n",
        "    while command != 'q':\n",
        "        command = input('Введите команду: ')\n",
        "        if command == 'p':\n",
        "            document_owner()\n",
        "        elif command == 's':\n",
        "            directory()"
      ],
      "metadata": {
        "id": "3snDB240rRV7"
      },
      "execution_count": null,
      "outputs": []
    },
    {
      "cell_type": "code",
      "source": [
        "def directory(number=None):\n",
        "    dir = directory_search()      \n",
        "    if dir == None:\n",
        "        print('Документ не найден в базе')\n",
        "    else:\n",
        "        print(f'Документ хранится на полке: {dir}')\n",
        "\n",
        "def directory_search(number=None):\n",
        "    if number == None:\n",
        "        number = str(input('Введите номер документа: '))\n",
        "    dir = None\n",
        "    for key in directories:\n",
        "        if number in directories[key]:\n",
        "            dir = key\n",
        "            break\n",
        "    return dir"
      ],
      "metadata": {
        "id": "o7ElS3mfrmNL"
      },
      "execution_count": null,
      "outputs": []
    },
    {
      "cell_type": "code",
      "source": [
        "main()"
      ],
      "metadata": {
        "colab": {
          "base_uri": "https://localhost:8080/"
        },
        "id": "tNGsdu4OuOIW",
        "outputId": "bf2275fd-2467-454a-b710-7e45be7ef9ef"
      },
      "execution_count": null,
      "outputs": [
        {
          "name": "stdout",
          "output_type": "stream",
          "text": [
            "Введите команду: s\n",
            "Введите номер документа: 10006\n",
            "Документ хранится на полке: 2\n",
            "Введите команду: s\n",
            "Введите номер документа: 123\n",
            "Документ не найден в базе\n",
            "Введите команду: q\n"
          ]
        }
      ]
    },
    {
      "cell_type": "markdown",
      "source": [
        "## **Пункт 3.**\n",
        "Пользователь по команде “l” может увидеть полную информацию по всем документам"
      ],
      "metadata": {
        "id": "wHIpz7qMuYyk"
      }
    },
    {
      "cell_type": "code",
      "source": [
        "def main():\n",
        "    command = 0\n",
        "    while command != 'q':\n",
        "        command = input('Введите команду: ')\n",
        "        if command == 'p':\n",
        "            document_owner()\n",
        "        elif command == 's':\n",
        "            directory()\n",
        "        elif command == 'l':\n",
        "            info()"
      ],
      "metadata": {
        "id": "IC4x5dxiuea8"
      },
      "execution_count": null,
      "outputs": []
    },
    {
      "cell_type": "code",
      "source": [
        "def info():\n",
        "    for document in documents:\n",
        "        print(f\"№: {document['number']}, ' + \\\n",
        "        'тип: {document['type']}, владелец: {document['name']}, ' + \\\n",
        "        'полка хранения: {directory_search(document['number'])}\")"
      ],
      "metadata": {
        "id": "2bPAIZm0uqQd"
      },
      "execution_count": null,
      "outputs": []
    },
    {
      "cell_type": "code",
      "source": [
        "main()"
      ],
      "metadata": {
        "colab": {
          "base_uri": "https://localhost:8080/"
        },
        "id": "8eZUjcFov5Lj",
        "outputId": "aac886f8-29ec-4173-90a1-b15786d48742"
      },
      "execution_count": null,
      "outputs": [
        {
          "name": "stdout",
          "output_type": "stream",
          "text": [
            "Введите команду: l\n",
            "№: 2207 876234, тип: passport, владелец: Василий Гупкин, полка хранения: 1\n",
            "№: 11-2, тип: invoice, владелец: Геннадий Покемонов, полка хранения: 1\n",
            "№: 10006, тип: insurance, владелец: Аристарх Павлов, полка хранения: 2\n",
            "Введите команду: q\n"
          ]
        }
      ]
    },
    {
      "cell_type": "markdown",
      "source": [
        "## **Пункт 4.**\n",
        "Пользователь по команде “ads” может добавить новую полку"
      ],
      "metadata": {
        "id": "Hi-2p6qt39Hr"
      }
    },
    {
      "cell_type": "code",
      "source": [
        "def main():\n",
        "    command = 0\n",
        "    while command != 'q':\n",
        "        command = input('Введите команду: ')\n",
        "        if command == 'p':\n",
        "            document_owner()\n",
        "        elif command == 's':\n",
        "            directory()\n",
        "        elif command == 'l':\n",
        "            info()\n",
        "        elif command == 'ads':\n",
        "            add_dir()"
      ],
      "metadata": {
        "id": "R6lEiCqs3_0T"
      },
      "execution_count": null,
      "outputs": []
    },
    {
      "cell_type": "code",
      "source": [
        "def add_dir():\n",
        "    dir = str(input('Введите номер полки: '))\n",
        "    list_key = list(directories.keys())\n",
        "    if dir not in list_key:\n",
        "        directories[dir] = []\n",
        "        list_key = list(directories.keys())\n",
        "        print('Полка добавлена. Текущий перечень полок: ', end = '')\n",
        "    \n",
        "    else:\n",
        "        print('Такая полка уже существует. Текущий перечень полок: ', end = '')\n",
        "    print(*list_key, sep=', ')"
      ],
      "metadata": {
        "id": "PQKcnT6F4RPy"
      },
      "execution_count": null,
      "outputs": []
    },
    {
      "cell_type": "code",
      "source": [
        "main()"
      ],
      "metadata": {
        "colab": {
          "base_uri": "https://localhost:8080/"
        },
        "id": "HV-Je2rc5jKJ",
        "outputId": "49dbf2c3-4eaf-4289-9ea4-75461952c4df"
      },
      "execution_count": null,
      "outputs": [
        {
          "name": "stdout",
          "output_type": "stream",
          "text": [
            "Введите команду: ads\n",
            "Введите номер полки: 66\n",
            "Полка добавлена. Текущий перечень полок: 1, 2, 3, 66\n",
            "Введите команду: ds\n",
            "Введите номер полки: 66\n",
            "Полка удалена. Текущий перечень полок: 1, 2, 3\n",
            "Введите команду: q\n"
          ]
        }
      ]
    },
    {
      "cell_type": "markdown",
      "source": [
        "## **Пункт 5.**\n",
        "Пользователь по команде “ds” может удалить существующую полку из данных (только если она пустая)"
      ],
      "metadata": {
        "id": "Q-L4xfok7Q-N"
      }
    },
    {
      "cell_type": "code",
      "source": [
        "def main():\n",
        "    command = 0\n",
        "    while command != 'q':\n",
        "        command = input('Введите команду: ')\n",
        "        if command == 'p':\n",
        "            document_owner()\n",
        "        elif command == 's':\n",
        "            directory()\n",
        "        elif command == 'l':\n",
        "            info()\n",
        "        elif command == 'ads':\n",
        "            add_dir()\n",
        "        elif command == 'ds':\n",
        "            drop_dir()"
      ],
      "metadata": {
        "id": "8CteZDS87Xmc"
      },
      "execution_count": null,
      "outputs": []
    },
    {
      "cell_type": "code",
      "source": [
        "def drop_dir():\n",
        "    dir = str(input('Введите номер полки: '))\n",
        "    list_key = list(directories.keys())\n",
        "    if dir in list_key and len(directories[dir]) == 0:\n",
        "        del directories[dir]\n",
        "        list_key = list(directories.keys())\n",
        "        print('Полка удалена. Текущий перечень полок: ', end = '')\n",
        "    elif dir not in list_key:\n",
        "        print('Такой полки не существует. Текущий перечень полок: ', end = '')\n",
        "    elif len(directories[dir]) != 0:\n",
        "        print('На полке есть документа, удалите их перед удалением полки. Текущий перечень полок: ', end = '')\n",
        "    print(*list_key, sep=', ')"
      ],
      "metadata": {
        "id": "drQrmxC37fls"
      },
      "execution_count": null,
      "outputs": []
    },
    {
      "cell_type": "code",
      "source": [
        "main()"
      ],
      "metadata": {
        "colab": {
          "base_uri": "https://localhost:8080/"
        },
        "id": "9kE2uviP97t3",
        "outputId": "0a9e8e5f-966a-4446-b7e8-a732c6849904"
      },
      "execution_count": null,
      "outputs": [
        {
          "name": "stdout",
          "output_type": "stream",
          "text": [
            "Введите команду: ds\n",
            "Введите номер полки: 11\n",
            "Такой полки не существует. Текущий перечень полок: 1, 2, 3\n",
            "Введите команду: ds\n",
            "Введите номер полки: 1\n",
            "На полке есть документа, удалите их перед удалением полки. Текущий перечень полок: 1, 2, 3\n",
            "Введите команду: ds\n",
            "Введите номер полки: 3\n",
            "Полка удалена. Текущий перечень полок: 1, 2\n",
            "Введите команду: ads\n",
            "Введите номер полки: 3\n",
            "Полка добавлена. Текущий перечень полок: 1, 2, 3\n",
            "Введите команду: ads\n",
            "Введите номер полки: 1\n",
            "Такая полка уже существует. Текущий перечень полок: 1, 2, 3\n",
            "Введите команду: ads\n",
            "Введите номер полки: 11\n",
            "Полка добавлена. Текущий перечень полок: 1, 2, 3, 11\n",
            "Введите команду: ds\n",
            "Введите номер полки: 11\n",
            "Полка удалена. Текущий перечень полок: 1, 2, 3\n",
            "Введите команду: ds\n",
            "Введите номер полки: 11\n",
            "Такой полки не существует. Текущий перечень полок: 1, 2, 3\n",
            "Введите команду: q\n"
          ]
        }
      ]
    },
    {
      "cell_type": "markdown",
      "source": [
        "# **Задание 2 (необязательное)**\n",
        "Вам необходимо дополнить программу из задания 1 более продвинутыми командами."
      ],
      "metadata": {
        "id": "kNd8SP8g_o3c"
      }
    },
    {
      "cell_type": "markdown",
      "source": [
        "## **Пункт 1.**\n",
        "Пользователь по команде “ad” может добавить новый документ в данные"
      ],
      "metadata": {
        "id": "wuWcVIqq_y7E"
      }
    },
    {
      "cell_type": "code",
      "source": [
        "def main():\n",
        "    command = 0\n",
        "    while command != 'q':\n",
        "        command = input('Введите команду: ')\n",
        "        if command == 'p':\n",
        "            document_owner()\n",
        "        elif command == 's':\n",
        "            directory()\n",
        "        elif command == 'l':\n",
        "            info()\n",
        "        elif command == 'ads':\n",
        "            add_dir()\n",
        "        elif command == 'ds':\n",
        "            drop_dir()\n",
        "        elif command == 'ad':\n",
        "            add_doc()"
      ],
      "metadata": {
        "id": "hHC8EqX7_3Lc"
      },
      "execution_count": null,
      "outputs": []
    },
    {
      "cell_type": "code",
      "source": [
        "def add_doc():\n",
        "    number = str(input('Введите номер документа: '))\n",
        "    if number in [doc['number'] for doc in documents]:\n",
        "        print(f'Документ с номером {number} уже есть в базе.')\n",
        "    else:\n",
        "        doc_type = str(input('Введите тип документа: '))\n",
        "        name = str(input('Введите владельца документа: '))\n",
        "        dir = str(input('Введите полку для хранения: '))\n",
        "        if dir in list(directories.keys()):\n",
        "            documents.append({'type': doc_type, 'number': number, 'name': name})\n",
        "            directories[dir].append(number)\n",
        "            print('Документ добавлен.', end=' ')\n",
        "        else:\n",
        "            print('Такой полки не существует. Добавьте полку командой ads.')\n",
        "    print('Текущий список документов:')\n",
        "    info()"
      ],
      "metadata": {
        "id": "pEi4hO_gAJnT"
      },
      "execution_count": null,
      "outputs": []
    },
    {
      "cell_type": "code",
      "source": [
        "main()"
      ],
      "metadata": {
        "colab": {
          "base_uri": "https://localhost:8080/"
        },
        "id": "BnQ6fqvlG6fH",
        "outputId": "9970c95d-0857-4c35-e2cb-68e9e24d7ce0"
      },
      "execution_count": null,
      "outputs": [
        {
          "name": "stdout",
          "output_type": "stream",
          "text": [
            "Введите команду: ad\n",
            "Введите номер документа: 10006\n",
            "Документ с номером 10006 уже есть в базе.\n",
            "Текущий список документов:\n",
            "№: 2207 876234, тип: passport, владелец: Василий Гупкин, полка хранения: 1\n",
            "№: 11-2, тип: invoice, владелец: Геннадий Покемонов, полка хранения: 1\n",
            "№: 10006, тип: insurance, владелец: Аристарх Павлов, полка хранения: 2\n",
            "Введите команду: ad\n",
            "Введите номер документа: 46\n",
            "Введите тип документа: passport\n",
            "Введите владельца документа: r2d2\n",
            "Введите полку для хранения:3\n",
            "Документ добавлен. Текущий список документов:\n",
            "№: 2207 876234, тип: passport, владелец: Василий Гупкин, полка хранения: 1\n",
            "№: 11-2, тип: invoice, владелец: Геннадий Покемонов, полка хранения: 1\n",
            "№: 10006, тип: insurance, владелец: Аристарх Павлов, полка хранения: 2\n",
            "№: 46, тип: passport, владелец: r2d2, полка хранения: 3\n",
            "Введите команду: ad\n",
            "Введите номер документа: 568\n",
            "Введите тип документа: d\n",
            "Введите владельца документа: g\n",
            "Введите полку для хранения:111\n",
            "Такой полки не существует. Добавьте полку командой ads.\n",
            "Текущий список документов:\n",
            "№: 2207 876234, тип: passport, владелец: Василий Гупкин, полка хранения: 1\n",
            "№: 11-2, тип: invoice, владелец: Геннадий Покемонов, полка хранения: 1\n",
            "№: 10006, тип: insurance, владелец: Аристарх Павлов, полка хранения: 2\n",
            "№: 46, тип: passport, владелец: r2d2, полка хранения: 3\n",
            "Введите команду: q\n"
          ]
        }
      ]
    },
    {
      "cell_type": "markdown",
      "source": [
        "## **Пункт 2.**\n",
        "Пользователь по команде “d” может удалить документ из данных"
      ],
      "metadata": {
        "id": "a0DReh6CHbn0"
      }
    },
    {
      "cell_type": "code",
      "source": [
        "def main():\n",
        "    command = 0\n",
        "    while command != 'q':\n",
        "        command = input('Введите команду: ')\n",
        "        if command == 'p':\n",
        "            document_owner()\n",
        "        elif command == 's':\n",
        "            directory()\n",
        "        elif command == 'l':\n",
        "            info()\n",
        "        elif command == 'ads':\n",
        "            add_dir()\n",
        "        elif command == 'ds':\n",
        "            drop_dir()\n",
        "        elif command == 'ad':\n",
        "            add_doc()\n",
        "        elif command == 'd':\n",
        "            drop_doc()"
      ],
      "metadata": {
        "id": "z9MOsyB0HoUl"
      },
      "execution_count": null,
      "outputs": []
    },
    {
      "cell_type": "code",
      "source": [
        "def drop_doc():\n",
        "    number = str(input('Введите номер документа: '))\n",
        "    if number not in [doc['number'] for doc in documents]:\n",
        "        print('Документ не найден в базе.')\n",
        "    else:\n",
        "        for i in range(len(documents)):\n",
        "            if documents[i]['number'] == number:\n",
        "                del documents[i]\n",
        "                del directories[directory_search(number)][directories[directory_search(number)].index(number)]\n",
        "                print('Документ удален.')\n",
        "    print('Текущий список документов:')\n",
        "    info()"
      ],
      "metadata": {
        "id": "sNDyHvQJH4bW"
      },
      "execution_count": null,
      "outputs": []
    },
    {
      "cell_type": "code",
      "source": [
        "main()"
      ],
      "metadata": {
        "colab": {
          "base_uri": "https://localhost:8080/"
        },
        "id": "2AMl7NSTKdAA",
        "outputId": "63ecd05a-deb9-40be-c5c7-ab1d7c0dc53b"
      },
      "execution_count": null,
      "outputs": [
        {
          "name": "stdout",
          "output_type": "stream",
          "text": [
            "Введите команду: d\n",
            "Введите номер документа: 123\n",
            "Документ не найден в базе.\n",
            "Текущий список документов:\n",
            "№: 2207 876234, тип: passport, владелец: Василий Гупкин, полка хранения: 1\n",
            "№: 11-2, тип: invoice, владелец: Геннадий Покемонов, полка хранения: 1\n",
            "№: 10006, тип: insurance, владелец: Аристарх Павлов, полка хранения: 2\n",
            "Введите команду: q\n"
          ]
        }
      ]
    },
    {
      "cell_type": "markdown",
      "source": [
        "## **Пункт 3.**\n",
        "Пользователь по команде “m” может переместить документ с полки на полку"
      ],
      "metadata": {
        "id": "qGdSom9yK8-P"
      }
    },
    {
      "cell_type": "code",
      "source": [
        "def main():\n",
        "    command = 0\n",
        "    while command != 'q':\n",
        "        command = input('Введите команду: ')\n",
        "        if command == 'p':\n",
        "            document_owner()\n",
        "        elif command == 's':\n",
        "            directory()\n",
        "        elif command == 'l':\n",
        "            info()\n",
        "        elif command == 'ads':\n",
        "            add_dir()\n",
        "        elif command == 'ds':\n",
        "            drop_dir()\n",
        "        elif command == 'ad':\n",
        "            add_doc()\n",
        "        elif command == 'd':\n",
        "            drop_doc()\n",
        "        elif command == 'm':\n",
        "            replace_dir()"
      ],
      "metadata": {
        "id": "qvdhcV0_LCHm"
      },
      "execution_count": null,
      "outputs": []
    },
    {
      "cell_type": "code",
      "source": [
        "def replace_dir():\n",
        "    number = str(input('Введите номер документа: '))\n",
        "    dir = directory_search(number)\n",
        "    if dir != None:\n",
        "        new_dir = str(input('Введите номер полки: '))\n",
        "        if new_dir in list(directories.keys()):\n",
        "            del directories[directory_search(number)][directories[directory_search(number)].index(number)]\n",
        "            directories[new_dir].append(number)\n",
        "            print('Документ перемещен.')\n",
        "            info()\n",
        "        else:\n",
        "            print('Такой полки не существует. Текущий перечень полок:', end=' ')\n",
        "            print(*list(directories.keys()), sep=', ')\n",
        "    else:\n",
        "         print('Документ не найден в базе.')\n",
        "         info()\n"
      ],
      "metadata": {
        "id": "FAleaqjnLNkf"
      },
      "execution_count": null,
      "outputs": []
    },
    {
      "cell_type": "code",
      "source": [
        "main()"
      ],
      "metadata": {
        "colab": {
          "base_uri": "https://localhost:8080/"
        },
        "id": "1XsyC2KpQmrE",
        "outputId": "3f665925-01b7-4f37-a8f0-014942b72017"
      },
      "execution_count": null,
      "outputs": [
        {
          "name": "stdout",
          "output_type": "stream",
          "text": [
            "Введите команду: m\n",
            "Введите номер документа: 10006\n",
            "Введите номер полки: 3\n",
            "Документ перемещен.\n",
            "№: 2207 876234, тип: passport, владелец: Василий Гупкин, полка хранения: 1\n",
            "№: 11-2, тип: invoice, владелец: Геннадий Покемонов, полка хранения: 1\n",
            "№: 10006, тип: insurance, владелец: Аристарх Павлов, полка хранения: 3\n",
            "Введите команду: m\n",
            "Введите номер документа: 10006\n",
            "Введите номер полки: 2\n",
            "Документ перемещен.\n",
            "№: 2207 876234, тип: passport, владелец: Василий Гупкин, полка хранения: 1\n",
            "№: 11-2, тип: invoice, владелец: Геннадий Покемонов, полка хранения: 1\n",
            "№: 10006, тип: insurance, владелец: Аристарх Павлов, полка хранения: 2\n",
            "Введите команду: m\n",
            "Введите номер документа: 64545\n",
            "Документ не найден в базе.\n",
            "№: 2207 876234, тип: passport, владелец: Василий Гупкин, полка хранения: 1\n",
            "№: 11-2, тип: invoice, владелец: Геннадий Покемонов, полка хранения: 1\n",
            "№: 10006, тип: insurance, владелец: Аристарх Павлов, полка хранения: 2\n",
            "Введите команду: m\n",
            "Введите номер документа: 10006\n",
            "Введите номер полки: 13121\n",
            "Такой полки не существует. Текущий перечень полок: 1, 2, 3\n",
            "Введите команду: q\n"
          ]
        }
      ]
    }
  ]
}
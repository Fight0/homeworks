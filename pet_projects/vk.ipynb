{
 "cells": [
  {
   "cell_type": "code",
   "execution_count": null,
   "id": "dccbcc8e",
   "metadata": {},
   "outputs": [],
   "source": [
    "!pip3 install vk_api"
   ]
  },
  {
   "cell_type": "code",
   "execution_count": null,
   "id": "2b072541",
   "metadata": {},
   "outputs": [],
   "source": [
    "import vk_api\n",
    "import datetime\n",
    "import time\n",
    "import pandas as pd"
   ]
  },
  {
   "cell_type": "code",
   "execution_count": null,
   "id": "9925d6d7",
   "metadata": {},
   "outputs": [],
   "source": [
    "def two_factor_code():\n",
    "     return input('Введите код двухфакторной аутентификации: '), True"
   ]
  },
  {
   "cell_type": "code",
   "execution_count": null,
   "id": "1433b553",
   "metadata": {},
   "outputs": [],
   "source": [
    "def auth():\n",
    "    # Укажите логин и пароль от вашего аккаунта VK\n",
    "    login = 'login'\n",
    "    password = 'password'\n",
    "\n",
    "    # Авторизуемся в VK API\n",
    "    vk_session = vk_api.VkApi(login, password)\n",
    "\n",
    "\n",
    "    # Проверяем, требуется ли двухфакторная аутентификация\n",
    "    try:\n",
    "        vk_session.auth()\n",
    "    except vk_api.AuthError as error_msg:\n",
    "        \n",
    "        # Если требуется двухфакторная аутентификация, то запросим код и повторим попытку авторизации\n",
    "        vk_session = vk_api.VkApi(login, password, auth_handler=two_factor_code)\n",
    "        vk_session.auth()\n",
    "\n",
    "    # Получаем объект для работы с методами API VK\n",
    "    vk = vk_session.get_api()\n",
    "    tools = vk_api.VkTools(vk_session)\n",
    "    return vk, tools"
   ]
  },
  {
   "cell_type": "code",
   "execution_count": null,
   "id": "129c5092",
   "metadata": {},
   "outputs": [],
   "source": [
    "vk, tools = auth()"
   ]
  },
  {
   "cell_type": "code",
   "execution_count": null,
   "id": "36205f3f",
   "metadata": {},
   "outputs": [],
   "source": [
    "df_posts = pd.DataFrame()\n",
    "df_comments = pd.DataFrame()\n",
    "\n",
    "# Укажите ID или короткое имя сообщества, со стены которого нужно получить сообщения\n",
    "group_id = -1437634\n",
    "offset = 0\n",
    "\n",
    "\n",
    "while True:\n",
    "    all_posts = vk.wall.get(owner_id=group_id, offset=offset, count=100)['items']\n",
    "    \n",
    "    # Прерываем цикл, если приходит пустой ответ\n",
    "    if not all_posts:\n",
    "        break\n",
    "\n",
    "    # Сохраняем сообщения и комментарии к ним\n",
    "    for post in all_posts:\n",
    "        post['date'] = datetime.datetime.fromtimestamp(post['date'])\n",
    "        post_id = post['id']\n",
    "        df_posts = pd.concat([df_posts, pd.json_normalize(post)])\n",
    "        comments = vk.wall.getComments(owner_id=group_id, post_id=post_id)\n",
    "        for comment in comments['items']:\n",
    "            comment['date'] = datetime.datetime.fromtimestamp(comment['date'])\n",
    "            df_comments = pd.concat([df_comments, pd.json_normalize(comment)])\n",
    "    \n",
    "    # Смещение на число уже обработанных сообщений\n",
    "    offset += len(all_posts)\n",
    "    \n",
    "    # Контролируем ход работы кода\n",
    "    min_date = min(df_posts.date)\n",
    "    max_date = max(df_posts.date)\n",
    "    print(offset)\n",
    "    print(min_date, max_date)\n",
    "    \n",
    "    time.sleep(0.1)\n",
    "    \n",
    "df_posts.head()"
   ]
  },
  {
   "cell_type": "code",
   "execution_count": null,
   "id": "08e9fb87",
   "metadata": {},
   "outputs": [],
   "source": [
    "df_comments.to_csv('comments.csv')\n",
    "df_posts.to_csv('posts.csv')"
   ]
  }
 ],
 "metadata": {
  "kernelspec": {
   "display_name": "Python 3 (ipykernel)",
   "language": "python",
   "name": "python3"
  },
  "language_info": {
   "codemirror_mode": {
    "name": "ipython",
    "version": 3
   },
   "file_extension": ".py",
   "mimetype": "text/x-python",
   "name": "python",
   "nbconvert_exporter": "python",
   "pygments_lexer": "ipython3",
   "version": "3.9.12"
  }
 },
 "nbformat": 4,
 "nbformat_minor": 5
}

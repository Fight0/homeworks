{
 "cells": [
  {
   "cell_type": "markdown",
   "id": "74a36300",
   "metadata": {},
   "source": [
    "# Задание\n",
    "\n",
    "Пакет [SURPRISE](https://surprise.readthedocs.io/en/stable/index.html):\n",
    "\n",
    "* используйте данные [MovieLens 1M](https://www.kaggle.com/datasets/odedgolden/movielens-1m-dataset/code?resource=download),\n",
    "* можно использовать любые модели из пакета,\n",
    "* получите RMSE на тестовом сете 0,87 и ниже.\n",
    "\n",
    "Комментарий преподавателя:\n",
    "*В домашнем задании на датасет 1М может не хватить RAM. Можно сделать на 100K. Качество RMSE предлагаю считать на основе Cross-validation (5 фолдов), а не на отложенном датасете.*"
   ]
  },
  {
   "cell_type": "code",
   "execution_count": 1,
   "id": "cbd18a60",
   "metadata": {
    "scrolled": false
   },
   "outputs": [
    {
     "name": "stdout",
     "output_type": "stream",
     "text": [
      "Visual C++ Build Tools не установлены.\n"
     ]
    }
   ],
   "source": [
    "# Проверка корректности установки Visual C++ Build Tools\n",
    "import os\n",
    "\n",
    "try:\n",
    "    result = os.system(\"cl\")\n",
    "    if result == 0:\n",
    "        print(\"Visual C++ Build Tools доступны.\")\n",
    "    else:\n",
    "        print(\"Visual C++ Build Tools не установлены.\")\n",
    "except Exception as e:\n",
    "    print(\"Произошла ошибка при проверке версии Visual C++ Build Tools:\", str(e))"
   ]
  },
  {
   "cell_type": "code",
   "execution_count": 2,
   "id": "90a56860",
   "metadata": {},
   "outputs": [
    {
     "name": "stdout",
     "output_type": "stream",
     "text": [
      "Requirement already satisfied: surprise in c:\\users\\fight\\anaconda3\\lib\\site-packages (0.1)\n",
      "Requirement already satisfied: scikit-surprise in c:\\users\\fight\\anaconda3\\lib\\site-packages (from surprise) (1.1.3)\n",
      "Requirement already satisfied: scipy>=1.3.2 in c:\\users\\fight\\anaconda3\\lib\\site-packages (from scikit-surprise->surprise) (1.7.3)\n",
      "Requirement already satisfied: joblib>=1.0.0 in c:\\users\\fight\\anaconda3\\lib\\site-packages (from scikit-surprise->surprise) (1.2.0)\n",
      "Requirement already satisfied: numpy>=1.17.3 in c:\\users\\fight\\anaconda3\\lib\\site-packages (from scikit-surprise->surprise) (1.21.6)\n"
     ]
    }
   ],
   "source": [
    "!pip install surprise"
   ]
  },
  {
   "cell_type": "code",
   "execution_count": 14,
   "id": "a0b19b4f",
   "metadata": {},
   "outputs": [],
   "source": [
    "from surprise import KNNWithMeans, KNNBasic, SVD, SVDpp, NMF\n",
    "from surprise import Dataset\n",
    "from surprise import Reader\n",
    "from surprise.model_selection import train_test_split, cross_validate\n",
    "\n",
    "import pandas as pd\n",
    "import numpy as np\n",
    "from tqdm import tqdm_notebook"
   ]
  },
  {
   "cell_type": "code",
   "execution_count": 4,
   "id": "30a67b91",
   "metadata": {},
   "outputs": [
    {
     "data": {
      "text/html": [
       "<div>\n",
       "<style scoped>\n",
       "    .dataframe tbody tr th:only-of-type {\n",
       "        vertical-align: middle;\n",
       "    }\n",
       "\n",
       "    .dataframe tbody tr th {\n",
       "        vertical-align: top;\n",
       "    }\n",
       "\n",
       "    .dataframe thead th {\n",
       "        text-align: right;\n",
       "    }\n",
       "</style>\n",
       "<table border=\"1\" class=\"dataframe\">\n",
       "  <thead>\n",
       "    <tr style=\"text-align: right;\">\n",
       "      <th></th>\n",
       "      <th>User_ID</th>\n",
       "      <th>MovieID</th>\n",
       "      <th>Rating</th>\n",
       "      <th>Timestamp</th>\n",
       "    </tr>\n",
       "  </thead>\n",
       "  <tbody>\n",
       "    <tr>\n",
       "      <th>0</th>\n",
       "      <td>1</td>\n",
       "      <td>1193</td>\n",
       "      <td>5</td>\n",
       "      <td>978300760</td>\n",
       "    </tr>\n",
       "    <tr>\n",
       "      <th>1</th>\n",
       "      <td>1</td>\n",
       "      <td>661</td>\n",
       "      <td>3</td>\n",
       "      <td>978302109</td>\n",
       "    </tr>\n",
       "    <tr>\n",
       "      <th>2</th>\n",
       "      <td>1</td>\n",
       "      <td>914</td>\n",
       "      <td>3</td>\n",
       "      <td>978301968</td>\n",
       "    </tr>\n",
       "    <tr>\n",
       "      <th>3</th>\n",
       "      <td>1</td>\n",
       "      <td>3408</td>\n",
       "      <td>4</td>\n",
       "      <td>978300275</td>\n",
       "    </tr>\n",
       "    <tr>\n",
       "      <th>4</th>\n",
       "      <td>1</td>\n",
       "      <td>2355</td>\n",
       "      <td>5</td>\n",
       "      <td>978824291</td>\n",
       "    </tr>\n",
       "  </tbody>\n",
       "</table>\n",
       "</div>"
      ],
      "text/plain": [
       "   User_ID  MovieID  Rating  Timestamp\n",
       "0        1     1193       5  978300760\n",
       "1        1      661       3  978302109\n",
       "2        1      914       3  978301968\n",
       "3        1     3408       4  978300275\n",
       "4        1     2355       5  978824291"
      ]
     },
     "execution_count": 4,
     "metadata": {},
     "output_type": "execute_result"
    }
   ],
   "source": [
    "movies = pd.read_csv('Data\\MovieLens 1M Dataset\\\\movies.dat',\n",
    "    sep = \"::\",\n",
    "    names = ['MovieID', 'Title', 'Genres'],\n",
    "    encoding='latin-1',\n",
    "    engine='python')\n",
    "ratings = pd.read_csv('Data\\MovieLens 1M Dataset\\\\ratings.dat',\n",
    "    sep = \"::\",\n",
    "    names = ['User_ID', 'MovieID', 'Rating', 'Timestamp'],\n",
    "    engine='python')\n",
    "ratings.head()"
   ]
  },
  {
   "cell_type": "code",
   "execution_count": 5,
   "id": "014737ab",
   "metadata": {},
   "outputs": [
    {
     "data": {
      "text/html": [
       "<div>\n",
       "<style scoped>\n",
       "    .dataframe tbody tr th:only-of-type {\n",
       "        vertical-align: middle;\n",
       "    }\n",
       "\n",
       "    .dataframe tbody tr th {\n",
       "        vertical-align: top;\n",
       "    }\n",
       "\n",
       "    .dataframe thead th {\n",
       "        text-align: right;\n",
       "    }\n",
       "</style>\n",
       "<table border=\"1\" class=\"dataframe\">\n",
       "  <thead>\n",
       "    <tr style=\"text-align: right;\">\n",
       "      <th></th>\n",
       "      <th>MovieID</th>\n",
       "      <th>Title</th>\n",
       "      <th>Genres</th>\n",
       "      <th>User_ID</th>\n",
       "      <th>Rating</th>\n",
       "      <th>Timestamp</th>\n",
       "    </tr>\n",
       "  </thead>\n",
       "  <tbody>\n",
       "    <tr>\n",
       "      <th>0</th>\n",
       "      <td>1</td>\n",
       "      <td>Toy Story (1995)</td>\n",
       "      <td>Animation|Children's|Comedy</td>\n",
       "      <td>1</td>\n",
       "      <td>5</td>\n",
       "      <td>978824268</td>\n",
       "    </tr>\n",
       "    <tr>\n",
       "      <th>1</th>\n",
       "      <td>1</td>\n",
       "      <td>Toy Story (1995)</td>\n",
       "      <td>Animation|Children's|Comedy</td>\n",
       "      <td>6</td>\n",
       "      <td>4</td>\n",
       "      <td>978237008</td>\n",
       "    </tr>\n",
       "    <tr>\n",
       "      <th>2</th>\n",
       "      <td>1</td>\n",
       "      <td>Toy Story (1995)</td>\n",
       "      <td>Animation|Children's|Comedy</td>\n",
       "      <td>8</td>\n",
       "      <td>4</td>\n",
       "      <td>978233496</td>\n",
       "    </tr>\n",
       "    <tr>\n",
       "      <th>3</th>\n",
       "      <td>1</td>\n",
       "      <td>Toy Story (1995)</td>\n",
       "      <td>Animation|Children's|Comedy</td>\n",
       "      <td>9</td>\n",
       "      <td>5</td>\n",
       "      <td>978225952</td>\n",
       "    </tr>\n",
       "    <tr>\n",
       "      <th>4</th>\n",
       "      <td>1</td>\n",
       "      <td>Toy Story (1995)</td>\n",
       "      <td>Animation|Children's|Comedy</td>\n",
       "      <td>10</td>\n",
       "      <td>5</td>\n",
       "      <td>978226474</td>\n",
       "    </tr>\n",
       "  </tbody>\n",
       "</table>\n",
       "</div>"
      ],
      "text/plain": [
       "   MovieID             Title                       Genres  User_ID  Rating  \\\n",
       "0        1  Toy Story (1995)  Animation|Children's|Comedy        1       5   \n",
       "1        1  Toy Story (1995)  Animation|Children's|Comedy        6       4   \n",
       "2        1  Toy Story (1995)  Animation|Children's|Comedy        8       4   \n",
       "3        1  Toy Story (1995)  Animation|Children's|Comedy        9       5   \n",
       "4        1  Toy Story (1995)  Animation|Children's|Comedy       10       5   \n",
       "\n",
       "   Timestamp  \n",
       "0  978824268  \n",
       "1  978237008  \n",
       "2  978233496  \n",
       "3  978225952  \n",
       "4  978226474  "
      ]
     },
     "execution_count": 5,
     "metadata": {},
     "output_type": "execute_result"
    }
   ],
   "source": [
    "movies_with_ratings = movies.merge(ratings, on='MovieID').reset_index(drop=True)\n",
    "movies_with_ratings.dropna(inplace=True)\n",
    "movies_with_ratings.head()"
   ]
  },
  {
   "cell_type": "code",
   "execution_count": 6,
   "id": "9cff27c1",
   "metadata": {},
   "outputs": [
    {
     "data": {
      "text/html": [
       "<div>\n",
       "<style scoped>\n",
       "    .dataframe tbody tr th:only-of-type {\n",
       "        vertical-align: middle;\n",
       "    }\n",
       "\n",
       "    .dataframe tbody tr th {\n",
       "        vertical-align: top;\n",
       "    }\n",
       "\n",
       "    .dataframe thead th {\n",
       "        text-align: right;\n",
       "    }\n",
       "</style>\n",
       "<table border=\"1\" class=\"dataframe\">\n",
       "  <thead>\n",
       "    <tr style=\"text-align: right;\">\n",
       "      <th></th>\n",
       "      <th>uid</th>\n",
       "      <th>iid</th>\n",
       "      <th>rating</th>\n",
       "    </tr>\n",
       "  </thead>\n",
       "  <tbody>\n",
       "    <tr>\n",
       "      <th>0</th>\n",
       "      <td>1</td>\n",
       "      <td>Toy Story (1995)</td>\n",
       "      <td>5</td>\n",
       "    </tr>\n",
       "    <tr>\n",
       "      <th>1</th>\n",
       "      <td>6</td>\n",
       "      <td>Toy Story (1995)</td>\n",
       "      <td>4</td>\n",
       "    </tr>\n",
       "    <tr>\n",
       "      <th>2</th>\n",
       "      <td>8</td>\n",
       "      <td>Toy Story (1995)</td>\n",
       "      <td>4</td>\n",
       "    </tr>\n",
       "    <tr>\n",
       "      <th>3</th>\n",
       "      <td>9</td>\n",
       "      <td>Toy Story (1995)</td>\n",
       "      <td>5</td>\n",
       "    </tr>\n",
       "    <tr>\n",
       "      <th>4</th>\n",
       "      <td>10</td>\n",
       "      <td>Toy Story (1995)</td>\n",
       "      <td>5</td>\n",
       "    </tr>\n",
       "  </tbody>\n",
       "</table>\n",
       "</div>"
      ],
      "text/plain": [
       "   uid               iid  rating\n",
       "0    1  Toy Story (1995)       5\n",
       "1    6  Toy Story (1995)       4\n",
       "2    8  Toy Story (1995)       4\n",
       "3    9  Toy Story (1995)       5\n",
       "4   10  Toy Story (1995)       5"
      ]
     },
     "execution_count": 6,
     "metadata": {},
     "output_type": "execute_result"
    }
   ],
   "source": [
    "df = pd.DataFrame({\n",
    "    'uid': movies_with_ratings.User_ID,\n",
    "    'iid': movies_with_ratings.Title,\n",
    "    'rating': movies_with_ratings.Rating\n",
    "})\n",
    "df.head()"
   ]
  },
  {
   "cell_type": "code",
   "execution_count": 7,
   "id": "eaa4c31e",
   "metadata": {},
   "outputs": [],
   "source": [
    "reader = Reader(rating_scale=(ratings.Rating.min(), ratings.Rating.max()))\n",
    "data = Dataset.load_from_df(df, reader)"
   ]
  },
  {
   "cell_type": "code",
   "execution_count": 8,
   "id": "f39454f5",
   "metadata": {},
   "outputs": [],
   "source": [
    "models = {'KNNWithMeans': KNNWithMeans(random_state=42), 'KNNBasic': KNNBasic(random_state=42),\n",
    "          'SVD': SVD(random_state=42), 'SVDpp': SVDpp(random_state=42), 'NNF': NMF(random_state=42)}"
   ]
  },
  {
   "cell_type": "code",
   "execution_count": 16,
   "id": "22425991",
   "metadata": {
    "scrolled": true
   },
   "outputs": [
    {
     "name": "stderr",
     "output_type": "stream",
     "text": [
      "C:\\Users\\fight\\AppData\\Local\\Temp\\ipykernel_10016\\635950973.py:1: TqdmDeprecationWarning: This function will be removed in tqdm==5.0.0\n",
      "Please use `tqdm.notebook.tqdm` instead of `tqdm.tqdm_notebook`\n",
      "  for model in tqdm_notebook(models.keys()):\n"
     ]
    },
    {
     "data": {
      "application/vnd.jupyter.widget-view+json": {
       "model_id": "8301d5df00c84471b3fcf0b4e996b567",
       "version_major": 2,
       "version_minor": 0
      },
      "text/plain": [
       "  0%|          | 0/5 [00:00<?, ?it/s]"
      ]
     },
     "metadata": {},
     "output_type": "display_data"
    },
    {
     "name": "stdout",
     "output_type": "stream",
     "text": [
      "KNNWithMeans - RMSE=0.9293926169687141, MAE=0.7386420331918357, fit_time=30.253584003448488, test_time=125.48818702697754\n",
      "\n",
      "KNNBasic - RMSE=0.922759808767055, MAE=0.7273805700401494, fit_time=30.02112798690796, test_time=123.23957118988037\n",
      "\n",
      "SVD - RMSE=0.8732509864966197, MAE=0.6856087141240388, fit_time=8.73402533531189, test_time=2.655765151977539\n",
      "\n",
      "SVDpp - RMSE=0.8609430490092533, MAE=0.6712720018580829, fit_time=986.81560754776, test_time=75.1275737285614\n",
      "\n",
      "NNF - RMSE=0.9175756797282665, MAE=0.724934639350734, fit_time=14.856059551239014, test_time=2.2444180488586425\n",
      "\n"
     ]
    }
   ],
   "source": [
    "for model in tqdm_notebook(models.keys()):\n",
    "    cv = cross_validate(models[model], data, cv=5, n_jobs=-1)\n",
    "    print(f\"{model} - RMSE={cv['test_rmse'].mean()}, MAE={cv['test_mae'].mean()}, fit_time={np.mean(cv['fit_time'])}, test_time={np.mean(cv['test_time'])}\\n\")"
   ]
  },
  {
   "cell_type": "markdown",
   "id": "799738c2",
   "metadata": {},
   "source": [
    "Алгоритм SVDpp достиг RMSE=0.8609430490092533, что ниже целевого показателя 0.87."
   ]
  }
 ],
 "metadata": {
  "kernelspec": {
   "display_name": "Python 3 (ipykernel)",
   "language": "python",
   "name": "python3"
  },
  "language_info": {
   "codemirror_mode": {
    "name": "ipython",
    "version": 3
   },
   "file_extension": ".py",
   "mimetype": "text/x-python",
   "name": "python",
   "nbconvert_exporter": "python",
   "pygments_lexer": "ipython3",
   "version": "3.9.12"
  }
 },
 "nbformat": 4,
 "nbformat_minor": 5
}
